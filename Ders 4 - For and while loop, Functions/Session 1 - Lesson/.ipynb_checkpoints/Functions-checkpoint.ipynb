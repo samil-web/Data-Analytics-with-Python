{
 "cells": [
  {
   "cell_type": "markdown",
   "id": "bed5cb9d",
   "metadata": {},
   "source": [
    "# Eşitlik\n",
    "İki Python değerinin veya değişkenin eşit olup olmadığını kontrol etmek için == kullanabilirsiniz. Eşitsizliği kontrol etmek için != gerekir. Bir tazeleme olarak, tümü True ile sonuçlanan aşağıdaki örneklere bir göz atın. Bunları IPython Shell'de denemekten çekinmeyin.\n",
    "\n",
    "2 == (1 + 1)\n",
    "\"intermediate\" != \"python\"\n",
    "True != False\n",
    "\"Python\" != \"python\"\n",
    "\n",
    "Bu karşılaştırmaları bir komut dosyasına yazdığınızda, çıktıyı görmek için bunların etrafına bir print() işlevi sarmanız gerekir."
   ]
  },
  {
   "cell_type": "markdown",
   "id": "2d9ae8c7",
   "metadata": {},
   "source": [
    "Sağdaki düzenleyicide, True eşittir False olup olmadığını görmek için kod yazın.\n",
    "\n",
    "-5 * 15'in 75'e eşit olup olmadığını kontrol etmek için Python kodunu yazın.\n",
    "\n",
    "Python'a \"pyscript\" ve \"PyScript\" dizelerinin eşit olup olmadığını sorun.\n",
    "\n",
    "Booleanları ve tam sayıları karşılaştırırsanız ne olur? True ve 1'in eşit olup olmadığını görmek için kod yazın."
   ]
  },
  {
   "cell_type": "code",
   "execution_count": 18,
   "id": "7e158bed",
   "metadata": {},
   "outputs": [
    {
     "data": {
      "text/plain": [
       "True"
      ]
     },
     "execution_count": 18,
     "metadata": {},
     "output_type": "execute_result"
    }
   ],
   "source": [
    "# Comparison of booleans\n",
    "True != False\n",
    "\n",
    "#  ==\n",
    "#  !=\n",
    "variable = ['2','5',True] \n",
    "#  ==\n",
    "# Comparison of integers\n",
    "2 == (1 + 1)\n",
    "# esit olub-olmadigini yoxlayir\n",
    "# Comparison of strings\n",
    "\"python\" == \"python\" \n",
    "# != - farkli oldugunu yoxlayir , eger fakliysa True\n",
    "# Compare a boolean with an integer\n",
    "0 == False\n",
    "# Comparison of booleans\n",
    "\n",
    "True != False"
   ]
  },
  {
   "cell_type": "markdown",
   "id": "9271eb89",
   "metadata": {},
   "source": [
    "Aşağıdaki kod öbeğindeki tüm Python ifadeleri True olarak değerlendirilir:\n",
    "\n",
    "3 < 4\n",
    "\n",
    "3 <= 4\n",
    "\n",
    "\"alfa\" <= \"beta\"\n",
    "\n",
    "Dizi karşılaştırması için Python'un ilişkiyi alfabetik sıraya göre belirlediğini unutmayın."
   ]
  },
  {
   "cell_type": "markdown",
   "id": "f957e4f8",
   "metadata": {},
   "source": [
    "Aşağıdakileri kontrol etmek için bir print() işlevine sarılmış Python ifadeleri yazın:\n",
    "x, -10'dan büyük veya eşittir. x zaten sizin için tanımlanmış.\n",
    "\n",
    "\"test\", y'den küçük veya ona eşittir. y zaten sizin için tanımlanmış.\n",
    "\n",
    "Doğru, Yanlış'tan daha büyüktür."
   ]
  },
  {
   "cell_type": "code",
   "execution_count": 21,
   "id": "e156cde7",
   "metadata": {},
   "outputs": [
    {
     "data": {
      "text/plain": [
       "False"
      ]
     },
     "execution_count": 21,
     "metadata": {},
     "output_type": "execute_result"
    }
   ],
   "source": [
    "# Comparison of integers\n",
    "x = -3 * 6 # -18 x<0\n",
    "y = 3 # y>0\n",
    "y>x\n",
    "# Comparison of strings\n",
    "y = \"test\"\n",
    "x = 'ABD'\n",
    "x>y\n",
    "# Comparison of booleans\n",
    "True<False"
   ]
  },
  {
   "cell_type": "markdown",
   "id": "a0c3163a",
   "metadata": {},
   "source": [
    "# And,or,not\n",
    "Bir boole, 1 veya 0, Doğru veya Yanlış'tır. ve gibi boole operatörleriyle, verileriniz üzerinde daha gelişmiş sorgular gerçekleştirmek için bu booleanları birleştirebilirsiniz.\n",
    "\n",
    "Örnek kodda, alanları temsil eden my_kitchen ve your_kitchen olmak üzere iki değişken tanımlanmıştır."
   ]
  },
  {
   "cell_type": "markdown",
   "id": "5312ad86",
   "metadata": {},
   "source": [
    "Aşağıdakileri kontrol etmek için bir print() işlevine sarılmış Python ifadeleri yazın:\n",
    "my_kitchen 10'dan büyük ve 18'den küçük.\n",
    "\n",
    "my_kitchen 14'ten küçük veya 17'den büyük.\n",
    "\n",
    "my_kitchen alanının iki katı, your_kitchen alanının üç katından daha küçüktür."
   ]
  },
  {
   "cell_type": "code",
   "execution_count": 26,
   "id": "cd3f62f8",
   "metadata": {},
   "outputs": [
    {
     "data": {
      "text/plain": [
       "True"
      ]
     },
     "execution_count": 26,
     "metadata": {},
     "output_type": "execute_result"
    }
   ],
   "source": [
    "# Define variables\n",
    "my_kitchen = 18.0\n",
    "your_kitchen = 14.0\n",
    "\n",
    "# my_kitchen bigger than 10 and smaller than 18?\n",
    "my_kitchen > 10  and my_kitchen <=18 \n",
    "# True      ve       False = False \n",
    "# True      ve       True = True\n",
    "# kosul1 ve kosul2 ve kosul3 ve ... = True\n",
    "# True    ve True  ve True = True\n",
    "# my_kitchen smaller than 14 or bigger than 17?\n",
    "my_kitchen < 14 or my_kitchen >17 or my_kitchen<11\n",
    "# False       or   True          or  False ===  True\n",
    "# kosul1 or kosul2 or  kosul3 == True\n",
    "# Double my_kitchen smaller than triple your_kitchen?\n",
    "my_kitchen*2 < your_kitchen*3"
   ]
  },
  {
   "cell_type": "markdown",
   "id": "10a7d82e",
   "metadata": {},
   "source": [
    "# And,or,not\n",
    "\n",
    "Boolean operatörlerini tam olarak anlayıp anlamadığınızı görmek için aşağıdaki Python kodu parçasına bakın:\n",
    "\n",
    "x = 8\n",
    "\n",
    "y = 9\n",
    "\n",
    "not(not(x < 3) and not(y > 14 or y > 10))\n",
    "\n",
    "IPython Shell'de bu üç komutu çalıştırırsanız sonuç ne olur?\n",
    "\n",
    "Not: and and or'dan daha yüksek bir önceliğe sahip olmadığına dikkat edin, önce yürütülür."
   ]
  },
  {
   "cell_type": "code",
   "execution_count": 27,
   "id": "be6bf15e",
   "metadata": {},
   "outputs": [
    {
     "data": {
      "text/plain": [
       "False"
      ]
     },
     "execution_count": 27,
     "metadata": {},
     "output_type": "execute_result"
    }
   ],
   "source": [
    "x = 8\n",
    "y = 9\n",
    "not(not(x < 3) and not(y > 14 or y > 10))\n",
    "#    False    ve        True = False"
   ]
  },
  {
   "cell_type": "markdown",
   "id": "e717fa6c",
   "metadata": {},
   "source": [
    "# If Else Elif"
   ]
  },
  {
   "cell_type": "code",
   "execution_count": 33,
   "id": "5045c9e9",
   "metadata": {},
   "outputs": [
    {
     "name": "stdout",
     "output_type": "stream",
     "text": [
      "large\n"
     ]
    }
   ],
   "source": [
    "area = 100000\n",
    "# If ..else ilk dogru oldugu şartda biter\n",
    "# Dogru olmadigi muddetdece novbeti şartları check eder\n",
    "# a>b --- True/False\n",
    "if(area < 9) :\n",
    "    print(\"small\")\n",
    "elif(area < 12) :\n",
    "    print(\"medium\")\n",
    "else :\n",
    "    print(\"large\")"
   ]
  },
  {
   "cell_type": "markdown",
   "id": "371222d8",
   "metadata": {},
   "source": [
    "# If\n",
    "Evinize daha yakından bakmanın zamanı geldi.\n",
    "\n",
    "Örnek kodda iki değişken tanımlanmıştır: oda, size evin hangi odasına baktığımızı söyleyen bir dize ve alan, o odanın alanı."
   ]
  },
  {
   "cell_type": "markdown",
   "id": "b13bb85d",
   "metadata": {},
   "source": [
    "Mutfakta etrafa bakınmak\" yazan if ifadesini inceleyin. oda \"kit\" e eşitse.\n",
    "\n",
    "\"Büyük yer!\" yazdıran başka bir if ifadesi yazın. alan 15'ten büyükse."
   ]
  },
  {
   "cell_type": "code",
   "execution_count": 40,
   "id": "71886b98",
   "metadata": {},
   "outputs": [
    {
     "name": "stdout",
     "output_type": "stream",
     "text": [
      "looking around in the kitchen.\n"
     ]
    }
   ],
   "source": [
    "# Define variables\n",
    "room = \"kit\"\n",
    "area = 14.0\n",
    "\n",
    "# if statement for room\n",
    "if room == \"kit\" :\n",
    "    print(\"looking around in the kitchen.\")\n",
    "if area>15:\n",
    "    print('Big palace')\n",
    "# if statement for area\n"
   ]
  },
  {
   "cell_type": "markdown",
   "id": "c2948f5c",
   "metadata": {},
   "source": [
    "# Else"
   ]
  },
  {
   "cell_type": "markdown",
   "id": "a8ee2841",
   "metadata": {},
   "source": [
    "Komut dosyasında, oda için if yapısı, \"başka bir yere bakmak\" için başka bir ifadeyle genişletildi. koşul odası == \"kit\" Yanlış olarak değerlendirilirse yazdırılır.\n",
    "\n",
    "Alan için if yapısına daha fazla işlevsellik eklemek için benzer bir şey yapabilir misiniz?"
   ]
  },
  {
   "cell_type": "code",
   "execution_count": 41,
   "id": "2e5ec485",
   "metadata": {},
   "outputs": [
    {
     "name": "stdout",
     "output_type": "stream",
     "text": [
      "looking around elsewhere.\n",
      "pretty small.\n"
     ]
    }
   ],
   "source": [
    "# Define variables\n",
    "room = \"kite\"\n",
    "area = 14.0\n",
    "\n",
    "# if-else construct for room\n",
    "if room == \"kit\" :\n",
    "    print(\"looking around in the kitchen.\")\n",
    "else :\n",
    "    print(\"looking around elsewhere.\")\n",
    "\n",
    "# if-else construct for area\n",
    "if area > 15 :\n",
    "    print(\"big place!\")\n",
    "else:\n",
    "    print('pretty small.')"
   ]
  },
  {
   "cell_type": "markdown",
   "id": "84001153",
   "metadata": {},
   "source": [
    "# Elif"
   ]
  },
  {
   "cell_type": "markdown",
   "id": "9d83f569",
   "metadata": {},
   "source": [
    "Daha fazla özelleştirme: Elif\n",
    "\n",
    "Yatak odasında etrafa bakmak da mümkündür. Örnek kod, odanın \"yatak\" olup olmadığını kontrol eden bir elif bölümü içerir. Bu durumda, \"yatak odasına bakmak.\" yazdırılır.\n",
    "\n",
    "Bu şimdi sana bağlı! Mesajları farklı alan değerleri için daha fazla özelleştirmek için ikinci kontrol yapısına benzer bir ekleme yapın."
   ]
  },
  {
   "cell_type": "code",
   "execution_count": null,
   "id": "911d4602",
   "metadata": {},
   "outputs": [],
   "source": []
  },
  {
   "cell_type": "code",
   "execution_count": 42,
   "id": "5d653abb",
   "metadata": {},
   "outputs": [
    {
     "name": "stdout",
     "output_type": "stream",
     "text": [
      "looking around in the bedroom.\n",
      "medium size, nice!\n"
     ]
    }
   ],
   "source": [
    "# Define variables\n",
    "room = \"bed\"\n",
    "area = 14.0\n",
    "\n",
    "# if-elif-else construct for room\n",
    "if room == \"kit\" :\n",
    "    print(\"looking around in the kitchen.\")\n",
    "elif room == \"bed\":\n",
    "    print(\"looking around in the bedroom.\")\n",
    "else :\n",
    "    print(\"looking around elsewhere.\")\n",
    "\n",
    "# if-elif-else construct for area\n",
    "if area > 15 :\n",
    "    print(\"big place!\")\n",
    "elif area>10:\n",
    "    print('medium size, nice!')\n",
    "else :\n",
    "    print(\"pretty small.\")"
   ]
  },
  {
   "cell_type": "markdown",
   "id": "56ce2504",
   "metadata": {},
   "source": [
    "# Loops "
   ]
  },
  {
   "cell_type": "code",
   "execution_count": null,
   "id": "3c0e8c49",
   "metadata": {},
   "outputs": [],
   "source": []
  },
  {
   "cell_type": "code",
   "execution_count": null,
   "id": "0f03637b",
   "metadata": {},
   "outputs": [],
   "source": []
  },
  {
   "cell_type": "code",
   "execution_count": null,
   "id": "cb576fbb",
   "metadata": {},
   "outputs": [],
   "source": []
  },
  {
   "cell_type": "code",
   "execution_count": null,
   "id": "cf3dd257",
   "metadata": {},
   "outputs": [],
   "source": []
  },
  {
   "cell_type": "code",
   "execution_count": null,
   "id": "1951c30e",
   "metadata": {},
   "outputs": [],
   "source": []
  },
  {
   "cell_type": "markdown",
   "id": "ad09fdb7",
   "metadata": {},
   "source": [
    "# Tanıdık işlevler\n",
    "\n",
    "Kutudan çıktığı gibi Python, bir veri bilimcisi olarak hayatınızı kolaylaştırmak için bir dizi yerleşik işlev sunar. Bu tür iki işlevi zaten biliyorsunuz: print() ve type(). Veri türleri arasında geçiş yapmak için str(), int(), bool() ve float() işlevlerini de kullandınız. Bunlar aynı zamanda yerleşik işlevlerdir.\n",
    "\n",
    "Bir işlevi çağırmak kolaydır. 3.0 türünü almak ve çıktıyı yeni bir değişken olarak saklamak için, aşağıdakileri kullanabilirsiniz:\n",
    "\n",
    "sonuç = type(3.0)\n",
    "\n",
    "Fonksiyonları çağırmak ve sonucu bir değişkene kaydetmek için genel tarif şu şekildedir:"
   ]
  },
  {
   "cell_type": "markdown",
   "id": "32d6b7f2",
   "metadata": {},
   "source": [
    "Use print() in combination with type() to print out the type of var1.\n",
    "\n",
    "Use len() to get the length of the list var1. Wrap it in a print() call to directly print it out.\n",
    "\n",
    "Use int() to convert var2 to an integer. Store the output as out2."
   ]
  },
  {
   "cell_type": "code",
   "execution_count": null,
   "id": "9d3f0918",
   "metadata": {},
   "outputs": [],
   "source": [
    "# Create variables var1 and var2\n",
    "var1 = [1, 2, 3, 4]\n",
    "var2 = True\n",
    "\n",
    "# Print out type of var1\n",
    "\n",
    "\n",
    "# Print out length of var1\n",
    "\n",
    "\n",
    "# Convert var2 to an integer: out2\n"
   ]
  },
  {
   "cell_type": "markdown",
   "id": "5043e178",
   "metadata": {},
   "source": [
    "Yardım!\n",
    "\n",
    "Belki bir Python işlevinin adını zaten biliyorsunuzdur, ancak yine de onu nasıl kullanacağınızı bulmanız gerekiyor. İronik olarak, başka bir işleve sahip bir işlev hakkında bilgi istemeniz gerekir: help(). Özellikle IPython'da, ayrıca ? işlev adından önce.\n",
    "\n",
    "Örneğin max() işlevi hakkında yardım almak için şu çağrılardan birini kullanabilirsiniz:\n",
    "\n",
    "yardım(maks)\n",
    "?maks\n",
    "Complex() ile ilgili belgeleri açmak için Shell'i kullanın. Aşağıdaki ifadelerden hangisi doğrudur?"
   ]
  },
  {
   "cell_type": "code",
   "execution_count": 4,
   "id": "0ae006dc",
   "metadata": {},
   "outputs": [
    {
     "name": "stdout",
     "output_type": "stream",
     "text": [
      "Help on built-in function max in module builtins:\n",
      "\n",
      "max(...)\n",
      "    max(iterable, *[, default=obj, key=func]) -> value\n",
      "    max(arg1, arg2, *args, *[, key=func]) -> value\n",
      "    \n",
      "    With a single iterable argument, return its biggest item. The\n",
      "    default keyword-only argument specifies an object to return if\n",
      "    the provided iterable is empty.\n",
      "    With two or more arguments, return the largest argument.\n",
      "\n"
     ]
    }
   ],
   "source": [
    "help(max)"
   ]
  },
  {
   "cell_type": "code",
   "execution_count": 5,
   "id": "6136f23b",
   "metadata": {},
   "outputs": [],
   "source": [
    "?max"
   ]
  },
  {
   "cell_type": "code",
   "execution_count": 6,
   "id": "7e17bfa2",
   "metadata": {},
   "outputs": [],
   "source": [
    "?complex"
   ]
  },
  {
   "cell_type": "markdown",
   "id": "3f80f082",
   "metadata": {},
   "source": [
    "# Birden çok argüman\n",
    "\n",
    "Önceki alıştırmada, belgelerde imag'in etrafındaki köşeli parantezler bize imag argümanının isteğe bağlı olduğunu gösterdi. Ancak Python, kullanıcılara argümanların isteğe bağlı olduğunu anlatmak için farklı bir yol da kullanır.\n",
    "\n",
    "IPython Shell'e help(sorted) yazarak sorted() belgelerine bir göz atın.\n",
    "\n",
    "sorted() öğesinin üç bağımsız değişken aldığını göreceksiniz: yinelenebilir, anahtar ve ters.\n",
    "\n",
    "key=Yok, anahtar bağımsız değişkeni belirtmezseniz Yok olacağı anlamına gelir. ters=Yanlış, ters bağımsız değişkeni belirtmezseniz, bunun Yanlış olacağı anlamına gelir.\n",
    "\n",
    "Bu alıştırmada, anahtarı değil, yalnızca yinelenebilir ve geri çevrilebilir belirtmeniz gerekecek. sorted() öğesine ilettiğiniz ilk girdi, yinelenebilir argümanla eşleştirilecektir, peki ya ikinci girdi? Python'a anahtar hakkında hiçbir şeyi değiştirmeden tersini belirtmek istediğinizi söylemek için = kullanabilirsiniz:\n",
    "\n",
    "sorted(___, reverse = ___)\n",
    "Editörde sizin için iki liste oluşturuldu. Bunları birbirine yapıştırıp azalan düzende sıralayabilir misiniz?\n",
    "\n",
    "Not: Şimdilik, yinelenebilir bir nesneyi herhangi bir nesne koleksiyonu olarak anlayabiliriz, ör. bir liste."
   ]
  },
  {
   "cell_type": "code",
   "execution_count": 7,
   "id": "485024fa",
   "metadata": {},
   "outputs": [],
   "source": [
    "# Create lists first and second\n",
    "first = [11.25, 18.0, 20.0]\n",
    "second = [10.75, 9.50]\n",
    "\n",
    "# Paste together first and second: full\n",
    "\n",
    "\n",
    "# Sort full in descending order: full_sorted\n",
    "\n",
    "\n",
    "# Print out full_sorted\n"
   ]
  },
  {
   "cell_type": "markdown",
   "id": "bd2ffc6f",
   "metadata": {},
   "source": [
    "# String Methods\n",
    "\n",
    "Dizeler bir grup yöntemle gelir. Bazılarını keşfetmek için talimatları yakından takip edin. Bunları daha ayrıntılı olarak keşfetmek istiyorsanız, IPython Shell'e her zaman help(str) yazabilirsiniz.\n",
    "\n",
    "Denemeniz için bir dizi yeri zaten oluşturuldu.\n",
    "\n",
    "(Dize -- String)"
   ]
  },
  {
   "cell_type": "markdown",
   "id": "a637ea6f",
   "metadata": {},
   "source": [
    "Upper() yöntemini yerinde kullanın ve sonucu place_up içinde saklayın. Çağrı yöntemleri için önceki videoda öğrendiğiniz söz dizimini kullanın.\n",
    "\n",
    "Yer ve place_up yazdırın. İkisi de değişti mi?\n",
    "\n",
    "Yerinde count() öğesini çağırarak ve yönteme girdi olarak 'o' harfini ileterek, yer değişkenindeki o'ların sayısını yazdırın. \"Yer\" kelimesinden değil, değişken yer hakkında konuşuyoruz! \n",
    "More about this source text"
   ]
  },
  {
   "cell_type": "code",
   "execution_count": null,
   "id": "78c0f545",
   "metadata": {},
   "outputs": [],
   "source": [
    "# string to experiment with: place\n",
    "place = \"poolhouse\"\n",
    "\n",
    "# Use upper() on place: place_up\n",
    "\n",
    "\n",
    "# Print out place and place_up\n",
    "\n",
    "\n",
    "# Print out the number of o's in place\n"
   ]
  },
  {
   "cell_type": "markdown",
   "id": "9086bf0a",
   "metadata": {},
   "source": [
    "# Liste Yöntemleri\n",
    "\n",
    "Dizeler, kendileriyle ilişkili yöntemleri olan tek Python türleri değildir. Listeler, kayan noktalar, tamsayılar ve booleler de bir dizi faydalı yöntemle paketlenmiş olarak gelen türlerdir. Bu alıştırmada şunları deneyeceksiniz:\n",
    "\n",
    "index(), girdisiyle eşleşen bir listenin ilk öğesinin dizinini almak ve\n",
    "\n",
    "count(), bir öğenin bir listede kaç kez göründüğünü almak için.\n",
    "\n",
    "Bir evin farklı bölümlerinin alanları ile liste üzerinde çalışacaksınız: alanlar."
   ]
  },
  {
   "cell_type": "markdown",
   "id": "54c3eaf4",
   "metadata": {},
   "source": [
    "20.0'a eşit alanlarda öğenin dizinini almak için index() yöntemini kullanın. Bu dizini yazdırın.\n",
    "\n",
    "Listede kaç kez 9.50 göründüğünü öğrenmek için alanlarda count() öğesini arayın. Yine, sadece bu numarayı yazdırın."
   ]
  },
  {
   "cell_type": "code",
   "execution_count": 9,
   "id": "2eff2ce1",
   "metadata": {},
   "outputs": [],
   "source": [
    "# Create list areas\n",
    "areas = [11.25, 18.0, 20.0, 10.75, 9.50]\n",
    "\n",
    "# Print out the index of the element 20.0\n",
    "\n",
    "\n",
    "# Print out how often 9.50 appears in areas\n",
    "\n"
   ]
  },
  {
   "cell_type": "markdown",
   "id": "8efeef43",
   "metadata": {},
   "source": [
    "# Liste Yöntemleri (2)\n",
    "\n",
    "Çoğu liste yöntemi, çağrıldıkları listeyi değiştirir. Örnekler:\n",
    "\n",
    "çağrıldığı listeye bir öğe ekleyen append(),\n",
    "\n",
    "listenin girdiyle eşleşen ilk öğesini kaldıran remove() ve\n",
    "\n",
    "reverse(), çağrıldığı listedeki öğelerin sırasını tersine çevirir.\n",
    "\n",
    "Evin farklı bölümlerinin alanları ile liste üzerinde çalışacaksınız: alanlar."
   ]
  },
  {
   "cell_type": "markdown",
   "id": "3de4ec39",
   "metadata": {},
   "source": [
    "Use append() twice to add the size of the poolhouse and the garage again: 24.5 and 15.45, respectively. Make sure to add them in this order.\n",
    "\n",
    "Print out areas\n",
    "\n",
    "Use the reverse() method to reverse the order of the elements in areas.\n",
    "\n",
    "Print out areas once more."
   ]
  },
  {
   "cell_type": "code",
   "execution_count": 10,
   "id": "92dcbea2",
   "metadata": {},
   "outputs": [],
   "source": [
    "# Create list areas\n",
    "areas = [11.25, 18.0, 20.0, 10.75, 9.50]\n",
    "\n",
    "# Use append twice to add poolhouse and garage size\n",
    "\n",
    "\n",
    "\n",
    "# Print out areas\n",
    "\n",
    "\n",
    "# Reverse the orders of the elements in areas\n",
    "\n",
    "\n",
    "# Print out areas"
   ]
  },
  {
   "cell_type": "markdown",
   "id": "7634de10",
   "metadata": {},
   "source": [
    "# Paketi import et!\n",
    "\n",
    "Bir veri bilimcisi olarak, bazı geometri kavramları asla zarar vermez. Bazı temel bilgileri yenileyelim.\n",
    "\n",
    "Süslü bir kümeleme algoritması için, bir dairenin çevresini ve alanını bulmak istersiniz. Dairenin yarıçapı r olduğunda, aşağıdaki gibi hesaplayabilirsiniz:\n",
    "\n",
    "\n",
    "Sabit pi'yi kullanmak için matematik paketine ihtiyacınız olacak. Komut dosyasında bir r değişkeni zaten kodlanmıştır. C ve A'yı hesaplamak için kodu doldurun ve print() işlevlerinin nasıl güzel çıktılar oluşturduğunu görün."
   ]
  },
  {
   "cell_type": "markdown",
   "id": "9a354304",
   "metadata": {},
   "source": [
    "Import the math package. Now you can access the constant pi with math.pi.\n",
    "\n",
    "Calculate the circumference of the circle and store it in C.\n",
    "\n",
    "Calculate the area of the circle and store it in A."
   ]
  },
  {
   "cell_type": "code",
   "execution_count": 11,
   "id": "13c03dd2",
   "metadata": {},
   "outputs": [
    {
     "name": "stdout",
     "output_type": "stream",
     "text": [
      "Circumference: 0\n",
      "Area: 0\n"
     ]
    }
   ],
   "source": [
    "# Definition of radius\n",
    "r = 0.43\n",
    "\n",
    "# Import the math package\n",
    "\n",
    "\n",
    "# Calculate C\n",
    "C = 0\n",
    "\n",
    "# Calculate A\n",
    "A = 0\n",
    "\n",
    "# Build printout\n",
    "print(\"Circumference: \" + str(C))\n",
    "print(\"Area: \" + str(A))"
   ]
  },
  {
   "cell_type": "markdown",
   "id": "5b024a7d",
   "metadata": {},
   "source": [
    "# Seçici import etme\n",
    "\n",
    "İçe aktarma matematiği gibi genel içe aktarmalar, matematik paketindeki tüm işlevleri kullanımınıza sunar. Ancak, bir paketin yalnızca belirli bir bölümünü kullanmaya karar verirseniz, içe aktarma işleminizi her zaman daha seçici hale getirebilirsiniz:\n",
    "\n",
    "from math import pi\n",
    "\n",
    "Diyelim ki Ay'ın Dünya gezegeni etrafındaki yörüngesi, senaryoda tanımlanan r yarıçaplı (km cinsinden) mükemmel bir daire."
   ]
  },
  {
   "cell_type": "markdown",
   "id": "79a1ad30",
   "metadata": {},
   "source": [
    "Yalnızca radyan işlevini içe aktardığınız matematik paketinden seçmeli bir içe aktarma gerçekleştirin.\n",
    "\n",
    "Ay'ın yörüngesinin 12 derece üzerinde kat ettiği mesafeyi hesaplayın. Sonucu dist'e atayın. Bunu r * phi olarak hesaplayabilirsiniz, burada r yarıçap ve phi radyan cinsinden açıdır. Derece cinsinden bir açıyı radyan cinsinden bir açıya dönüştürmek için, az önce içe aktardığınız radyan() işlevini kullanın.\n",
    "\n",
    "Dist'i yazdırın.\n",
    "\n",
    "(Import --- içe aktarma)"
   ]
  },
  {
   "cell_type": "code",
   "execution_count": 12,
   "id": "003f956a",
   "metadata": {},
   "outputs": [],
   "source": [
    "# Definition of radius\n",
    "r = 192500\n",
    "\n",
    "# Import radians function of math package\n",
    "\n",
    "\n",
    "# Travel distance of Moon over 12 degrees. Store in dist.\n",
    "\n",
    "\n",
    "# Print out dist"
   ]
  },
  {
   "cell_type": "code",
   "execution_count": null,
   "id": "9ee7443d",
   "metadata": {},
   "outputs": [],
   "source": []
  }
 ],
 "metadata": {
  "kernelspec": {
   "display_name": "Python 3 (ipykernel)",
   "language": "python",
   "name": "python3"
  },
  "language_info": {
   "codemirror_mode": {
    "name": "ipython",
    "version": 3
   },
   "file_extension": ".py",
   "mimetype": "text/x-python",
   "name": "python",
   "nbconvert_exporter": "python",
   "pygments_lexer": "ipython3",
   "version": "3.9.7"
  }
 },
 "nbformat": 4,
 "nbformat_minor": 5
}
