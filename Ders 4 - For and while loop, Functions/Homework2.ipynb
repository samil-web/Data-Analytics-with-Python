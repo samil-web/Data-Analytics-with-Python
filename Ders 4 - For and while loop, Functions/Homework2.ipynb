{
 "cells": [
  {
   "cell_type": "markdown",
   "id": "d77fc7c7",
   "metadata": {},
   "source": [
    "# If...else"
   ]
  },
  {
   "cell_type": "markdown",
   "id": "e568b6c1",
   "metadata": {},
   "source": [
    "Bu homework de input() fonksiyonu ile tanışacağız\n",
    "\n",
    "input() - user dan deger girmesini bekleyen bir fonksiyondur\n",
    "\n",
    "int(input) str(input) gibi modifikasyonları ola bilir\n",
    "\n",
    "Kendin dene ve anla\n"
   ]
  },
  {
   "cell_type": "code",
   "execution_count": null,
   "id": "c35509bc",
   "metadata": {},
   "outputs": [],
   "source": [
    "input('Adınızı girin:')"
   ]
  },
  {
   "cell_type": "code",
   "execution_count": null,
   "id": "29394398",
   "metadata": {},
   "outputs": [],
   "source": [
    "# int(input)-yalnizca input olarak rakam kabul eder\n",
    "int(input('Yaşınızı girin:'))"
   ]
  },
  {
   "cell_type": "code",
   "execution_count": null,
   "id": "f7247d43",
   "metadata": {},
   "outputs": [],
   "source": [
    "# Insan boyunu sorgulayan program\n",
    "# Eger boyum 1.60 dan aşağı ise küçük boylu \n",
    "# 1.60 ile 1.80 arası ise orta boylu \n",
    "# 1.80 den büyükse hündür boyluyum\n",
    "boy = input('Lutfen boyunuzu girin:')\n",
    "if ___ :\n",
    "    print('Küçük boylu')\n",
    "elif ___:\n",
    "    print('Orta boylu')\n",
    "else:\n",
    "    print('Hundur boylu')\n",
    "    "
   ]
  },
  {
   "cell_type": "code",
   "execution_count": 8,
   "id": "6afabb9e",
   "metadata": {},
   "outputs": [
    {
     "name": "stdout",
     "output_type": "stream",
     "text": [
      "Lütfen notunuzu yazın:8\n",
      "Lütfen boyunuzu yazın:1.88\n",
      "2.tura gece bilirsin\n",
      "Takıma katıla bilirsin\n",
      "2.tura gecemezsin\n"
     ]
    }
   ],
   "source": [
    "# Ikili koşul \n",
    "# Eger boyun 1.80 den büyükse \n",
    "# O zaman basketbol oynama şansın var\n",
    "# Bir de spor dersinden notların 10 puandan 8 ve üzeri ise\n",
    "# Takıma katıla bilirsin\n",
    "# boy degisenini onceki çalışmada bir deger verdiyimiz için\n",
    "# Bir daha deger vermemize gerek yok,istersek üstdeki çalışmada degise biliriz\n",
    "spor_notu = int(input('Lütfen notunuzu yazın:'))\n",
    "spor_boyu = float(input('Lütfen boyunuzu yazın:'))\n",
    "if spor_notu>=8: # True\n",
    "    print('2.tura gece bilirsin')\n",
    "    if spor_boyu>1.80: #False\n",
    "        print('Takıma katıla bilirsin')\n",
    "else:\n",
    "    print('Takıma katılamazsın üzgünüz :((')\n",
    "print('2.tura gecemezsin')"
   ]
  },
  {
   "cell_type": "markdown",
   "id": "5dfd9de4",
   "metadata": {},
   "source": [
    "# For and while Döngüleri"
   ]
  },
  {
   "cell_type": "markdown",
   "id": "6e5fccb6",
   "metadata": {},
   "source": [
    "###### Her iki döngü aynı netice veriyor. Fakat yazılma kodları farklı\n",
    "###### While döngüsü genellikle bir şarta bağlı çalışırken \n",
    "###### For döngüsü kullanıcının istediyi sayıda döngü yaparak\n",
    "###### Ya da kullanıcının iterate etdigi list,tuple in uzunlugu kadar çalışmaktadır\n",
    "###### Farkı kendin gör\n"
   ]
  },
  {
   "cell_type": "code",
   "execution_count": null,
   "id": "6f61cab4",
   "metadata": {},
   "outputs": [],
   "source": [
    "n = 1\n",
    "while n <= 10:\n",
    "    print(n)\n",
    "    n += 1\n",
    "\n",
    "print(\"döngüler arası fark\")\n",
    "\n",
    "# for döngüsü ile\n",
    "for a in range(1,11):\n",
    "    print(a)"
   ]
  },
  {
   "cell_type": "code",
   "execution_count": 18,
   "id": "0bd55047",
   "metadata": {},
   "outputs": [
    {
     "name": "stdout",
     "output_type": "stream",
     "text": [
      "Sayi girin:13\n",
      "13\n",
      "156\n",
      "1716\n",
      "17160\n",
      "154440\n",
      "1235520\n",
      "8648640\n",
      "51891840\n",
      "259459200\n",
      "1037836800\n",
      "3113510400\n",
      "6227020800\n",
      "6227020800\n"
     ]
    }
   ],
   "source": [
    "# Bir sayi girin ve while dongusunun o koşulda sayı sıfırlanana qədər çalışmasını sağlayın\n",
    "# Eger çalışma zor geldiyse üstdeki while döngüsüne bakın ve nasıl yapaağınızı anlamaya çalışın\n",
    "sayı = int(input('Sayi girin:'))\n",
    "# ==  != \n",
    "hasil = 1\n",
    "while sayı != 0:\n",
    "    #sayıyı print edin\n",
    "#     print(sayı)\n",
    "    #sayı degerini artırınız # *sayi\n",
    "    hasil = hasil * sayı\n",
    "    sayı = sayı-1\n",
    "    print(hasil)"
   ]
  },
  {
   "cell_type": "code",
   "execution_count": null,
   "id": "1f54bca3",
   "metadata": {},
   "outputs": [],
   "source": [
    "# Digelim ki bir kalkulatör programı yazmak istiyorsunuz \n",
    "# User her defa rakam girdiğinde program önceki sayının\n",
    "# üzerine ekleyerek neticeni print() edecek\n",
    "# Siz 'X' ve ya 'x' tuşuna basdığınızda ise program durucak\n",
    "sayi =    # sayiyi 0 ile değerlendir\n",
    "toplam =  # bir string yarat \n",
    "\n",
    "while ___:  # sayi 'X' den farkli oldugu muddetdece program çalışsın\n",
    "    sayi = input('Sayı girin ve ya durdurmak için X e basın:')\n",
    "    #toplam degerini yenileyin    \n",
    "    \n",
    "print(toplam[:-1])"
   ]
  },
  {
   "cell_type": "markdown",
   "id": "49744c15",
   "metadata": {},
   "source": [
    "# For döngüsü"
   ]
  },
  {
   "cell_type": "code",
   "execution_count": 12,
   "id": "4e551581",
   "metadata": {},
   "outputs": [
    {
     "name": "stdout",
     "output_type": "stream",
     "text": [
      "0 1 2 3 4 20 6 7 8 9 "
     ]
    }
   ],
   "source": [
    "# İlk 10 rakamı print etmelisin \n",
    "# Fakat 1 şart var \n",
    "# For döngüsü ile 5 sayısına ulaşdığında\n",
    "# degisenini 20 ye eşitle ve print et\n",
    "# range(10) -- 1,2,3,4,5,6,7,8,9,10\n",
    "# rakam = 12345...9.10\n",
    "for rakam in range(10):  #for dongusu\n",
    "   # Ilk 10 sayiyi print() et\n",
    "    if rakam == 5:    #degisenin 5 e esit olub olmadigini check et\n",
    "        # degiseni 20 e esitle\n",
    "        print(20, end=\" \")\n",
    "    else:\n",
    "        print(rakam, end=\" \")\n",
    "# print()"
   ]
  },
  {
   "cell_type": "code",
   "execution_count": null,
   "id": "1fb987ad",
   "metadata": {},
   "outputs": [],
   "source": [
    "# Bir isimler listesi icin for dongusu yaz\n",
    "# Ilk duplicate (ayni) isim bulundugunda  \n",
    "# break komandi ile programi durdur\n",
    "list_of_names = ['Zakir','Ömer','Cevad','Fatima','Daniel','Ayşe','Fatima','Polat']\n",
    "new_list = []\n",
    "for ___:  # For dongusu \n",
    "    if ___: # Ismin new_list de olub olmadigin check et (name in new_list)\n",
    "        # programi durdur\n",
    "    new_list.___ # new_listi yenile ve isimler ilave et\n",
    "print(new_list)"
   ]
  },
  {
   "cell_type": "markdown",
   "id": "5daaa210",
   "metadata": {},
   "source": [
    "# Functions"
   ]
  },
  {
   "cell_type": "code",
   "execution_count": null,
   "id": "ce71b6a4",
   "metadata": {},
   "outputs": [],
   "source": [
    "# Bir fonksiyon yaz\n",
    "# User in girdiyi sayinin karesini hesaplasin \n",
    "# Ve netice gibi gerikaytarsin\n",
    "# Mesela 5 --> 25  9--> 81\n",
    "def ___: #fonksiyona isim versin\n",
    "    # user rakam dahil etsin\n",
    "    \n",
    "    # rakamin karesini hesaplasin\n",
    "    \n",
    "    \n",
    "    return ___ #son neticeyi gerikaytarsin\n",
    "#fonksiyonun ismini yazarak neticeyi gor. Mesela kare_rakam(5)"
   ]
  },
  {
   "cell_type": "code",
   "execution_count": null,
   "id": "ee99536b",
   "metadata": {},
   "outputs": [],
   "source": [
    "# Faktoriyel hesaplanmasi\n",
    "# User bir rakam dahil ediyor\n",
    "# Ve program onun faktoriyelini heasapliyor\n",
    "# Faktoriyel ne demek?\n",
    "# 5! - 5 in faktoriyeli (!)- isaresi ile gosterilir\n",
    "# 5! = 5*4*3*2*1 - yani, 5 ve ondan onceki(1 e kadar) rakamlarin hasili\n",
    "def ___: # name of your function\n",
    "    # bir degisen yarat ve 1 e esitle(mesela sonuc)\n",
    "    # while dongusunden istifade et (while n:)\n",
    "    #sonucu n rakamina vurarak yenile\n",
    "    # n in deyerini 1 rakam azalt  \n",
    "    return ___\n",
    "#fonksiyonun ismini yazarak neticeyi gor. Mesela faktoriel(5)"
   ]
  }
 ],
 "metadata": {
  "kernelspec": {
   "display_name": "Python 3 (ipykernel)",
   "language": "python",
   "name": "python3"
  },
  "language_info": {
   "codemirror_mode": {
    "name": "ipython",
    "version": 3
   },
   "file_extension": ".py",
   "mimetype": "text/x-python",
   "name": "python",
   "nbconvert_exporter": "python",
   "pygments_lexer": "ipython3",
   "version": "3.9.7"
  }
 },
 "nbformat": 4,
 "nbformat_minor": 5
}
