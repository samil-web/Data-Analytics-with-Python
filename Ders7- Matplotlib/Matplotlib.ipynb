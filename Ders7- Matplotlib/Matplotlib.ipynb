{
 "cells": [
  {
   "cell_type": "code",
   "execution_count": 8,
   "id": "c9c2506c",
   "metadata": {},
   "outputs": [],
   "source": [
    "import pandas as pd\n",
    "import matplotlib.pyplot as plt"
   ]
  },
  {
   "cell_type": "code",
   "execution_count": 39,
   "id": "85a9e341",
   "metadata": {},
   "outputs": [],
   "source": [
    "data = pd.read_csv('life-expectancy-vs-gdp-per-capita.csv')"
   ]
  },
  {
   "cell_type": "code",
   "execution_count": 111,
   "id": "c4e47c1f",
   "metadata": {},
   "outputs": [
    {
     "data": {
      "text/html": [
       "<div>\n",
       "<style scoped>\n",
       "    .dataframe tbody tr th:only-of-type {\n",
       "        vertical-align: middle;\n",
       "    }\n",
       "\n",
       "    .dataframe tbody tr th {\n",
       "        vertical-align: top;\n",
       "    }\n",
       "\n",
       "    .dataframe thead th {\n",
       "        text-align: right;\n",
       "    }\n",
       "</style>\n",
       "<table border=\"1\" class=\"dataframe\">\n",
       "  <thead>\n",
       "    <tr style=\"text-align: right;\">\n",
       "      <th></th>\n",
       "      <th>Entity</th>\n",
       "      <th>Code</th>\n",
       "      <th>Year</th>\n",
       "      <th>Life expectancy</th>\n",
       "      <th>GDP per capita</th>\n",
       "      <th>145446-annotations</th>\n",
       "      <th>Population (historical estimates)</th>\n",
       "      <th>Continent</th>\n",
       "    </tr>\n",
       "  </thead>\n",
       "  <tbody>\n",
       "    <tr>\n",
       "      <th>0</th>\n",
       "      <td>Abkhazia</td>\n",
       "      <td>OWID_ABK</td>\n",
       "      <td>2015</td>\n",
       "      <td>NaN</td>\n",
       "      <td>NaN</td>\n",
       "      <td>NaN</td>\n",
       "      <td>NaN</td>\n",
       "      <td>Asia</td>\n",
       "    </tr>\n",
       "    <tr>\n",
       "      <th>1</th>\n",
       "      <td>Afghanistan</td>\n",
       "      <td>AFG</td>\n",
       "      <td>1950</td>\n",
       "      <td>27.638</td>\n",
       "      <td>1156.0</td>\n",
       "      <td>NaN</td>\n",
       "      <td>7752117.0</td>\n",
       "      <td>NaN</td>\n",
       "    </tr>\n",
       "    <tr>\n",
       "      <th>2</th>\n",
       "      <td>Afghanistan</td>\n",
       "      <td>AFG</td>\n",
       "      <td>1951</td>\n",
       "      <td>27.878</td>\n",
       "      <td>1170.0</td>\n",
       "      <td>NaN</td>\n",
       "      <td>7840151.0</td>\n",
       "      <td>NaN</td>\n",
       "    </tr>\n",
       "    <tr>\n",
       "      <th>3</th>\n",
       "      <td>Afghanistan</td>\n",
       "      <td>AFG</td>\n",
       "      <td>1952</td>\n",
       "      <td>28.361</td>\n",
       "      <td>1189.0</td>\n",
       "      <td>NaN</td>\n",
       "      <td>7935996.0</td>\n",
       "      <td>NaN</td>\n",
       "    </tr>\n",
       "    <tr>\n",
       "      <th>4</th>\n",
       "      <td>Afghanistan</td>\n",
       "      <td>AFG</td>\n",
       "      <td>1953</td>\n",
       "      <td>28.852</td>\n",
       "      <td>1240.0</td>\n",
       "      <td>NaN</td>\n",
       "      <td>8039684.0</td>\n",
       "      <td>NaN</td>\n",
       "    </tr>\n",
       "    <tr>\n",
       "      <th>...</th>\n",
       "      <td>...</td>\n",
       "      <td>...</td>\n",
       "      <td>...</td>\n",
       "      <td>...</td>\n",
       "      <td>...</td>\n",
       "      <td>...</td>\n",
       "      <td>...</td>\n",
       "      <td>...</td>\n",
       "    </tr>\n",
       "    <tr>\n",
       "      <th>60061</th>\n",
       "      <td>Zimbabwe</td>\n",
       "      <td>ZWE</td>\n",
       "      <td>1948</td>\n",
       "      <td>NaN</td>\n",
       "      <td>NaN</td>\n",
       "      <td>NaN</td>\n",
       "      <td>2624453.0</td>\n",
       "      <td>NaN</td>\n",
       "    </tr>\n",
       "    <tr>\n",
       "      <th>60062</th>\n",
       "      <td>Zimbabwe</td>\n",
       "      <td>ZWE</td>\n",
       "      <td>1949</td>\n",
       "      <td>NaN</td>\n",
       "      <td>NaN</td>\n",
       "      <td>NaN</td>\n",
       "      <td>2681604.0</td>\n",
       "      <td>NaN</td>\n",
       "    </tr>\n",
       "    <tr>\n",
       "      <th>60063</th>\n",
       "      <td>Zimbabwe</td>\n",
       "      <td>ZWE</td>\n",
       "      <td>2020</td>\n",
       "      <td>NaN</td>\n",
       "      <td>NaN</td>\n",
       "      <td>NaN</td>\n",
       "      <td>14862927.0</td>\n",
       "      <td>NaN</td>\n",
       "    </tr>\n",
       "    <tr>\n",
       "      <th>60064</th>\n",
       "      <td>Zimbabwe</td>\n",
       "      <td>ZWE</td>\n",
       "      <td>2021</td>\n",
       "      <td>NaN</td>\n",
       "      <td>NaN</td>\n",
       "      <td>NaN</td>\n",
       "      <td>15092171.0</td>\n",
       "      <td>NaN</td>\n",
       "    </tr>\n",
       "    <tr>\n",
       "      <th>60065</th>\n",
       "      <td>Åland Islands</td>\n",
       "      <td>ALA</td>\n",
       "      <td>2015</td>\n",
       "      <td>NaN</td>\n",
       "      <td>NaN</td>\n",
       "      <td>NaN</td>\n",
       "      <td>NaN</td>\n",
       "      <td>Europe</td>\n",
       "    </tr>\n",
       "  </tbody>\n",
       "</table>\n",
       "<p>60066 rows × 8 columns</p>\n",
       "</div>"
      ],
      "text/plain": [
       "              Entity      Code  Year  Life expectancy  GDP per capita  \\\n",
       "0           Abkhazia  OWID_ABK  2015              NaN             NaN   \n",
       "1        Afghanistan       AFG  1950           27.638          1156.0   \n",
       "2        Afghanistan       AFG  1951           27.878          1170.0   \n",
       "3        Afghanistan       AFG  1952           28.361          1189.0   \n",
       "4        Afghanistan       AFG  1953           28.852          1240.0   \n",
       "...              ...       ...   ...              ...             ...   \n",
       "60061       Zimbabwe       ZWE  1948              NaN             NaN   \n",
       "60062       Zimbabwe       ZWE  1949              NaN             NaN   \n",
       "60063       Zimbabwe       ZWE  2020              NaN             NaN   \n",
       "60064       Zimbabwe       ZWE  2021              NaN             NaN   \n",
       "60065  Åland Islands       ALA  2015              NaN             NaN   \n",
       "\n",
       "      145446-annotations  Population (historical estimates) Continent  \n",
       "0                    NaN                                NaN      Asia  \n",
       "1                    NaN                          7752117.0       NaN  \n",
       "2                    NaN                          7840151.0       NaN  \n",
       "3                    NaN                          7935996.0       NaN  \n",
       "4                    NaN                          8039684.0       NaN  \n",
       "...                  ...                                ...       ...  \n",
       "60061                NaN                          2624453.0       NaN  \n",
       "60062                NaN                          2681604.0       NaN  \n",
       "60063                NaN                         14862927.0       NaN  \n",
       "60064                NaN                         15092171.0       NaN  \n",
       "60065                NaN                                NaN    Europe  \n",
       "\n",
       "[60066 rows x 8 columns]"
      ]
     },
     "execution_count": 111,
     "metadata": {},
     "output_type": "execute_result"
    }
   ],
   "source": [
    "data"
   ]
  },
  {
   "cell_type": "code",
   "execution_count": 41,
   "id": "0e9f2fd6",
   "metadata": {},
   "outputs": [
    {
     "name": "stdout",
     "output_type": "stream",
     "text": [
      "<class 'pandas.core.frame.DataFrame'>\n",
      "RangeIndex: 60066 entries, 0 to 60065\n",
      "Data columns (total 8 columns):\n",
      " #   Column                             Non-Null Count  Dtype  \n",
      "---  ------                             --------------  -----  \n",
      " 0   Entity                             60066 non-null  object \n",
      " 1   Code                               57842 non-null  object \n",
      " 2   Year                               60066 non-null  int64  \n",
      " 3   Life expectancy                    19028 non-null  float64\n",
      " 4   GDP per capita                     19876 non-null  float64\n",
      " 5   145446-annotations                 21 non-null     object \n",
      " 6   Population (historical estimates)  55656 non-null  float64\n",
      " 7   Continent                          285 non-null    object \n",
      "dtypes: float64(3), int64(1), object(4)\n",
      "memory usage: 3.7+ MB\n"
     ]
    }
   ],
   "source": [
    "data.info()"
   ]
  },
  {
   "cell_type": "code",
   "execution_count": 42,
   "id": "f945f82f",
   "metadata": {},
   "outputs": [],
   "source": [
    "year = data['Year']"
   ]
  },
  {
   "cell_type": "code",
   "execution_count": 43,
   "id": "040b9ef9",
   "metadata": {},
   "outputs": [],
   "source": [
    "pop = data['Population (historical estimates)']"
   ]
  },
  {
   "cell_type": "code",
   "execution_count": 44,
   "id": "dd799b86",
   "metadata": {},
   "outputs": [],
   "source": [
    "# plt.plot(year,pop)"
   ]
  },
  {
   "cell_type": "code",
   "execution_count": 45,
   "id": "0e9ee4e6",
   "metadata": {},
   "outputs": [
    {
     "data": {
      "text/plain": [
       "2021"
      ]
     },
     "execution_count": 45,
     "metadata": {},
     "output_type": "execute_result"
    }
   ],
   "source": [
    "max(year)"
   ]
  },
  {
   "cell_type": "code",
   "execution_count": 46,
   "id": "4d106351",
   "metadata": {},
   "outputs": [],
   "source": [
    "# year = year[year>1960]"
   ]
  },
  {
   "cell_type": "code",
   "execution_count": 47,
   "id": "debec3f4",
   "metadata": {},
   "outputs": [
    {
     "data": {
      "text/plain": [
       "0        2015\n",
       "1        1950\n",
       "2        1951\n",
       "3        1952\n",
       "4        1953\n",
       "         ... \n",
       "60061    1948\n",
       "60062    1949\n",
       "60063    2020\n",
       "60064    2021\n",
       "60065    2015\n",
       "Name: Year, Length: 60066, dtype: int64"
      ]
     },
     "execution_count": 47,
     "metadata": {},
     "output_type": "execute_result"
    }
   ],
   "source": [
    "year"
   ]
  },
  {
   "cell_type": "code",
   "execution_count": 48,
   "id": "de0b1e29",
   "metadata": {},
   "outputs": [],
   "source": [
    "life_exp = data['Life expectancy']"
   ]
  },
  {
   "cell_type": "code",
   "execution_count": 49,
   "id": "f66d1059",
   "metadata": {},
   "outputs": [],
   "source": [
    "gdp_cap = data['GDP per capita']"
   ]
  },
  {
   "cell_type": "code",
   "execution_count": 51,
   "id": "0717666d",
   "metadata": {},
   "outputs": [
    {
     "data": {
      "text/plain": [
       "(60066,)"
      ]
     },
     "execution_count": 51,
     "metadata": {},
     "output_type": "execute_result"
    }
   ],
   "source": [
    "year.shape"
   ]
  },
  {
   "cell_type": "markdown",
   "id": "7d3763f7",
   "metadata": {},
   "source": [
    "# Scatterplot and Lineplot"
   ]
  },
  {
   "cell_type": "code",
   "execution_count": 113,
   "id": "8b702203",
   "metadata": {},
   "outputs": [
    {
     "data": {
      "image/png": "[encoded data removed]",
      "text/plain": [
       "<Figure size 432x288 with 1 Axes>"
      ]
     },
     "metadata": {
      "needs_background": "light"
     },
     "output_type": "display_data"
    }
   ],
   "source": [
    "# Numpy - matematisel fonksiyonllar\n",
    "\n",
    "# Import matplotlib.pyplot as plt\n",
    "# \n",
    "import numpy as np \n",
    "import matplotlib.pyplot as plt\n",
    "# Vizuallasdirma \n",
    "# Make a line plot: year on the x-axis, pop on the y-axis\n",
    "# year - yillari\n",
    "# pop - nüfuzu\n",
    "plt.plot(year,pop)\n",
    "\n",
    "# Display the plot with plt.show()\n",
    "plt.show()"
   ]
  },
  {
   "cell_type": "code",
   "execution_count": 116,
   "id": "2a270cda",
   "metadata": {},
   "outputs": [
    {
     "data": {
      "image/png": "[encoded data removed]",
      "text/plain": [
       "<Figure size 432x288 with 1 Axes>"
      ]
     },
     "metadata": {
      "needs_background": "light"
     },
     "output_type": "display_data"
    }
   ],
   "source": [
    "# Make a line plot, gdp_cap on the x-axis, life_exp on the y-axis\n",
    "# GDP - 780 milyar\n",
    "# life_exp - life expectancy - yasam gozletisi \n",
    "# Yasam gozlentisinin olkenin gdp sine olan qrafiki\n",
    "plt.plot(gdp_cap,life_exp)\n",
    "# \n",
    "# Display the plot\n",
    "plt.show()"
   ]
  },
  {
   "cell_type": "code",
   "execution_count": null,
   "id": "0e32f005",
   "metadata": {},
   "outputs": [],
   "source": []
  },
  {
   "cell_type": "code",
   "execution_count": 55,
   "id": "31f6baf5",
   "metadata": {},
   "outputs": [
    {
     "data": {
      "image/png": "[encoded data removed]",
      "text/plain": [
       "<Figure size 432x288 with 1 Axes>"
      ]
     },
     "metadata": {
      "needs_background": "light"
     },
     "output_type": "display_data"
    }
   ],
   "source": [
    "# Change the line plot below to a scatter plot\n",
    "plt.scatter(gdp_cap, life_exp)\n",
    "\n",
    "# Put the x-axis on a logarithmic scale\n",
    "plt.xscale('log')\n",
    "\n",
    "# Show plot\n",
    "plt.show()"
   ]
  },
  {
   "cell_type": "code",
   "execution_count": null,
   "id": "bfe3a195",
   "metadata": {},
   "outputs": [],
   "source": []
  },
  {
   "cell_type": "code",
   "execution_count": 56,
   "id": "24286fca",
   "metadata": {},
   "outputs": [
    {
     "data": {
      "image/png": "[encoded data removed]",
      "text/plain": [
       "<Figure size 432x288 with 1 Axes>"
      ]
     },
     "metadata": {
      "needs_background": "light"
     },
     "output_type": "display_data"
    }
   ],
   "source": [
    "# Import package\n",
    "import matplotlib.pyplot as plt\n",
    "\n",
    "# Build Scatter plot\n",
    "plt.scatter(pop,life_exp)\n",
    "\n",
    "# Show plot\n",
    "plt.show()"
   ]
  },
  {
   "cell_type": "markdown",
   "id": "7afd9f3c",
   "metadata": {},
   "source": [
    "# Histogram"
   ]
  },
  {
   "cell_type": "code",
   "execution_count": 57,
   "id": "074d35d7",
   "metadata": {},
   "outputs": [
    {
     "data": {
      "image/png": "[encoded data removed]",
      "text/plain": [
       "<Figure size 432x288 with 1 Axes>"
      ]
     },
     "metadata": {
      "needs_background": "light"
     },
     "output_type": "display_data"
    }
   ],
   "source": [
    "# Create histogram of life_exp data\n",
    "plt.hist(life_exp)\n",
    "\n",
    "# Display histogram\n",
    "plt.show()"
   ]
  },
  {
   "cell_type": "code",
   "execution_count": 58,
   "id": "9d9f91ce",
   "metadata": {},
   "outputs": [
    {
     "data": {
      "image/png": "[encoded data removed]",
      "text/plain": [
       "<Figure size 432x288 with 1 Axes>"
      ]
     },
     "metadata": {
      "needs_background": "light"
     },
     "output_type": "display_data"
    },
    {
     "data": {
      "image/png": "[encoded data removed]",
      "text/plain": [
       "<Figure size 432x288 with 1 Axes>"
      ]
     },
     "metadata": {
      "needs_background": "light"
     },
     "output_type": "display_data"
    },
    {
     "data": {
      "text/plain": [
       "<Figure size 432x288 with 0 Axes>"
      ]
     },
     "metadata": {},
     "output_type": "display_data"
    }
   ],
   "source": [
    "# Build histogram with 5 bins\n",
    "plt.hist(life_exp,bins = 5)\n",
    "\n",
    "# Show and clean up plot\n",
    "plt.show()\n",
    "plt.clf()\n",
    "\n",
    "# Build histogram with 20 bins\n",
    "plt.hist(life_exp,bins = 20)\n",
    "\n",
    "# Show and clean up again\n",
    "plt.show()\n",
    "plt.clf()"
   ]
  },
  {
   "cell_type": "code",
   "execution_count": 61,
   "id": "a28fde9e",
   "metadata": {},
   "outputs": [],
   "source": [
    "life_exp1950 = data[data['Year']>1950]['Life expectancy']"
   ]
  },
  {
   "cell_type": "code",
   "execution_count": 65,
   "id": "6e7141e6",
   "metadata": {},
   "outputs": [
    {
     "data": {
      "text/plain": [
       "0           NaN\n",
       "1        27.638\n",
       "2        27.878\n",
       "3        28.361\n",
       "4        28.852\n",
       "          ...  \n",
       "60061       NaN\n",
       "60062       NaN\n",
       "60063       NaN\n",
       "60064       NaN\n",
       "60065       NaN\n",
       "Name: Life expectancy, Length: 60066, dtype: float64"
      ]
     },
     "execution_count": 65,
     "metadata": {},
     "output_type": "execute_result"
    }
   ],
   "source": [
    "life_exp"
   ]
  },
  {
   "cell_type": "code",
   "execution_count": 91,
   "id": "94cd3d59",
   "metadata": {},
   "outputs": [],
   "source": [
    "life_exp_2007 =  data[data['Year']==2007]['Life expectancy']"
   ]
  },
  {
   "cell_type": "code",
   "execution_count": 92,
   "id": "262e7eb9",
   "metadata": {},
   "outputs": [],
   "source": [
    "life_exp1950 =  data[data['Year']==1950]['Life expectancy']"
   ]
  },
  {
   "cell_type": "code",
   "execution_count": 93,
   "id": "5c149eb0",
   "metadata": {},
   "outputs": [
    {
     "data": {
      "image/png": "[encoded data removed]",
      "text/plain": [
       "<Figure size 432x288 with 1 Axes>"
      ]
     },
     "metadata": {
      "needs_background": "light"
     },
     "output_type": "display_data"
    },
    {
     "data": {
      "image/png": "[encoded data removed]",
      "text/plain": [
       "<Figure size 432x288 with 1 Axes>"
      ]
     },
     "metadata": {
      "needs_background": "light"
     },
     "output_type": "display_data"
    },
    {
     "data": {
      "text/plain": [
       "<Figure size 432x288 with 0 Axes>"
      ]
     },
     "metadata": {},
     "output_type": "display_data"
    }
   ],
   "source": [
    "# Histogram of life_exp, 15 bins\n",
    "plt.hist(life_exp1950,bins=15)\n",
    "\n",
    "# Show and clear plot\n",
    "plt.show()\n",
    "plt.clf()\n",
    "\n",
    "# Histogram of life_exp1950, 15 bins\n",
    "plt.hist(life_exp_2007,bins=15)\n",
    "\n",
    "# Show and clear plot again\n",
    "plt.show()\n",
    "plt.clf()"
   ]
  },
  {
   "cell_type": "markdown",
   "id": "a8e7f164",
   "metadata": {},
   "source": [
    "# Labels and Ticks"
   ]
  },
  {
   "cell_type": "code",
   "execution_count": 85,
   "id": "aaa3cbe8",
   "metadata": {},
   "outputs": [
    {
     "data": {
      "image/png": "[encoded data removed]",
      "text/plain": [
       "<Figure size 432x288 with 1 Axes>"
      ]
     },
     "metadata": {
      "needs_background": "light"
     },
     "output_type": "display_data"
    }
   ],
   "source": [
    " # Basic scatter plot, log scale\n",
    "plt.scatter(gdp_cap, life_exp)\n",
    "plt.xscale('log') \n",
    "\n",
    "# Strings\n",
    "xlab = 'GDP per Capita [in USD]'\n",
    "ylab = 'Life Expectancy [in years]'\n",
    "title = 'World Development'\n",
    "\n",
    "# Add axis labels\n",
    "plt.xlabel(xlab)\n",
    "plt.ylabel(ylab)\n",
    "\n",
    "# Add title\n",
    "plt.title(title)\n",
    "\n",
    "# After customizing, display the plot\n",
    "plt.show()"
   ]
  },
  {
   "cell_type": "code",
   "execution_count": 94,
   "id": "2627d636",
   "metadata": {},
   "outputs": [],
   "source": [
    "gdp_cap2007 = data[data['Year']==2007]['GDP per capita']"
   ]
  },
  {
   "cell_type": "code",
   "execution_count": 95,
   "id": "e47c8809",
   "metadata": {},
   "outputs": [
    {
     "data": {
      "image/png": "[encoded data removed]",
      "text/plain": [
       "<Figure size 432x288 with 1 Axes>"
      ]
     },
     "metadata": {
      "needs_background": "light"
     },
     "output_type": "display_data"
    }
   ],
   "source": [
    "# Scatter plot\n",
    "plt.scatter(gdp_cap2007, life_exp_2007)\n",
    "\n",
    "# Previous customizations\n",
    "plt.xscale('log') \n",
    "plt.xlabel('GDP per Capita [in USD]')\n",
    "plt.ylabel('Life Expectancy [in years]')\n",
    "plt.title('World Development in 2007')\n",
    "\n",
    "# Definition of tick_val and tick_lab\n",
    "tick_val = [1000, 10000, 100000]\n",
    "tick_lab = ['1k', '10k', '100k']\n",
    "\n",
    "# Adapt the ticks on the x-axis\n",
    "plt.xticks(tick_val,tick_lab)\n",
    "\n",
    "# After customizing, display the plot\n",
    "plt.show()"
   ]
  },
  {
   "cell_type": "code",
   "execution_count": 98,
   "id": "86abc6e0",
   "metadata": {},
   "outputs": [
    {
     "data": {
      "text/plain": [
       "(250,)"
      ]
     },
     "execution_count": 98,
     "metadata": {},
     "output_type": "execute_result"
    }
   ],
   "source": [
    "life_exp_2007.shape"
   ]
  },
  {
   "cell_type": "code",
   "execution_count": 102,
   "id": "60882f4e",
   "metadata": {},
   "outputs": [
    {
     "data": {
      "text/plain": [
       "(60066,)"
      ]
     },
     "execution_count": 102,
     "metadata": {},
     "output_type": "execute_result"
    }
   ],
   "source": [
    "np_pop.shape\n"
   ]
  },
  {
   "cell_type": "code",
   "execution_count": 103,
   "id": "c42ac9c2",
   "metadata": {},
   "outputs": [],
   "source": [
    "pop2007 = data[data['Year']==2007]['Population (historical estimates)']"
   ]
  },
  {
   "cell_type": "code",
   "execution_count": 104,
   "id": "e8052867",
   "metadata": {},
   "outputs": [
    {
     "data": {
      "text/plain": [
       "(250,)"
      ]
     },
     "execution_count": 104,
     "metadata": {},
     "output_type": "execute_result"
    }
   ],
   "source": [
    "pop2007.shape\n"
   ]
  },
  {
   "cell_type": "code",
   "execution_count": 107,
   "id": "f07796d8",
   "metadata": {},
   "outputs": [
    {
     "data": {
      "image/png": "[encoded data removed]",
      "text/plain": [
       "<Figure size 432x288 with 1 Axes>"
      ]
     },
     "metadata": {
      "needs_background": "light"
     },
     "output_type": "display_data"
    }
   ],
   "source": [
    "# Import numpy as np\n",
    "import numpy as np\n",
    "\n",
    "# Store pop as a numpy array: np_pop\n",
    "np_pop = np.array(pop2007)\n",
    "\n",
    "# Double np_pop\n",
    "np_pop = np_pop*2\n",
    "\n",
    "# Update: set s argument to np_pop\n",
    "plt.scatter(gdp_cap2007, life_exp_2007)\n",
    "\n",
    "# Previous customizations\n",
    "plt.xscale('log') \n",
    "plt.xlabel('GDP per Capita [in USD]')\n",
    "plt.ylabel('Life Expectancy [in years]')\n",
    "plt.title('World Development in 2007')\n",
    "plt.xticks([1000, 10000, 100000],['1k', '10k', '100k'])\n",
    "\n",
    "# Display the plot\n",
    "plt.show()"
   ]
  },
  {
   "cell_type": "code",
   "execution_count": null,
   "id": "d78e32aa",
   "metadata": {},
   "outputs": [],
   "source": []
  }
 ],
 "metadata": {
  "kernelspec": {
   "display_name": "Python 3 (ipykernel)",
   "language": "python",
   "name": "python3"
  },
  "language_info": {
   "codemirror_mode": {
    "name": "ipython",
    "version": 3
   },
   "file_extension": ".py",
   "mimetype": "text/x-python",
   "name": "python",
   "nbconvert_exporter": "python",
   "pygments_lexer": "ipython3",
   "version": "3.9.7"
  }
 },
 "nbformat": 4,
 "nbformat_minor": 5
}
