{
 "cells": [
  {
   "cell_type": "markdown",
   "metadata": {
    "id": "d0HylO-DA3gi"
   },
   "source": [
    "# Python"
   ]
  },
  {
   "cell_type": "markdown",
   "metadata": {
    "colab": {
     "base_uri": "https://localhost:8080/",
     "height": 129
    },
    "executionInfo": {
     "elapsed": 890,
     "status": "error",
     "timestamp": 1617788711281,
     "user": {
      "displayName": "Sərxan Əhmədli",
      "photoUrl": "https://lh3.googleusercontent.com/a-/AOh14GgzNdNktu6hN-v8sI0do1embvEZksrB9nbb8k9k=s64",
      "userId": "12519277191260983946"
     },
     "user_tz": -240
    },
    "id": "1yL_Pr6aA3go",
    "outputId": "7e407e58-d127-41c8-9c60-a00447158cc8"
   },
   "source": [
    "# Arithmetics"
   ]
  },
  {
   "cell_type": "code",
   "execution_count": 3,
   "metadata": {
    "id": "qjynsrwhA3gp"
   },
   "outputs": [],
   "source": [
    "a = 10\n",
    "b = 1\n",
    "c = True\n",
    "# True False - 0-False 1-True"
   ]
  },
  {
   "cell_type": "code",
   "execution_count": null,
   "metadata": {
    "colab": {
     "base_uri": "https://localhost:8080/"
    },
    "executionInfo": {
     "elapsed": 612,
     "status": "ok",
     "timestamp": 1617788714748,
     "user": {
      "displayName": "Sərxan Əhmədli",
      "photoUrl": "https://lh3.googleusercontent.com/a-/AOh14GgzNdNktu6hN-v8sI0do1embvEZksrB9nbb8k9k=s64",
      "userId": "12519277191260983946"
     },
     "user_tz": -240
    },
    "id": "zeGxi96DA3gq",
    "outputId": "a136d398-e60e-49f2-fe8b-109929bb4b37"
   },
   "outputs": [
    {
     "data": {
      "text/plain": [
       "bool"
      ]
     },
     "execution_count": 4,
     "metadata": {
      "tags": []
     },
     "output_type": "execute_result"
    }
   ],
   "source": [
    "type(c)"
   ]
  },
  {
   "cell_type": "code",
   "execution_count": null,
   "metadata": {
    "colab": {
     "base_uri": "https://localhost:8080/"
    },
    "executionInfo": {
     "elapsed": 559,
     "status": "ok",
     "timestamp": 1617788715800,
     "user": {
      "displayName": "Sərxan Əhmədli",
      "photoUrl": "https://lh3.googleusercontent.com/a-/AOh14GgzNdNktu6hN-v8sI0do1embvEZksrB9nbb8k9k=s64",
      "userId": "12519277191260983946"
     },
     "user_tz": -240
    },
    "id": "ksJMyJ0ZA3gq",
    "outputId": "f4df22b6-72f7-40dc-d7a9-7f8c9600e8ed"
   },
   "outputs": [
    {
     "name": "stdout",
     "output_type": "stream",
     "text": [
      "10\n"
     ]
    }
   ],
   "source": [
    "print(a*b)"
   ]
  },
  {
   "cell_type": "code",
   "execution_count": null,
   "metadata": {
    "colab": {
     "base_uri": "https://localhost:8080/"
    },
    "executionInfo": {
     "elapsed": 801,
     "status": "ok",
     "timestamp": 1617788717311,
     "user": {
      "displayName": "Sərxan Əhmədli",
      "photoUrl": "https://lh3.googleusercontent.com/a-/AOh14GgzNdNktu6hN-v8sI0do1embvEZksrB9nbb8k9k=s64",
      "userId": "12519277191260983946"
     },
     "user_tz": -240
    },
    "id": "_vYGkgAkA3gq",
    "outputId": "4f483faf-0acb-47fa-b536-94a356dca380"
   },
   "outputs": [
    {
     "data": {
      "text/plain": [
       "10"
      ]
     },
     "execution_count": 6,
     "metadata": {
      "tags": []
     },
     "output_type": "execute_result"
    }
   ],
   "source": [
    "a ** b"
   ]
  },
  {
   "cell_type": "code",
   "execution_count": null,
   "metadata": {
    "colab": {
     "base_uri": "https://localhost:8080/"
    },
    "executionInfo": {
     "elapsed": 1165,
     "status": "ok",
     "timestamp": 1617788718755,
     "user": {
      "displayName": "Sərxan Əhmədli",
      "photoUrl": "https://lh3.googleusercontent.com/a-/AOh14GgzNdNktu6hN-v8sI0do1embvEZksrB9nbb8k9k=s64",
      "userId": "12519277191260983946"
     },
     "user_tz": -240
    },
    "id": "grC2dFyVA3gr",
    "outputId": "93a227c7-1252-4586-ed79-156c37afc1a9"
   },
   "outputs": [
    {
     "data": {
      "text/plain": [
       "10.0"
      ]
     },
     "execution_count": 7,
     "metadata": {
      "tags": []
     },
     "output_type": "execute_result"
    }
   ],
   "source": [
    "a / b"
   ]
  },
  {
   "cell_type": "code",
   "execution_count": null,
   "metadata": {
    "colab": {
     "base_uri": "https://localhost:8080/"
    },
    "executionInfo": {
     "elapsed": 439,
     "status": "ok",
     "timestamp": 1617788719144,
     "user": {
      "displayName": "Sərxan Əhmədli",
      "photoUrl": "https://lh3.googleusercontent.com/a-/AOh14GgzNdNktu6hN-v8sI0do1embvEZksrB9nbb8k9k=s64",
      "userId": "12519277191260983946"
     },
     "user_tz": -240
    },
    "id": "SdssNEbhA3gr",
    "outputId": "d1bc7590-0ae8-4c48-90ae-d020dafb0d4e"
   },
   "outputs": [
    {
     "data": {
      "text/plain": [
       "0"
      ]
     },
     "execution_count": 8,
     "metadata": {
      "tags": []
     },
     "output_type": "execute_result"
    }
   ],
   "source": [
    "round(b / a)\n"
   ]
  },
  {
   "cell_type": "code",
   "execution_count": null,
   "metadata": {
    "id": "VIhod2SzA3gs"
   },
   "outputs": [],
   "source": []
  },
  {
   "cell_type": "code",
   "execution_count": null,
   "metadata": {
    "colab": {
     "base_uri": "https://localhost:8080/"
    },
    "executionInfo": {
     "elapsed": 1907,
     "status": "ok",
     "timestamp": 1617788728699,
     "user": {
      "displayName": "Sərxan Əhmədli",
      "photoUrl": "https://lh3.googleusercontent.com/a-/AOh14GgzNdNktu6hN-v8sI0do1embvEZksrB9nbb8k9k=s64",
      "userId": "12519277191260983946"
     },
     "user_tz": -240
    },
    "id": "UY2OzKcuA3gs",
    "outputId": "c235e7e9-7cc3-4599-e2b0-8efa31ca719d"
   },
   "outputs": [
    {
     "data": {
      "text/plain": [
       "0.1"
      ]
     },
     "execution_count": 9,
     "metadata": {
      "tags": []
     },
     "output_type": "execute_result"
    }
   ],
   "source": [
    "b / a"
   ]
  },
  {
   "cell_type": "code",
   "execution_count": null,
   "metadata": {
    "colab": {
     "base_uri": "https://localhost:8080/"
    },
    "executionInfo": {
     "elapsed": 1809,
     "status": "ok",
     "timestamp": 1617788732652,
     "user": {
      "displayName": "Sərxan Əhmədli",
      "photoUrl": "https://lh3.googleusercontent.com/a-/AOh14GgzNdNktu6hN-v8sI0do1embvEZksrB9nbb8k9k=s64",
      "userId": "12519277191260983946"
     },
     "user_tz": -240
    },
    "id": "Bn7oHTxiA3gs",
    "outputId": "5548f189-2fca-4bd0-d6e6-9fb6f4d287b5"
   },
   "outputs": [
    {
     "data": {
      "text/plain": [
       "0"
      ]
     },
     "execution_count": 10,
     "metadata": {
      "tags": []
     },
     "output_type": "execute_result"
    }
   ],
   "source": [
    "int(b/a)"
   ]
  },
  {
   "cell_type": "code",
   "execution_count": null,
   "metadata": {
    "colab": {
     "base_uri": "https://localhost:8080/"
    },
    "executionInfo": {
     "elapsed": 993,
     "status": "ok",
     "timestamp": 1617788732653,
     "user": {
      "displayName": "Sərxan Əhmədli",
      "photoUrl": "https://lh3.googleusercontent.com/a-/AOh14GgzNdNktu6hN-v8sI0do1embvEZksrB9nbb8k9k=s64",
      "userId": "12519277191260983946"
     },
     "user_tz": -240
    },
    "id": "wn1LSx_MA3gt",
    "outputId": "c4d3f77d-1db0-4d9c-e89d-df2cc2878580"
   },
   "outputs": [
    {
     "data": {
      "text/plain": [
       "1"
      ]
     },
     "execution_count": 11,
     "metadata": {
      "tags": []
     },
     "output_type": "execute_result"
    }
   ],
   "source": [
    "b%a"
   ]
  },
  {
   "cell_type": "code",
   "execution_count": null,
   "metadata": {
    "colab": {
     "base_uri": "https://localhost:8080/"
    },
    "executionInfo": {
     "elapsed": 1791,
     "status": "ok",
     "timestamp": 1617788734350,
     "user": {
      "displayName": "Sərxan Əhmədli",
      "photoUrl": "https://lh3.googleusercontent.com/a-/AOh14GgzNdNktu6hN-v8sI0do1embvEZksrB9nbb8k9k=s64",
      "userId": "12519277191260983946"
     },
     "user_tz": -240
    },
    "id": "bOSj7IQHA3gt",
    "outputId": "e276e43a-8f89-4dac-fd99-f0cefac7b0ab"
   },
   "outputs": [
    {
     "data": {
      "text/plain": [
       "10"
      ]
     },
     "execution_count": 12,
     "metadata": {
      "tags": []
     },
     "output_type": "execute_result"
    }
   ],
   "source": [
    "round(10.0)"
   ]
  },
  {
   "cell_type": "code",
   "execution_count": null,
   "metadata": {
    "colab": {
     "base_uri": "https://localhost:8080/"
    },
    "executionInfo": {
     "elapsed": 747,
     "status": "ok",
     "timestamp": 1617788734352,
     "user": {
      "displayName": "Sərxan Əhmədli",
      "photoUrl": "https://lh3.googleusercontent.com/a-/AOh14GgzNdNktu6hN-v8sI0do1embvEZksrB9nbb8k9k=s64",
      "userId": "12519277191260983946"
     },
     "user_tz": -240
    },
    "id": "jE1zYo-iA3gt",
    "outputId": "267987c2-aa11-4155-ba69-c030b041f074"
   },
   "outputs": [
    {
     "data": {
      "text/plain": [
       "10"
      ]
     },
     "execution_count": 13,
     "metadata": {
      "tags": []
     },
     "output_type": "execute_result"
    }
   ],
   "source": [
    "pow(a,b)"
   ]
  },
  {
   "cell_type": "markdown",
   "metadata": {
    "id": "knLE02tjA3gt"
   },
   "source": [
    "## String"
   ]
  },
  {
   "cell_type": "code",
   "execution_count": null,
   "metadata": {
    "id": "sHCPxtEBA3gu"
   },
   "outputs": [],
   "source": [
    "word = \"Good morning, friends. \""
   ]
  },
  {
   "cell_type": "code",
   "execution_count": null,
   "metadata": {
    "colab": {
     "base_uri": "https://localhost:8080/",
     "height": 35
    },
    "executionInfo": {
     "elapsed": 467,
     "status": "ok",
     "timestamp": 1617788736943,
     "user": {
      "displayName": "Sərxan Əhmədli",
      "photoUrl": "https://lh3.googleusercontent.com/a-/AOh14GgzNdNktu6hN-v8sI0do1embvEZksrB9nbb8k9k=s64",
      "userId": "12519277191260983946"
     },
     "user_tz": -240
    },
    "id": "FSDXCHYNA3gu",
    "outputId": "998ce689-2ae4-41f0-ca06-cd7b3ce9b667"
   },
   "outputs": [
    {
     "data": {
      "application/vnd.google.colaboratory.intrinsic+json": {
       "type": "string"
      },
      "text/plain": [
       "'Goo'"
      ]
     },
     "execution_count": 15,
     "metadata": {
      "tags": []
     },
     "output_type": "execute_result"
    }
   ],
   "source": [
    "word[0:3]"
   ]
  },
  {
   "cell_type": "code",
   "execution_count": null,
   "metadata": {
    "colab": {
     "base_uri": "https://localhost:8080/",
     "height": 35
    },
    "executionInfo": {
     "elapsed": 1268,
     "status": "ok",
     "timestamp": 1617788738747,
     "user": {
      "displayName": "Sərxan Əhmədli",
      "photoUrl": "https://lh3.googleusercontent.com/a-/AOh14GgzNdNktu6hN-v8sI0do1embvEZksrB9nbb8k9k=s64",
      "userId": "12519277191260983946"
     },
     "user_tz": -240
    },
    "id": "RF-qM1mnA3gu",
    "outputId": "39dda61b-4c47-4dfd-c97a-32d3fd716a08"
   },
   "outputs": [
    {
     "data": {
      "application/vnd.google.colaboratory.intrinsic+json": {
       "type": "string"
      },
      "text/plain": [
       "'iend'"
      ]
     },
     "execution_count": 16,
     "metadata": {
      "tags": []
     },
     "output_type": "execute_result"
    }
   ],
   "source": [
    "word[-7:-3]"
   ]
  },
  {
   "cell_type": "code",
   "execution_count": null,
   "metadata": {
    "colab": {
     "base_uri": "https://localhost:8080/"
    },
    "executionInfo": {
     "elapsed": 669,
     "status": "ok",
     "timestamp": 1617788739036,
     "user": {
      "displayName": "Sərxan Əhmədli",
      "photoUrl": "https://lh3.googleusercontent.com/a-/AOh14GgzNdNktu6hN-v8sI0do1embvEZksrB9nbb8k9k=s64",
      "userId": "12519277191260983946"
     },
     "user_tz": -240
    },
    "id": "cGIHKnV3A3gu",
    "outputId": "649819f0-2600-4416-9280-4e36fc93ef8e"
   },
   "outputs": [
    {
     "data": {
      "text/plain": [
       "23"
      ]
     },
     "execution_count": 17,
     "metadata": {
      "tags": []
     },
     "output_type": "execute_result"
    }
   ],
   "source": [
    "len(word)"
   ]
  },
  {
   "cell_type": "code",
   "execution_count": null,
   "metadata": {
    "colab": {
     "base_uri": "https://localhost:8080/",
     "height": 35
    },
    "executionInfo": {
     "elapsed": 695,
     "status": "ok",
     "timestamp": 1617788754940,
     "user": {
      "displayName": "Sərxan Əhmədli",
      "photoUrl": "https://lh3.googleusercontent.com/a-/AOh14GgzNdNktu6hN-v8sI0do1embvEZksrB9nbb8k9k=s64",
      "userId": "12519277191260983946"
     },
     "user_tz": -240
    },
    "id": "ROHHR7RdA3gv",
    "outputId": "3373a1fa-5381-4e50-e6a4-86860ab8431b"
   },
   "outputs": [
    {
     "data": {
      "application/vnd.google.colaboratory.intrinsic+json": {
       "type": "string"
      },
      "text/plain": [
       "'Good morning, friends. '"
      ]
     },
     "execution_count": 18,
     "metadata": {
      "tags": []
     },
     "output_type": "execute_result"
    }
   ],
   "source": [
    "word.strip(',')"
   ]
  },
  {
   "cell_type": "code",
   "execution_count": null,
   "metadata": {
    "colab": {
     "base_uri": "https://localhost:8080/",
     "height": 35
    },
    "executionInfo": {
     "elapsed": 541,
     "status": "ok",
     "timestamp": 1617788755224,
     "user": {
      "displayName": "Sərxan Əhmədli",
      "photoUrl": "https://lh3.googleusercontent.com/a-/AOh14GgzNdNktu6hN-v8sI0do1embvEZksrB9nbb8k9k=s64",
      "userId": "12519277191260983946"
     },
     "user_tz": -240
    },
    "id": "rk4d5jWPA3gv",
    "outputId": "87461a20-4b74-4bb2-d555-6f076e7b8ae8"
   },
   "outputs": [
    {
     "data": {
      "application/vnd.google.colaboratory.intrinsic+json": {
       "type": "string"
      },
      "text/plain": [
       "'good morning, friends. '"
      ]
     },
     "execution_count": 19,
     "metadata": {
      "tags": []
     },
     "output_type": "execute_result"
    }
   ],
   "source": [
    "word.lower()"
   ]
  },
  {
   "cell_type": "code",
   "execution_count": null,
   "metadata": {
    "colab": {
     "base_uri": "https://localhost:8080/",
     "height": 35
    },
    "executionInfo": {
     "elapsed": 1150,
     "status": "ok",
     "timestamp": 1617788756528,
     "user": {
      "displayName": "Sərxan Əhmədli",
      "photoUrl": "https://lh3.googleusercontent.com/a-/AOh14GgzNdNktu6hN-v8sI0do1embvEZksrB9nbb8k9k=s64",
      "userId": "12519277191260983946"
     },
     "user_tz": -240
    },
    "id": "_D3GvJcUA3gv",
    "outputId": "aced1463-d902-4fa2-f44f-b0d9db09d84c"
   },
   "outputs": [
    {
     "data": {
      "application/vnd.google.colaboratory.intrinsic+json": {
       "type": "string"
      },
      "text/plain": [
       "'Good afternoon, friends. '"
      ]
     },
     "execution_count": 20,
     "metadata": {
      "tags": []
     },
     "output_type": "execute_result"
    }
   ],
   "source": [
    "word.replace('morning','afternoon')"
   ]
  },
  {
   "cell_type": "code",
   "execution_count": null,
   "metadata": {
    "id": "aVOesrreA3gw"
   },
   "outputs": [],
   "source": [
    "lst = word.split(',')"
   ]
  },
  {
   "cell_type": "code",
   "execution_count": null,
   "metadata": {
    "colab": {
     "base_uri": "https://localhost:8080/"
    },
    "executionInfo": {
     "elapsed": 836,
     "status": "ok",
     "timestamp": 1617788757527,
     "user": {
      "displayName": "Sərxan Əhmədli",
      "photoUrl": "https://lh3.googleusercontent.com/a-/AOh14GgzNdNktu6hN-v8sI0do1embvEZksrB9nbb8k9k=s64",
      "userId": "12519277191260983946"
     },
     "user_tz": -240
    },
    "id": "6vbiVDCJA3gw",
    "outputId": "370306bc-f033-4abf-ae61-71ce76207f59"
   },
   "outputs": [
    {
     "data": {
      "text/plain": [
       "['Good morning', ' friends. ']"
      ]
     },
     "execution_count": 22,
     "metadata": {
      "tags": []
     },
     "output_type": "execute_result"
    }
   ],
   "source": [
    "lst"
   ]
  },
  {
   "cell_type": "code",
   "execution_count": null,
   "metadata": {
    "id": "-h1Ef2WAA3gw"
   },
   "outputs": [],
   "source": [
    "word2 = \"What's up\""
   ]
  },
  {
   "cell_type": "code",
   "execution_count": null,
   "metadata": {
    "colab": {
     "base_uri": "https://localhost:8080/",
     "height": 35
    },
    "executionInfo": {
     "elapsed": 630,
     "status": "ok",
     "timestamp": 1617788758491,
     "user": {
      "displayName": "Sərxan Əhmədli",
      "photoUrl": "https://lh3.googleusercontent.com/a-/AOh14GgzNdNktu6hN-v8sI0do1embvEZksrB9nbb8k9k=s64",
      "userId": "12519277191260983946"
     },
     "user_tz": -240
    },
    "id": "4PQLBtMxA3gw",
    "outputId": "82ac8509-bd53-4ab3-807d-51f332f051fc"
   },
   "outputs": [
    {
     "data": {
      "application/vnd.google.colaboratory.intrinsic+json": {
       "type": "string"
      },
      "text/plain": [
       "\"Good morning, friends. What's up\""
      ]
     },
     "execution_count": 24,
     "metadata": {
      "tags": []
     },
     "output_type": "execute_result"
    }
   ],
   "source": [
    "word+word2"
   ]
  },
  {
   "cell_type": "code",
   "execution_count": null,
   "metadata": {
    "id": "gNlAvf47A3gw"
   },
   "outputs": [],
   "source": [
    "c=\"Family\""
   ]
  },
  {
   "cell_type": "code",
   "execution_count": null,
   "metadata": {
    "colab": {
     "base_uri": "https://localhost:8080/"
    },
    "executionInfo": {
     "elapsed": 986,
     "status": "ok",
     "timestamp": 1617788759875,
     "user": {
      "displayName": "Sərxan Əhmədli",
      "photoUrl": "https://lh3.googleusercontent.com/a-/AOh14GgzNdNktu6hN-v8sI0do1embvEZksrB9nbb8k9k=s64",
      "userId": "12519277191260983946"
     },
     "user_tz": -240
    },
    "id": "uRzWaIKVA3gx",
    "outputId": "59598ace-5448-45ae-d2fc-a2d33055effe"
   },
   "outputs": [
    {
     "data": {
      "text/plain": [
       "str"
      ]
     },
     "execution_count": 26,
     "metadata": {
      "tags": []
     },
     "output_type": "execute_result"
    }
   ],
   "source": [
    "type(c)"
   ]
  },
  {
   "cell_type": "code",
   "execution_count": null,
   "metadata": {
    "colab": {
     "base_uri": "https://localhost:8080/",
     "height": 35
    },
    "executionInfo": {
     "elapsed": 1204,
     "status": "ok",
     "timestamp": 1617788760331,
     "user": {
      "displayName": "Sərxan Əhmədli",
      "photoUrl": "https://lh3.googleusercontent.com/a-/AOh14GgzNdNktu6hN-v8sI0do1embvEZksrB9nbb8k9k=s64",
      "userId": "12519277191260983946"
     },
     "user_tz": -240
    },
    "id": "FTIAJwjCA3gx",
    "outputId": "37e97abc-c19a-4dee-dac1-4b9238468a0f"
   },
   "outputs": [
    {
     "data": {
      "application/vnd.google.colaboratory.intrinsic+json": {
       "type": "string"
      },
      "text/plain": [
       "'Good morning, friends. 5'"
      ]
     },
     "execution_count": 27,
     "metadata": {
      "tags": []
     },
     "output_type": "execute_result"
    }
   ],
   "source": [
    "word+\"5\""
   ]
  },
  {
   "cell_type": "code",
   "execution_count": null,
   "metadata": {
    "colab": {
     "base_uri": "https://localhost:8080/",
     "height": 35
    },
    "executionInfo": {
     "elapsed": 864,
     "status": "ok",
     "timestamp": 1617788760335,
     "user": {
      "displayName": "Sərxan Əhmədli",
      "photoUrl": "https://lh3.googleusercontent.com/a-/AOh14GgzNdNktu6hN-v8sI0do1embvEZksrB9nbb8k9k=s64",
      "userId": "12519277191260983946"
     },
     "user_tz": -240
    },
    "id": "9CeO8dDQA3gx",
    "outputId": "2e24fce5-c3ff-436e-d938-09c55ae2739d",
    "scrolled": true
   },
   "outputs": [
    {
     "data": {
      "application/vnd.google.colaboratory.intrinsic+json": {
       "type": "string"
      },
      "text/plain": [
       "'Good morning, friends. Family'"
      ]
     },
     "execution_count": 28,
     "metadata": {
      "tags": []
     },
     "output_type": "execute_result"
    }
   ],
   "source": [
    "word+c"
   ]
  },
  {
   "cell_type": "code",
   "execution_count": null,
   "metadata": {
    "colab": {
     "base_uri": "https://localhost:8080/",
     "height": 35
    },
    "executionInfo": {
     "elapsed": 1018,
     "status": "ok",
     "timestamp": 1617788760725,
     "user": {
      "displayName": "Sərxan Əhmədli",
      "photoUrl": "https://lh3.googleusercontent.com/a-/AOh14GgzNdNktu6hN-v8sI0do1embvEZksrB9nbb8k9k=s64",
      "userId": "12519277191260983946"
     },
     "user_tz": -240
    },
    "id": "XZcoc89SA3gx",
    "outputId": "55bece70-a986-4367-a71f-e80d2ce166e6"
   },
   "outputs": [
    {
     "data": {
      "application/vnd.google.colaboratory.intrinsic+json": {
       "type": "string"
      },
      "text/plain": [
       "'He is 10 years old'"
      ]
     },
     "execution_count": 29,
     "metadata": {
      "tags": []
     },
     "output_type": "execute_result"
    }
   ],
   "source": [
    "word3 = \"He is {} years old\"\n",
    "word3.format(a)\n"
   ]
  },
  {
   "cell_type": "code",
   "execution_count": null,
   "metadata": {
    "colab": {
     "base_uri": "https://localhost:8080/",
     "height": 35
    },
    "executionInfo": {
     "elapsed": 939,
     "status": "ok",
     "timestamp": 1617788760727,
     "user": {
      "displayName": "Sərxan Əhmədli",
      "photoUrl": "https://lh3.googleusercontent.com/a-/AOh14GgzNdNktu6hN-v8sI0do1embvEZksrB9nbb8k9k=s64",
      "userId": "12519277191260983946"
     },
     "user_tz": -240
    },
    "id": "j4cZcYDYA3gy",
    "outputId": "1b3c07d9-c58e-4f02-db98-e9a7ea3c0956"
   },
   "outputs": [
    {
     "data": {
      "application/vnd.google.colaboratory.intrinsic+json": {
       "type": "string"
      },
      "text/plain": [
       "'he is 10 years old and his sister is 1 Family'"
      ]
     },
     "execution_count": 30,
     "metadata": {
      "tags": []
     },
     "output_type": "execute_result"
    }
   ],
   "source": [
    "word3 = \"he is {} years old and his sister is {} {}\"\n",
    "word3.format(a,b,c)"
   ]
  },
  {
   "cell_type": "markdown",
   "metadata": {
    "id": "BsWXedWXA3gy"
   },
   "source": [
    "## Boolean"
   ]
  },
  {
   "cell_type": "code",
   "execution_count": null,
   "metadata": {
    "id": "eSi2_xk-A3gy"
   },
   "outputs": [],
   "source": [
    "d = -4\n",
    "# True False\n",
    "# =0 False\n",
    "# 0<  >0 - True"
   ]
  },
  {
   "cell_type": "code",
   "execution_count": null,
   "metadata": {
    "colab": {
     "base_uri": "https://localhost:8080/"
    },
    "executionInfo": {
     "elapsed": 997,
     "status": "ok",
     "timestamp": 1617788916420,
     "user": {
      "displayName": "Sərxan Əhmədli",
      "photoUrl": "https://lh3.googleusercontent.com/a-/AOh14GgzNdNktu6hN-v8sI0do1embvEZksrB9nbb8k9k=s64",
      "userId": "12519277191260983946"
     },
     "user_tz": -240
    },
    "id": "VSnAijB5A3gy",
    "outputId": "d2066c90-da9a-4edc-e16a-f3ac7595be1d"
   },
   "outputs": [
    {
     "data": {
      "text/plain": [
       "True"
      ]
     },
     "execution_count": 36,
     "metadata": {
      "tags": []
     },
     "output_type": "execute_result"
    }
   ],
   "source": [
    "bool(d)"
   ]
  },
  {
   "cell_type": "code",
   "execution_count": null,
   "metadata": {
    "colab": {
     "base_uri": "https://localhost:8080/"
    },
    "executionInfo": {
     "elapsed": 426,
     "status": "ok",
     "timestamp": 1617788916798,
     "user": {
      "displayName": "Sərxan Əhmədli",
      "photoUrl": "https://lh3.googleusercontent.com/a-/AOh14GgzNdNktu6hN-v8sI0do1embvEZksrB9nbb8k9k=s64",
      "userId": "12519277191260983946"
     },
     "user_tz": -240
    },
    "id": "I9PoLKrSA3gy",
    "outputId": "cfb706f6-5ed4-4102-e3e1-e56b6df1a20d"
   },
   "outputs": [
    {
     "data": {
      "text/plain": [
       "False"
      ]
     },
     "execution_count": 37,
     "metadata": {
      "tags": []
     },
     "output_type": "execute_result"
    }
   ],
   "source": [
    "bool(b > a)\n",
    "# a =10\n",
    "# b =1 "
   ]
  },
  {
   "cell_type": "code",
   "execution_count": null,
   "metadata": {
    "colab": {
     "base_uri": "https://localhost:8080/"
    },
    "executionInfo": {
     "elapsed": 616,
     "status": "ok",
     "timestamp": 1617788917588,
     "user": {
      "displayName": "Sərxan Əhmədli",
      "photoUrl": "https://lh3.googleusercontent.com/a-/AOh14GgzNdNktu6hN-v8sI0do1embvEZksrB9nbb8k9k=s64",
      "userId": "12519277191260983946"
     },
     "user_tz": -240
    },
    "id": "NsP0z5OxA3gz",
    "outputId": "89189064-e645-48f8-b3f4-d74fd7c37763"
   },
   "outputs": [
    {
     "data": {
      "text/plain": [
       "True"
      ]
     },
     "execution_count": 38,
     "metadata": {
      "tags": []
     },
     "output_type": "execute_result"
    }
   ],
   "source": [
    "a>b"
   ]
  },
  {
   "cell_type": "markdown",
   "metadata": {
    "id": "uVXLp9U7A3gz"
   },
   "source": [
    "## List"
   ]
  },
  {
   "cell_type": "code",
   "execution_count": null,
   "metadata": {
    "id": "YG4NTcl2A3gz"
   },
   "outputs": [],
   "source": [
    "list1 = [1,2,3,4,5,6,7,8,9,10]"
   ]
  },
  {
   "cell_type": "code",
   "execution_count": null,
   "metadata": {
    "colab": {
     "base_uri": "https://localhost:8080/"
    },
    "executionInfo": {
     "elapsed": 502,
     "status": "ok",
     "timestamp": 1617788949622,
     "user": {
      "displayName": "Sərxan Əhmədli",
      "photoUrl": "https://lh3.googleusercontent.com/a-/AOh14GgzNdNktu6hN-v8sI0do1embvEZksrB9nbb8k9k=s64",
      "userId": "12519277191260983946"
     },
     "user_tz": -240
    },
    "id": "jDZxZ6G2A3gz",
    "outputId": "3acd459a-fdaa-4785-bd8f-db6a59e6a064"
   },
   "outputs": [
    {
     "data": {
      "text/plain": [
       "1"
      ]
     },
     "execution_count": 40,
     "metadata": {
      "tags": []
     },
     "output_type": "execute_result"
    }
   ],
   "source": [
    "list1[0]"
   ]
  },
  {
   "cell_type": "code",
   "execution_count": null,
   "metadata": {
    "colab": {
     "base_uri": "https://localhost:8080/"
    },
    "executionInfo": {
     "elapsed": 515,
     "status": "ok",
     "timestamp": 1617788950816,
     "user": {
      "displayName": "Sərxan Əhmədli",
      "photoUrl": "https://lh3.googleusercontent.com/a-/AOh14GgzNdNktu6hN-v8sI0do1embvEZksrB9nbb8k9k=s64",
      "userId": "12519277191260983946"
     },
     "user_tz": -240
    },
    "id": "ExXrThy9A3gz",
    "outputId": "3c40f505-b7f4-4805-85c3-beff23c8224e"
   },
   "outputs": [
    {
     "data": {
      "text/plain": [
       "[3, 4, 5, 6, 7, 8, 9, 10]"
      ]
     },
     "execution_count": 41,
     "metadata": {
      "tags": []
     },
     "output_type": "execute_result"
    }
   ],
   "source": [
    "list1[2:]"
   ]
  },
  {
   "cell_type": "code",
   "execution_count": null,
   "metadata": {
    "colab": {
     "base_uri": "https://localhost:8080/"
    },
    "executionInfo": {
     "elapsed": 493,
     "status": "ok",
     "timestamp": 1617788951935,
     "user": {
      "displayName": "Sərxan Əhmədli",
      "photoUrl": "https://lh3.googleusercontent.com/a-/AOh14GgzNdNktu6hN-v8sI0do1embvEZksrB9nbb8k9k=s64",
      "userId": "12519277191260983946"
     },
     "user_tz": -240
    },
    "id": "LGsZxR4pA3g0",
    "outputId": "b86cfb60-2e32-431f-d715-ee2d2bd6ecc1"
   },
   "outputs": [
    {
     "data": {
      "text/plain": [
       "[1, 3, 5, 7, 9]"
      ]
     },
     "execution_count": 42,
     "metadata": {
      "tags": []
     },
     "output_type": "execute_result"
    }
   ],
   "source": [
    "list1[:-1:2]"
   ]
  },
  {
   "cell_type": "code",
   "execution_count": null,
   "metadata": {
    "colab": {
     "base_uri": "https://localhost:8080/"
    },
    "executionInfo": {
     "elapsed": 712,
     "status": "ok",
     "timestamp": 1617788989742,
     "user": {
      "displayName": "Sərxan Əhmədli",
      "photoUrl": "https://lh3.googleusercontent.com/a-/AOh14GgzNdNktu6hN-v8sI0do1embvEZksrB9nbb8k9k=s64",
      "userId": "12519277191260983946"
     },
     "user_tz": -240
    },
    "id": "CHq-X1s7A3g0",
    "outputId": "96eef9ed-9275-43f1-d44b-8573be274d7e"
   },
   "outputs": [
    {
     "data": {
      "text/plain": [
       "10"
      ]
     },
     "execution_count": 43,
     "metadata": {
      "tags": []
     },
     "output_type": "execute_result"
    }
   ],
   "source": [
    "list1[-1]"
   ]
  },
  {
   "cell_type": "code",
   "execution_count": null,
   "metadata": {
    "colab": {
     "base_uri": "https://localhost:8080/"
    },
    "executionInfo": {
     "elapsed": 600,
     "status": "ok",
     "timestamp": 1617788990825,
     "user": {
      "displayName": "Sərxan Əhmədli",
      "photoUrl": "https://lh3.googleusercontent.com/a-/AOh14GgzNdNktu6hN-v8sI0do1embvEZksrB9nbb8k9k=s64",
      "userId": "12519277191260983946"
     },
     "user_tz": -240
    },
    "id": "GBR5qv_pA3g0",
    "outputId": "15822c0b-f55e-4baa-b6ac-10a99854e5d7"
   },
   "outputs": [
    {
     "data": {
      "text/plain": [
       "[2, 4, 6, 8, 10]"
      ]
     },
     "execution_count": 44,
     "metadata": {
      "tags": []
     },
     "output_type": "execute_result"
    }
   ],
   "source": [
    "list1[1:10:2]"
   ]
  },
  {
   "cell_type": "code",
   "execution_count": null,
   "metadata": {
    "colab": {
     "base_uri": "https://localhost:8080/"
    },
    "executionInfo": {
     "elapsed": 654,
     "status": "ok",
     "timestamp": 1617788992399,
     "user": {
      "displayName": "Sərxan Əhmədli",
      "photoUrl": "https://lh3.googleusercontent.com/a-/AOh14GgzNdNktu6hN-v8sI0do1embvEZksrB9nbb8k9k=s64",
      "userId": "12519277191260983946"
     },
     "user_tz": -240
    },
    "id": "NLlpxi95A3g0",
    "outputId": "35856709-c077-4a38-ff93-161520a5371d"
   },
   "outputs": [
    {
     "data": {
      "text/plain": [
       "[6, 7, 8, 9, 10]"
      ]
     },
     "execution_count": 45,
     "metadata": {
      "tags": []
     },
     "output_type": "execute_result"
    }
   ],
   "source": [
    "list1[-5:10]"
   ]
  },
  {
   "cell_type": "code",
   "execution_count": null,
   "metadata": {
    "colab": {
     "base_uri": "https://localhost:8080/"
    },
    "executionInfo": {
     "elapsed": 674,
     "status": "ok",
     "timestamp": 1617788994555,
     "user": {
      "displayName": "Sərxan Əhmədli",
      "photoUrl": "https://lh3.googleusercontent.com/a-/AOh14GgzNdNktu6hN-v8sI0do1embvEZksrB9nbb8k9k=s64",
      "userId": "12519277191260983946"
     },
     "user_tz": -240
    },
    "id": "CsZTZW2OA3g0",
    "outputId": "a19c32f6-8780-4109-97d7-b09887cf4af0"
   },
   "outputs": [
    {
     "data": {
      "text/plain": [
       "[1, 2, 3, 4, 5, 6, 7, 8, 9, 10]"
      ]
     },
     "execution_count": 46,
     "metadata": {
      "tags": []
     },
     "output_type": "execute_result"
    }
   ],
   "source": [
    "list1[::]"
   ]
  },
  {
   "cell_type": "code",
   "execution_count": null,
   "metadata": {
    "colab": {
     "base_uri": "https://localhost:8080/"
    },
    "executionInfo": {
     "elapsed": 825,
     "status": "ok",
     "timestamp": 1617789000707,
     "user": {
      "displayName": "Sərxan Əhmədli",
      "photoUrl": "https://lh3.googleusercontent.com/a-/AOh14GgzNdNktu6hN-v8sI0do1embvEZksrB9nbb8k9k=s64",
      "userId": "12519277191260983946"
     },
     "user_tz": -240
    },
    "id": "FZ0WLAt9A3g1",
    "outputId": "44c5c8b0-2b86-4a92-b389-ed31d230e15b"
   },
   "outputs": [
    {
     "data": {
      "text/plain": [
       "[10, 9, 8, 7, 6, 5, 4, 3, 2, 1]"
      ]
     },
     "execution_count": 47,
     "metadata": {
      "tags": []
     },
     "output_type": "execute_result"
    }
   ],
   "source": [
    "list1[::-1]"
   ]
  },
  {
   "cell_type": "code",
   "execution_count": null,
   "metadata": {
    "colab": {
     "base_uri": "https://localhost:8080/"
    },
    "executionInfo": {
     "elapsed": 706,
     "status": "ok",
     "timestamp": 1617789183327,
     "user": {
      "displayName": "Sərxan Əhmədli",
      "photoUrl": "https://lh3.googleusercontent.com/a-/AOh14GgzNdNktu6hN-v8sI0do1embvEZksrB9nbb8k9k=s64",
      "userId": "12519277191260983946"
     },
     "user_tz": -240
    },
    "id": "0PaUscLwA3g1",
    "outputId": "5b39ba80-8e33-469f-87bf-6ae1973b0452"
   },
   "outputs": [
    {
     "name": "stdout",
     "output_type": "stream",
     "text": [
      "1\n",
      "2\n",
      "3\n",
      "4\n",
      "5\n",
      "6\n",
      "7\n",
      "8\n",
      "9\n",
      "10\n"
     ]
    }
   ],
   "source": [
    "for num in list1:\n",
    "    print(num)\n",
    "    "
   ]
  },
  {
   "cell_type": "code",
   "execution_count": null,
   "metadata": {
    "colab": {
     "base_uri": "https://localhost:8080/"
    },
    "executionInfo": {
     "elapsed": 1129,
     "status": "ok",
     "timestamp": 1617789195836,
     "user": {
      "displayName": "Sərxan Əhmədli",
      "photoUrl": "https://lh3.googleusercontent.com/a-/AOh14GgzNdNktu6hN-v8sI0do1embvEZksrB9nbb8k9k=s64",
      "userId": "12519277191260983946"
     },
     "user_tz": -240
    },
    "id": "cXrx58LfA3g1",
    "outputId": "d84751e1-5063-4bcd-bf1a-5410d48bd0a5"
   },
   "outputs": [
    {
     "name": "stdout",
     "output_type": "stream",
     "text": [
      "False\n"
     ]
    }
   ],
   "source": [
    "if 15 in list1:\n",
    "    print(True)\n",
    "else:\n",
    "    print(False)"
   ]
  },
  {
   "cell_type": "code",
   "execution_count": null,
   "metadata": {
    "colab": {
     "base_uri": "https://localhost:8080/"
    },
    "executionInfo": {
     "elapsed": 2568,
     "status": "ok",
     "timestamp": 1617476883297,
     "user": {
      "displayName": "Sərxan Əhmədli",
      "photoUrl": "https://lh3.googleusercontent.com/a-/AOh14GgzNdNktu6hN-v8sI0do1embvEZksrB9nbb8k9k=s64",
      "userId": "12519277191260983946"
     },
     "user_tz": -240
    },
    "id": "Te85xApHA3g2",
    "outputId": "cb73bb7a-ea8b-40f7-87cf-1f6343299330"
   },
   "outputs": [
    {
     "data": {
      "text/plain": [
       "10"
      ]
     },
     "execution_count": 13,
     "metadata": {
      "tags": []
     },
     "output_type": "execute_result"
    }
   ],
   "source": [
    "len(list1)"
   ]
  },
  {
   "cell_type": "code",
   "execution_count": null,
   "metadata": {
    "id": "Gb4uuaesA3g2"
   },
   "outputs": [],
   "source": [
    "list1.append(11)"
   ]
  },
  {
   "cell_type": "code",
   "execution_count": null,
   "metadata": {
    "id": "Io02h1xNA3g2"
   },
   "outputs": [],
   "source": [
    "list1.append(12)"
   ]
  },
  {
   "cell_type": "code",
   "execution_count": null,
   "metadata": {
    "id": "Px47dz_YA3g2",
    "outputId": "ae87e111-c9fd-4c89-f194-1d509d857533"
   },
   "outputs": [
    {
     "data": {
      "text/plain": [
       "[1, 2, 3, 4, 5, 6, 7, 8, 9, 10, 12, 11, 12]"
      ]
     },
     "execution_count": 47,
     "metadata": {
      "tags": []
     },
     "output_type": "execute_result"
    }
   ],
   "source": [
    "list1"
   ]
  },
  {
   "cell_type": "code",
   "execution_count": null,
   "metadata": {
    "id": "2-RqtulQA3g3"
   },
   "outputs": [],
   "source": [
    "list1.insert(0,-1)"
   ]
  },
  {
   "cell_type": "code",
   "execution_count": null,
   "metadata": {
    "id": "qnWs-LmvA3g3",
    "outputId": "f6995077-6cf7-427f-c009-870aa46b487b"
   },
   "outputs": [
    {
     "data": {
      "text/plain": [
       "[-1, -1, 1, 2, 3, 4, 5, 6, 7, 8, 9, 10, 12, 11, 12]"
      ]
     },
     "execution_count": 50,
     "metadata": {
      "tags": []
     },
     "output_type": "execute_result"
    }
   ],
   "source": [
    "list1"
   ]
  },
  {
   "cell_type": "code",
   "execution_count": null,
   "metadata": {
    "id": "BR7SjfpWA3g3"
   },
   "outputs": [],
   "source": [
    "list1.remove(1)"
   ]
  },
  {
   "cell_type": "code",
   "execution_count": null,
   "metadata": {
    "id": "gKjsxMvOA3g3",
    "outputId": "e0f3e4b4-265d-4d7a-aa62-517af3f006af"
   },
   "outputs": [
    {
     "data": {
      "text/plain": [
       "[-1, -1, 1, 2, 3, 6, 7, 8, 9, 10, 12, 11, 12]"
      ]
     },
     "execution_count": 54,
     "metadata": {
      "tags": []
     },
     "output_type": "execute_result"
    }
   ],
   "source": [
    "list1"
   ]
  },
  {
   "cell_type": "code",
   "execution_count": null,
   "metadata": {
    "id": "MFcLy3ryA3g4"
   },
   "outputs": [],
   "source": [
    "del list1[5]"
   ]
  },
  {
   "cell_type": "code",
   "execution_count": null,
   "metadata": {
    "id": "K1w9Wr6cA3g4",
    "outputId": "c7713702-765e-409e-d8ca-ad39ba030efb"
   },
   "outputs": [
    {
     "data": {
      "text/plain": [
       "[-1, -1, 1, 2, 3, 7, 8, 9, 10, 12, 11, 12]"
      ]
     },
     "execution_count": 56,
     "metadata": {
      "tags": []
     },
     "output_type": "execute_result"
    }
   ],
   "source": [
    "list1"
   ]
  },
  {
   "cell_type": "code",
   "execution_count": null,
   "metadata": {
    "id": "z8eu-zfZA3g4"
   },
   "outputs": [],
   "source": [
    "list2 = [10,20,30,40,50]"
   ]
  },
  {
   "cell_type": "code",
   "execution_count": null,
   "metadata": {
    "id": "bTFnPeUKA3g4",
    "outputId": "d0a7a827-72d6-4f8e-ede3-044f5505ca1f"
   },
   "outputs": [
    {
     "data": {
      "text/plain": [
       "[-1, 2, 3, 4, 5, 7, 8, 9, 10, 11, 10, 20, 30, 40, 50]"
      ]
     },
     "execution_count": 95,
     "metadata": {
      "tags": []
     },
     "output_type": "execute_result"
    }
   ],
   "source": [
    "list1 +list2"
   ]
  },
  {
   "cell_type": "code",
   "execution_count": null,
   "metadata": {
    "id": "zKO_hFmQA3g4"
   },
   "outputs": [],
   "source": [
    "for num in list1:\n",
    "    list2.append(num)"
   ]
  },
  {
   "cell_type": "code",
   "execution_count": null,
   "metadata": {
    "id": "fo-YxYazA3g5",
    "outputId": "f4498b3f-1e39-4a4c-bcf5-f9a5e66ecc5f"
   },
   "outputs": [
    {
     "data": {
      "text/plain": [
       "[10, 20, 30, 40, 50, -1, 2, 3, 4, 5, 7, 8, 9, 10, 11]"
      ]
     },
     "execution_count": 97,
     "metadata": {
      "tags": []
     },
     "output_type": "execute_result"
    }
   ],
   "source": [
    "list2"
   ]
  },
  {
   "cell_type": "code",
   "execution_count": null,
   "metadata": {
    "id": "Mhf3cD4zA3g5"
   },
   "outputs": [],
   "source": [
    "list2 = []"
   ]
  },
  {
   "cell_type": "code",
   "execution_count": null,
   "metadata": {
    "id": "zS27-oC4A3g5",
    "outputId": "bf29e723-3bfa-4912-bf4d-75c386462f09"
   },
   "outputs": [
    {
     "data": {
      "text/plain": [
       "[]"
      ]
     },
     "execution_count": 58,
     "metadata": {
      "tags": []
     },
     "output_type": "execute_result"
    }
   ],
   "source": [
    "list2"
   ]
  },
  {
   "cell_type": "code",
   "execution_count": null,
   "metadata": {
    "id": "XEPGJE1lA3g5"
   },
   "outputs": [],
   "source": [
    "list2.extend(list1)"
   ]
  },
  {
   "cell_type": "code",
   "execution_count": null,
   "metadata": {
    "id": "vPpFT3prA3g5",
    "outputId": "00880819-e984-4a91-ecb8-e514c88cc87e"
   },
   "outputs": [
    {
     "data": {
      "text/plain": [
       "[-1, 2, 3, 4, 5, 7, 8, 9, 10, 11]"
      ]
     },
     "execution_count": 101,
     "metadata": {
      "tags": []
     },
     "output_type": "execute_result"
    }
   ],
   "source": [
    "list2"
   ]
  },
  {
   "cell_type": "markdown",
   "metadata": {
    "id": "PMJwx5ayA3g6"
   },
   "source": [
    "## Dictionary"
   ]
  },
  {
   "cell_type": "code",
   "execution_count": null,
   "metadata": {
    "id": "-aog9WXAA3g6"
   },
   "outputs": [],
   "source": [
    "dict1 = {\n",
    "    \"name\": \"Jafar\",\n",
    "    \"surname\": \"Jafarov\",\n",
    "    \"age\" : 21,\n",
    "}"
   ]
  },
  {
   "cell_type": "code",
   "execution_count": null,
   "metadata": {
    "colab": {
     "base_uri": "https://localhost:8080/"
    },
    "executionInfo": {
     "elapsed": 876,
     "status": "ok",
     "timestamp": 1617789598276,
     "user": {
      "displayName": "Sərxan Əhmədli",
      "photoUrl": "https://lh3.googleusercontent.com/a-/AOh14GgzNdNktu6hN-v8sI0do1embvEZksrB9nbb8k9k=s64",
      "userId": "12519277191260983946"
     },
     "user_tz": -240
    },
    "id": "oud4o_rlA3g6",
    "outputId": "660bfb6b-670e-43c8-b6dc-a54db509e954"
   },
   "outputs": [
    {
     "data": {
      "text/plain": [
       "21"
      ]
     },
     "execution_count": 51,
     "metadata": {
      "tags": []
     },
     "output_type": "execute_result"
    }
   ],
   "source": [
    "dict1[\"age\"]"
   ]
  },
  {
   "cell_type": "code",
   "execution_count": null,
   "metadata": {
    "id": "w0YFF_rKA3g6"
   },
   "outputs": [],
   "source": [
    "dict1[\"gender\"]=\"Male\""
   ]
  },
  {
   "cell_type": "code",
   "execution_count": null,
   "metadata": {
    "colab": {
     "base_uri": "https://localhost:8080/"
    },
    "executionInfo": {
     "elapsed": 766,
     "status": "ok",
     "timestamp": 1617789601983,
     "user": {
      "displayName": "Sərxan Əhmədli",
      "photoUrl": "https://lh3.googleusercontent.com/a-/AOh14GgzNdNktu6hN-v8sI0do1embvEZksrB9nbb8k9k=s64",
      "userId": "12519277191260983946"
     },
     "user_tz": -240
    },
    "id": "1zQMNQnCA3g6",
    "outputId": "5c88fce1-eec1-4bec-9146-e4328f6bb324"
   },
   "outputs": [
    {
     "data": {
      "text/plain": [
       "{'age': 21, 'gender': 'Male', 'name': 'Jafar', 'surname': 'Jafarov'}"
      ]
     },
     "execution_count": 53,
     "metadata": {
      "tags": []
     },
     "output_type": "execute_result"
    }
   ],
   "source": [
    "dict1"
   ]
  },
  {
   "cell_type": "code",
   "execution_count": null,
   "metadata": {
    "colab": {
     "base_uri": "https://localhost:8080/"
    },
    "executionInfo": {
     "elapsed": 932,
     "status": "ok",
     "timestamp": 1617789602872,
     "user": {
      "displayName": "Sərxan Əhmədli",
      "photoUrl": "https://lh3.googleusercontent.com/a-/AOh14GgzNdNktu6hN-v8sI0do1embvEZksrB9nbb8k9k=s64",
      "userId": "12519277191260983946"
     },
     "user_tz": -240
    },
    "id": "fbgSY4SOA3g6",
    "outputId": "292c510f-51f4-44af-a101-924f9bd61fee"
   },
   "outputs": [
    {
     "name": "stdout",
     "output_type": "stream",
     "text": [
      "name\n",
      "surname\n",
      "age\n",
      "gender\n"
     ]
    }
   ],
   "source": [
    "for col in dict1:\n",
    "    print (col)"
   ]
  },
  {
   "cell_type": "code",
   "execution_count": null,
   "metadata": {
    "colab": {
     "base_uri": "https://localhost:8080/"
    },
    "executionInfo": {
     "elapsed": 664,
     "status": "ok",
     "timestamp": 1617789625344,
     "user": {
      "displayName": "Sərxan Əhmədli",
      "photoUrl": "https://lh3.googleusercontent.com/a-/AOh14GgzNdNktu6hN-v8sI0do1embvEZksrB9nbb8k9k=s64",
      "userId": "12519277191260983946"
     },
     "user_tz": -240
    },
    "id": "B4wJ2KRbA3g7",
    "outputId": "7c3a97fe-0c43-4191-ab86-0dc2b63c8b0d"
   },
   "outputs": [
    {
     "name": "stdout",
     "output_type": "stream",
     "text": [
      "Jafar\n",
      "Jafarov\n",
      "21\n",
      "Male\n"
     ]
    }
   ],
   "source": [
    "for col in dict1:\n",
    "    print (dict1[col])"
   ]
  },
  {
   "cell_type": "code",
   "execution_count": null,
   "metadata": {
    "colab": {
     "base_uri": "https://localhost:8080/"
    },
    "executionInfo": {
     "elapsed": 647,
     "status": "ok",
     "timestamp": 1617789650395,
     "user": {
      "displayName": "Sərxan Əhmədli",
      "photoUrl": "https://lh3.googleusercontent.com/a-/AOh14GgzNdNktu6hN-v8sI0do1embvEZksrB9nbb8k9k=s64",
      "userId": "12519277191260983946"
     },
     "user_tz": -240
    },
    "id": "ZThHQbTHA3g7",
    "outputId": "ec5e5f2d-aae0-4fc3-e63a-5732901456b5"
   },
   "outputs": [
    {
     "name": "stdout",
     "output_type": "stream",
     "text": [
      "name Jafar\n",
      "surname Jafarov\n",
      "age 21\n",
      "gender Male\n"
     ]
    }
   ],
   "source": [
    "for col, name in dict1.items():\n",
    "    print (col, name)"
   ]
  },
  {
   "cell_type": "code",
   "execution_count": null,
   "metadata": {
    "colab": {
     "base_uri": "https://localhost:8080/"
    },
    "executionInfo": {
     "elapsed": 665,
     "status": "ok",
     "timestamp": 1617789664309,
     "user": {
      "displayName": "Sərxan Əhmədli",
      "photoUrl": "https://lh3.googleusercontent.com/a-/AOh14GgzNdNktu6hN-v8sI0do1embvEZksrB9nbb8k9k=s64",
      "userId": "12519277191260983946"
     },
     "user_tz": -240
    },
    "id": "Lh6h4xT2A3g-",
    "outputId": "30580875-5420-4e69-ab4a-722c0d4664a2"
   },
   "outputs": [
    {
     "data": {
      "text/plain": [
       "21"
      ]
     },
     "execution_count": 57,
     "metadata": {
      "tags": []
     },
     "output_type": "execute_result"
    }
   ],
   "source": [
    "dict1.pop(\"age\")"
   ]
  },
  {
   "cell_type": "code",
   "execution_count": null,
   "metadata": {
    "colab": {
     "base_uri": "https://localhost:8080/"
    },
    "executionInfo": {
     "elapsed": 688,
     "status": "ok",
     "timestamp": 1617789667775,
     "user": {
      "displayName": "Sərxan Əhmədli",
      "photoUrl": "https://lh3.googleusercontent.com/a-/AOh14GgzNdNktu6hN-v8sI0do1embvEZksrB9nbb8k9k=s64",
      "userId": "12519277191260983946"
     },
     "user_tz": -240
    },
    "id": "9fQ8WXjBA3g_",
    "outputId": "565dae70-712f-449b-d6da-fe5f12e4ab58"
   },
   "outputs": [
    {
     "data": {
      "text/plain": [
       "dict_keys(['name', 'surname', 'gender'])"
      ]
     },
     "execution_count": 58,
     "metadata": {
      "tags": []
     },
     "output_type": "execute_result"
    }
   ],
   "source": [
    "dict1.keys()"
   ]
  },
  {
   "cell_type": "code",
   "execution_count": null,
   "metadata": {
    "colab": {
     "base_uri": "https://localhost:8080/"
    },
    "executionInfo": {
     "elapsed": 686,
     "status": "ok",
     "timestamp": 1617789670639,
     "user": {
      "displayName": "Sərxan Əhmədli",
      "photoUrl": "https://lh3.googleusercontent.com/a-/AOh14GgzNdNktu6hN-v8sI0do1embvEZksrB9nbb8k9k=s64",
      "userId": "12519277191260983946"
     },
     "user_tz": -240
    },
    "id": "Mj3a8DmwA3g_",
    "outputId": "a2e76a9e-bda2-4313-cbe2-5903ab3b8454"
   },
   "outputs": [
    {
     "data": {
      "text/plain": [
       "dict_values(['Jafar', 'Jafarov', 'Male'])"
      ]
     },
     "execution_count": 59,
     "metadata": {
      "tags": []
     },
     "output_type": "execute_result"
    }
   ],
   "source": [
    "dict1.values()"
   ]
  },
  {
   "cell_type": "code",
   "execution_count": null,
   "metadata": {
    "colab": {
     "base_uri": "https://localhost:8080/"
    },
    "executionInfo": {
     "elapsed": 684,
     "status": "ok",
     "timestamp": 1617789690701,
     "user": {
      "displayName": "Sərxan Əhmədli",
      "photoUrl": "https://lh3.googleusercontent.com/a-/AOh14GgzNdNktu6hN-v8sI0do1embvEZksrB9nbb8k9k=s64",
      "userId": "12519277191260983946"
     },
     "user_tz": -240
    },
    "id": "pttSlpp4A3g_",
    "outputId": "13857317-6424-4ead-9471-77c894bbdeee"
   },
   "outputs": [
    {
     "data": {
      "text/plain": [
       "dict_items([('name', 'Jafar'), ('surname', 'Jafarov'), ('gender', 'Male')])"
      ]
     },
     "execution_count": 60,
     "metadata": {
      "tags": []
     },
     "output_type": "execute_result"
    }
   ],
   "source": [
    "dict1.items()"
   ]
  },
  {
   "cell_type": "code",
   "execution_count": null,
   "metadata": {
    "id": "UgYdN-bBA3g_"
   },
   "outputs": [],
   "source": [
    "del dict1[\"name\"]"
   ]
  },
  {
   "cell_type": "code",
   "execution_count": null,
   "metadata": {
    "colab": {
     "base_uri": "https://localhost:8080/"
    },
    "executionInfo": {
     "elapsed": 573,
     "status": "ok",
     "timestamp": 1617789700301,
     "user": {
      "displayName": "Sərxan Əhmədli",
      "photoUrl": "https://lh3.googleusercontent.com/a-/AOh14GgzNdNktu6hN-v8sI0do1embvEZksrB9nbb8k9k=s64",
      "userId": "12519277191260983946"
     },
     "user_tz": -240
    },
    "id": "jzMaGA7HA3hA",
    "outputId": "2b0de6a4-cfde-4fda-a698-eebd14ae4c91"
   },
   "outputs": [
    {
     "data": {
      "text/plain": [
       "{'gender': 'Male', 'surname': 'Jafarov'}"
      ]
     },
     "execution_count": 62,
     "metadata": {
      "tags": []
     },
     "output_type": "execute_result"
    }
   ],
   "source": [
    "dict1"
   ]
  },
  {
   "cell_type": "code",
   "execution_count": null,
   "metadata": {
    "colab": {
     "base_uri": "https://localhost:8080/"
    },
    "executionInfo": {
     "elapsed": 687,
     "status": "ok",
     "timestamp": 1617789705801,
     "user": {
      "displayName": "Sərxan Əhmədli",
      "photoUrl": "https://lh3.googleusercontent.com/a-/AOh14GgzNdNktu6hN-v8sI0do1embvEZksrB9nbb8k9k=s64",
      "userId": "12519277191260983946"
     },
     "user_tz": -240
    },
    "id": "48ry64DeA3hA",
    "outputId": "b2a81bfe-ea3e-4f8a-e720-ef67a021e093"
   },
   "outputs": [
    {
     "data": {
      "text/plain": [
       "{'gender': 'Male', 'surname': 'Jafarov'}"
      ]
     },
     "execution_count": 63,
     "metadata": {
      "tags": []
     },
     "output_type": "execute_result"
    }
   ],
   "source": [
    "dict2 = dict1.copy()\n",
    "\n",
    "dict2"
   ]
  },
  {
   "cell_type": "code",
   "execution_count": null,
   "metadata": {
    "id": "guJlgggMA3hA"
   },
   "outputs": [],
   "source": [
    "students = {\n",
    "    \"student1\":{\n",
    "        \"name\":\"Jafar\",\n",
    "        \"surname\" : \"Jafarov\"\n",
    "    },\n",
    "    \"student2\":{\n",
    "        \"name\": \"Ali\",\n",
    "        \"surname\": \"Aliyev\"\n",
    "    },\n",
    "    \"student3\":{\n",
    "        \"name\": \"Karim\",\n",
    "        \"surname\": \"Karimov\"\n",
    "    }\n",
    "}"
   ]
  },
  {
   "cell_type": "code",
   "execution_count": null,
   "metadata": {
    "id": "wxsHj1SjA3hA"
   },
   "outputs": [],
   "source": [
    "student4 = {\n",
    "    \"name\": \"Ayan\"\n",
    "}"
   ]
  },
  {
   "cell_type": "code",
   "execution_count": null,
   "metadata": {
    "id": "i5KiLSkBA3hA"
   },
   "outputs": [],
   "source": [
    "students[\"student4\"] = student4"
   ]
  },
  {
   "cell_type": "code",
   "execution_count": null,
   "metadata": {
    "id": "gSqvATLwA3hA",
    "outputId": "6d51bfb7-061a-4d22-cabd-b9aa40f59341"
   },
   "outputs": [
    {
     "data": {
      "text/plain": [
       "{'student1': {'name': 'Jafar', 'surname': 'Jafarov'},\n",
       " 'student2': {'name': 'Ali', 'surname': 'Aliyev'},\n",
       " 'student3': {'name': 'Karim', 'surname': 'Karimov'},\n",
       " 'student4': {'name': 'Ayan'}}"
      ]
     },
     "execution_count": 119,
     "metadata": {
      "tags": []
     },
     "output_type": "execute_result"
    }
   ],
   "source": [
    "students"
   ]
  },
  {
   "cell_type": "code",
   "execution_count": null,
   "metadata": {
    "id": "-q1SQEI-A3hB"
   },
   "outputs": [],
   "source": [
    "cars = dict(brand=\"Ford\", model=\"Mustang\", year=1964)"
   ]
  },
  {
   "cell_type": "code",
   "execution_count": null,
   "metadata": {
    "id": "ZTPZhx3zA3hB",
    "outputId": "f06f4140-06ac-4356-f284-5da9930be1f3"
   },
   "outputs": [
    {
     "data": {
      "text/plain": [
       "{'brand': 'Ford', 'model': 'Mustang', 'year': 1964}"
      ]
     },
     "execution_count": 121,
     "metadata": {
      "tags": []
     },
     "output_type": "execute_result"
    }
   ],
   "source": [
    "cars"
   ]
  },
  {
   "cell_type": "code",
   "execution_count": null,
   "metadata": {
    "id": "yVPUeD68A3hB",
    "outputId": "1e36c67c-d53f-48db-cc77-6705d27faef9"
   },
   "outputs": [
    {
     "data": {
      "text/plain": [
       "'Ford'"
      ]
     },
     "execution_count": 122,
     "metadata": {
      "tags": []
     },
     "output_type": "execute_result"
    }
   ],
   "source": [
    "cars.get(\"brand\")"
   ]
  },
  {
   "cell_type": "markdown",
   "metadata": {
    "id": "Dxk-YWjqA3hB"
   },
   "source": [
    "## Tuple"
   ]
  },
  {
   "cell_type": "code",
   "execution_count": null,
   "metadata": {
    "id": "Z4dLox_FA3hB"
   },
   "outputs": [],
   "source": [
    "books = (\"Anna Karenina\", \"Idiot\", \"Crime and Punishment\")"
   ]
  },
  {
   "cell_type": "code",
   "execution_count": null,
   "metadata": {
    "colab": {
     "base_uri": "https://localhost:8080/"
    },
    "executionInfo": {
     "elapsed": 2314,
     "status": "ok",
     "timestamp": 1617226763135,
     "user": {
      "displayName": "Sərxan Əhmədli",
      "photoUrl": "https://lh3.googleusercontent.com/a-/AOh14GgzNdNktu6hN-v8sI0do1embvEZksrB9nbb8k9k=s64",
      "userId": "12519277191260983946"
     },
     "user_tz": -240
    },
    "id": "dPEDEhSNA3hC",
    "outputId": "17ef4b7c-0932-4b28-8d5c-38b0017152ae"
   },
   "outputs": [
    {
     "data": {
      "text/plain": [
       "('Anna Karenina', 'Idiot', 'Crime and Punishment')"
      ]
     },
     "execution_count": 2,
     "metadata": {
      "tags": []
     },
     "output_type": "execute_result"
    }
   ],
   "source": [
    "books"
   ]
  },
  {
   "cell_type": "code",
   "execution_count": null,
   "metadata": {
    "colab": {
     "base_uri": "https://localhost:8080/",
     "height": 35
    },
    "executionInfo": {
     "elapsed": 2302,
     "status": "ok",
     "timestamp": 1617226763141,
     "user": {
      "displayName": "Sərxan Əhmədli",
      "photoUrl": "https://lh3.googleusercontent.com/a-/AOh14GgzNdNktu6hN-v8sI0do1embvEZksrB9nbb8k9k=s64",
      "userId": "12519277191260983946"
     },
     "user_tz": -240
    },
    "id": "Up3tRmGVA3hC",
    "outputId": "8f1bd493-d6bb-4d77-9d06-641a44c53189"
   },
   "outputs": [
    {
     "data": {
      "application/vnd.google.colaboratory.intrinsic+json": {
       "type": "string"
      },
      "text/plain": [
       "'Idiot'"
      ]
     },
     "execution_count": 3,
     "metadata": {
      "tags": []
     },
     "output_type": "execute_result"
    }
   ],
   "source": [
    "books[1]"
   ]
  },
  {
   "cell_type": "code",
   "execution_count": null,
   "metadata": {
    "colab": {
     "base_uri": "https://localhost:8080/",
     "height": 163
    },
    "executionInfo": {
     "elapsed": 880,
     "status": "error",
     "timestamp": 1617793355516,
     "user": {
      "displayName": "Sərxan Əhmədli",
      "photoUrl": "https://lh3.googleusercontent.com/a-/AOh14GgzNdNktu6hN-v8sI0do1embvEZksrB9nbb8k9k=s64",
      "userId": "12519277191260983946"
     },
     "user_tz": -240
    },
    "id": "wRHf417lA3hC",
    "outputId": "80c24b49-205d-45de-8ab3-a62451832060"
   },
   "outputs": [
    {
     "ename": "NameError",
     "evalue": "ignored",
     "output_type": "error",
     "traceback": [
      "\u001b[0;31m---------------------------------------------------------------------------\u001b[0m",
      "\u001b[0;31mNameError\u001b[0m                                 Traceback (most recent call last)",
      "\u001b[0;32m<ipython-input-68-dc799be84f5f>\u001b[0m in \u001b[0;36m<module>\u001b[0;34m()\u001b[0m\n\u001b[0;32m----> 1\u001b[0;31m \u001b[0mbooks\u001b[0m\u001b[0;34m[\u001b[0m\u001b[0;36m2\u001b[0m\u001b[0;34m]\u001b[0m \u001b[0;34m=\u001b[0m \u001b[0;34m\"Brothers Karamazov\"\u001b[0m\u001b[0;34m\u001b[0m\u001b[0;34m\u001b[0m\u001b[0m\n\u001b[0m",
      "\u001b[0;31mNameError\u001b[0m: name 'books' is not defined"
     ]
    }
   ],
   "source": [
    "books[2] = \"Brothers Karamazov\""
   ]
  },
  {
   "cell_type": "code",
   "execution_count": null,
   "metadata": {
    "colab": {
     "base_uri": "https://localhost:8080/",
     "height": 163
    },
    "executionInfo": {
     "elapsed": 910,
     "status": "error",
     "timestamp": 1617474820613,
     "user": {
      "displayName": "Sərxan Əhmədli",
      "photoUrl": "https://lh3.googleusercontent.com/a-/AOh14GgzNdNktu6hN-v8sI0do1embvEZksrB9nbb8k9k=s64",
      "userId": "12519277191260983946"
     },
     "user_tz": -240
    },
    "id": "UgRs15JdA3hC",
    "outputId": "6bed9c5b-423e-4896-c9a9-aceddf3f6699"
   },
   "outputs": [
    {
     "ename": "NameError",
     "evalue": "ignored",
     "output_type": "error",
     "traceback": [
      "\u001b[0;31m---------------------------------------------------------------------------\u001b[0m",
      "\u001b[0;31mNameError\u001b[0m                                 Traceback (most recent call last)",
      "\u001b[0;32m<ipython-input-2-fc4b3db4ab25>\u001b[0m in \u001b[0;36m<module>\u001b[0;34m()\u001b[0m\n\u001b[0;32m----> 1\u001b[0;31m \u001b[0mbooks_list\u001b[0m \u001b[0;34m=\u001b[0m \u001b[0mlist\u001b[0m\u001b[0;34m(\u001b[0m\u001b[0mbooks\u001b[0m\u001b[0;34m)\u001b[0m\u001b[0;34m\u001b[0m\u001b[0;34m\u001b[0m\u001b[0m\n\u001b[0m",
      "\u001b[0;31mNameError\u001b[0m: name 'books' is not defined"
     ]
    }
   ],
   "source": [
    "books_list = list(books)"
   ]
  },
  {
   "cell_type": "code",
   "execution_count": null,
   "metadata": {
    "colab": {
     "base_uri": "https://localhost:8080/",
     "height": 163
    },
    "executionInfo": {
     "elapsed": 3785,
     "status": "error",
     "timestamp": 1617474891673,
     "user": {
      "displayName": "Sərxan Əhmədli",
      "photoUrl": "https://lh3.googleusercontent.com/a-/AOh14GgzNdNktu6hN-v8sI0do1embvEZksrB9nbb8k9k=s64",
      "userId": "12519277191260983946"
     },
     "user_tz": -240
    },
    "id": "b0vLeMg-A3hC",
    "outputId": "45cf26f9-6228-4544-c715-aee1400fe771"
   },
   "outputs": [
    {
     "ename": "NameError",
     "evalue": "ignored",
     "output_type": "error",
     "traceback": [
      "\u001b[0;31m---------------------------------------------------------------------------\u001b[0m",
      "\u001b[0;31mNameError\u001b[0m                                 Traceback (most recent call last)",
      "\u001b[0;32m<ipython-input-3-87ea751ac0f9>\u001b[0m in \u001b[0;36m<module>\u001b[0;34m()\u001b[0m\n\u001b[0;32m----> 1\u001b[0;31m \u001b[0mbooks_list\u001b[0m\u001b[0;34m\u001b[0m\u001b[0;34m\u001b[0m\u001b[0m\n\u001b[0m",
      "\u001b[0;31mNameError\u001b[0m: name 'books_list' is not defined"
     ]
    }
   ],
   "source": [
    "books_list"
   ]
  },
  {
   "cell_type": "code",
   "execution_count": null,
   "metadata": {
    "id": "OLBv0BygA3hD"
   },
   "outputs": [],
   "source": [
    "books_list[2]= \"Brothers Karamazov\""
   ]
  },
  {
   "cell_type": "code",
   "execution_count": null,
   "metadata": {
    "id": "4_maYAZ-A3hD"
   },
   "outputs": [],
   "source": [
    "books = tuple(books_list)"
   ]
  },
  {
   "cell_type": "code",
   "execution_count": null,
   "metadata": {
    "colab": {
     "base_uri": "https://localhost:8080/"
    },
    "executionInfo": {
     "elapsed": 1482,
     "status": "ok",
     "timestamp": 1617226800251,
     "user": {
      "displayName": "Sərxan Əhmədli",
      "photoUrl": "https://lh3.googleusercontent.com/a-/AOh14GgzNdNktu6hN-v8sI0do1embvEZksrB9nbb8k9k=s64",
      "userId": "12519277191260983946"
     },
     "user_tz": -240
    },
    "id": "qptIkMv5A3hD",
    "outputId": "9b1c4ef5-4e31-4258-c720-a4903258b134"
   },
   "outputs": [
    {
     "data": {
      "text/plain": [
       "('Anna Karenina', 'Idiot', 'Crime and Punishment')"
      ]
     },
     "execution_count": 5,
     "metadata": {
      "tags": []
     },
     "output_type": "execute_result"
    }
   ],
   "source": [
    "books"
   ]
  },
  {
   "cell_type": "markdown",
   "metadata": {
    "id": "HM4fAzcIA3hD"
   },
   "source": [
    "## if...else"
   ]
  },
  {
   "cell_type": "code",
   "execution_count": null,
   "metadata": {
    "id": "URV1FvIYA3hD",
    "outputId": "b9906fc3-eaff-46a7-b77f-d1216a90417c"
   },
   "outputs": [
    {
     "name": "stdout",
     "output_type": "stream",
     "text": [
      "Not True\n"
     ]
    }
   ],
   "source": [
    "if a>b:\n",
    "    print(\"True\")\n",
    "else:\n",
    "    print(\"Not True\")"
   ]
  },
  {
   "cell_type": "code",
   "execution_count": null,
   "metadata": {
    "id": "Dkraf_IRA3hE"
   },
   "outputs": [],
   "source": [
    "a=b=10"
   ]
  },
  {
   "cell_type": "code",
   "execution_count": null,
   "metadata": {
    "id": "iWURpppJA3hE",
    "outputId": "a5194dc7-9007-4d4d-a1bd-326106b06940"
   },
   "outputs": [
    {
     "name": "stdout",
     "output_type": "stream",
     "text": [
      "Equal\n"
     ]
    }
   ],
   "source": [
    "if a>b:\n",
    "    print(\"True\")\n",
    "elif a<b:\n",
    "    print(\"Not True\")\n",
    "else:\n",
    "    print(\"Equal\")"
   ]
  },
  {
   "cell_type": "code",
   "execution_count": null,
   "metadata": {
    "id": "dmX6vK7zA3hE"
   },
   "outputs": [],
   "source": [
    "b = 20"
   ]
  },
  {
   "cell_type": "code",
   "execution_count": null,
   "metadata": {
    "id": "qQldqfkQA3hE",
    "outputId": "bff4aaf6-f3b0-4bd8-d908-964303a683c6"
   },
   "outputs": [
    {
     "name": "stdout",
     "output_type": "stream",
     "text": [
      "Not equal\n"
     ]
    }
   ],
   "source": [
    "if a>b or a<b:\n",
    "    print(\"Not equal\")\n"
   ]
  },
  {
   "cell_type": "markdown",
   "metadata": {
    "id": "-Y7SUrOOA3hE"
   },
   "source": [
    "## for loop"
   ]
  },
  {
   "cell_type": "code",
   "execution_count": null,
   "metadata": {
    "id": "4w2eZSctA3hE"
   },
   "outputs": [],
   "source": [
    "list1 = [1,2,3,4,5,6,7,8,9,10]"
   ]
  },
  {
   "cell_type": "code",
   "execution_count": null,
   "metadata": {
    "colab": {
     "base_uri": "https://localhost:8080/"
    },
    "executionInfo": {
     "elapsed": 1373,
     "status": "ok",
     "timestamp": 1617464306218,
     "user": {
      "displayName": "Sərxan Əhmədli",
      "photoUrl": "https://lh3.googleusercontent.com/a-/AOh14GgzNdNktu6hN-v8sI0do1embvEZksrB9nbb8k9k=s64",
      "userId": "12519277191260983946"
     },
     "user_tz": -240
    },
    "id": "ly90SP2hA3hF",
    "outputId": "150fc1db-654e-4e44-b16b-4184ff02546a"
   },
   "outputs": [
    {
     "name": "stdout",
     "output_type": "stream",
     "text": [
      "1\n",
      "2\n",
      "3\n",
      "4\n",
      "5\n",
      "6\n",
      "7\n",
      "8\n",
      "9\n",
      "10\n"
     ]
    }
   ],
   "source": [
    "for a in list1:\n",
    "\n",
    "    print(a)"
   ]
  },
  {
   "cell_type": "code",
   "execution_count": null,
   "metadata": {
    "colab": {
     "base_uri": "https://localhost:8080/"
    },
    "executionInfo": {
     "elapsed": 3019,
     "status": "ok",
     "timestamp": 1617464298791,
     "user": {
      "displayName": "Sərxan Əhmədli",
      "photoUrl": "https://lh3.googleusercontent.com/a-/AOh14GgzNdNktu6hN-v8sI0do1embvEZksrB9nbb8k9k=s64",
      "userId": "12519277191260983946"
     },
     "user_tz": -240
    },
    "id": "APlgq9PkA3hF",
    "outputId": "0ca81451-6b13-454f-b14d-5936b8057fc9"
   },
   "outputs": [
    {
     "name": "stdout",
     "output_type": "stream",
     "text": [
      "0\n",
      "1\n",
      "2\n",
      "3\n",
      "4\n",
      "5\n",
      "6\n",
      "7\n",
      "8\n",
      "9\n"
     ]
    }
   ],
   "source": [
    "for i in range(10):\n",
    "    print(i)"
   ]
  },
  {
   "cell_type": "code",
   "execution_count": null,
   "metadata": {
    "colab": {
     "base_uri": "https://localhost:8080/"
    },
    "executionInfo": {
     "elapsed": 3011,
     "status": "ok",
     "timestamp": 1617464298792,
     "user": {
      "displayName": "Sərxan Əhmədli",
      "photoUrl": "https://lh3.googleusercontent.com/a-/AOh14GgzNdNktu6hN-v8sI0do1embvEZksrB9nbb8k9k=s64",
      "userId": "12519277191260983946"
     },
     "user_tz": -240
    },
    "id": "Djwg_rr_A3hF",
    "outputId": "5ccf5781-42fd-421a-decf-a8dc52ad6b8d"
   },
   "outputs": [
    {
     "name": "stdout",
     "output_type": "stream",
     "text": [
      "6\n",
      "7\n",
      "8\n",
      "9\n",
      "10\n"
     ]
    }
   ],
   "source": [
    "for a in list1:\n",
    "    if a>5:\n",
    "        print(a)"
   ]
  },
  {
   "cell_type": "code",
   "execution_count": null,
   "metadata": {
    "colab": {
     "base_uri": "https://localhost:8080/"
    },
    "executionInfo": {
     "elapsed": 3005,
     "status": "ok",
     "timestamp": 1617464298793,
     "user": {
      "displayName": "Sərxan Əhmədli",
      "photoUrl": "https://lh3.googleusercontent.com/a-/AOh14GgzNdNktu6hN-v8sI0do1embvEZksrB9nbb8k9k=s64",
      "userId": "12519277191260983946"
     },
     "user_tz": -240
    },
    "id": "hkEj1qn_A3hF",
    "outputId": "9721c659-d149-4abd-9903-e7ba959d6e8b"
   },
   "outputs": [
    {
     "name": "stdout",
     "output_type": "stream",
     "text": [
      "1\n",
      "2\n",
      "3\n",
      "4\n",
      "5\n"
     ]
    }
   ],
   "source": [
    "for a in list1:\n",
    "    if a>5:\n",
    "        break\n",
    "    print(a)"
   ]
  },
  {
   "cell_type": "markdown",
   "metadata": {
    "id": "OpuhoLyyA3hG"
   },
   "source": [
    "## Function"
   ]
  },
  {
   "cell_type": "code",
   "execution_count": null,
   "metadata": {
    "id": "9AXlr1W2A3hG"
   },
   "outputs": [],
   "source": [
    "def multiply(a,b):\n",
    "    print(a*b)"
   ]
  },
  {
   "cell_type": "code",
   "execution_count": null,
   "metadata": {
    "id": "_qD9LPpPA3hG",
    "outputId": "6ff168a8-295f-4b50-8e25-b440e3a0c983"
   },
   "outputs": [
    {
     "ename": "TypeError",
     "evalue": "multiply() missing 1 required positional argument: 'b'",
     "output_type": "error",
     "traceback": [
      "\u001b[1;31m---------------------------------------------------------------------------\u001b[0m",
      "\u001b[1;31mTypeError\u001b[0m                                 Traceback (most recent call last)",
      "\u001b[1;32m<ipython-input-12-2c6878ea64f0>\u001b[0m in \u001b[0;36m<module>\u001b[1;34m\u001b[0m\n\u001b[1;32m----> 1\u001b[1;33m \u001b[0mmultiply\u001b[0m\u001b[1;33m(\u001b[0m\u001b[1;36m5\u001b[0m\u001b[1;33m)\u001b[0m\u001b[1;33m\u001b[0m\u001b[1;33m\u001b[0m\u001b[0m\n\u001b[0m",
      "\u001b[1;31mTypeError\u001b[0m: multiply() missing 1 required positional argument: 'b'"
     ]
    }
   ],
   "source": [
    "multiply(5)"
   ]
  },
  {
   "cell_type": "code",
   "execution_count": null,
   "metadata": {
    "id": "n8j753ZXA3hG",
    "outputId": "3115db6e-87f8-4cd8-fd9b-8d2848990e71"
   },
   "outputs": [
    {
     "name": "stdout",
     "output_type": "stream",
     "text": [
      "24\n"
     ]
    }
   ],
   "source": [
    "multiply(6,4)"
   ]
  },
  {
   "cell_type": "code",
   "execution_count": null,
   "metadata": {
    "id": "j6vNGAT0A3hH"
   },
   "outputs": [],
   "source": [
    "def itearate(list):\n",
    "    for a in list:\n",
    "        print (a)"
   ]
  },
  {
   "cell_type": "code",
   "execution_count": null,
   "metadata": {
    "id": "GtDZBXcGA3hH",
    "outputId": "1067b57b-187a-4ee6-b224-f7ea4c66746c"
   },
   "outputs": [
    {
     "name": "stdout",
     "output_type": "stream",
     "text": [
      "1\n",
      "2\n",
      "3\n",
      "4\n",
      "5\n",
      "6\n",
      "7\n",
      "8\n",
      "9\n",
      "10\n"
     ]
    }
   ],
   "source": [
    "iterate(list1)"
   ]
  },
  {
   "cell_type": "markdown",
   "metadata": {
    "id": "_f0XiF5zA3hI"
   },
   "source": [
    "## Statistics"
   ]
  },
  {
   "cell_type": "code",
   "execution_count": null,
   "metadata": {
    "id": "FO-JB0zAA3hI"
   },
   "outputs": [],
   "source": [
    "import pandas as pd"
   ]
  },
  {
   "cell_type": "code",
   "execution_count": null,
   "metadata": {
    "id": "H-jLSOqeA3hJ"
   },
   "outputs": [],
   "source": [
    "df = pd.read_csv('weight-height.csv')"
   ]
  },
  {
   "cell_type": "code",
   "execution_count": null,
   "metadata": {
    "colab": {
     "base_uri": "https://localhost:8080/",
     "height": 163
    },
    "executionInfo": {
     "elapsed": 898,
     "status": "error",
     "timestamp": 1617464819744,
     "user": {
      "displayName": "Sərxan Əhmədli",
      "photoUrl": "https://lh3.googleusercontent.com/a-/AOh14GgzNdNktu6hN-v8sI0do1embvEZksrB9nbb8k9k=s64",
      "userId": "12519277191260983946"
     },
     "user_tz": -240
    },
    "id": "vyNUt4IqA3hJ",
    "outputId": "44d19a5b-7fe3-4795-bebd-acf6049d622c"
   },
   "outputs": [
    {
     "ename": "NameError",
     "evalue": "ignored",
     "output_type": "error",
     "traceback": [
      "\u001b[0;31m---------------------------------------------------------------------------\u001b[0m",
      "\u001b[0;31mNameError\u001b[0m                                 Traceback (most recent call last)",
      "\u001b[0;32m<ipython-input-8-c42a15b2c7cf>\u001b[0m in \u001b[0;36m<module>\u001b[0;34m()\u001b[0m\n\u001b[0;32m----> 1\u001b[0;31m \u001b[0mdf\u001b[0m\u001b[0;34m.\u001b[0m\u001b[0mhead\u001b[0m\u001b[0;34m(\u001b[0m\u001b[0;34m)\u001b[0m\u001b[0;34m\u001b[0m\u001b[0;34m\u001b[0m\u001b[0m\n\u001b[0m",
      "\u001b[0;31mNameError\u001b[0m: name 'df' is not defined"
     ]
    }
   ],
   "source": [
    "df.head()"
   ]
  },
  {
   "cell_type": "code",
   "execution_count": null,
   "metadata": {
    "id": "PbianCEMA3hJ"
   },
   "outputs": [],
   "source": [
    "import statistics as st"
   ]
  },
  {
   "cell_type": "code",
   "execution_count": null,
   "metadata": {
    "id": "LutsYNPtA3hK"
   },
   "outputs": [],
   "source": [
    "data = df['Height'].tolist()"
   ]
  },
  {
   "cell_type": "code",
   "execution_count": null,
   "metadata": {
    "id": "qyiEQ4ZGA3hK",
    "outputId": "b9e827ec-158c-48d6-c4e6-cfc1f4e93514"
   },
   "outputs": [
    {
     "data": {
      "text/plain": [
       "[73.84701702,\n",
       " 68.78190405,\n",
       " 74.11010539,\n",
       " 71.73097840000001,\n",
       " 69.88179586,\n",
       " 67.25301569,\n",
       " 68.78508125,\n",
       " 68.34851551,\n",
       " 67.01894966,\n",
       " 63.45649398,\n",
       " 71.19538228,\n",
       " 71.64080512,\n",
       " 64.76632913,\n",
       " 69.28307009999999,\n",
       " 69.24373223,\n",
       " 67.6456197,\n",
       " 72.41831663,\n",
       " 63.97432572,\n",
       " 69.64005990000001,\n",
       " 67.93600485,\n",
       " 67.91505019,\n",
       " 69.43943987,\n",
       " 66.14913196,\n",
       " 75.20597361,\n",
       " 67.89319634,\n",
       " 68.14403279999999,\n",
       " 69.08963143,\n",
       " 72.80084352,\n",
       " 67.42124228,\n",
       " 68.49641536,\n",
       " 68.61811055,\n",
       " 74.03380762,\n",
       " 71.52821604,\n",
       " 69.18016109999999,\n",
       " 69.57720237,\n",
       " 70.40092889,\n",
       " 69.07617117,\n",
       " 67.19352328,\n",
       " 65.80731565,\n",
       " 64.30418789,\n",
       " 67.97433623,\n",
       " 72.18942596,\n",
       " 65.27034552,\n",
       " 66.09017738,\n",
       " 67.51032152,\n",
       " 70.10478626,\n",
       " 68.25183644,\n",
       " 72.17270912,\n",
       " 69.17985762,\n",
       " 72.87036015,\n",
       " 64.78258298,\n",
       " 70.18354989,\n",
       " 68.49145025,\n",
       " 67.33083088,\n",
       " 66.99094408,\n",
       " 66.49954989999999,\n",
       " 68.35305665,\n",
       " 70.77445907,\n",
       " 71.21592367,\n",
       " 70.01336535,\n",
       " 71.40318222,\n",
       " 69.55200509,\n",
       " 73.81853456,\n",
       " 66.99688275,\n",
       " 71.41846589,\n",
       " 65.27930021,\n",
       " 68.27419147,\n",
       " 72.76536995,\n",
       " 68.0993798,\n",
       " 68.89670607,\n",
       " 69.28950996,\n",
       " 70.52322452,\n",
       " 69.66372523,\n",
       " 67.59526881,\n",
       " 72.50812038,\n",
       " 71.25298559999999,\n",
       " 71.80918689,\n",
       " 72.24516548,\n",
       " 66.51262766,\n",
       " 66.029034,\n",
       " 67.57715394,\n",
       " 68.2465686,\n",
       " 73.826127,\n",
       " 69.80246436,\n",
       " 65.95957778,\n",
       " 71.07901758,\n",
       " 66.59619654,\n",
       " 68.95153509,\n",
       " 68.24446179,\n",
       " 72.31682512,\n",
       " 71.81542045,\n",
       " 65.23704952,\n",
       " 70.64053009,\n",
       " 64.73192560000001,\n",
       " 67.10355118,\n",
       " 65.11748489,\n",
       " 71.70123402,\n",
       " 66.83287821,\n",
       " 66.47127526,\n",
       " 69.41152622,\n",
       " 70.05217747,\n",
       " 66.74360465,\n",
       " 66.27432912,\n",
       " 68.32844799,\n",
       " 70.0758882,\n",
       " 68.73298815,\n",
       " 67.55605126,\n",
       " 66.25363253,\n",
       " 69.18220268,\n",
       " 67.60910494,\n",
       " 69.29273802,\n",
       " 68.19068401,\n",
       " 71.60708580000001,\n",
       " 69.19685751,\n",
       " 67.26196098,\n",
       " 73.6851934,\n",
       " 69.53721501,\n",
       " 68.31155984,\n",
       " 67.73896347,\n",
       " 71.7057626,\n",
       " 63.632264600000006,\n",
       " 68.72119846,\n",
       " 66.94934165,\n",
       " 62.70698974,\n",
       " 72.25840892,\n",
       " 70.90865306,\n",
       " 67.6098436,\n",
       " 70.80155896,\n",
       " 69.30476905,\n",
       " 66.24289834,\n",
       " 67.49219298,\n",
       " 65.80624829,\n",
       " 71.44370566,\n",
       " 68.46440582,\n",
       " 63.98792460000001,\n",
       " 71.00189769,\n",
       " 68.13972419,\n",
       " 68.39540025,\n",
       " 68.09621975,\n",
       " 68.14059036,\n",
       " 68.86009031,\n",
       " 66.14885254,\n",
       " 66.20603205,\n",
       " 67.43212021,\n",
       " 69.47110603,\n",
       " 70.51585969,\n",
       " 71.33837604,\n",
       " 71.00194477,\n",
       " 66.20234771,\n",
       " 72.54330705,\n",
       " 67.47935176,\n",
       " 65.35041056,\n",
       " 70.84406242,\n",
       " 69.93847526,\n",
       " 64.73981548,\n",
       " 69.30840288,\n",
       " 68.83846286,\n",
       " 61.93732327,\n",
       " 68.59333554,\n",
       " 65.21857558,\n",
       " 64.33364811,\n",
       " 68.7489067,\n",
       " 72.4896554,\n",
       " 67.23393092,\n",
       " 67.26360484,\n",
       " 65.11850428,\n",
       " 66.26282004,\n",
       " 67.70167966,\n",
       " 65.53069597,\n",
       " 69.86896981,\n",
       " 68.48187536,\n",
       " 72.21396335,\n",
       " 68.17953269,\n",
       " 71.98120654,\n",
       " 66.06513673,\n",
       " 66.65616417,\n",
       " 67.59942420000002,\n",
       " 68.24594409,\n",
       " 64.80862144,\n",
       " 67.49221827,\n",
       " 68.18073071,\n",
       " 69.5533849,\n",
       " 66.40224967,\n",
       " 66.59215711,\n",
       " 71.93588658,\n",
       " 68.28704173,\n",
       " 69.9554512,\n",
       " 71.85112915,\n",
       " 65.75549864,\n",
       " 67.03185208,\n",
       " 76.70983486,\n",
       " 72.57112137,\n",
       " 69.72880490000001,\n",
       " 72.799224,\n",
       " 72.53935407,\n",
       " 72.29474338,\n",
       " 67.25332482,\n",
       " 75.94446038,\n",
       " 66.31623192,\n",
       " 71.15605349,\n",
       " 71.19220229,\n",
       " 72.19751201,\n",
       " 75.14082143,\n",
       " 64.41152936,\n",
       " 64.73442436,\n",
       " 63.41458714,\n",
       " 67.84866523,\n",
       " 65.93178483,\n",
       " 70.96655044,\n",
       " 67.58074728,\n",
       " 68.58927044,\n",
       " 70.32475344,\n",
       " 72.39448041,\n",
       " 70.82085671,\n",
       " 65.90330126,\n",
       " 74.79537502,\n",
       " 67.68091903,\n",
       " 67.15596277,\n",
       " 71.77484122,\n",
       " 64.66523194,\n",
       " 68.12276836,\n",
       " 66.78692724,\n",
       " 66.80584984,\n",
       " 67.88601379999999,\n",
       " 69.17357692,\n",
       " 70.22492333,\n",
       " 64.85579918,\n",
       " 67.82109327,\n",
       " 63.44024747,\n",
       " 71.84843485,\n",
       " 66.72807365,\n",
       " 71.96830565,\n",
       " 76.02134748,\n",
       " 71.47610128,\n",
       " 67.36980864,\n",
       " 70.55524376,\n",
       " 69.86710128,\n",
       " 67.94757004,\n",
       " 74.10455886,\n",
       " 69.1678363,\n",
       " 66.55722857,\n",
       " 66.70160499,\n",
       " 67.24606495,\n",
       " 69.05138548,\n",
       " 70.67274718,\n",
       " 65.49899512,\n",
       " 65.18722085,\n",
       " 67.56814301,\n",
       " 73.81538569,\n",
       " 71.60656421,\n",
       " 67.72474924,\n",
       " 68.23113195,\n",
       " 65.92942171,\n",
       " 71.54849571,\n",
       " 69.16438112,\n",
       " 68.59765932,\n",
       " 71.05751089,\n",
       " 63.64405958,\n",
       " 71.1824554,\n",
       " 66.12867317,\n",
       " 65.05737312,\n",
       " 68.09137436,\n",
       " 70.9931439,\n",
       " 74.22117488,\n",
       " 69.32711818,\n",
       " 64.93134219,\n",
       " 68.34684231,\n",
       " 70.92912508,\n",
       " 61.4778092,\n",
       " 68.49081272,\n",
       " 72.04988987,\n",
       " 72.52166703,\n",
       " 71.23391139,\n",
       " 72.25911519,\n",
       " 67.5650399,\n",
       " 72.26760699,\n",
       " 62.600248,\n",
       " 66.23643729,\n",
       " 69.65043741,\n",
       " 69.28592141,\n",
       " 70.72527874,\n",
       " 68.82861496,\n",
       " 66.01442823,\n",
       " 66.41488206,\n",
       " 66.61562439,\n",
       " 68.03482178,\n",
       " 70.50239804,\n",
       " 69.15772949,\n",
       " 70.79502261,\n",
       " 65.19437712,\n",
       " 74.78571432,\n",
       " 71.06690628,\n",
       " 69.33419779,\n",
       " 69.89920395,\n",
       " 64.42519379,\n",
       " 67.8521307,\n",
       " 67.54906949,\n",
       " 74.76744684,\n",
       " 71.41894599,\n",
       " 67.12034439,\n",
       " 69.85958791,\n",
       " 68.43081339,\n",
       " 67.93348261,\n",
       " 68.49534316,\n",
       " 65.24414341,\n",
       " 70.18535205,\n",
       " 71.10413316,\n",
       " 68.44757854,\n",
       " 65.42057682,\n",
       " 67.70078811,\n",
       " 74.22306306,\n",
       " 71.16724587,\n",
       " 67.23077189,\n",
       " 67.88055919,\n",
       " 67.37637547,\n",
       " 68.76124693,\n",
       " 71.70527249999999,\n",
       " 69.38099479,\n",
       " 73.71652763,\n",
       " 69.45337621,\n",
       " 70.78628981,\n",
       " 71.76846374,\n",
       " 69.34345396,\n",
       " 65.28602551,\n",
       " 70.92184441,\n",
       " 68.59666269,\n",
       " 68.60379643,\n",
       " 69.47874412,\n",
       " 65.93089621,\n",
       " 68.5233453,\n",
       " 73.92912413,\n",
       " 71.19793782,\n",
       " 66.55658687,\n",
       " 71.74227623,\n",
       " 69.74482933,\n",
       " 66.75065413,\n",
       " 69.69242226,\n",
       " 70.40351683,\n",
       " 69.01973611,\n",
       " 64.73228716,\n",
       " 70.99807444,\n",
       " 64.45981425,\n",
       " 69.74952258,\n",
       " 71.52684881,\n",
       " 68.32791586,\n",
       " 70.76472016,\n",
       " 71.41904963,\n",
       " 69.39047409,\n",
       " 72.00173222,\n",
       " 69.19147497,\n",
       " 66.16636328,\n",
       " 67.272143,\n",
       " 70.9158354,\n",
       " 69.11988779,\n",
       " 67.40902587,\n",
       " 72.93864904,\n",
       " 70.4909287,\n",
       " 69.00825946,\n",
       " 66.76210992,\n",
       " 69.12066373,\n",
       " 73.12626719,\n",
       " 67.4868239,\n",
       " 64.95507833,\n",
       " 67.78248907,\n",
       " 67.6623988,\n",
       " 66.47639701,\n",
       " 72.9870702,\n",
       " 69.56323228,\n",
       " 71.00356014,\n",
       " 69.91563736,\n",
       " 71.69714179,\n",
       " 67.64994086,\n",
       " 68.29555456,\n",
       " 68.68725567,\n",
       " 68.91577165,\n",
       " 68.96087967,\n",
       " 67.2472352,\n",
       " 68.91586364,\n",
       " 65.8385445,\n",
       " 64.67107555,\n",
       " 66.29589772,\n",
       " 67.09758575,\n",
       " 66.99828973,\n",
       " 70.9619709,\n",
       " 68.4208722,\n",
       " 67.65252759,\n",
       " 75.62019316,\n",
       " 70.54924202,\n",
       " 68.89083891,\n",
       " 68.28453192,\n",
       " 64.99507826,\n",
       " 65.57577154,\n",
       " 69.30608824,\n",
       " 65.70471542,\n",
       " 67.80399101,\n",
       " 69.21614731,\n",
       " 68.01500601,\n",
       " 61.92694894,\n",
       " 67.26636272,\n",
       " 67.67682185,\n",
       " 69.97090362,\n",
       " 65.31346154,\n",
       " 71.90600544,\n",
       " 66.23390404,\n",
       " 65.81494282,\n",
       " 72.84494786,\n",
       " 70.94944345,\n",
       " 71.34380763,\n",
       " 71.05566416,\n",
       " 61.92554729,\n",
       " 68.76245756,\n",
       " 67.58394143,\n",
       " 67.36169467,\n",
       " 65.87915656,\n",
       " 68.69476215,\n",
       " 69.53486155,\n",
       " 66.63469083,\n",
       " 69.80990157,\n",
       " 68.67987369,\n",
       " 71.61517875,\n",
       " 69.68979533,\n",
       " 70.90108637,\n",
       " 68.00581399,\n",
       " 70.61574398,\n",
       " 71.57119416,\n",
       " 73.01286326,\n",
       " 60.74811787,\n",
       " 69.08211963,\n",
       " 69.33873763,\n",
       " 67.75713771,\n",
       " 76.02708186,\n",
       " 72.22761616,\n",
       " 68.92104135,\n",
       " 65.33492768,\n",
       " 65.93240345,\n",
       " 70.46668931,\n",
       " 73.18104362,\n",
       " 68.55087969,\n",
       " 68.52940825,\n",
       " 63.59645542,\n",
       " 67.14424123,\n",
       " 70.81637062,\n",
       " 73.53028481,\n",
       " 66.14106892,\n",
       " 67.90684975,\n",
       " 71.43337582,\n",
       " 67.1126798,\n",
       " 73.28391797,\n",
       " 63.67258315,\n",
       " 69.22532029999999,\n",
       " 69.67012402,\n",
       " 70.48544817,\n",
       " 69.00467787,\n",
       " 68.45789401,\n",
       " 66.02473378,\n",
       " 69.31816913,\n",
       " 69.07774056,\n",
       " 73.56227037,\n",
       " 66.08768889,\n",
       " 73.52598433,\n",
       " 69.67906022,\n",
       " 66.67678112,\n",
       " 72.96166547,\n",
       " 68.24687214,\n",
       " 71.95662589,\n",
       " 71.05863335,\n",
       " 66.97694995,\n",
       " 68.47800208,\n",
       " 71.28444139,\n",
       " 64.98045629,\n",
       " 66.76188387,\n",
       " 68.76616172,\n",
       " 68.99254357,\n",
       " 71.2951946,\n",
       " 69.04947840000001,\n",
       " 66.54148202,\n",
       " 68.51552345,\n",
       " 67.45971531,\n",
       " 71.35738241,\n",
       " 68.59040604,\n",
       " 69.73608671,\n",
       " 69.83385707,\n",
       " 72.41058576,\n",
       " 65.43459687,\n",
       " 66.26765677,\n",
       " 69.97430087,\n",
       " 71.20919422,\n",
       " 69.93740019,\n",
       " 71.38602219,\n",
       " 64.58878167,\n",
       " 68.79298442,\n",
       " 68.44574673,\n",
       " 69.20157812,\n",
       " 69.42601731,\n",
       " 69.6062252,\n",
       " 72.88170697,\n",
       " 62.17833122,\n",
       " 68.87470662,\n",
       " 71.08008356,\n",
       " 72.18253412,\n",
       " 72.06275498,\n",
       " 67.38005789,\n",
       " 67.93463453,\n",
       " 70.80193026,\n",
       " 65.54912127,\n",
       " 70.19122448,\n",
       " 71.77899537,\n",
       " 68.13028842,\n",
       " 68.35948256,\n",
       " 66.09035701,\n",
       " 71.58012314,\n",
       " 73.53666772,\n",
       " 71.11553184,\n",
       " 70.79430255,\n",
       " 71.72906048,\n",
       " 63.19653037,\n",
       " 68.10111341,\n",
       " 65.85609973,\n",
       " 68.34645649999999,\n",
       " 69.56022893,\n",
       " 68.72830407,\n",
       " 70.15827765,\n",
       " 68.92333665,\n",
       " 64.30017420000001,\n",
       " 70.45563306,\n",
       " 68.62406319,\n",
       " 69.66475174,\n",
       " 69.05888454,\n",
       " 67.22698623,\n",
       " 66.11579969,\n",
       " 68.61738735,\n",
       " 69.24901281,\n",
       " 69.64190618,\n",
       " 72.79702836,\n",
       " 75.04399507,\n",
       " 70.97268413,\n",
       " 74.38801243,\n",
       " 64.36216387,\n",
       " 71.32700107,\n",
       " 67.17202444,\n",
       " 74.40167189,\n",
       " 63.86792096,\n",
       " 68.88599177,\n",
       " 72.13199022,\n",
       " 68.40372617,\n",
       " 65.09265639,\n",
       " 69.22967912,\n",
       " 71.94778826,\n",
       " 67.46299066,\n",
       " 69.31290864,\n",
       " 63.73104817,\n",
       " 60.6798174,\n",
       " 70.66332308,\n",
       " 67.59403113,\n",
       " 74.64950788,\n",
       " 70.46707885,\n",
       " 71.94401052,\n",
       " 74.02575081,\n",
       " 70.78222816,\n",
       " 64.72725696,\n",
       " 68.38302408,\n",
       " 71.4692208,\n",
       " 66.94445374,\n",
       " 70.79697900000001,\n",
       " 65.29243478,\n",
       " 61.75400983,\n",
       " 62.48067131,\n",
       " 67.80567987,\n",
       " 69.52599428,\n",
       " 72.50075663,\n",
       " 70.48529474,\n",
       " 66.68973599,\n",
       " 71.29191758,\n",
       " 71.7967672,\n",
       " 73.05634425,\n",
       " 68.85335437,\n",
       " 66.04544386,\n",
       " 73.98590142,\n",
       " 69.25161788,\n",
       " 69.34065722,\n",
       " 70.97626497,\n",
       " 63.56127763,\n",
       " 69.77015095,\n",
       " 65.18847756,\n",
       " 69.97894082,\n",
       " 69.75059715,\n",
       " 71.17143115,\n",
       " 70.57200178,\n",
       " 65.65108952,\n",
       " 67.13841414,\n",
       " 65.91808694,\n",
       " 73.78663644,\n",
       " 67.73725134,\n",
       " 65.54407625,\n",
       " 71.21391257,\n",
       " 65.59235403,\n",
       " 65.66755448,\n",
       " 61.97273588,\n",
       " 73.89993869,\n",
       " 72.34218364,\n",
       " 70.31169434,\n",
       " 67.11556435,\n",
       " 65.93248176,\n",
       " 67.22774502,\n",
       " 70.11434363,\n",
       " 74.84149972,\n",
       " 64.52730263,\n",
       " 70.05125469,\n",
       " 71.83316878,\n",
       " 72.83673969,\n",
       " 73.30186575,\n",
       " 66.39319245,\n",
       " 66.51516196,\n",
       " 69.27281261,\n",
       " 68.23195393,\n",
       " 70.41386903,\n",
       " 69.72688521,\n",
       " 65.51073389,\n",
       " 69.13726936,\n",
       " 73.66618879999999,\n",
       " 65.89275253,\n",
       " 68.35442896,\n",
       " 70.42473053,\n",
       " 72.08020115,\n",
       " 71.71112479,\n",
       " 65.72916187,\n",
       " 63.8983382,\n",
       " 70.31600971,\n",
       " 65.78872979,\n",
       " 69.82746419,\n",
       " 68.33115009,\n",
       " 67.74158927,\n",
       " 75.03388944,\n",
       " 73.40405852,\n",
       " 69.55476188,\n",
       " 64.53903978,\n",
       " 67.54676147,\n",
       " 73.09647798,\n",
       " 66.55398107,\n",
       " 73.99160419,\n",
       " 70.86268806,\n",
       " 71.56873370000001,\n",
       " 65.83839113,\n",
       " 70.27553366,\n",
       " 61.773522,\n",
       " 74.82494531,\n",
       " 71.60514585,\n",
       " 67.26010358,\n",
       " 70.92419443,\n",
       " 75.05966865,\n",
       " 73.10087624,\n",
       " 70.66199203,\n",
       " 67.14466735,\n",
       " 67.12315343,\n",
       " 69.52494396,\n",
       " 65.22469166,\n",
       " 68.41046282,\n",
       " 68.7634637,\n",
       " 67.93686881,\n",
       " 69.23782869,\n",
       " 68.46572392,\n",
       " 65.6942936,\n",
       " 69.43099805,\n",
       " 66.13539142,\n",
       " 70.87704813,\n",
       " 65.973065,\n",
       " 64.93911542,\n",
       " 68.36860332,\n",
       " 69.52555131,\n",
       " 66.45560214,\n",
       " 69.47458176,\n",
       " 68.73009870000001,\n",
       " 73.78127448,\n",
       " 76.50188334,\n",
       " 71.22570192,\n",
       " 64.50621045,\n",
       " 66.50381494,\n",
       " 69.21041304,\n",
       " 63.54636972,\n",
       " 69.73112843,\n",
       " 68.60820846,\n",
       " 71.46413025,\n",
       " 69.509488,\n",
       " 73.75963574,\n",
       " 68.27778676,\n",
       " 72.45463342,\n",
       " 70.76919327,\n",
       " 70.45214074,\n",
       " 68.90409885,\n",
       " 69.23842719,\n",
       " 67.27784728,\n",
       " 71.46376469,\n",
       " 68.84063351,\n",
       " 71.40596471,\n",
       " 70.14487407,\n",
       " 70.67969103,\n",
       " 68.54111605,\n",
       " 71.43472691,\n",
       " 65.22082048,\n",
       " 70.77315142,\n",
       " 69.76009479,\n",
       " 63.96253068,\n",
       " 70.30416327,\n",
       " 70.31684922,\n",
       " 67.40540788,\n",
       " 67.12150305,\n",
       " 68.37757989,\n",
       " 69.57823897,\n",
       " 62.53225328,\n",
       " 69.33682153,\n",
       " 66.78746728,\n",
       " 75.39129223,\n",
       " 70.21362908,\n",
       " 71.10356362,\n",
       " 69.79388789,\n",
       " 66.47184446,\n",
       " 70.71371409,\n",
       " 63.61871729,\n",
       " 70.54927972,\n",
       " 67.40282109,\n",
       " 71.4351749,\n",
       " 68.59340514,\n",
       " 71.45232654,\n",
       " 70.69878995,\n",
       " 71.39146448,\n",
       " 70.48564317,\n",
       " 74.40818786,\n",
       " 63.40042323,\n",
       " 68.39971912,\n",
       " 67.42985418,\n",
       " 70.81199997,\n",
       " 67.11027101,\n",
       " 67.7282199,\n",
       " 68.55083219,\n",
       " 68.61948497,\n",
       " 70.60576101,\n",
       " 67.08678122,\n",
       " 65.31170819,\n",
       " 69.92414675,\n",
       " 68.36463488,\n",
       " 70.86980492,\n",
       " 76.01230001,\n",
       " 67.96596781,\n",
       " 69.76508744,\n",
       " 69.56867239,\n",
       " 71.56001874,\n",
       " 70.95804927,\n",
       " 65.44092231,\n",
       " 70.97612452,\n",
       " 67.99285124,\n",
       " 70.51851509,\n",
       " 69.10919144,\n",
       " 71.60557309999999,\n",
       " 69.88955858,\n",
       " 66.45689878,\n",
       " 70.29135418,\n",
       " 62.6199652,\n",
       " 66.62168183,\n",
       " 65.35028818,\n",
       " 71.60673989,\n",
       " 69.41291443,\n",
       " 69.89381359,\n",
       " 65.66595856,\n",
       " 64.40827325,\n",
       " 68.62688583,\n",
       " 69.60028264,\n",
       " 67.45323124,\n",
       " 68.1699946,\n",
       " 69.55361404,\n",
       " 65.74729799,\n",
       " 73.12239315,\n",
       " 66.620926,\n",
       " 69.14590899,\n",
       " 65.96579505,\n",
       " 67.20326642,\n",
       " 65.45395717,\n",
       " 73.03009203,\n",
       " 68.3172449,\n",
       " 66.33428146,\n",
       " 72.36198348,\n",
       " 67.71742749,\n",
       " 70.4775913,\n",
       " 71.16299165,\n",
       " 69.35477956,\n",
       " 70.09723765,\n",
       " 69.2972917,\n",
       " 63.30996928,\n",
       " 67.88722989,\n",
       " 73.2029699,\n",
       " 73.14115509999999,\n",
       " 70.89598255,\n",
       " 72.14269267,\n",
       " 72.13277787,\n",
       " 71.20661874,\n",
       " 66.25215051,\n",
       " 72.34158877,\n",
       " 68.06892211,\n",
       " 71.39730891,\n",
       " 65.72603205,\n",
       " 67.11044742,\n",
       " 72.21503491,\n",
       " 63.00978308,\n",
       " 69.56915521,\n",
       " 70.40400168,\n",
       " 68.03021559999999,\n",
       " 69.77791032,\n",
       " 62.07863519,\n",
       " 65.83441968,\n",
       " 70.78093604,\n",
       " 69.57143021,\n",
       " 67.32706481,\n",
       " 67.81460188,\n",
       " 66.68224277,\n",
       " 69.63970875,\n",
       " 64.77423739999999,\n",
       " 73.96294107,\n",
       " 67.93338384,\n",
       " 66.77003947,\n",
       " 68.93635758,\n",
       " 76.43455871,\n",
       " 68.99614537,\n",
       " 73.50183962,\n",
       " 69.60310340000001,\n",
       " 72.06737999,\n",
       " 70.48922454,\n",
       " 67.03485056,\n",
       " 66.1841085,\n",
       " 68.6942095,\n",
       " 66.65323374,\n",
       " 69.83865708,\n",
       " 66.24506481,\n",
       " 72.81103161,\n",
       " 64.47474696,\n",
       " 69.75447933,\n",
       " 70.66144439,\n",
       " 72.47061849,\n",
       " 68.17153285,\n",
       " 72.98717143,\n",
       " 70.53356477,\n",
       " 70.04695307,\n",
       " 69.01606716,\n",
       " 73.54916227,\n",
       " 68.11809783,\n",
       " 68.28763703,\n",
       " 71.52704769,\n",
       " 73.39654293,\n",
       " 69.84456408,\n",
       " 70.15196588,\n",
       " 66.29972587,\n",
       " 76.49293396,\n",
       " 71.03238520000001,\n",
       " 66.63104094,\n",
       " 66.07553682,\n",
       " 70.61316241,\n",
       " 65.20348068,\n",
       " 66.86186129,\n",
       " 73.7579983,\n",
       " 69.89808607,\n",
       " 69.52731972,\n",
       " 66.74447747,\n",
       " 69.07449203,\n",
       " 68.56175073,\n",
       " 70.32255001,\n",
       " 71.94912042,\n",
       " 70.91655179,\n",
       " 70.37112335,\n",
       " 67.79647715,\n",
       " 68.69999563,\n",
       " 69.1146318,\n",
       " 67.69710365,\n",
       " 71.28033023,\n",
       " 71.42757519,\n",
       " 71.04335632,\n",
       " 64.72625594,\n",
       " 67.14815944,\n",
       " 72.29169703,\n",
       " 70.24286617,\n",
       " 64.45785785,\n",
       " 74.46498854,\n",
       " 65.29891515,\n",
       " 72.74952611,\n",
       " 65.71817875,\n",
       " 68.89009494,\n",
       " 73.03840861,\n",
       " 69.86074638,\n",
       " 69.86119695,\n",
       " 71.76556166,\n",
       " 66.82084589,\n",
       " 67.78769383,\n",
       " 69.25071385,\n",
       " 68.92967211,\n",
       " 68.99710986,\n",
       " 66.37399493,\n",
       " 66.37651933,\n",
       " 69.05456976,\n",
       " 65.6674754,\n",
       " 62.75287752,\n",
       " 66.57798671,\n",
       " 67.27217066,\n",
       " 69.83655165,\n",
       " 74.21643094,\n",
       " 71.23052856,\n",
       " 70.76286513,\n",
       " 67.87895388,\n",
       " 67.11452669,\n",
       " 66.53981222,\n",
       " 67.09121866,\n",
       " 68.89341765,\n",
       " 71.88269674,\n",
       " 70.53187611,\n",
       " 69.20810820000001,\n",
       " 66.85473775,\n",
       " 77.16080089,\n",
       " 68.19853732,\n",
       " 66.79579309,\n",
       " 74.07020621,\n",
       " 69.69174305,\n",
       " 70.48275741,\n",
       " 66.20296361,\n",
       " 71.85788791,\n",
       " 65.97520718,\n",
       " 72.67696109,\n",
       " 69.81202171,\n",
       " 69.04314598,\n",
       " 63.85067839,\n",
       " 64.90978524,\n",
       " 65.04544401,\n",
       " 68.87439619,\n",
       " 69.9822195,\n",
       " 62.70930371,\n",
       " 66.92343676,\n",
       " 67.26904397,\n",
       " 72.12252553,\n",
       " 69.61140326,\n",
       " 65.18470087,\n",
       " 74.08027495,\n",
       " 61.12182863,\n",
       " 68.32145287,\n",
       " 63.9529284,\n",
       " 68.58137352,\n",
       " 64.92590896,\n",
       " 69.65975352,\n",
       " 71.12075332,\n",
       " 62.80419071,\n",
       " 70.81126171,\n",
       " 69.54951057,\n",
       " 67.0323462,\n",
       " 67.39683425,\n",
       " 69.37184333,\n",
       " 74.54513694,\n",
       " 66.55652499,\n",
       " 67.25995282,\n",
       " 66.00196773,\n",
       " 67.28350742,\n",
       " 67.92463364,\n",
       " 66.05763381,\n",
       " 65.84458046,\n",
       " 69.03106285,\n",
       " 70.32711641,\n",
       " 66.53430651,\n",
       " 71.47167490000001,\n",
       " 70.04693077,\n",
       " 68.60571056,\n",
       " 68.98238073,\n",
       " 73.7888849,\n",
       " 69.07281082,\n",
       " 73.18794911,\n",
       " 68.67738441,\n",
       " 64.92233626,\n",
       " 66.11122914,\n",
       " 67.74898985,\n",
       " 71.81390356,\n",
       " 69.19544122,\n",
       " 67.40717166,\n",
       " 69.87663341,\n",
       " 64.36667672,\n",
       " 67.49285386,\n",
       " 73.12243321,\n",
       " 67.65294548,\n",
       " 68.53790185,\n",
       " 70.72475802,\n",
       " 68.23015031,\n",
       " 67.69712341,\n",
       " 73.71674275,\n",
       " 68.85845722,\n",
       " 66.47376597,\n",
       " 69.97228132,\n",
       " 67.55618322,\n",
       " 74.27201865,\n",
       " 72.09385998,\n",
       " 69.56977967,\n",
       " 71.61408945,\n",
       " 67.13854961,\n",
       " 68.41565126,\n",
       " 78.09586747,\n",
       " 68.6426276,\n",
       " 70.02684189,\n",
       " 74.32567701,\n",
       " 72.23163624,\n",
       " 67.66666409999999,\n",
       " ...]"
      ]
     },
     "execution_count": 74,
     "metadata": {
      "tags": []
     },
     "output_type": "execute_result"
    }
   ],
   "source": [
    "data"
   ]
  },
  {
   "cell_type": "code",
   "execution_count": null,
   "metadata": {
    "id": "yWrKDjQvA3hK"
   },
   "outputs": [],
   "source": [
    "mean=st.mean(data)"
   ]
  },
  {
   "cell_type": "code",
   "execution_count": null,
   "metadata": {
    "id": "Uj4U5D43A3hK",
    "outputId": "a63a4a26-2e6a-4199-b155-d5ffa70f310a"
   },
   "outputs": [
    {
     "data": {
      "text/plain": [
       "66.36749713592"
      ]
     },
     "execution_count": 78,
     "metadata": {
      "tags": []
     },
     "output_type": "execute_result"
    }
   ],
   "source": [
    "mean"
   ]
  },
  {
   "cell_type": "code",
   "execution_count": null,
   "metadata": {
    "id": "hbciqhqLA3hL"
   },
   "outputs": [],
   "source": [
    "data.sort()"
   ]
  },
  {
   "cell_type": "code",
   "execution_count": null,
   "metadata": {
    "id": "VlfICMJnA3hL",
    "outputId": "760759d1-e82d-4bdc-d7d8-67321ca416ec"
   },
   "outputs": [
    {
     "data": {
      "text/plain": [
       "[54.26313333,\n",
       " 54.61685783,\n",
       " 54.87372753,\n",
       " 55.14855736,\n",
       " 55.33649241,\n",
       " 55.6518916,\n",
       " 55.66820212,\n",
       " 55.73973682,\n",
       " 55.85121382,\n",
       " 55.97919788,\n",
       " 56.06663635,\n",
       " 56.07869973,\n",
       " 56.09824578,\n",
       " 56.10536959,\n",
       " 56.10890210000001,\n",
       " 56.15945802,\n",
       " 56.16729919,\n",
       " 56.44568503,\n",
       " 56.53416581,\n",
       " 56.54797498,\n",
       " 56.54884308,\n",
       " 56.63041198,\n",
       " 56.67814049,\n",
       " 56.73718347,\n",
       " 56.74174112,\n",
       " 56.75760363,\n",
       " 56.76445645,\n",
       " 56.78543437,\n",
       " 56.78938641,\n",
       " 56.81031728,\n",
       " 56.82223984,\n",
       " 56.85608213,\n",
       " 56.88597105,\n",
       " 56.94941514,\n",
       " 56.97513323,\n",
       " 56.97527896,\n",
       " 56.99445626,\n",
       " 57.02885744,\n",
       " 57.07265625,\n",
       " 57.10386947,\n",
       " 57.11253942,\n",
       " 57.13730096,\n",
       " 57.14819808,\n",
       " 57.15803352,\n",
       " 57.16584006,\n",
       " 57.20266004,\n",
       " 57.20794645,\n",
       " 57.2330564,\n",
       " 57.25811736,\n",
       " 57.27014705,\n",
       " 57.31302352,\n",
       " 57.31390274,\n",
       " 57.35309276,\n",
       " 57.37575853,\n",
       " 57.39774037,\n",
       " 57.44256697,\n",
       " 57.44520357,\n",
       " 57.472252399999995,\n",
       " 57.48139209,\n",
       " 57.54026863,\n",
       " 57.55275371,\n",
       " 57.55350521,\n",
       " 57.55871033,\n",
       " 57.59802972,\n",
       " 57.64752149,\n",
       " 57.65488503,\n",
       " 57.67518109,\n",
       " 57.69949207,\n",
       " 57.71425655,\n",
       " 57.74019191,\n",
       " 57.76480789,\n",
       " 57.78323162,\n",
       " 57.78681941,\n",
       " 57.79038921,\n",
       " 57.795533999999996,\n",
       " 57.79853105,\n",
       " 57.80076874,\n",
       " 57.80732285,\n",
       " 57.83091908,\n",
       " 57.83726895,\n",
       " 57.84910509,\n",
       " 57.85111519,\n",
       " 57.86970441,\n",
       " 57.88297788,\n",
       " 57.92315936,\n",
       " 57.93667432,\n",
       " 57.947091099999994,\n",
       " 57.96193618,\n",
       " 57.96849839,\n",
       " 57.98151241,\n",
       " 57.99557143,\n",
       " 58.03217317,\n",
       " 58.03741798,\n",
       " 58.04838794,\n",
       " 58.06155297,\n",
       " 58.08709515,\n",
       " 58.10966317,\n",
       " 58.11787193,\n",
       " 58.118699,\n",
       " 58.12602402,\n",
       " 58.13449631,\n",
       " 58.13792273,\n",
       " 58.14565279,\n",
       " 58.15588831,\n",
       " 58.16246304,\n",
       " 58.18714107,\n",
       " 58.19008892,\n",
       " 58.21164993,\n",
       " 58.21216479,\n",
       " 58.21361410000001,\n",
       " 58.22539702,\n",
       " 58.25666368,\n",
       " 58.26096505,\n",
       " 58.30026837,\n",
       " 58.30103474,\n",
       " 58.323747700000006,\n",
       " 58.34348428,\n",
       " 58.34553294,\n",
       " 58.35100304,\n",
       " 58.36944783,\n",
       " 58.37198641,\n",
       " 58.37681219,\n",
       " 58.38657594,\n",
       " 58.38696345,\n",
       " 58.3872723,\n",
       " 58.39927328,\n",
       " 58.40402741,\n",
       " 58.40690493,\n",
       " 58.41716345,\n",
       " 58.42523254,\n",
       " 58.43126896,\n",
       " 58.43591757,\n",
       " 58.43824910000001,\n",
       " 58.44507284,\n",
       " 58.47098364,\n",
       " 58.49046702,\n",
       " 58.50382088,\n",
       " 58.51016063,\n",
       " 58.51625884,\n",
       " 58.52187338,\n",
       " 58.52329049,\n",
       " 58.52542646,\n",
       " 58.53124564,\n",
       " 58.55851252,\n",
       " 58.57757583,\n",
       " 58.58029014,\n",
       " 58.5921355,\n",
       " 58.59655453,\n",
       " 58.59722547,\n",
       " 58.60263784,\n",
       " 58.61166516,\n",
       " 58.61752196,\n",
       " 58.61998063,\n",
       " 58.62120428,\n",
       " 58.62225448,\n",
       " 58.63272047,\n",
       " 58.64288882,\n",
       " 58.64461182,\n",
       " 58.64632986,\n",
       " 58.64865968,\n",
       " 58.65644436,\n",
       " 58.65717685,\n",
       " 58.67095297,\n",
       " 58.68066471,\n",
       " 58.68547139,\n",
       " 58.68839161,\n",
       " 58.70631542,\n",
       " 58.70723577,\n",
       " 58.71045600000001,\n",
       " 58.72051813,\n",
       " 58.72221941,\n",
       " 58.73842886,\n",
       " 58.75125363,\n",
       " 58.75248911,\n",
       " 58.75737097,\n",
       " 58.76191669,\n",
       " 58.77163948,\n",
       " 58.77712425,\n",
       " 58.77940733,\n",
       " 58.78175763,\n",
       " 58.80965363,\n",
       " 58.82326186,\n",
       " 58.83844488,\n",
       " 58.83909388,\n",
       " 58.84758076,\n",
       " 58.85029447,\n",
       " 58.85839773,\n",
       " 58.861625100000005,\n",
       " 58.86675136,\n",
       " 58.87202902,\n",
       " 58.87430067,\n",
       " 58.89247364,\n",
       " 58.89588635,\n",
       " 58.90637763,\n",
       " 58.91073204,\n",
       " 58.91382587,\n",
       " 58.91796082,\n",
       " 58.9265027,\n",
       " 58.94823506,\n",
       " 58.95492258,\n",
       " 58.96004039,\n",
       " 58.96352584,\n",
       " 58.96406899,\n",
       " 58.97212383,\n",
       " 58.98057425,\n",
       " 58.98713894,\n",
       " 58.99628681,\n",
       " 58.99638936,\n",
       " 58.99694399,\n",
       " 59.00174196,\n",
       " 59.02595339,\n",
       " 59.02625581,\n",
       " 59.02808724,\n",
       " 59.02919506,\n",
       " 59.03030228,\n",
       " 59.041198,\n",
       " 59.045531000000004,\n",
       " 59.04702854,\n",
       " 59.04951185,\n",
       " 59.06170264,\n",
       " 59.083202500000006,\n",
       " 59.08600583,\n",
       " 59.08666849,\n",
       " 59.08869463,\n",
       " 59.09825003,\n",
       " 59.10419563,\n",
       " 59.10499431,\n",
       " 59.10924752,\n",
       " 59.11850279,\n",
       " 59.12143305,\n",
       " 59.12503148,\n",
       " 59.13331425,\n",
       " 59.13908731,\n",
       " 59.14124671,\n",
       " 59.15051143,\n",
       " 59.15751916,\n",
       " 59.16704389,\n",
       " 59.16960398,\n",
       " 59.1706875,\n",
       " 59.17660952,\n",
       " 59.18173123,\n",
       " 59.22304441,\n",
       " 59.23919876,\n",
       " 59.24256799,\n",
       " 59.24291638,\n",
       " 59.24464615,\n",
       " 59.24792575,\n",
       " 59.24865572,\n",
       " 59.25272547,\n",
       " 59.26441170000001,\n",
       " 59.26444654,\n",
       " 59.26630324,\n",
       " 59.27965397,\n",
       " 59.30400667,\n",
       " 59.30778715,\n",
       " 59.309205500000004,\n",
       " 59.31253404,\n",
       " 59.32153268,\n",
       " 59.32763718,\n",
       " 59.33081907,\n",
       " 59.33510789,\n",
       " 59.33710926,\n",
       " 59.33956805,\n",
       " 59.34000726,\n",
       " 59.34485488,\n",
       " 59.34746823,\n",
       " 59.35383101,\n",
       " 59.35483497,\n",
       " 59.36813918,\n",
       " 59.38064956,\n",
       " 59.38479897,\n",
       " 59.39027981,\n",
       " 59.39464546,\n",
       " 59.39491773,\n",
       " 59.40106299,\n",
       " 59.4056541,\n",
       " 59.40834134,\n",
       " 59.41310734,\n",
       " 59.41674322,\n",
       " 59.42491211,\n",
       " 59.43615128,\n",
       " 59.43723189,\n",
       " 59.43742950000001,\n",
       " 59.44304003,\n",
       " 59.4474264,\n",
       " 59.44775771,\n",
       " 59.46425906,\n",
       " 59.47485209,\n",
       " 59.47781849,\n",
       " 59.47904374,\n",
       " 59.48142007,\n",
       " 59.49019831,\n",
       " 59.49740602,\n",
       " 59.49907739,\n",
       " 59.50295917,\n",
       " 59.512981700000005,\n",
       " 59.51467821,\n",
       " 59.51589009,\n",
       " 59.52719696,\n",
       " 59.52878826,\n",
       " 59.53116237,\n",
       " 59.533643000000005,\n",
       " 59.53872851,\n",
       " 59.54661182,\n",
       " 59.54768085,\n",
       " 59.54889462,\n",
       " 59.55076633,\n",
       " 59.556908299999996,\n",
       " 59.55964771,\n",
       " 59.56761985,\n",
       " 59.57718853,\n",
       " 59.58732939,\n",
       " 59.5883951,\n",
       " 59.60115453,\n",
       " 59.60563161,\n",
       " 59.60856014,\n",
       " 59.6170282,\n",
       " 59.62371448,\n",
       " 59.62660455,\n",
       " 59.62736165,\n",
       " 59.63190989999999,\n",
       " 59.63281599,\n",
       " 59.63457256,\n",
       " 59.63931159,\n",
       " 59.64053159,\n",
       " 59.64564910000001,\n",
       " 59.66434062,\n",
       " 59.66765209,\n",
       " 59.6678488,\n",
       " 59.68523965,\n",
       " 59.69301635,\n",
       " 59.69902431,\n",
       " 59.70748466,\n",
       " 59.70873056,\n",
       " 59.71810115,\n",
       " 59.73527867,\n",
       " 59.73568526,\n",
       " 59.74227958,\n",
       " 59.74709643,\n",
       " 59.75844451,\n",
       " 59.75994823,\n",
       " 59.76093236,\n",
       " 59.76136964,\n",
       " 59.76169612,\n",
       " 59.76215649,\n",
       " 59.76289819,\n",
       " 59.76340044,\n",
       " 59.76500951,\n",
       " 59.76540236,\n",
       " 59.76682038,\n",
       " 59.77273146,\n",
       " 59.77315908,\n",
       " 59.77390642,\n",
       " 59.77645519,\n",
       " 59.78528868,\n",
       " 59.78676291,\n",
       " 59.78850126,\n",
       " 59.79002199,\n",
       " 59.79586097,\n",
       " 59.79858727,\n",
       " 59.80509278,\n",
       " 59.80953425,\n",
       " 59.81504852,\n",
       " 59.81591064,\n",
       " 59.81653598,\n",
       " 59.82171103,\n",
       " 59.82273531,\n",
       " 59.83026358,\n",
       " 59.8360407,\n",
       " 59.83771201,\n",
       " 59.83856884,\n",
       " 59.83992379,\n",
       " 59.84744636,\n",
       " 59.85024472,\n",
       " 59.86012336,\n",
       " 59.8648914,\n",
       " 59.86807793,\n",
       " 59.8735563,\n",
       " 59.8745007,\n",
       " 59.87867161,\n",
       " 59.879670499999996,\n",
       " 59.89139662,\n",
       " 59.8917058,\n",
       " 59.89389382,\n",
       " 59.89492405,\n",
       " 59.90027453,\n",
       " 59.90155376,\n",
       " 59.90353879,\n",
       " 59.90652786,\n",
       " 59.90854467,\n",
       " 59.90884476,\n",
       " 59.91307099,\n",
       " 59.91763069,\n",
       " 59.922162,\n",
       " 59.9268571,\n",
       " 59.93864965,\n",
       " 59.93940471,\n",
       " 59.93998171,\n",
       " 59.94211972,\n",
       " 59.94991374,\n",
       " 59.95595817,\n",
       " 59.95689543,\n",
       " 59.968204500000006,\n",
       " 59.96841857,\n",
       " 59.97372202,\n",
       " 59.97733981,\n",
       " 59.97896224,\n",
       " 59.98186507,\n",
       " 59.9864955,\n",
       " 59.9976946,\n",
       " 59.99780556,\n",
       " 59.99806593,\n",
       " 59.99852911,\n",
       " 60.00065715,\n",
       " 60.00246348,\n",
       " 60.0052569,\n",
       " 60.01164973,\n",
       " 60.01178443,\n",
       " 60.01307771,\n",
       " 60.01386373,\n",
       " 60.01556232,\n",
       " 60.025917299999996,\n",
       " 60.02595007,\n",
       " 60.02674978,\n",
       " 60.03043377,\n",
       " 60.03061012,\n",
       " 60.03276917,\n",
       " 60.03556122,\n",
       " 60.03728766,\n",
       " 60.03787584,\n",
       " 60.04077935,\n",
       " 60.04233796,\n",
       " 60.04241965,\n",
       " 60.04714722,\n",
       " 60.05084636,\n",
       " 60.05135799,\n",
       " 60.05671104,\n",
       " 60.06314411,\n",
       " 60.07294329,\n",
       " 60.07624076,\n",
       " 60.08100686,\n",
       " 60.0901747,\n",
       " 60.09128734,\n",
       " 60.09644199,\n",
       " 60.09859133,\n",
       " 60.10133519,\n",
       " 60.10786148,\n",
       " 60.1085895,\n",
       " 60.11391973,\n",
       " 60.12116748,\n",
       " 60.12149408,\n",
       " 60.12416703,\n",
       " 60.12416782,\n",
       " 60.12477685,\n",
       " 60.12966028,\n",
       " 60.12986745,\n",
       " 60.13284892,\n",
       " 60.13889251,\n",
       " 60.1414416,\n",
       " 60.14332195,\n",
       " 60.14386882,\n",
       " 60.14426061,\n",
       " 60.14585614,\n",
       " 60.14955877,\n",
       " 60.15003071,\n",
       " 60.15052242,\n",
       " 60.15593112,\n",
       " 60.15950903,\n",
       " 60.16166919,\n",
       " 60.16251035,\n",
       " 60.16414723,\n",
       " 60.16802328,\n",
       " 60.17489932,\n",
       " 60.17653777,\n",
       " 60.17728721,\n",
       " 60.17735145,\n",
       " 60.17911246,\n",
       " 60.18097669,\n",
       " 60.18188451,\n",
       " 60.18343848,\n",
       " 60.18554185,\n",
       " 60.18839207,\n",
       " 60.19085828,\n",
       " 60.19133042,\n",
       " 60.19217378,\n",
       " 60.19489695,\n",
       " 60.20973811,\n",
       " 60.21116656,\n",
       " 60.21339537,\n",
       " 60.21701856,\n",
       " 60.21883776,\n",
       " 60.22034116,\n",
       " 60.22190735,\n",
       " 60.22859228,\n",
       " 60.23007396,\n",
       " 60.2363904,\n",
       " 60.23998603,\n",
       " 60.24335877,\n",
       " 60.243718099999995,\n",
       " 60.24552998,\n",
       " 60.24625719,\n",
       " 60.25229165,\n",
       " 60.25280691,\n",
       " 60.25749331,\n",
       " 60.25777636,\n",
       " 60.25932622,\n",
       " 60.26615477,\n",
       " 60.26640777,\n",
       " 60.26719012,\n",
       " 60.26910783,\n",
       " 60.270573899999995,\n",
       " 60.27423387,\n",
       " 60.27626216,\n",
       " 60.28059756,\n",
       " 60.28480145,\n",
       " 60.28713064,\n",
       " 60.28887039,\n",
       " 60.29546059,\n",
       " 60.29870126,\n",
       " 60.30344308,\n",
       " 60.30384144,\n",
       " 60.30386757,\n",
       " 60.30521821,\n",
       " 60.31504535,\n",
       " 60.32048442,\n",
       " 60.32074111,\n",
       " 60.32750954,\n",
       " 60.3303629,\n",
       " 60.33197203,\n",
       " 60.33337239,\n",
       " 60.33417128,\n",
       " 60.33657937,\n",
       " 60.34078108,\n",
       " 60.3497184,\n",
       " 60.35043688,\n",
       " 60.36017485,\n",
       " 60.36331156,\n",
       " 60.38028449,\n",
       " 60.38383491,\n",
       " 60.38849386,\n",
       " 60.38865261,\n",
       " 60.39463562,\n",
       " 60.39683047,\n",
       " 60.39851581,\n",
       " 60.39879478,\n",
       " 60.39901197,\n",
       " 60.4007145,\n",
       " 60.40689306,\n",
       " 60.41061095,\n",
       " 60.414750500000004,\n",
       " 60.4158461,\n",
       " 60.41930723,\n",
       " 60.42125498,\n",
       " 60.42138494,\n",
       " 60.42563414,\n",
       " 60.43405462,\n",
       " 60.43596416,\n",
       " 60.4376929,\n",
       " 60.44096107,\n",
       " 60.44224974,\n",
       " 60.44326389,\n",
       " 60.44378913,\n",
       " 60.44454681,\n",
       " 60.44739666,\n",
       " 60.45190618,\n",
       " 60.45231872,\n",
       " 60.4571772,\n",
       " 60.4586125,\n",
       " 60.4599066,\n",
       " 60.46647733,\n",
       " 60.47226197,\n",
       " 60.47408833,\n",
       " 60.4837623,\n",
       " 60.48394565,\n",
       " 60.48444501,\n",
       " 60.49619323,\n",
       " 60.50076559,\n",
       " 60.50332654,\n",
       " 60.50431592,\n",
       " 60.51154888,\n",
       " 60.51843955,\n",
       " 60.51918301,\n",
       " 60.51950857,\n",
       " 60.52150965,\n",
       " 60.52242112,\n",
       " 60.52291207,\n",
       " 60.52916755,\n",
       " 60.53183659,\n",
       " 60.54177962,\n",
       " 60.54186818,\n",
       " 60.54259479,\n",
       " 60.55060489,\n",
       " 60.5520165,\n",
       " 60.55212552,\n",
       " 60.55219223,\n",
       " 60.55835474,\n",
       " 60.56041287,\n",
       " 60.56117991,\n",
       " 60.56128697,\n",
       " 60.56848369,\n",
       " 60.56852949,\n",
       " 60.5701988,\n",
       " 60.57090711,\n",
       " 60.57136411,\n",
       " 60.57362432,\n",
       " 60.57384215,\n",
       " 60.57531491,\n",
       " 60.57806288,\n",
       " 60.57863068,\n",
       " 60.57920806,\n",
       " 60.580420700000005,\n",
       " 60.58080892,\n",
       " 60.58181745,\n",
       " 60.58472101,\n",
       " 60.58563771,\n",
       " 60.58582038,\n",
       " 60.58644675,\n",
       " 60.58772866,\n",
       " 60.58879917,\n",
       " 60.59482352,\n",
       " 60.59772710000001,\n",
       " 60.59858431,\n",
       " 60.59943648,\n",
       " 60.6019752,\n",
       " 60.60292496,\n",
       " 60.60301012,\n",
       " 60.60654399999999,\n",
       " 60.60734593,\n",
       " 60.61411476,\n",
       " 60.61438596,\n",
       " 60.61581126,\n",
       " 60.62018128,\n",
       " 60.6219605,\n",
       " 60.62363512,\n",
       " 60.62378116,\n",
       " 60.62639435,\n",
       " 60.62686273,\n",
       " 60.62849862,\n",
       " 60.63022564,\n",
       " 60.63160012,\n",
       " 60.6342463,\n",
       " 60.63443923,\n",
       " 60.6352088,\n",
       " 60.63818536,\n",
       " 60.64026619,\n",
       " 60.64698764,\n",
       " 60.64710531,\n",
       " 60.65373317,\n",
       " 60.65521774,\n",
       " 60.6583981,\n",
       " 60.65965538,\n",
       " 60.66153049,\n",
       " 60.66416823,\n",
       " 60.66682247,\n",
       " 60.66750663,\n",
       " 60.66988645,\n",
       " 60.67078447,\n",
       " 60.67343081,\n",
       " 60.6742784,\n",
       " 60.67485615,\n",
       " 60.67897779,\n",
       " 60.67945691,\n",
       " 60.67972344,\n",
       " 60.6798174,\n",
       " 60.68038772,\n",
       " 60.68084562,\n",
       " 60.68437608,\n",
       " 60.68467897,\n",
       " 60.68616746,\n",
       " 60.6892003,\n",
       " 60.69228685,\n",
       " 60.69341088,\n",
       " 60.69473641,\n",
       " 60.70959173,\n",
       " 60.70979338,\n",
       " 60.71608236,\n",
       " 60.71778284,\n",
       " 60.71819027,\n",
       " 60.71832443,\n",
       " 60.71892591,\n",
       " 60.72107966,\n",
       " 60.72397516,\n",
       " 60.72482699,\n",
       " 60.72501457,\n",
       " 60.72515322,\n",
       " 60.73154265,\n",
       " 60.73185683,\n",
       " 60.732559200000004,\n",
       " 60.73703061,\n",
       " 60.74139577,\n",
       " 60.74266747,\n",
       " 60.74811787,\n",
       " 60.75091525,\n",
       " 60.75421938,\n",
       " 60.75448558,\n",
       " 60.75491374,\n",
       " 60.7559488,\n",
       " 60.75746747,\n",
       " 60.75972793,\n",
       " 60.76068868,\n",
       " 60.76279473,\n",
       " 60.76509346,\n",
       " 60.771058499999995,\n",
       " 60.77205438,\n",
       " 60.77393898,\n",
       " 60.77915797,\n",
       " 60.77999986,\n",
       " 60.78328662,\n",
       " 60.78481604,\n",
       " 60.786299899999996,\n",
       " 60.78688352,\n",
       " 60.79782025,\n",
       " 60.79827083,\n",
       " 60.79854323,\n",
       " 60.79888561,\n",
       " 60.80094232,\n",
       " 60.80771209,\n",
       " 60.80777241,\n",
       " 60.808423700000006,\n",
       " 60.80971704,\n",
       " 60.80979868,\n",
       " 60.81492666,\n",
       " 60.81505943,\n",
       " 60.815562199999995,\n",
       " 60.8162826,\n",
       " 60.81759019,\n",
       " 60.82027054,\n",
       " 60.82211814,\n",
       " 60.82576625,\n",
       " 60.82620041,\n",
       " 60.82919775,\n",
       " 60.83217081,\n",
       " 60.83423839,\n",
       " 60.83468117,\n",
       " 60.83549944,\n",
       " 60.83768666,\n",
       " 60.84274036,\n",
       " 60.84305948,\n",
       " 60.84550828,\n",
       " 60.845512,\n",
       " 60.84686273,\n",
       " 60.84834324,\n",
       " 60.84893452,\n",
       " 60.85088181,\n",
       " 60.85431119,\n",
       " 60.85754286,\n",
       " 60.85835314,\n",
       " 60.85899001,\n",
       " 60.85930919,\n",
       " 60.85962004,\n",
       " 60.8599498,\n",
       " 60.86159962,\n",
       " 60.86794313,\n",
       " 60.87058571,\n",
       " 60.87204375,\n",
       " 60.87691504,\n",
       " 60.87824075,\n",
       " 60.88487337,\n",
       " 60.8862532,\n",
       " 60.88950084,\n",
       " 60.88968151,\n",
       " 60.89292556,\n",
       " 60.89451947,\n",
       " 60.90012218,\n",
       " 60.90110297,\n",
       " 60.90196308,\n",
       " 60.90599893,\n",
       " 60.90701533,\n",
       " 60.91002427,\n",
       " 60.91108986,\n",
       " 60.91177092,\n",
       " 60.91327091,\n",
       " 60.9161961,\n",
       " 60.91802524,\n",
       " 60.918302399999995,\n",
       " 60.92179087,\n",
       " 60.92319393,\n",
       " 60.92579066,\n",
       " 60.92586816,\n",
       " 60.92634833,\n",
       " 60.9357397,\n",
       " 60.93623604,\n",
       " 60.93643879,\n",
       " 60.93869849,\n",
       " 60.94110303,\n",
       " 60.9420995,\n",
       " 60.94279475,\n",
       " 60.94472677,\n",
       " 60.94684623,\n",
       " 60.94956167,\n",
       " 60.95032891,\n",
       " 60.95315663,\n",
       " 60.95358909,\n",
       " 60.95508426,\n",
       " 60.95548665,\n",
       " 60.95754176,\n",
       " 60.95866612,\n",
       " 60.96014679,\n",
       " 60.96103886,\n",
       " 60.96626408,\n",
       " 60.96672328,\n",
       " 60.96731744,\n",
       " 60.96780719,\n",
       " 60.96991273,\n",
       " 60.97085632,\n",
       " 60.97202098,\n",
       " 60.97203231,\n",
       " 60.97479084,\n",
       " 60.97712325,\n",
       " 60.97741445,\n",
       " 60.97800907,\n",
       " 60.979459899999995,\n",
       " 60.98076185,\n",
       " 60.98098369,\n",
       " 60.98528933,\n",
       " 60.98921654,\n",
       " 60.98979105,\n",
       " 60.99463873,\n",
       " 61.00854419,\n",
       " 61.01223365,\n",
       " 61.01691365,\n",
       " 61.01798835,\n",
       " 61.01847398,\n",
       " 61.01861057,\n",
       " 61.01946656,\n",
       " 61.01952756,\n",
       " 61.02434221,\n",
       " 61.02522498,\n",
       " 61.02916079,\n",
       " 61.03548988,\n",
       " 61.04173436,\n",
       " 61.04190509,\n",
       " 61.04344506,\n",
       " 61.04357208,\n",
       " 61.04527083,\n",
       " 61.06805386,\n",
       " 61.06890784,\n",
       " 61.07244351,\n",
       " 61.074487100000006,\n",
       " 61.07521028,\n",
       " 61.07654165,\n",
       " 61.07697273,\n",
       " 61.078217599999995,\n",
       " 61.07945197,\n",
       " 61.08267692,\n",
       " 61.08362906,\n",
       " 61.08382684,\n",
       " 61.08414371,\n",
       " 61.08432705,\n",
       " 61.08637767,\n",
       " 61.0907475,\n",
       " 61.09444442,\n",
       " 61.09578942,\n",
       " 61.09968452,\n",
       " 61.10051608,\n",
       " 61.10321629,\n",
       " 61.10363728,\n",
       " 61.10409173,\n",
       " 61.10420513,\n",
       " 61.10881895,\n",
       " 61.1093866,\n",
       " 61.110724600000005,\n",
       " 61.11105238,\n",
       " 61.11349802,\n",
       " 61.11660854,\n",
       " 61.11887036,\n",
       " 61.12011643,\n",
       " 61.12182863,\n",
       " 61.12204546,\n",
       " 61.12472659,\n",
       " 61.13064492,\n",
       " 61.13521486,\n",
       " 61.13647544,\n",
       " 61.14319144,\n",
       " 61.14359949,\n",
       " 61.14372256,\n",
       " 61.14474693,\n",
       " 61.14634414,\n",
       " 61.15261826,\n",
       " 61.15386602,\n",
       " 61.15698001,\n",
       " 61.15798325,\n",
       " 61.16192129,\n",
       " 61.16306528,\n",
       " 61.16737637,\n",
       " 61.17499515,\n",
       " 61.17614928,\n",
       " 61.17727571,\n",
       " 61.17741725,\n",
       " 61.17798324,\n",
       " 61.17960147,\n",
       " 61.17986111,\n",
       " 61.18625903,\n",
       " 61.18920841,\n",
       " 61.19004885,\n",
       " 61.19071638,\n",
       " 61.19083726,\n",
       " 61.19129475,\n",
       " 61.19192279,\n",
       " 61.19198331,\n",
       " 61.19393202,\n",
       " 61.19722319,\n",
       " 61.19749174,\n",
       " 61.19944881,\n",
       " 61.20099469,\n",
       " 61.20180919,\n",
       " 61.20495607,\n",
       " 61.20577545,\n",
       " 61.2063036,\n",
       " 61.20713465,\n",
       " 61.21119547,\n",
       " 61.21316929,\n",
       " 61.213171499999994,\n",
       " 61.21434885,\n",
       " 61.21444992,\n",
       " 61.2176125,\n",
       " 61.21783686,\n",
       " 61.2184549,\n",
       " 61.22309514,\n",
       " 61.224458,\n",
       " 61.22580477,\n",
       " 61.22682866,\n",
       " 61.23014451,\n",
       " 61.23084179,\n",
       " 61.23306992,\n",
       " 61.23309385,\n",
       " 61.23390393,\n",
       " 61.23624749,\n",
       " 61.2369878,\n",
       " 61.23838132,\n",
       " 61.24179196,\n",
       " 61.24582794,\n",
       " 61.25243523,\n",
       " 61.25357895,\n",
       " 61.25433462,\n",
       " 61.25757265,\n",
       " 61.26649788,\n",
       " 61.26695925,\n",
       " 61.26997168,\n",
       " 61.27477347,\n",
       " 61.27834937,\n",
       " 61.2788125,\n",
       " 61.27909764,\n",
       " 61.28620543,\n",
       " 61.28646406,\n",
       " 61.29236298,\n",
       " 61.29848462,\n",
       " 61.29985966,\n",
       " 61.30003103,\n",
       " 61.30178808,\n",
       " 61.30292568,\n",
       " 61.30392413,\n",
       " 61.304754,\n",
       " 61.30514652,\n",
       " 61.30617813,\n",
       " 61.30736776,\n",
       " 61.30744569,\n",
       " 61.30767985,\n",
       " 61.30910844,\n",
       " 61.31079843,\n",
       " 61.31119241,\n",
       " 61.31206023,\n",
       " 61.31452528,\n",
       " 61.31828438,\n",
       " 61.31956624,\n",
       " 61.32334679,\n",
       " 61.32442129,\n",
       " 61.32850178,\n",
       " 61.33001915,\n",
       " 61.33258128,\n",
       " 61.33393465,\n",
       " 61.33403251,\n",
       " 61.33451019,\n",
       " 61.33665902,\n",
       " 61.34572458,\n",
       " 61.34958144,\n",
       " 61.35009174,\n",
       " 61.35111385,\n",
       " 61.35147807,\n",
       " 61.35351535,\n",
       " 61.35545092,\n",
       " 61.35948933,\n",
       " 61.36405241,\n",
       " 61.36804541,\n",
       " 61.37309512,\n",
       " 61.37895177,\n",
       " 61.37925849,\n",
       " 61.38346056,\n",
       " 61.38769005,\n",
       " 61.38777196,\n",
       " 61.3884204,\n",
       " 61.38949064,\n",
       " 61.39164365,\n",
       " 61.39920632,\n",
       " 61.40270423,\n",
       " 61.40468346,\n",
       " 61.40597855,\n",
       " 61.40753252,\n",
       " 61.40784582,\n",
       " 61.41058971,\n",
       " ...]"
      ]
     },
     "execution_count": 81,
     "metadata": {
      "tags": []
     },
     "output_type": "execute_result"
    }
   ],
   "source": [
    "data"
   ]
  },
  {
   "cell_type": "code",
   "execution_count": null,
   "metadata": {
    "id": "ErmX4AbBA3hL"
   },
   "outputs": [],
   "source": [
    "xyz = st.median(data)"
   ]
  },
  {
   "cell_type": "code",
   "execution_count": null,
   "metadata": {
    "id": "y49tBAy8A3hL"
   },
   "outputs": [],
   "source": [
    "xyz = st.median(data)"
   ]
  },
  {
   "cell_type": "code",
   "execution_count": null,
   "metadata": {
    "id": "-KhI6OKNA3hL",
    "outputId": "6293061d-4e62-4b1a-959f-fa10d52d38d8"
   },
   "outputs": [
    {
     "data": {
      "text/plain": [
       "66.31916067"
      ]
     },
     "execution_count": 84,
     "metadata": {
      "tags": []
     },
     "output_type": "execute_result"
    }
   ],
   "source": [
    "xyz"
   ]
  },
  {
   "cell_type": "code",
   "execution_count": null,
   "metadata": {
    "id": "-BKgbLC_A3hM"
   },
   "outputs": [],
   "source": [
    "mode = st.mode(data)"
   ]
  },
  {
   "cell_type": "code",
   "execution_count": null,
   "metadata": {
    "id": "69QodAxzA3hM",
    "outputId": "ff5cf562-ae6c-49bd-afef-a25f41295090"
   },
   "outputs": [
    {
     "data": {
      "text/plain": [
       "66.62714431"
      ]
     },
     "execution_count": 86,
     "metadata": {
      "tags": []
     },
     "output_type": "execute_result"
    }
   ],
   "source": [
    "mode"
   ]
  },
  {
   "cell_type": "code",
   "execution_count": null,
   "metadata": {
    "id": "bqd6F9jlA3hM"
   },
   "outputs": [],
   "source": [
    "modes = []\n",
    "for a in data:\n",
    "    if data.count(a)>1:\n",
    "        modes.append(a) "
   ]
  },
  {
   "cell_type": "code",
   "execution_count": null,
   "metadata": {
    "id": "fvHbuuuiA3hM",
    "outputId": "b6b32ab6-ce72-4e84-9f59-effe3165629b"
   },
   "outputs": [
    {
     "data": {
      "text/plain": [
       "[66.62714431, 66.62714431, 67.6456197, 67.6456197]"
      ]
     },
     "execution_count": 89,
     "metadata": {
      "tags": []
     },
     "output_type": "execute_result"
    }
   ],
   "source": [
    "modes"
   ]
  },
  {
   "cell_type": "code",
   "execution_count": null,
   "metadata": {
    "id": "Ll-FqKkeA3hN"
   },
   "outputs": [],
   "source": [
    "import numpy as np\n",
    "import pandas as pd"
   ]
  },
  {
   "cell_type": "code",
   "execution_count": null,
   "metadata": {
    "id": "0SmjKwqCA3hN"
   },
   "outputs": [],
   "source": [
    "p = np.percentile(data, 100)"
   ]
  },
  {
   "cell_type": "code",
   "execution_count": null,
   "metadata": {
    "id": "TuWwncitA3hN",
    "outputId": "fc122f4b-9ee7-4473-d762-886cb008bf7c"
   },
   "outputs": [
    {
     "data": {
      "text/plain": [
       "78.99874235"
      ]
     },
     "execution_count": 92,
     "metadata": {
      "tags": []
     },
     "output_type": "execute_result"
    }
   ],
   "source": [
    "p"
   ]
  },
  {
   "cell_type": "code",
   "execution_count": null,
   "metadata": {
    "id": "rceZy1stA3hO",
    "outputId": "b1df9bea-c0c1-49d5-ffc1-b16c0407c97d"
   },
   "outputs": [
    {
     "data": {
      "text/plain": [
       "71.472149363"
      ]
     },
     "execution_count": 95,
     "metadata": {
      "tags": []
     },
     "output_type": "execute_result"
    }
   ],
   "source": [
    "np.percentile(data, 90)"
   ]
  },
  {
   "cell_type": "code",
   "execution_count": null,
   "metadata": {
    "id": "8D883ZTAA3hO"
   },
   "outputs": [],
   "source": [
    "df = pd.DataFrame(data)"
   ]
  },
  {
   "cell_type": "code",
   "execution_count": null,
   "metadata": {
    "id": "uQJI9BW2A3hO",
    "outputId": "45cf9b57-73f1-4b1c-f831-248eaa3f2278"
   },
   "outputs": [
    {
     "data": {
      "text/plain": [
       "3.847284321690993"
      ]
     },
     "execution_count": 99,
     "metadata": {
      "tags": []
     },
     "output_type": "execute_result"
    }
   ],
   "source": [
    "np.std(data)"
   ]
  },
  {
   "cell_type": "code",
   "execution_count": null,
   "metadata": {
    "id": "7lYOPebOA3hO",
    "outputId": "52324906-6683-486e-ee3e-1b35dab4f58e"
   },
   "outputs": [
    {
     "data": {
      "text/html": [
       "<div>\n",
       "<style scoped>\n",
       "    .dataframe tbody tr th:only-of-type {\n",
       "        vertical-align: middle;\n",
       "    }\n",
       "\n",
       "    .dataframe tbody tr th {\n",
       "        vertical-align: top;\n",
       "    }\n",
       "\n",
       "    .dataframe thead th {\n",
       "        text-align: right;\n",
       "    }\n",
       "</style>\n",
       "<table border=\"1\" class=\"dataframe\">\n",
       "  <thead>\n",
       "    <tr style=\"text-align: right;\">\n",
       "      <th></th>\n",
       "      <th>0</th>\n",
       "    </tr>\n",
       "  </thead>\n",
       "  <tbody>\n",
       "    <tr>\n",
       "      <th>count</th>\n",
       "      <td>10000.000000</td>\n",
       "    </tr>\n",
       "    <tr>\n",
       "      <th>mean</th>\n",
       "      <td>66.367497</td>\n",
       "    </tr>\n",
       "    <tr>\n",
       "      <th>std</th>\n",
       "      <td>3.847477</td>\n",
       "    </tr>\n",
       "    <tr>\n",
       "      <th>min</th>\n",
       "      <td>54.263133</td>\n",
       "    </tr>\n",
       "    <tr>\n",
       "      <th>25%</th>\n",
       "      <td>63.505620</td>\n",
       "    </tr>\n",
       "    <tr>\n",
       "      <th>50%</th>\n",
       "      <td>66.319161</td>\n",
       "    </tr>\n",
       "    <tr>\n",
       "      <th>75%</th>\n",
       "      <td>69.174262</td>\n",
       "    </tr>\n",
       "    <tr>\n",
       "      <th>max</th>\n",
       "      <td>78.998742</td>\n",
       "    </tr>\n",
       "  </tbody>\n",
       "</table>\n",
       "</div>"
      ],
      "text/plain": [
       "                  0\n",
       "count  10000.000000\n",
       "mean      66.367497\n",
       "std        3.847477\n",
       "min       54.263133\n",
       "25%       63.505620\n",
       "50%       66.319161\n",
       "75%       69.174262\n",
       "max       78.998742"
      ]
     },
     "execution_count": 30,
     "metadata": {
      "tags": []
     },
     "output_type": "execute_result"
    }
   ],
   "source": [
    "df.describe()"
   ]
  },
  {
   "cell_type": "code",
   "execution_count": null,
   "metadata": {
    "id": "T6GeNCteA3hO"
   },
   "outputs": [],
   "source": [
    "range = max(data)-min(data)\n"
   ]
  },
  {
   "cell_type": "code",
   "execution_count": null,
   "metadata": {
    "id": "Klk64MX1A3hP",
    "outputId": "e738a5f9-9022-4f9a-d4e6-eb5536a8d124"
   },
   "outputs": [
    {
     "data": {
      "text/plain": [
       "24.73560902"
      ]
     },
     "execution_count": 32,
     "metadata": {
      "tags": []
     },
     "output_type": "execute_result"
    }
   ],
   "source": [
    "range"
   ]
  },
  {
   "cell_type": "code",
   "execution_count": null,
   "metadata": {
    "id": "L4zopGe7A3hP"
   },
   "outputs": [],
   "source": [
    "variance = st.variance(data)"
   ]
  },
  {
   "cell_type": "code",
   "execution_count": null,
   "metadata": {
    "id": "9ondond8A3hP",
    "outputId": "1bb01704-64d0-43a9-cabe-de7641cfbd7a"
   },
   "outputs": [
    {
     "data": {
      "text/plain": [
       "14.803076959625288"
      ]
     },
     "execution_count": 101,
     "metadata": {
      "tags": []
     },
     "output_type": "execute_result"
    }
   ],
   "source": [
    "variance"
   ]
  },
  {
   "cell_type": "code",
   "execution_count": null,
   "metadata": {
    "id": "26EjUaVVA3hP"
   },
   "outputs": [],
   "source": [
    "stdev = st.stdev(data)"
   ]
  },
  {
   "cell_type": "code",
   "execution_count": null,
   "metadata": {
    "id": "JWmMk4_HA3hQ",
    "outputId": "060d2b21-4d8d-4088-fa1b-78cb1119b8e6"
   },
   "outputs": [
    {
     "data": {
      "text/plain": [
       "3.8474767003355965"
      ]
     },
     "execution_count": 36,
     "metadata": {
      "tags": []
     },
     "output_type": "execute_result"
    }
   ],
   "source": [
    "stdev"
   ]
  },
  {
   "cell_type": "code",
   "execution_count": null,
   "metadata": {
    "id": "5k4mQWpbA3hQ"
   },
   "outputs": [],
   "source": [
    "from scipy import stats\n",
    "zscore = stats.zscore(data)"
   ]
  },
  {
   "cell_type": "code",
   "execution_count": null,
   "metadata": {
    "id": "_nGJvp0GA3hQ",
    "outputId": "0f1efabb-4b6b-4cef-b453-6e0d9de375a6"
   },
   "outputs": [
    {
     "data": {
      "text/plain": [
       "array([-3.14620984, -3.0542685 , -2.987502  , ...,  3.16085641,\n",
       "        3.18507181,  3.28315876])"
      ]
     },
     "execution_count": 103,
     "metadata": {
      "tags": []
     },
     "output_type": "execute_result"
    }
   ],
   "source": [
    "zscore"
   ]
  },
  {
   "cell_type": "code",
   "execution_count": null,
   "metadata": {
    "id": "7QTPOrhZA3hR"
   },
   "outputs": [],
   "source": [
    "scores = pd.DataFrame(zscore)"
   ]
  },
  {
   "cell_type": "code",
   "execution_count": null,
   "metadata": {
    "id": "IatRTAxQA3hR",
    "outputId": "169d7c96-6e99-4938-9168-9e6997718b8f"
   },
   "outputs": [
    {
     "data": {
      "text/html": [
       "<div>\n",
       "<style scoped>\n",
       "    .dataframe tbody tr th:only-of-type {\n",
       "        vertical-align: middle;\n",
       "    }\n",
       "\n",
       "    .dataframe tbody tr th {\n",
       "        vertical-align: top;\n",
       "    }\n",
       "\n",
       "    .dataframe thead th {\n",
       "        text-align: right;\n",
       "    }\n",
       "</style>\n",
       "<table border=\"1\" class=\"dataframe\">\n",
       "  <thead>\n",
       "    <tr style=\"text-align: right;\">\n",
       "      <th></th>\n",
       "      <th>0</th>\n",
       "    </tr>\n",
       "  </thead>\n",
       "  <tbody>\n",
       "    <tr>\n",
       "      <th>0</th>\n",
       "      <td>-3.146184</td>\n",
       "    </tr>\n",
       "    <tr>\n",
       "      <th>1</th>\n",
       "      <td>-3.054244</td>\n",
       "    </tr>\n",
       "    <tr>\n",
       "      <th>2</th>\n",
       "      <td>-2.987478</td>\n",
       "    </tr>\n",
       "    <tr>\n",
       "      <th>3</th>\n",
       "      <td>-2.916045</td>\n",
       "    </tr>\n",
       "    <tr>\n",
       "      <th>4</th>\n",
       "      <td>-2.867196</td>\n",
       "    </tr>\n",
       "    <tr>\n",
       "      <th>...</th>\n",
       "      <td>...</td>\n",
       "    </tr>\n",
       "    <tr>\n",
       "      <th>9995</th>\n",
       "      <td>3.048423</td>\n",
       "    </tr>\n",
       "    <tr>\n",
       "      <th>9996</th>\n",
       "      <td>3.143602</td>\n",
       "    </tr>\n",
       "    <tr>\n",
       "      <th>9997</th>\n",
       "      <td>3.160798</td>\n",
       "    </tr>\n",
       "    <tr>\n",
       "      <th>9998</th>\n",
       "      <td>3.185013</td>\n",
       "    </tr>\n",
       "    <tr>\n",
       "      <th>9999</th>\n",
       "      <td>3.283099</td>\n",
       "    </tr>\n",
       "  </tbody>\n",
       "</table>\n",
       "<p>10000 rows × 1 columns</p>\n",
       "</div>"
      ],
      "text/plain": [
       "             0\n",
       "0    -3.146184\n",
       "1    -3.054244\n",
       "2    -2.987478\n",
       "3    -2.916045\n",
       "4    -2.867196\n",
       "...        ...\n",
       "9995  3.048423\n",
       "9996  3.143602\n",
       "9997  3.160798\n",
       "9998  3.185013\n",
       "9999  3.283099\n",
       "\n",
       "[10000 rows x 1 columns]"
      ]
     },
     "execution_count": 100,
     "metadata": {
      "tags": []
     },
     "output_type": "execute_result"
    }
   ],
   "source": [
    "scores"
   ]
  },
  {
   "cell_type": "code",
   "execution_count": null,
   "metadata": {
    "id": "wxpFMdmZA3hR"
   },
   "outputs": [],
   "source": [
    "range = max(data)-min(data)"
   ]
  },
  {
   "cell_type": "code",
   "execution_count": null,
   "metadata": {
    "id": "Fip6ItUoA3hR",
    "outputId": "d6546fac-a630-4a20-f41f-e6929490c7d5"
   },
   "outputs": [
    {
     "data": {
      "text/plain": [
       "24.73560902129249"
      ]
     },
     "execution_count": 102,
     "metadata": {
      "tags": []
     },
     "output_type": "execute_result"
    }
   ],
   "source": [
    "range"
   ]
  },
  {
   "cell_type": "code",
   "execution_count": null,
   "metadata": {
    "id": "O9GUFVC4A3hS"
   },
   "outputs": [],
   "source": []
  },
  {
   "cell_type": "code",
   "execution_count": null,
   "metadata": {
    "id": "taSf_WBbA3hS"
   },
   "outputs": [],
   "source": []
  }
 ],
 "metadata": {
  "colab": {
   "collapsed_sections": [
    "uVXLp9U7A3gz",
    "PMJwx5ayA3g6",
    "Dxk-YWjqA3hB",
    "HM4fAzcIA3hD",
    "-Y7SUrOOA3hE",
    "OpuhoLyyA3hG",
    "_f0XiF5zA3hI"
   ],
   "name": "Session 1.ipynb",
   "provenance": []
  },
  "kernelspec": {
   "display_name": "Python 3 (ipykernel)",
   "language": "python",
   "name": "python3"
  },
  "language_info": {
   "codemirror_mode": {
    "name": "ipython",
    "version": 3
   },
   "file_extension": ".py",
   "mimetype": "text/x-python",
   "name": "python",
   "nbconvert_exporter": "python",
   "pygments_lexer": "ipython3",
   "version": "3.9.7"
  }
 },
 "nbformat": 4,
 "nbformat_minor": 1
}
