{
 "cells": [
  {
   "cell_type": "markdown",
   "metadata": {
    "id": "d0HylO-DA3gi"
   },
   "source": [
    "#                                                   Python"
   ]
  },
  {
   "cell_type": "markdown",
   "metadata": {
    "colab": {
     "base_uri": "https://localhost:8080/",
     "height": 129
    },
    "executionInfo": {
     "elapsed": 890,
     "status": "error",
     "timestamp": 1617788711281,
     "user": {
      "displayName": "Sərxan Əhmədli",
      "photoUrl": "https://lh3.googleusercontent.com/a-/AOh14GgzNdNktu6hN-v8sI0do1embvEZksrB9nbb8k9k=s64",
      "userId": "12519277191260983946"
     },
     "user_tz": -240
    },
    "id": "1yL_Pr6aA3go",
    "outputId": "7e407e58-d127-41c8-9c60-a00447158cc8"
   },
   "source": [
    "# Arithmetics"
   ]
  },
  {
   "cell_type": "code",
   "execution_count": 24,
   "metadata": {
    "id": "qjynsrwhA3gp"
   },
   "outputs": [],
   "source": [
    "a = 10\n",
    "b = 1 \n",
    "# deyisen yaratma usulu\n",
    "d = 50\n",
    "f = 3.5\n",
    "c = True\n",
    "# True False - 0-False ; 1-True"
   ]
  },
  {
   "cell_type": "code",
   "execution_count": 25,
   "metadata": {},
   "outputs": [
    {
     "data": {
      "text/plain": [
       "float"
      ]
     },
     "execution_count": 25,
     "metadata": {},
     "output_type": "execute_result"
    }
   ],
   "source": [
    "type(f)"
   ]
  },
  {
   "cell_type": "code",
   "execution_count": 26,
   "metadata": {},
   "outputs": [
    {
     "ename": "SyntaxError",
     "evalue": "invalid syntax (Temp/ipykernel_9696/533071788.py, line 4)",
     "output_type": "error",
     "traceback": [
      "\u001b[1;36m  File \u001b[1;32m\"C:\\Users\\Shamil\\AppData\\Local\\Temp/ipykernel_9696/533071788.py\"\u001b[1;36m, line \u001b[1;32m4\u001b[0m\n\u001b[1;33m    class{\u001b[0m\n\u001b[1;37m         ^\u001b[0m\n\u001b[1;31mSyntaxError\u001b[0m\u001b[1;31m:\u001b[0m invalid syntax\n"
     ]
    }
   ],
   "source": [
    "print('Hello World!')\n",
    "\n",
    "import string.io\n",
    "class{\n",
    "    \n",
    "}"
   ]
  },
  {
   "cell_type": "code",
   "execution_count": 27,
   "metadata": {
    "colab": {
     "base_uri": "https://localhost:8080/"
    },
    "executionInfo": {
     "elapsed": 612,
     "status": "ok",
     "timestamp": 1617788714748,
     "user": {
      "displayName": "Sərxan Əhmədli",
      "photoUrl": "https://lh3.googleusercontent.com/a-/AOh14GgzNdNktu6hN-v8sI0do1embvEZksrB9nbb8k9k=s64",
      "userId": "12519277191260983946"
     },
     "user_tz": -240
    },
    "id": "zeGxi96DA3gq",
    "outputId": "a136d398-e60e-49f2-fe8b-109929bb4b37"
   },
   "outputs": [
    {
     "data": {
      "text/plain": [
       "bool"
      ]
     },
     "execution_count": 27,
     "metadata": {},
     "output_type": "execute_result"
    }
   ],
   "source": [
    "type(c)\n",
    "type(c)\n",
    "# int-integer(sayi) str-string(metn) bool-Dogru ve ya Yanlis\n",
    "# bool- Boolean"
   ]
  },
  {
   "cell_type": "code",
   "execution_count": 28,
   "metadata": {
    "colab": {
     "base_uri": "https://localhost:8080/"
    },
    "executionInfo": {
     "elapsed": 559,
     "status": "ok",
     "timestamp": 1617788715800,
     "user": {
      "displayName": "Sərxan Əhmədli",
      "photoUrl": "https://lh3.googleusercontent.com/a-/AOh14GgzNdNktu6hN-v8sI0do1embvEZksrB9nbb8k9k=s64",
      "userId": "12519277191260983946"
     },
     "user_tz": -240
    },
    "id": "ksJMyJ0ZA3gq",
    "outputId": "f4df22b6-72f7-40dc-d7a9-7f8c9600e8ed"
   },
   "outputs": [
    {
     "name": "stdout",
     "output_type": "stream",
     "text": [
      "10\n"
     ]
    }
   ],
   "source": [
    "print(a*b)"
   ]
  },
  {
   "cell_type": "code",
   "execution_count": 30,
   "metadata": {},
   "outputs": [],
   "source": [
    "b = 2"
   ]
  },
  {
   "cell_type": "code",
   "execution_count": 31,
   "metadata": {
    "colab": {
     "base_uri": "https://localhost:8080/"
    },
    "executionInfo": {
     "elapsed": 801,
     "status": "ok",
     "timestamp": 1617788717311,
     "user": {
      "displayName": "Sərxan Əhmədli",
      "photoUrl": "https://lh3.googleusercontent.com/a-/AOh14GgzNdNktu6hN-v8sI0do1embvEZksrB9nbb8k9k=s64",
      "userId": "12519277191260983946"
     },
     "user_tz": -240
    },
    "id": "_vYGkgAkA3gq",
    "outputId": "4f483faf-0acb-47fa-b536-94a356dca380"
   },
   "outputs": [
    {
     "data": {
      "text/plain": [
       "100"
      ]
     },
     "execution_count": 31,
     "metadata": {},
     "output_type": "execute_result"
    }
   ],
   "source": [
    "a ** b\n",
    "# ** - power(kuvvet ustu)\n",
    "# 10**2"
   ]
  },
  {
   "cell_type": "code",
   "execution_count": 32,
   "metadata": {
    "colab": {
     "base_uri": "https://localhost:8080/"
    },
    "executionInfo": {
     "elapsed": 1165,
     "status": "ok",
     "timestamp": 1617788718755,
     "user": {
      "displayName": "Sərxan Əhmədli",
      "photoUrl": "https://lh3.googleusercontent.com/a-/AOh14GgzNdNktu6hN-v8sI0do1embvEZksrB9nbb8k9k=s64",
      "userId": "12519277191260983946"
     },
     "user_tz": -240
    },
    "id": "grC2dFyVA3gr",
    "outputId": "93a227c7-1252-4586-ed79-156c37afc1a9"
   },
   "outputs": [
    {
     "data": {
      "text/plain": [
       "5.0"
      ]
     },
     "execution_count": 32,
     "metadata": {},
     "output_type": "execute_result"
    }
   ],
   "source": [
    "a / b\n",
    "# float - tam ve kesr hisseden ibaret bir sayi 3.5 2.27 6.666666..\n",
    "# / - float result  qaytarir"
   ]
  },
  {
   "cell_type": "code",
   "execution_count": 33,
   "metadata": {},
   "outputs": [
    {
     "data": {
      "text/plain": [
       "5"
      ]
     },
     "execution_count": 33,
     "metadata": {},
     "output_type": "execute_result"
    }
   ],
   "source": [
    "a // b\n",
    "# // - integer result alinir"
   ]
  },
  {
   "cell_type": "code",
   "execution_count": 34,
   "metadata": {
    "colab": {
     "base_uri": "https://localhost:8080/"
    },
    "executionInfo": {
     "elapsed": 439,
     "status": "ok",
     "timestamp": 1617788719144,
     "user": {
      "displayName": "Sərxan Əhmədli",
      "photoUrl": "https://lh3.googleusercontent.com/a-/AOh14GgzNdNktu6hN-v8sI0do1embvEZksrB9nbb8k9k=s64",
      "userId": "12519277191260983946"
     },
     "user_tz": -240
    },
    "id": "SdssNEbhA3gr",
    "outputId": "d1bc7590-0ae8-4c48-90ae-d020dafb0d4e"
   },
   "outputs": [
    {
     "data": {
      "text/plain": [
       "0"
      ]
     },
     "execution_count": 34,
     "metadata": {},
     "output_type": "execute_result"
    }
   ],
   "source": [
    "round(b / a)\n",
    "# 6.5 - 7\n",
    "# round - yuvarlaklasdirir"
   ]
  },
  {
   "cell_type": "code",
   "execution_count": null,
   "metadata": {
    "id": "VIhod2SzA3gs"
   },
   "outputs": [],
   "source": []
  },
  {
   "cell_type": "code",
   "execution_count": 35,
   "metadata": {
    "colab": {
     "base_uri": "https://localhost:8080/"
    },
    "executionInfo": {
     "elapsed": 1907,
     "status": "ok",
     "timestamp": 1617788728699,
     "user": {
      "displayName": "Sərxan Əhmədli",
      "photoUrl": "https://lh3.googleusercontent.com/a-/AOh14GgzNdNktu6hN-v8sI0do1embvEZksrB9nbb8k9k=s64",
      "userId": "12519277191260983946"
     },
     "user_tz": -240
    },
    "id": "UY2OzKcuA3gs",
    "outputId": "c235e7e9-7cc3-4599-e2b0-8efa31ca719d"
   },
   "outputs": [
    {
     "data": {
      "text/plain": [
       "0.2"
      ]
     },
     "execution_count": 35,
     "metadata": {},
     "output_type": "execute_result"
    }
   ],
   "source": [
    "b / a\n",
    "# 2/10 = 0.2"
   ]
  },
  {
   "cell_type": "code",
   "execution_count": 36,
   "metadata": {
    "colab": {
     "base_uri": "https://localhost:8080/"
    },
    "executionInfo": {
     "elapsed": 1809,
     "status": "ok",
     "timestamp": 1617788732652,
     "user": {
      "displayName": "Sərxan Əhmədli",
      "photoUrl": "https://lh3.googleusercontent.com/a-/AOh14GgzNdNktu6hN-v8sI0do1embvEZksrB9nbb8k9k=s64",
      "userId": "12519277191260983946"
     },
     "user_tz": -240
    },
    "id": "Bn7oHTxiA3gs",
    "outputId": "5548f189-2fca-4bd0-d6e6-9fb6f4d287b5"
   },
   "outputs": [
    {
     "data": {
      "text/plain": [
       "0"
      ]
     },
     "execution_count": 36,
     "metadata": {},
     "output_type": "execute_result"
    }
   ],
   "source": [
    "int(b/a)\n",
    "# Ededin tam hissesi "
   ]
  },
  {
   "cell_type": "code",
   "execution_count": 37,
   "metadata": {
    "colab": {
     "base_uri": "https://localhost:8080/"
    },
    "executionInfo": {
     "elapsed": 993,
     "status": "ok",
     "timestamp": 1617788732653,
     "user": {
      "displayName": "Sərxan Əhmədli",
      "photoUrl": "https://lh3.googleusercontent.com/a-/AOh14GgzNdNktu6hN-v8sI0do1embvEZksrB9nbb8k9k=s64",
      "userId": "12519277191260983946"
     },
     "user_tz": -240
    },
    "id": "wn1LSx_MA3gt",
    "outputId": "c4d3f77d-1db0-4d9c-e89d-df2cc2878580"
   },
   "outputs": [
    {
     "data": {
      "text/plain": [
       "2"
      ]
     },
     "execution_count": 37,
     "metadata": {},
     "output_type": "execute_result"
    }
   ],
   "source": [
    "b%a\n",
    "# modul \n",
    "# 5/2 = 2.5 \n",
    "# 4/2 = 2\n",
    "# 5/2 = 2 (q.1)\n",
    "# 5%2 = 1\n",
    "# 2%10 = 0(q.2)"
   ]
  },
  {
   "cell_type": "code",
   "execution_count": 39,
   "metadata": {},
   "outputs": [
    {
     "data": {
      "text/plain": [
       "1.7000000000000002"
      ]
     },
     "execution_count": 39,
     "metadata": {},
     "output_type": "execute_result"
    }
   ],
   "source": [
    "val1 = 5.7\n",
    "val2 = 2\n",
    " \n",
    "val1%val2 \n",
    "# 5.7%2 = 2(q.1.7)\n",
    "# % = qaliq"
   ]
  },
  {
   "cell_type": "code",
   "execution_count": 40,
   "metadata": {},
   "outputs": [
    {
     "data": {
      "text/plain": [
       "2"
      ]
     },
     "execution_count": 40,
     "metadata": {},
     "output_type": "execute_result"
    }
   ],
   "source": [
    "req1 = 7\n",
    "req2 = 5\n",
    "\n",
    "req1%req2\n"
   ]
  },
  {
   "cell_type": "code",
   "execution_count": 54,
   "metadata": {
    "colab": {
     "base_uri": "https://localhost:8080/"
    },
    "executionInfo": {
     "elapsed": 1791,
     "status": "ok",
     "timestamp": 1617788734350,
     "user": {
      "displayName": "Sərxan Əhmədli",
      "photoUrl": "https://lh3.googleusercontent.com/a-/AOh14GgzNdNktu6hN-v8sI0do1embvEZksrB9nbb8k9k=s64",
      "userId": "12519277191260983946"
     },
     "user_tz": -240
    },
    "id": "bOSj7IQHA3gt",
    "outputId": "e276e43a-8f89-4dac-fd99-f0cefac7b0ab"
   },
   "outputs": [
    {
     "data": {
      "text/plain": [
       "10.45"
      ]
     },
     "execution_count": 54,
     "metadata": {},
     "output_type": "execute_result"
    }
   ],
   "source": [
    "round(10.0)\n",
    "# round = int \n",
    "round(10.454653353,2)\n",
    "round(10.45436,2)"
   ]
  },
  {
   "cell_type": "code",
   "execution_count": 56,
   "metadata": {
    "colab": {
     "base_uri": "https://localhost:8080/"
    },
    "executionInfo": {
     "elapsed": 747,
     "status": "ok",
     "timestamp": 1617788734352,
     "user": {
      "displayName": "Sərxan Əhmədli",
      "photoUrl": "https://lh3.googleusercontent.com/a-/AOh14GgzNdNktu6hN-v8sI0do1embvEZksrB9nbb8k9k=s64",
      "userId": "12519277191260983946"
     },
     "user_tz": -240
    },
    "id": "jE1zYo-iA3gt",
    "outputId": "267987c2-aa11-4155-ba69-c030b041f074"
   },
   "outputs": [
    {
     "data": {
      "text/plain": [
       "1000"
      ]
     },
     "execution_count": 56,
     "metadata": {},
     "output_type": "execute_result"
    }
   ],
   "source": [
    "b =3\n",
    "pow(a,b)\n",
    "# a-10 \n",
    "# b-2 \n",
    "# 10**3\n",
    "# a**b - kuvvet ustu"
   ]
  },
  {
   "cell_type": "markdown",
   "metadata": {},
   "source": [
    "# Anlamani check ediyoruz"
   ]
  },
  {
   "cell_type": "code",
   "execution_count": null,
   "metadata": {},
   "outputs": [],
   "source": [
    "\n",
    "sayi1 = 40\n",
    "sayi2 = 6\n",
    "# kelime1 = \"Mahmut\"\n",
    "# kelime2 = \"Ali\"\n",
    "#toplama +\n",
    "toplama1 = sayi1 + sayi2\n",
    "print(toplama1)\n",
    "# toplama2 = kelime1 + kelime2\n",
    "# print(toplama2)\n",
    "# hata alınır\n",
    "#toplama3 = sayi1 + kelime1\n",
    "#print(toplama3)\n",
    "\n",
    "# çıkartma işlemi yapılacaktır -\n",
    "fark = sayi1 - sayi2\n",
    "print(fark)\n",
    "\n",
    "# çarpma işlemi *\n",
    "sayi1 = 40\n",
    "sayi2 = 6\n",
    "carpma1 = sayi1 * sayi2\n",
    "print(carpma1)\n",
    "# carpma2 = sayi2 * kelime1\n",
    "# print(carpma2)\n",
    "# carpma3 = kelime2*sayi2\n",
    "# print(carpma3)\n",
    "\n",
    "#bölme işlemler / - float\n",
    "bol = sayi1 / sayi2\n",
    "print(bol)\n",
    "print(8/4)\n",
    "\n",
    "# kere bulma // - int\n",
    "bol2 = sayi1//sayi2\n",
    "print(bol2)\n",
    "bol3 = sayi2//sayi1\n",
    "print(bol3)\n",
    "\n",
    "# mod alma işlemi % = qaliq\n",
    "modalma = sayi1%sayi2\n",
    "print(modalma)\n",
    "\n",
    "#kuvvet alma **\n",
    "kuvvet = sayi1**sayi2\n",
    "print(kuvvet)\n",
    "kuvvet1 = 2**5\n",
    "print(kuvvet1)"
   ]
  },
  {
   "cell_type": "code",
   "execution_count": 57,
   "metadata": {},
   "outputs": [
    {
     "data": {
      "text/plain": [
       "81"
      ]
     },
     "execution_count": 57,
     "metadata": {},
     "output_type": "execute_result"
    }
   ],
   "source": [
    "a = 3\n",
    "b = 4\n",
    "a**b\n"
   ]
  },
  {
   "cell_type": "markdown",
   "metadata": {
    "id": "knLE02tjA3gt"
   },
   "source": [
    "## String"
   ]
  },
  {
   "cell_type": "code",
   "execution_count": 58,
   "metadata": {
    "id": "sHCPxtEBA3gu"
   },
   "outputs": [],
   "source": [
    "word = \"Good morning, friends.\"\n",
    "# \" \",'' - string\n",
    "# '5' -string\n",
    "# 'True' - string"
   ]
  },
  {
   "cell_type": "code",
   "execution_count": 61,
   "metadata": {
    "scrolled": true
   },
   "outputs": [
    {
     "name": "stdout",
     "output_type": "stream",
     "text": [
      "O\n",
      "r\n",
      "e\n"
     ]
    }
   ],
   "source": [
    "# Indexleme\n",
    "name = 'Omer'\n",
    "# 0 - saymaga baslayiriq\n",
    "# -1 - sondan saymaga baslayiriq \n",
    "print(name[0]) \n",
    "print(name[-1])\n",
    "print(name[-2])"
   ]
  },
  {
   "cell_type": "code",
   "execution_count": 65,
   "metadata": {
    "colab": {
     "base_uri": "https://localhost:8080/",
     "height": 35
    },
    "executionInfo": {
     "elapsed": 467,
     "status": "ok",
     "timestamp": 1617788736943,
     "user": {
      "displayName": "Sərxan Əhmədli",
      "photoUrl": "https://lh3.googleusercontent.com/a-/AOh14GgzNdNktu6hN-v8sI0do1embvEZksrB9nbb8k9k=s64",
      "userId": "12519277191260983946"
     },
     "user_tz": -240
    },
    "id": "FSDXCHYNA3gu",
    "outputId": "998ce689-2ae4-41f0-ca06-cd7b3ce9b667"
   },
   "outputs": [
    {
     "data": {
      "text/plain": [
       "'Good'"
      ]
     },
     "execution_count": 65,
     "metadata": {},
     "output_type": "execute_result"
    }
   ],
   "source": [
    "# Slicing - hisselere bolmek \n",
    "# [start-end] end-1 - e qeder olan hisseni goturur\n",
    "word[0:4]"
   ]
  },
  {
   "cell_type": "code",
   "execution_count": 69,
   "metadata": {
    "colab": {
     "base_uri": "https://localhost:8080/",
     "height": 35
    },
    "executionInfo": {
     "elapsed": 1268,
     "status": "ok",
     "timestamp": 1617788738747,
     "user": {
      "displayName": "Sərxan Əhmədli",
      "photoUrl": "https://lh3.googleusercontent.com/a-/AOh14GgzNdNktu6hN-v8sI0do1embvEZksrB9nbb8k9k=s64",
      "userId": "12519277191260983946"
     },
     "user_tz": -240
    },
    "id": "RF-qM1mnA3gu",
    "outputId": "39dda61b-4c47-4dfd-c97a-32d3fd716a08"
   },
   "outputs": [
    {
     "data": {
      "text/plain": [
       "'rien'"
      ]
     },
     "execution_count": 69,
     "metadata": {},
     "output_type": "execute_result"
    }
   ],
   "source": [
    "# [start-end]\n",
    "word[-7:-3]\n"
   ]
  },
  {
   "cell_type": "code",
   "execution_count": 70,
   "metadata": {},
   "outputs": [
    {
     "data": {
      "text/plain": [
       "'ds'"
      ]
     },
     "execution_count": 70,
     "metadata": {},
     "output_type": "execute_result"
    }
   ],
   "source": [
    "word[-3:-1]"
   ]
  },
  {
   "cell_type": "code",
   "execution_count": 71,
   "metadata": {},
   "outputs": [
    {
     "data": {
      "text/plain": [
       "'ends'"
      ]
     },
     "execution_count": 71,
     "metadata": {},
     "output_type": "execute_result"
    }
   ],
   "source": [
    "# [start-end]\n",
    "word[-5:-1]\n",
    "# ilk reqem - (-5) \n",
    "# sondan saymaga -1 den baslayiriq ve -5 e catanda dayaniriq\n",
    "# "
   ]
  },
  {
   "cell_type": "code",
   "execution_count": 72,
   "metadata": {
    "colab": {
     "base_uri": "https://localhost:8080/"
    },
    "executionInfo": {
     "elapsed": 669,
     "status": "ok",
     "timestamp": 1617788739036,
     "user": {
      "displayName": "Sərxan Əhmədli",
      "photoUrl": "https://lh3.googleusercontent.com/a-/AOh14GgzNdNktu6hN-v8sI0do1embvEZksrB9nbb8k9k=s64",
      "userId": "12519277191260983946"
     },
     "user_tz": -240
    },
    "id": "cGIHKnV3A3gu",
    "outputId": "649819f0-2600-4416-9280-4e36fc93ef8e"
   },
   "outputs": [
    {
     "data": {
      "text/plain": [
       "22"
      ]
     },
     "execution_count": 72,
     "metadata": {},
     "output_type": "execute_result"
    }
   ],
   "source": [
    "len(word)\n",
    "# len - length - string in uzunlugunu teyin edir"
   ]
  },
  {
   "cell_type": "code",
   "execution_count": 80,
   "metadata": {
    "colab": {
     "base_uri": "https://localhost:8080/",
     "height": 35
    },
    "executionInfo": {
     "elapsed": 695,
     "status": "ok",
     "timestamp": 1617788754940,
     "user": {
      "displayName": "Sərxan Əhmədli",
      "photoUrl": "https://lh3.googleusercontent.com/a-/AOh14GgzNdNktu6hN-v8sI0do1embvEZksrB9nbb8k9k=s64",
      "userId": "12519277191260983946"
     },
     "user_tz": -240
    },
    "id": "ROHHR7RdA3gv",
    "outputId": "3373a1fa-5381-4e50-e6a4-86860ab8431b"
   },
   "outputs": [
    {
     "data": {
      "text/plain": [
       "['Good ', ', friends.']"
      ]
     },
     "execution_count": 80,
     "metadata": {},
     "output_type": "execute_result"
    }
   ],
   "source": [
    "word.split('morning')\n",
    "# split - neyese gore ayirmaq ()\n"
   ]
  },
  {
   "cell_type": "code",
   "execution_count": 82,
   "metadata": {
    "colab": {
     "base_uri": "https://localhost:8080/",
     "height": 35
    },
    "executionInfo": {
     "elapsed": 541,
     "status": "ok",
     "timestamp": 1617788755224,
     "user": {
      "displayName": "Sərxan Əhmədli",
      "photoUrl": "https://lh3.googleusercontent.com/a-/AOh14GgzNdNktu6hN-v8sI0do1embvEZksrB9nbb8k9k=s64",
      "userId": "12519277191260983946"
     },
     "user_tz": -240
    },
    "id": "rk4d5jWPA3gv",
    "outputId": "87461a20-4b74-4bb2-d555-6f076e7b8ae8"
   },
   "outputs": [
    {
     "data": {
      "text/plain": [
       "'GOOD MORNING, FRIENDS.'"
      ]
     },
     "execution_count": 82,
     "metadata": {},
     "output_type": "execute_result"
    }
   ],
   "source": [
    "word.upper()\n",
    "# lower -kicik herf\n",
    "# upper-boyuk herf"
   ]
  },
  {
   "cell_type": "code",
   "execution_count": 86,
   "metadata": {
    "colab": {
     "base_uri": "https://localhost:8080/",
     "height": 35
    },
    "executionInfo": {
     "elapsed": 1150,
     "status": "ok",
     "timestamp": 1617788756528,
     "user": {
      "displayName": "Sərxan Əhmədli",
      "photoUrl": "https://lh3.googleusercontent.com/a-/AOh14GgzNdNktu6hN-v8sI0do1embvEZksrB9nbb8k9k=s64",
      "userId": "12519277191260983946"
     },
     "user_tz": -240
    },
    "id": "_D3GvJcUA3gv",
    "outputId": "aced1463-d902-4fa2-f44f-b0d9db09d84c"
   },
   "outputs": [
    {
     "data": {
      "text/plain": [
       "'bad morning, friends.'"
      ]
     },
     "execution_count": 86,
     "metadata": {},
     "output_type": "execute_result"
    }
   ],
   "source": [
    "word.replace('Good','bad')\n",
    "# replace - evez etmek,yer deyisdirmek"
   ]
  },
  {
   "cell_type": "code",
   "execution_count": null,
   "metadata": {
    "id": "aVOesrreA3gw"
   },
   "outputs": [],
   "source": [
    "lst = word.split(',')"
   ]
  },
  {
   "cell_type": "code",
   "execution_count": null,
   "metadata": {
    "colab": {
     "base_uri": "https://localhost:8080/"
    },
    "executionInfo": {
     "elapsed": 836,
     "status": "ok",
     "timestamp": 1617788757527,
     "user": {
      "displayName": "Sərxan Əhmədli",
      "photoUrl": "https://lh3.googleusercontent.com/a-/AOh14GgzNdNktu6hN-v8sI0do1embvEZksrB9nbb8k9k=s64",
      "userId": "12519277191260983946"
     },
     "user_tz": -240
    },
    "id": "6vbiVDCJA3gw",
    "outputId": "370306bc-f033-4abf-ae61-71ce76207f59"
   },
   "outputs": [],
   "source": [
    "lst"
   ]
  },
  {
   "cell_type": "code",
   "execution_count": null,
   "metadata": {
    "id": "-h1Ef2WAA3gw"
   },
   "outputs": [],
   "source": [
    "word2 = \"What's up\""
   ]
  },
  {
   "cell_type": "code",
   "execution_count": null,
   "metadata": {
    "colab": {
     "base_uri": "https://localhost:8080/",
     "height": 35
    },
    "executionInfo": {
     "elapsed": 630,
     "status": "ok",
     "timestamp": 1617788758491,
     "user": {
      "displayName": "Sərxan Əhmədli",
      "photoUrl": "https://lh3.googleusercontent.com/a-/AOh14GgzNdNktu6hN-v8sI0do1embvEZksrB9nbb8k9k=s64",
      "userId": "12519277191260983946"
     },
     "user_tz": -240
    },
    "id": "4PQLBtMxA3gw",
    "outputId": "82ac8509-bd53-4ab3-807d-51f332f051fc"
   },
   "outputs": [],
   "source": [
    "word+word2"
   ]
  },
  {
   "cell_type": "code",
   "execution_count": null,
   "metadata": {
    "id": "gNlAvf47A3gw"
   },
   "outputs": [],
   "source": [
    "c=\"Family\""
   ]
  },
  {
   "cell_type": "code",
   "execution_count": null,
   "metadata": {
    "colab": {
     "base_uri": "https://localhost:8080/"
    },
    "executionInfo": {
     "elapsed": 986,
     "status": "ok",
     "timestamp": 1617788759875,
     "user": {
      "displayName": "Sərxan Əhmədli",
      "photoUrl": "https://lh3.googleusercontent.com/a-/AOh14GgzNdNktu6hN-v8sI0do1embvEZksrB9nbb8k9k=s64",
      "userId": "12519277191260983946"
     },
     "user_tz": -240
    },
    "id": "uRzWaIKVA3gx",
    "outputId": "59598ace-5448-45ae-d2fc-a2d33055effe"
   },
   "outputs": [],
   "source": [
    "type(c)"
   ]
  },
  {
   "cell_type": "code",
   "execution_count": null,
   "metadata": {
    "colab": {
     "base_uri": "https://localhost:8080/",
     "height": 35
    },
    "executionInfo": {
     "elapsed": 1204,
     "status": "ok",
     "timestamp": 1617788760331,
     "user": {
      "displayName": "Sərxan Əhmədli",
      "photoUrl": "https://lh3.googleusercontent.com/a-/AOh14GgzNdNktu6hN-v8sI0do1embvEZksrB9nbb8k9k=s64",
      "userId": "12519277191260983946"
     },
     "user_tz": -240
    },
    "id": "FTIAJwjCA3gx",
    "outputId": "37e97abc-c19a-4dee-dac1-4b9238468a0f"
   },
   "outputs": [],
   "source": [
    "word+\"5\""
   ]
  },
  {
   "cell_type": "code",
   "execution_count": null,
   "metadata": {
    "colab": {
     "base_uri": "https://localhost:8080/",
     "height": 35
    },
    "executionInfo": {
     "elapsed": 864,
     "status": "ok",
     "timestamp": 1617788760335,
     "user": {
      "displayName": "Sərxan Əhmədli",
      "photoUrl": "https://lh3.googleusercontent.com/a-/AOh14GgzNdNktu6hN-v8sI0do1embvEZksrB9nbb8k9k=s64",
      "userId": "12519277191260983946"
     },
     "user_tz": -240
    },
    "id": "9CeO8dDQA3gx",
    "outputId": "2e24fce5-c3ff-436e-d938-09c55ae2739d",
    "scrolled": true
   },
   "outputs": [],
   "source": [
    "word+c"
   ]
  },
  {
   "cell_type": "code",
   "execution_count": null,
   "metadata": {
    "colab": {
     "base_uri": "https://localhost:8080/",
     "height": 35
    },
    "executionInfo": {
     "elapsed": 1018,
     "status": "ok",
     "timestamp": 1617788760725,
     "user": {
      "displayName": "Sərxan Əhmədli",
      "photoUrl": "https://lh3.googleusercontent.com/a-/AOh14GgzNdNktu6hN-v8sI0do1embvEZksrB9nbb8k9k=s64",
      "userId": "12519277191260983946"
     },
     "user_tz": -240
    },
    "id": "XZcoc89SA3gx",
    "outputId": "55bece70-a986-4367-a71f-e80d2ce166e6"
   },
   "outputs": [],
   "source": [
    "word3 = \"He is {} years old\"\n",
    "word3.format(a)\n"
   ]
  },
  {
   "cell_type": "code",
   "execution_count": null,
   "metadata": {
    "colab": {
     "base_uri": "https://localhost:8080/",
     "height": 35
    },
    "executionInfo": {
     "elapsed": 939,
     "status": "ok",
     "timestamp": 1617788760727,
     "user": {
      "displayName": "Sərxan Əhmədli",
      "photoUrl": "https://lh3.googleusercontent.com/a-/AOh14GgzNdNktu6hN-v8sI0do1embvEZksrB9nbb8k9k=s64",
      "userId": "12519277191260983946"
     },
     "user_tz": -240
    },
    "id": "j4cZcYDYA3gy",
    "outputId": "1b3c07d9-c58e-4f02-db98-e9a7ea3c0956"
   },
   "outputs": [],
   "source": [
    "word3 = \"he is {} years old and his sister is {} {}\"\n",
    "word3.format(a,b,c)"
   ]
  },
  {
   "cell_type": "markdown",
   "metadata": {},
   "source": [
    "# Anlamani check ediyoruz"
   ]
  },
  {
   "cell_type": "code",
   "execution_count": null,
   "metadata": {},
   "outputs": [],
   "source": [
    "# -*- coding: utf-8 -*-\n",
    "# substring\n",
    "mesaj = \"Merhaba dünya\"\n",
    "print(mesaj[2:5])\n",
    "yeniMesaj = mesaj[12:13]\n",
    "print(yeniMesaj)\n",
    "\n",
    "# len\n",
    "print(len(mesaj))\n",
    "yeniMesaj2 = mesaj[len(mesaj)-1:len(mesaj)]\n",
    "print(yeniMesaj2)\n",
    "\n",
    "# lower upper\n",
    "print(mesaj.upper())\n",
    "print(mesaj.lower())\n",
    "\n",
    "# replace\n",
    "# mesaj = mesaj.replace(\"ü\",\"u\")\n",
    "print(mesaj.replace(\"ü\",\"u\"))\n",
    "print(mesaj)\n",
    "print(mesaj.replace(\"a\",\"e\"))\n",
    "\n",
    "# split ve strip\n",
    "bilgi = \"     Engin;Demiroğ;33;Ankara \".strip()\n",
    "print(bilgi.split())\n",
    "print(\"Adı = \" + bilgi.split(\";\")[0])\n",
    "\n",
    "# input\n",
    "ad = input(\"Adınız?\")\n",
    "sayi1 = input(\"Sayı 1 =? \")\n",
    "sayi2 = input(\"Sayı 2 =? \")\n",
    "print(int(sayi1) + int(sayi2))\n",
    "\n",
    "\n",
    "\n"
   ]
  },
  {
   "cell_type": "markdown",
   "metadata": {
    "id": "BsWXedWXA3gy"
   },
   "source": [
    "## Boolean"
   ]
  },
  {
   "cell_type": "code",
   "execution_count": null,
   "metadata": {
    "id": "eSi2_xk-A3gy"
   },
   "outputs": [],
   "source": [
    "d = -4\n",
    "# True False\n",
    "# =0 False\n",
    "# 0< - False ; >0 - True"
   ]
  },
  {
   "cell_type": "code",
   "execution_count": null,
   "metadata": {
    "colab": {
     "base_uri": "https://localhost:8080/"
    },
    "executionInfo": {
     "elapsed": 997,
     "status": "ok",
     "timestamp": 1617788916420,
     "user": {
      "displayName": "Sərxan Əhmədli",
      "photoUrl": "https://lh3.googleusercontent.com/a-/AOh14GgzNdNktu6hN-v8sI0do1embvEZksrB9nbb8k9k=s64",
      "userId": "12519277191260983946"
     },
     "user_tz": -240
    },
    "id": "VSnAijB5A3gy",
    "outputId": "d2066c90-da9a-4edc-e16a-f3ac7595be1d"
   },
   "outputs": [],
   "source": [
    "bool(d)"
   ]
  },
  {
   "cell_type": "code",
   "execution_count": null,
   "metadata": {
    "colab": {
     "base_uri": "https://localhost:8080/"
    },
    "executionInfo": {
     "elapsed": 426,
     "status": "ok",
     "timestamp": 1617788916798,
     "user": {
      "displayName": "Sərxan Əhmədli",
      "photoUrl": "https://lh3.googleusercontent.com/a-/AOh14GgzNdNktu6hN-v8sI0do1embvEZksrB9nbb8k9k=s64",
      "userId": "12519277191260983946"
     },
     "user_tz": -240
    },
    "id": "I9PoLKrSA3gy",
    "outputId": "cfb706f6-5ed4-4102-e3e1-e56b6df1a20d"
   },
   "outputs": [],
   "source": [
    "bool(b > a)\n",
    "# a =10\n",
    "# b =1 "
   ]
  },
  {
   "cell_type": "code",
   "execution_count": null,
   "metadata": {
    "colab": {
     "base_uri": "https://localhost:8080/"
    },
    "executionInfo": {
     "elapsed": 616,
     "status": "ok",
     "timestamp": 1617788917588,
     "user": {
      "displayName": "Sərxan Əhmədli",
      "photoUrl": "https://lh3.googleusercontent.com/a-/AOh14GgzNdNktu6hN-v8sI0do1embvEZksrB9nbb8k9k=s64",
      "userId": "12519277191260983946"
     },
     "user_tz": -240
    },
    "id": "NsP0z5OxA3gz",
    "outputId": "89189064-e645-48f8-b3f4-d74fd7c37763"
   },
   "outputs": [],
   "source": [
    "a>b"
   ]
  },
  {
   "cell_type": "markdown",
   "metadata": {
    "id": "uVXLp9U7A3gz"
   },
   "source": [
    "## List"
   ]
  },
  {
   "cell_type": "code",
   "execution_count": null,
   "metadata": {
    "id": "YG4NTcl2A3gz"
   },
   "outputs": [],
   "source": [
    "list1 = [1,2,3,4,5,6,7,8,9,10]"
   ]
  },
  {
   "cell_type": "code",
   "execution_count": null,
   "metadata": {
    "colab": {
     "base_uri": "https://localhost:8080/"
    },
    "executionInfo": {
     "elapsed": 502,
     "status": "ok",
     "timestamp": 1617788949622,
     "user": {
      "displayName": "Sərxan Əhmədli",
      "photoUrl": "https://lh3.googleusercontent.com/a-/AOh14GgzNdNktu6hN-v8sI0do1embvEZksrB9nbb8k9k=s64",
      "userId": "12519277191260983946"
     },
     "user_tz": -240
    },
    "id": "jDZxZ6G2A3gz",
    "outputId": "3acd459a-fdaa-4785-bd8f-db6a59e6a064"
   },
   "outputs": [],
   "source": [
    "list1[0]"
   ]
  },
  {
   "cell_type": "code",
   "execution_count": null,
   "metadata": {
    "colab": {
     "base_uri": "https://localhost:8080/"
    },
    "executionInfo": {
     "elapsed": 515,
     "status": "ok",
     "timestamp": 1617788950816,
     "user": {
      "displayName": "Sərxan Əhmədli",
      "photoUrl": "https://lh3.googleusercontent.com/a-/AOh14GgzNdNktu6hN-v8sI0do1embvEZksrB9nbb8k9k=s64",
      "userId": "12519277191260983946"
     },
     "user_tz": -240
    },
    "id": "ExXrThy9A3gz",
    "outputId": "3c40f505-b7f4-4805-85c3-beff23c8224e"
   },
   "outputs": [],
   "source": [
    "list1[2:]"
   ]
  },
  {
   "cell_type": "code",
   "execution_count": null,
   "metadata": {
    "colab": {
     "base_uri": "https://localhost:8080/"
    },
    "executionInfo": {
     "elapsed": 493,
     "status": "ok",
     "timestamp": 1617788951935,
     "user": {
      "displayName": "Sərxan Əhmədli",
      "photoUrl": "https://lh3.googleusercontent.com/a-/AOh14GgzNdNktu6hN-v8sI0do1embvEZksrB9nbb8k9k=s64",
      "userId": "12519277191260983946"
     },
     "user_tz": -240
    },
    "id": "LGsZxR4pA3g0",
    "outputId": "b86cfb60-2e32-431f-d715-ee2d2bd6ecc1"
   },
   "outputs": [],
   "source": [
    "list1[:-1:2]"
   ]
  },
  {
   "cell_type": "code",
   "execution_count": null,
   "metadata": {
    "colab": {
     "base_uri": "https://localhost:8080/"
    },
    "executionInfo": {
     "elapsed": 712,
     "status": "ok",
     "timestamp": 1617788989742,
     "user": {
      "displayName": "Sərxan Əhmədli",
      "photoUrl": "https://lh3.googleusercontent.com/a-/AOh14GgzNdNktu6hN-v8sI0do1embvEZksrB9nbb8k9k=s64",
      "userId": "12519277191260983946"
     },
     "user_tz": -240
    },
    "id": "CHq-X1s7A3g0",
    "outputId": "96eef9ed-9275-43f1-d44b-8573be274d7e"
   },
   "outputs": [],
   "source": [
    "list1[-1]"
   ]
  },
  {
   "cell_type": "code",
   "execution_count": null,
   "metadata": {
    "colab": {
     "base_uri": "https://localhost:8080/"
    },
    "executionInfo": {
     "elapsed": 600,
     "status": "ok",
     "timestamp": 1617788990825,
     "user": {
      "displayName": "Sərxan Əhmədli",
      "photoUrl": "https://lh3.googleusercontent.com/a-/AOh14GgzNdNktu6hN-v8sI0do1embvEZksrB9nbb8k9k=s64",
      "userId": "12519277191260983946"
     },
     "user_tz": -240
    },
    "id": "GBR5qv_pA3g0",
    "outputId": "15822c0b-f55e-4baa-b6ac-10a99854e5d7"
   },
   "outputs": [],
   "source": [
    "list1[1:10:2]"
   ]
  },
  {
   "cell_type": "code",
   "execution_count": null,
   "metadata": {
    "colab": {
     "base_uri": "https://localhost:8080/"
    },
    "executionInfo": {
     "elapsed": 654,
     "status": "ok",
     "timestamp": 1617788992399,
     "user": {
      "displayName": "Sərxan Əhmədli",
      "photoUrl": "https://lh3.googleusercontent.com/a-/AOh14GgzNdNktu6hN-v8sI0do1embvEZksrB9nbb8k9k=s64",
      "userId": "12519277191260983946"
     },
     "user_tz": -240
    },
    "id": "NLlpxi95A3g0",
    "outputId": "35856709-c077-4a38-ff93-161520a5371d"
   },
   "outputs": [],
   "source": [
    "list1[-5:10]"
   ]
  },
  {
   "cell_type": "code",
   "execution_count": null,
   "metadata": {
    "colab": {
     "base_uri": "https://localhost:8080/"
    },
    "executionInfo": {
     "elapsed": 674,
     "status": "ok",
     "timestamp": 1617788994555,
     "user": {
      "displayName": "Sərxan Əhmədli",
      "photoUrl": "https://lh3.googleusercontent.com/a-/AOh14GgzNdNktu6hN-v8sI0do1embvEZksrB9nbb8k9k=s64",
      "userId": "12519277191260983946"
     },
     "user_tz": -240
    },
    "id": "CsZTZW2OA3g0",
    "outputId": "a19c32f6-8780-4109-97d7-b09887cf4af0"
   },
   "outputs": [],
   "source": [
    "list1[::]"
   ]
  },
  {
   "cell_type": "code",
   "execution_count": null,
   "metadata": {
    "colab": {
     "base_uri": "https://localhost:8080/"
    },
    "executionInfo": {
     "elapsed": 825,
     "status": "ok",
     "timestamp": 1617789000707,
     "user": {
      "displayName": "Sərxan Əhmədli",
      "photoUrl": "https://lh3.googleusercontent.com/a-/AOh14GgzNdNktu6hN-v8sI0do1embvEZksrB9nbb8k9k=s64",
      "userId": "12519277191260983946"
     },
     "user_tz": -240
    },
    "id": "FZ0WLAt9A3g1",
    "outputId": "44c5c8b0-2b86-4a92-b389-ed31d230e15b"
   },
   "outputs": [],
   "source": [
    "list1[::-1]"
   ]
  },
  {
   "cell_type": "code",
   "execution_count": null,
   "metadata": {
    "colab": {
     "base_uri": "https://localhost:8080/"
    },
    "executionInfo": {
     "elapsed": 706,
     "status": "ok",
     "timestamp": 1617789183327,
     "user": {
      "displayName": "Sərxan Əhmədli",
      "photoUrl": "https://lh3.googleusercontent.com/a-/AOh14GgzNdNktu6hN-v8sI0do1embvEZksrB9nbb8k9k=s64",
      "userId": "12519277191260983946"
     },
     "user_tz": -240
    },
    "id": "0PaUscLwA3g1",
    "outputId": "5b39ba80-8e33-469f-87bf-6ae1973b0452"
   },
   "outputs": [],
   "source": [
    "for num in list1:\n",
    "    print(num)\n",
    "    "
   ]
  },
  {
   "cell_type": "code",
   "execution_count": null,
   "metadata": {
    "colab": {
     "base_uri": "https://localhost:8080/"
    },
    "executionInfo": {
     "elapsed": 1129,
     "status": "ok",
     "timestamp": 1617789195836,
     "user": {
      "displayName": "Sərxan Əhmədli",
      "photoUrl": "https://lh3.googleusercontent.com/a-/AOh14GgzNdNktu6hN-v8sI0do1embvEZksrB9nbb8k9k=s64",
      "userId": "12519277191260983946"
     },
     "user_tz": -240
    },
    "id": "cXrx58LfA3g1",
    "outputId": "d84751e1-5063-4bcd-bf1a-5410d48bd0a5"
   },
   "outputs": [],
   "source": [
    "if 15 in list1:\n",
    "    print(True)\n",
    "else:\n",
    "    print(False)"
   ]
  },
  {
   "cell_type": "code",
   "execution_count": null,
   "metadata": {
    "colab": {
     "base_uri": "https://localhost:8080/"
    },
    "executionInfo": {
     "elapsed": 2568,
     "status": "ok",
     "timestamp": 1617476883297,
     "user": {
      "displayName": "Sərxan Əhmədli",
      "photoUrl": "https://lh3.googleusercontent.com/a-/AOh14GgzNdNktu6hN-v8sI0do1embvEZksrB9nbb8k9k=s64",
      "userId": "12519277191260983946"
     },
     "user_tz": -240
    },
    "id": "Te85xApHA3g2",
    "outputId": "cb73bb7a-ea8b-40f7-87cf-1f6343299330"
   },
   "outputs": [],
   "source": [
    "len(list1)"
   ]
  },
  {
   "cell_type": "code",
   "execution_count": null,
   "metadata": {
    "id": "Gb4uuaesA3g2"
   },
   "outputs": [],
   "source": [
    "list1.append(11)"
   ]
  },
  {
   "cell_type": "code",
   "execution_count": null,
   "metadata": {
    "id": "Io02h1xNA3g2"
   },
   "outputs": [],
   "source": [
    "list1.append(12)"
   ]
  },
  {
   "cell_type": "code",
   "execution_count": null,
   "metadata": {
    "id": "Px47dz_YA3g2",
    "outputId": "ae87e111-c9fd-4c89-f194-1d509d857533"
   },
   "outputs": [],
   "source": [
    "list1"
   ]
  },
  {
   "cell_type": "code",
   "execution_count": null,
   "metadata": {
    "id": "2-RqtulQA3g3"
   },
   "outputs": [],
   "source": [
    "list1.insert(0,-1)"
   ]
  },
  {
   "cell_type": "code",
   "execution_count": null,
   "metadata": {
    "id": "qnWs-LmvA3g3",
    "outputId": "f6995077-6cf7-427f-c009-870aa46b487b"
   },
   "outputs": [],
   "source": [
    "list1"
   ]
  },
  {
   "cell_type": "code",
   "execution_count": null,
   "metadata": {
    "id": "BR7SjfpWA3g3"
   },
   "outputs": [],
   "source": [
    "list1.remove(1)"
   ]
  },
  {
   "cell_type": "code",
   "execution_count": null,
   "metadata": {
    "id": "gKjsxMvOA3g3",
    "outputId": "e0f3e4b4-265d-4d7a-aa62-517af3f006af"
   },
   "outputs": [],
   "source": [
    "list1"
   ]
  },
  {
   "cell_type": "code",
   "execution_count": null,
   "metadata": {
    "id": "MFcLy3ryA3g4"
   },
   "outputs": [],
   "source": [
    "del list1[5]"
   ]
  },
  {
   "cell_type": "code",
   "execution_count": null,
   "metadata": {
    "id": "K1w9Wr6cA3g4",
    "outputId": "c7713702-765e-409e-d8ca-ad39ba030efb"
   },
   "outputs": [],
   "source": [
    "list1"
   ]
  },
  {
   "cell_type": "code",
   "execution_count": null,
   "metadata": {
    "id": "z8eu-zfZA3g4"
   },
   "outputs": [],
   "source": [
    "list2 = [10,20,30,40,50]"
   ]
  },
  {
   "cell_type": "code",
   "execution_count": null,
   "metadata": {
    "id": "bTFnPeUKA3g4",
    "outputId": "d0a7a827-72d6-4f8e-ede3-044f5505ca1f"
   },
   "outputs": [],
   "source": [
    "list1 +list2"
   ]
  },
  {
   "cell_type": "code",
   "execution_count": null,
   "metadata": {
    "id": "zKO_hFmQA3g4"
   },
   "outputs": [],
   "source": [
    "for num in list1:\n",
    "    list2.append(num)"
   ]
  },
  {
   "cell_type": "code",
   "execution_count": null,
   "metadata": {
    "id": "fo-YxYazA3g5",
    "outputId": "f4498b3f-1e39-4a4c-bcf5-f9a5e66ecc5f"
   },
   "outputs": [],
   "source": [
    "list2"
   ]
  },
  {
   "cell_type": "code",
   "execution_count": null,
   "metadata": {
    "id": "Mhf3cD4zA3g5"
   },
   "outputs": [],
   "source": [
    "list2 = []"
   ]
  },
  {
   "cell_type": "code",
   "execution_count": null,
   "metadata": {
    "id": "zS27-oC4A3g5",
    "outputId": "bf29e723-3bfa-4912-bf4d-75c386462f09"
   },
   "outputs": [],
   "source": [
    "list2"
   ]
  },
  {
   "cell_type": "code",
   "execution_count": null,
   "metadata": {
    "id": "XEPGJE1lA3g5"
   },
   "outputs": [],
   "source": [
    "list2.extend(list1)"
   ]
  },
  {
   "cell_type": "code",
   "execution_count": null,
   "metadata": {
    "id": "vPpFT3prA3g5",
    "outputId": "00880819-e984-4a91-ecb8-e514c88cc87e"
   },
   "outputs": [],
   "source": [
    "list2"
   ]
  },
  {
   "cell_type": "markdown",
   "metadata": {
    "id": "PMJwx5ayA3g6"
   },
   "source": [
    "## Dictionary"
   ]
  },
  {
   "cell_type": "code",
   "execution_count": null,
   "metadata": {
    "id": "-aog9WXAA3g6"
   },
   "outputs": [],
   "source": [
    "dict1 = {\n",
    "    \"name\": \"Jafar\",\n",
    "    \"surname\": \"Jafarov\",\n",
    "    \"age\" : 21,\n",
    "}"
   ]
  },
  {
   "cell_type": "code",
   "execution_count": null,
   "metadata": {
    "colab": {
     "base_uri": "https://localhost:8080/"
    },
    "executionInfo": {
     "elapsed": 876,
     "status": "ok",
     "timestamp": 1617789598276,
     "user": {
      "displayName": "Sərxan Əhmədli",
      "photoUrl": "https://lh3.googleusercontent.com/a-/AOh14GgzNdNktu6hN-v8sI0do1embvEZksrB9nbb8k9k=s64",
      "userId": "12519277191260983946"
     },
     "user_tz": -240
    },
    "id": "oud4o_rlA3g6",
    "outputId": "660bfb6b-670e-43c8-b6dc-a54db509e954"
   },
   "outputs": [],
   "source": [
    "dict1[\"age\"]"
   ]
  },
  {
   "cell_type": "code",
   "execution_count": null,
   "metadata": {
    "id": "w0YFF_rKA3g6"
   },
   "outputs": [],
   "source": [
    "dict1[\"gender\"]=\"Male\""
   ]
  },
  {
   "cell_type": "code",
   "execution_count": null,
   "metadata": {
    "colab": {
     "base_uri": "https://localhost:8080/"
    },
    "executionInfo": {
     "elapsed": 766,
     "status": "ok",
     "timestamp": 1617789601983,
     "user": {
      "displayName": "Sərxan Əhmədli",
      "photoUrl": "https://lh3.googleusercontent.com/a-/AOh14GgzNdNktu6hN-v8sI0do1embvEZksrB9nbb8k9k=s64",
      "userId": "12519277191260983946"
     },
     "user_tz": -240
    },
    "id": "1zQMNQnCA3g6",
    "outputId": "5c88fce1-eec1-4bec-9146-e4328f6bb324"
   },
   "outputs": [],
   "source": [
    "dict1"
   ]
  },
  {
   "cell_type": "code",
   "execution_count": null,
   "metadata": {
    "colab": {
     "base_uri": "https://localhost:8080/"
    },
    "executionInfo": {
     "elapsed": 932,
     "status": "ok",
     "timestamp": 1617789602872,
     "user": {
      "displayName": "Sərxan Əhmədli",
      "photoUrl": "https://lh3.googleusercontent.com/a-/AOh14GgzNdNktu6hN-v8sI0do1embvEZksrB9nbb8k9k=s64",
      "userId": "12519277191260983946"
     },
     "user_tz": -240
    },
    "id": "fbgSY4SOA3g6",
    "outputId": "292c510f-51f4-44af-a101-924f9bd61fee"
   },
   "outputs": [],
   "source": [
    "for col in dict1:\n",
    "    print (col)"
   ]
  },
  {
   "cell_type": "code",
   "execution_count": null,
   "metadata": {
    "colab": {
     "base_uri": "https://localhost:8080/"
    },
    "executionInfo": {
     "elapsed": 664,
     "status": "ok",
     "timestamp": 1617789625344,
     "user": {
      "displayName": "Sərxan Əhmədli",
      "photoUrl": "https://lh3.googleusercontent.com/a-/AOh14GgzNdNktu6hN-v8sI0do1embvEZksrB9nbb8k9k=s64",
      "userId": "12519277191260983946"
     },
     "user_tz": -240
    },
    "id": "B4wJ2KRbA3g7",
    "outputId": "7c3a97fe-0c43-4191-ab86-0dc2b63c8b0d"
   },
   "outputs": [],
   "source": [
    "for col in dict1:\n",
    "    print (dict1[col])"
   ]
  },
  {
   "cell_type": "code",
   "execution_count": null,
   "metadata": {
    "colab": {
     "base_uri": "https://localhost:8080/"
    },
    "executionInfo": {
     "elapsed": 647,
     "status": "ok",
     "timestamp": 1617789650395,
     "user": {
      "displayName": "Sərxan Əhmədli",
      "photoUrl": "https://lh3.googleusercontent.com/a-/AOh14GgzNdNktu6hN-v8sI0do1embvEZksrB9nbb8k9k=s64",
      "userId": "12519277191260983946"
     },
     "user_tz": -240
    },
    "id": "ZThHQbTHA3g7",
    "outputId": "ec5e5f2d-aae0-4fc3-e63a-5732901456b5"
   },
   "outputs": [],
   "source": [
    "for col, name in dict1.items():\n",
    "    print (col, name)"
   ]
  },
  {
   "cell_type": "code",
   "execution_count": null,
   "metadata": {
    "colab": {
     "base_uri": "https://localhost:8080/"
    },
    "executionInfo": {
     "elapsed": 665,
     "status": "ok",
     "timestamp": 1617789664309,
     "user": {
      "displayName": "Sərxan Əhmədli",
      "photoUrl": "https://lh3.googleusercontent.com/a-/AOh14GgzNdNktu6hN-v8sI0do1embvEZksrB9nbb8k9k=s64",
      "userId": "12519277191260983946"
     },
     "user_tz": -240
    },
    "id": "Lh6h4xT2A3g-",
    "outputId": "30580875-5420-4e69-ab4a-722c0d4664a2"
   },
   "outputs": [],
   "source": [
    "dict1.pop(\"age\")"
   ]
  },
  {
   "cell_type": "code",
   "execution_count": null,
   "metadata": {
    "colab": {
     "base_uri": "https://localhost:8080/"
    },
    "executionInfo": {
     "elapsed": 688,
     "status": "ok",
     "timestamp": 1617789667775,
     "user": {
      "displayName": "Sərxan Əhmədli",
      "photoUrl": "https://lh3.googleusercontent.com/a-/AOh14GgzNdNktu6hN-v8sI0do1embvEZksrB9nbb8k9k=s64",
      "userId": "12519277191260983946"
     },
     "user_tz": -240
    },
    "id": "9fQ8WXjBA3g_",
    "outputId": "565dae70-712f-449b-d6da-fe5f12e4ab58"
   },
   "outputs": [],
   "source": [
    "dict1.keys()"
   ]
  },
  {
   "cell_type": "code",
   "execution_count": null,
   "metadata": {
    "colab": {
     "base_uri": "https://localhost:8080/"
    },
    "executionInfo": {
     "elapsed": 686,
     "status": "ok",
     "timestamp": 1617789670639,
     "user": {
      "displayName": "Sərxan Əhmədli",
      "photoUrl": "https://lh3.googleusercontent.com/a-/AOh14GgzNdNktu6hN-v8sI0do1embvEZksrB9nbb8k9k=s64",
      "userId": "12519277191260983946"
     },
     "user_tz": -240
    },
    "id": "Mj3a8DmwA3g_",
    "outputId": "a2e76a9e-bda2-4313-cbe2-5903ab3b8454"
   },
   "outputs": [],
   "source": [
    "dict1.values()"
   ]
  },
  {
   "cell_type": "code",
   "execution_count": null,
   "metadata": {
    "colab": {
     "base_uri": "https://localhost:8080/"
    },
    "executionInfo": {
     "elapsed": 684,
     "status": "ok",
     "timestamp": 1617789690701,
     "user": {
      "displayName": "Sərxan Əhmədli",
      "photoUrl": "https://lh3.googleusercontent.com/a-/AOh14GgzNdNktu6hN-v8sI0do1embvEZksrB9nbb8k9k=s64",
      "userId": "12519277191260983946"
     },
     "user_tz": -240
    },
    "id": "pttSlpp4A3g_",
    "outputId": "13857317-6424-4ead-9471-77c894bbdeee"
   },
   "outputs": [],
   "source": [
    "dict1.items()"
   ]
  },
  {
   "cell_type": "code",
   "execution_count": null,
   "metadata": {
    "id": "UgYdN-bBA3g_"
   },
   "outputs": [],
   "source": [
    "del dict1[\"name\"]"
   ]
  },
  {
   "cell_type": "code",
   "execution_count": null,
   "metadata": {
    "colab": {
     "base_uri": "https://localhost:8080/"
    },
    "executionInfo": {
     "elapsed": 573,
     "status": "ok",
     "timestamp": 1617789700301,
     "user": {
      "displayName": "Sərxan Əhmədli",
      "photoUrl": "https://lh3.googleusercontent.com/a-/AOh14GgzNdNktu6hN-v8sI0do1embvEZksrB9nbb8k9k=s64",
      "userId": "12519277191260983946"
     },
     "user_tz": -240
    },
    "id": "jzMaGA7HA3hA",
    "outputId": "2b0de6a4-cfde-4fda-a698-eebd14ae4c91"
   },
   "outputs": [],
   "source": [
    "dict1"
   ]
  },
  {
   "cell_type": "code",
   "execution_count": null,
   "metadata": {
    "colab": {
     "base_uri": "https://localhost:8080/"
    },
    "executionInfo": {
     "elapsed": 687,
     "status": "ok",
     "timestamp": 1617789705801,
     "user": {
      "displayName": "Sərxan Əhmədli",
      "photoUrl": "https://lh3.googleusercontent.com/a-/AOh14GgzNdNktu6hN-v8sI0do1embvEZksrB9nbb8k9k=s64",
      "userId": "12519277191260983946"
     },
     "user_tz": -240
    },
    "id": "48ry64DeA3hA",
    "outputId": "b2a81bfe-ea3e-4f8a-e720-ef67a021e093"
   },
   "outputs": [],
   "source": [
    "dict2 = dict1.copy()\n",
    "\n",
    "dict2"
   ]
  },
  {
   "cell_type": "code",
   "execution_count": null,
   "metadata": {
    "id": "guJlgggMA3hA"
   },
   "outputs": [],
   "source": [
    "students = {\n",
    "    \"student1\":{\n",
    "        \"name\":\"Jafar\",\n",
    "        \"surname\" : \"Jafarov\"\n",
    "    },\n",
    "    \"student2\":{\n",
    "        \"name\": \"Ali\",\n",
    "        \"surname\": \"Aliyev\"\n",
    "    },\n",
    "    \"student3\":{\n",
    "        \"name\": \"Karim\",\n",
    "        \"surname\": \"Karimov\"\n",
    "    }\n",
    "}"
   ]
  },
  {
   "cell_type": "code",
   "execution_count": null,
   "metadata": {
    "id": "wxsHj1SjA3hA"
   },
   "outputs": [],
   "source": [
    "student4 = {\n",
    "    \"name\": \"Ayan\"\n",
    "}"
   ]
  },
  {
   "cell_type": "code",
   "execution_count": null,
   "metadata": {
    "id": "i5KiLSkBA3hA"
   },
   "outputs": [],
   "source": [
    "students[\"student4\"] = student4"
   ]
  },
  {
   "cell_type": "code",
   "execution_count": null,
   "metadata": {
    "id": "gSqvATLwA3hA",
    "outputId": "6d51bfb7-061a-4d22-cabd-b9aa40f59341"
   },
   "outputs": [],
   "source": [
    "students"
   ]
  },
  {
   "cell_type": "code",
   "execution_count": null,
   "metadata": {
    "id": "-q1SQEI-A3hB"
   },
   "outputs": [],
   "source": [
    "cars = dict(brand=\"Ford\", model=\"Mustang\", year=1964)"
   ]
  },
  {
   "cell_type": "code",
   "execution_count": null,
   "metadata": {
    "id": "ZTPZhx3zA3hB",
    "outputId": "f06f4140-06ac-4356-f284-5da9930be1f3"
   },
   "outputs": [],
   "source": [
    "cars"
   ]
  },
  {
   "cell_type": "code",
   "execution_count": null,
   "metadata": {
    "id": "yVPUeD68A3hB",
    "outputId": "1e36c67c-d53f-48db-cc77-6705d27faef9"
   },
   "outputs": [],
   "source": [
    "cars.get(\"brand\")"
   ]
  },
  {
   "cell_type": "markdown",
   "metadata": {
    "id": "Dxk-YWjqA3hB"
   },
   "source": [
    "## Tuple"
   ]
  },
  {
   "cell_type": "code",
   "execution_count": null,
   "metadata": {
    "id": "Z4dLox_FA3hB"
   },
   "outputs": [],
   "source": [
    "books = (\"Anna Karenina\", \"Idiot\", \"Crime and Punishment\")"
   ]
  },
  {
   "cell_type": "code",
   "execution_count": null,
   "metadata": {
    "colab": {
     "base_uri": "https://localhost:8080/"
    },
    "executionInfo": {
     "elapsed": 2314,
     "status": "ok",
     "timestamp": 1617226763135,
     "user": {
      "displayName": "Sərxan Əhmədli",
      "photoUrl": "https://lh3.googleusercontent.com/a-/AOh14GgzNdNktu6hN-v8sI0do1embvEZksrB9nbb8k9k=s64",
      "userId": "12519277191260983946"
     },
     "user_tz": -240
    },
    "id": "dPEDEhSNA3hC",
    "outputId": "17ef4b7c-0932-4b28-8d5c-38b0017152ae"
   },
   "outputs": [],
   "source": [
    "books"
   ]
  },
  {
   "cell_type": "code",
   "execution_count": null,
   "metadata": {
    "colab": {
     "base_uri": "https://localhost:8080/",
     "height": 35
    },
    "executionInfo": {
     "elapsed": 2302,
     "status": "ok",
     "timestamp": 1617226763141,
     "user": {
      "displayName": "Sərxan Əhmədli",
      "photoUrl": "https://lh3.googleusercontent.com/a-/AOh14GgzNdNktu6hN-v8sI0do1embvEZksrB9nbb8k9k=s64",
      "userId": "12519277191260983946"
     },
     "user_tz": -240
    },
    "id": "Up3tRmGVA3hC",
    "outputId": "8f1bd493-d6bb-4d77-9d06-641a44c53189"
   },
   "outputs": [],
   "source": [
    "books[1]"
   ]
  },
  {
   "cell_type": "code",
   "execution_count": null,
   "metadata": {
    "colab": {
     "base_uri": "https://localhost:8080/",
     "height": 163
    },
    "executionInfo": {
     "elapsed": 880,
     "status": "error",
     "timestamp": 1617793355516,
     "user": {
      "displayName": "Sərxan Əhmədli",
      "photoUrl": "https://lh3.googleusercontent.com/a-/AOh14GgzNdNktu6hN-v8sI0do1embvEZksrB9nbb8k9k=s64",
      "userId": "12519277191260983946"
     },
     "user_tz": -240
    },
    "id": "wRHf417lA3hC",
    "outputId": "80c24b49-205d-45de-8ab3-a62451832060"
   },
   "outputs": [],
   "source": [
    "books[2] = \"Brothers Karamazov\""
   ]
  },
  {
   "cell_type": "code",
   "execution_count": null,
   "metadata": {
    "colab": {
     "base_uri": "https://localhost:8080/",
     "height": 163
    },
    "executionInfo": {
     "elapsed": 910,
     "status": "error",
     "timestamp": 1617474820613,
     "user": {
      "displayName": "Sərxan Əhmədli",
      "photoUrl": "https://lh3.googleusercontent.com/a-/AOh14GgzNdNktu6hN-v8sI0do1embvEZksrB9nbb8k9k=s64",
      "userId": "12519277191260983946"
     },
     "user_tz": -240
    },
    "id": "UgRs15JdA3hC",
    "outputId": "6bed9c5b-423e-4896-c9a9-aceddf3f6699"
   },
   "outputs": [],
   "source": [
    "books_list = list(books)"
   ]
  },
  {
   "cell_type": "code",
   "execution_count": null,
   "metadata": {
    "colab": {
     "base_uri": "https://localhost:8080/",
     "height": 163
    },
    "executionInfo": {
     "elapsed": 3785,
     "status": "error",
     "timestamp": 1617474891673,
     "user": {
      "displayName": "Sərxan Əhmədli",
      "photoUrl": "https://lh3.googleusercontent.com/a-/AOh14GgzNdNktu6hN-v8sI0do1embvEZksrB9nbb8k9k=s64",
      "userId": "12519277191260983946"
     },
     "user_tz": -240
    },
    "id": "b0vLeMg-A3hC",
    "outputId": "45cf26f9-6228-4544-c715-aee1400fe771"
   },
   "outputs": [],
   "source": [
    "books_list"
   ]
  },
  {
   "cell_type": "code",
   "execution_count": null,
   "metadata": {
    "id": "OLBv0BygA3hD"
   },
   "outputs": [],
   "source": [
    "books_list[2]= \"Brothers Karamazov\""
   ]
  },
  {
   "cell_type": "code",
   "execution_count": null,
   "metadata": {
    "id": "4_maYAZ-A3hD"
   },
   "outputs": [],
   "source": [
    "books = tuple(books_list)"
   ]
  },
  {
   "cell_type": "code",
   "execution_count": null,
   "metadata": {
    "colab": {
     "base_uri": "https://localhost:8080/"
    },
    "executionInfo": {
     "elapsed": 1482,
     "status": "ok",
     "timestamp": 1617226800251,
     "user": {
      "displayName": "Sərxan Əhmədli",
      "photoUrl": "https://lh3.googleusercontent.com/a-/AOh14GgzNdNktu6hN-v8sI0do1embvEZksrB9nbb8k9k=s64",
      "userId": "12519277191260983946"
     },
     "user_tz": -240
    },
    "id": "qptIkMv5A3hD",
    "outputId": "9b1c4ef5-4e31-4258-c720-a4903258b134"
   },
   "outputs": [],
   "source": [
    "books"
   ]
  },
  {
   "cell_type": "markdown",
   "metadata": {
    "id": "HM4fAzcIA3hD"
   },
   "source": [
    "## if...else"
   ]
  },
  {
   "cell_type": "code",
   "execution_count": 5,
   "metadata": {},
   "outputs": [],
   "source": [
    "a = 50\n",
    "b =70"
   ]
  },
  {
   "cell_type": "code",
   "execution_count": 6,
   "metadata": {
    "id": "URV1FvIYA3hD",
    "outputId": "b9906fc3-eaff-46a7-b77f-d1216a90417c"
   },
   "outputs": [
    {
     "name": "stdout",
     "output_type": "stream",
     "text": [
      "Not True\n"
     ]
    }
   ],
   "source": [
    "if a>b:\n",
    "    print(\"True\")\n",
    "else:\n",
    "    print(\"Not True\")"
   ]
  },
  {
   "cell_type": "code",
   "execution_count": 11,
   "metadata": {
    "id": "Dkraf_IRA3hE"
   },
   "outputs": [],
   "source": [
    "a=b=10"
   ]
  },
  {
   "cell_type": "code",
   "execution_count": 12,
   "metadata": {},
   "outputs": [],
   "source": [
    "# If ..else ilk dogru oldugu şartda biter\n",
    "# Dogru olmadigi muddetdece novbeti şartları check eder\n",
    "# a>b --- True/False"
   ]
  },
  {
   "cell_type": "code",
   "execution_count": 13,
   "metadata": {
    "id": "iWURpppJA3hE",
    "outputId": "a5194dc7-9007-4d4d-a1bd-326106b06940"
   },
   "outputs": [
    {
     "name": "stdout",
     "output_type": "stream",
     "text": [
      "Equal\n"
     ]
    }
   ],
   "source": [
    "if a>b:\n",
    "    print(\"True\")\n",
    "elif a<b: \n",
    "    print(\"Not True\")\n",
    "else:\n",
    "    print(\"Equal\")"
   ]
  },
  {
   "cell_type": "code",
   "execution_count": null,
   "metadata": {
    "id": "dmX6vK7zA3hE"
   },
   "outputs": [],
   "source": [
    "b = 20"
   ]
  },
  {
   "cell_type": "code",
   "execution_count": null,
   "metadata": {
    "id": "qQldqfkQA3hE",
    "outputId": "bff4aaf6-f3b0-4bd8-d908-964303a683c6"
   },
   "outputs": [],
   "source": [
    "if a>b or a<b:\n",
    "    print(\"Not equal\")\n"
   ]
  },
  {
   "cell_type": "markdown",
   "metadata": {
    "id": "-Y7SUrOOA3hE"
   },
   "source": [
    "## for loop"
   ]
  },
  {
   "cell_type": "code",
   "execution_count": null,
   "metadata": {
    "id": "4w2eZSctA3hE"
   },
   "outputs": [],
   "source": [
    "list1 = [1,2,3,4,5,6,7,8,9,10]"
   ]
  },
  {
   "cell_type": "code",
   "execution_count": null,
   "metadata": {
    "colab": {
     "base_uri": "https://localhost:8080/"
    },
    "executionInfo": {
     "elapsed": 1373,
     "status": "ok",
     "timestamp": 1617464306218,
     "user": {
      "displayName": "Sərxan Əhmədli",
      "photoUrl": "https://lh3.googleusercontent.com/a-/AOh14GgzNdNktu6hN-v8sI0do1embvEZksrB9nbb8k9k=s64",
      "userId": "12519277191260983946"
     },
     "user_tz": -240
    },
    "id": "ly90SP2hA3hF",
    "outputId": "150fc1db-654e-4e44-b16b-4184ff02546a"
   },
   "outputs": [],
   "source": [
    "for a in list1:\n",
    "\n",
    "    print(a)"
   ]
  },
  {
   "cell_type": "code",
   "execution_count": null,
   "metadata": {
    "colab": {
     "base_uri": "https://localhost:8080/"
    },
    "executionInfo": {
     "elapsed": 3019,
     "status": "ok",
     "timestamp": 1617464298791,
     "user": {
      "displayName": "Sərxan Əhmədli",
      "photoUrl": "https://lh3.googleusercontent.com/a-/AOh14GgzNdNktu6hN-v8sI0do1embvEZksrB9nbb8k9k=s64",
      "userId": "12519277191260983946"
     },
     "user_tz": -240
    },
    "id": "APlgq9PkA3hF",
    "outputId": "0ca81451-6b13-454f-b14d-5936b8057fc9"
   },
   "outputs": [],
   "source": [
    "for i in range(10):\n",
    "    print(i)"
   ]
  },
  {
   "cell_type": "code",
   "execution_count": null,
   "metadata": {
    "colab": {
     "base_uri": "https://localhost:8080/"
    },
    "executionInfo": {
     "elapsed": 3011,
     "status": "ok",
     "timestamp": 1617464298792,
     "user": {
      "displayName": "Sərxan Əhmədli",
      "photoUrl": "https://lh3.googleusercontent.com/a-/AOh14GgzNdNktu6hN-v8sI0do1embvEZksrB9nbb8k9k=s64",
      "userId": "12519277191260983946"
     },
     "user_tz": -240
    },
    "id": "Djwg_rr_A3hF",
    "outputId": "5ccf5781-42fd-421a-decf-a8dc52ad6b8d"
   },
   "outputs": [],
   "source": [
    "for a in list1:\n",
    "    if a>5:\n",
    "        print(a)"
   ]
  },
  {
   "cell_type": "code",
   "execution_count": null,
   "metadata": {
    "colab": {
     "base_uri": "https://localhost:8080/"
    },
    "executionInfo": {
     "elapsed": 3005,
     "status": "ok",
     "timestamp": 1617464298793,
     "user": {
      "displayName": "Sərxan Əhmədli",
      "photoUrl": "https://lh3.googleusercontent.com/a-/AOh14GgzNdNktu6hN-v8sI0do1embvEZksrB9nbb8k9k=s64",
      "userId": "12519277191260983946"
     },
     "user_tz": -240
    },
    "id": "hkEj1qn_A3hF",
    "outputId": "9721c659-d149-4abd-9903-e7ba959d6e8b"
   },
   "outputs": [],
   "source": [
    "for a in list1:\n",
    "    if a>5:\n",
    "        break\n",
    "    print(a)"
   ]
  },
  {
   "cell_type": "markdown",
   "metadata": {
    "id": "OpuhoLyyA3hG"
   },
   "source": [
    "## Function"
   ]
  },
  {
   "cell_type": "code",
   "execution_count": null,
   "metadata": {
    "id": "9AXlr1W2A3hG"
   },
   "outputs": [],
   "source": [
    "def multiply(a,b):\n",
    "    print(a*b)"
   ]
  },
  {
   "cell_type": "code",
   "execution_count": null,
   "metadata": {
    "id": "_qD9LPpPA3hG",
    "outputId": "6ff168a8-295f-4b50-8e25-b440e3a0c983"
   },
   "outputs": [],
   "source": [
    "multiply(5)"
   ]
  },
  {
   "cell_type": "code",
   "execution_count": null,
   "metadata": {
    "id": "n8j753ZXA3hG",
    "outputId": "3115db6e-87f8-4cd8-fd9b-8d2848990e71"
   },
   "outputs": [],
   "source": [
    "multiply(6,4)"
   ]
  },
  {
   "cell_type": "code",
   "execution_count": null,
   "metadata": {
    "id": "j6vNGAT0A3hH"
   },
   "outputs": [],
   "source": [
    "def itearate(list):\n",
    "    for a in list:\n",
    "        print (a)"
   ]
  },
  {
   "cell_type": "code",
   "execution_count": null,
   "metadata": {
    "id": "GtDZBXcGA3hH",
    "outputId": "1067b57b-187a-4ee6-b224-f7ea4c66746c"
   },
   "outputs": [],
   "source": [
    "iterate(list1)"
   ]
  },
  {
   "cell_type": "markdown",
   "metadata": {
    "id": "_f0XiF5zA3hI"
   },
   "source": [
    "## Statistics"
   ]
  },
  {
   "cell_type": "code",
   "execution_count": null,
   "metadata": {
    "id": "FO-JB0zAA3hI"
   },
   "outputs": [],
   "source": [
    "import pandas as pd"
   ]
  },
  {
   "cell_type": "code",
   "execution_count": null,
   "metadata": {
    "id": "H-jLSOqeA3hJ"
   },
   "outputs": [],
   "source": [
    "df = pd.read_csv('weight-height.csv')"
   ]
  },
  {
   "cell_type": "code",
   "execution_count": null,
   "metadata": {
    "colab": {
     "base_uri": "https://localhost:8080/",
     "height": 163
    },
    "executionInfo": {
     "elapsed": 898,
     "status": "error",
     "timestamp": 1617464819744,
     "user": {
      "displayName": "Sərxan Əhmədli",
      "photoUrl": "https://lh3.googleusercontent.com/a-/AOh14GgzNdNktu6hN-v8sI0do1embvEZksrB9nbb8k9k=s64",
      "userId": "12519277191260983946"
     },
     "user_tz": -240
    },
    "id": "vyNUt4IqA3hJ",
    "outputId": "44d19a5b-7fe3-4795-bebd-acf6049d622c"
   },
   "outputs": [],
   "source": [
    "df.head()"
   ]
  },
  {
   "cell_type": "code",
   "execution_count": null,
   "metadata": {
    "id": "PbianCEMA3hJ"
   },
   "outputs": [],
   "source": [
    "import statistics as st"
   ]
  },
  {
   "cell_type": "code",
   "execution_count": null,
   "metadata": {
    "id": "LutsYNPtA3hK"
   },
   "outputs": [],
   "source": [
    "data = df['Height'].tolist()"
   ]
  },
  {
   "cell_type": "code",
   "execution_count": null,
   "metadata": {
    "id": "qyiEQ4ZGA3hK",
    "outputId": "b9e827ec-158c-48d6-c4e6-cfc1f4e93514"
   },
   "outputs": [],
   "source": [
    "data"
   ]
  },
  {
   "cell_type": "code",
   "execution_count": null,
   "metadata": {
    "id": "yWrKDjQvA3hK"
   },
   "outputs": [],
   "source": [
    "mean=st.mean(data)"
   ]
  },
  {
   "cell_type": "code",
   "execution_count": null,
   "metadata": {
    "id": "Uj4U5D43A3hK",
    "outputId": "a63a4a26-2e6a-4199-b155-d5ffa70f310a"
   },
   "outputs": [],
   "source": [
    "mean"
   ]
  },
  {
   "cell_type": "code",
   "execution_count": null,
   "metadata": {
    "id": "hbciqhqLA3hL"
   },
   "outputs": [],
   "source": [
    "data.sort()"
   ]
  },
  {
   "cell_type": "code",
   "execution_count": null,
   "metadata": {
    "id": "VlfICMJnA3hL",
    "outputId": "760759d1-e82d-4bdc-d7d8-67321ca416ec"
   },
   "outputs": [],
   "source": [
    "data"
   ]
  },
  {
   "cell_type": "code",
   "execution_count": null,
   "metadata": {
    "id": "ErmX4AbBA3hL"
   },
   "outputs": [],
   "source": [
    "xyz = st.median(data)"
   ]
  },
  {
   "cell_type": "code",
   "execution_count": null,
   "metadata": {
    "id": "y49tBAy8A3hL"
   },
   "outputs": [],
   "source": [
    "xyz = st.median(data)"
   ]
  },
  {
   "cell_type": "code",
   "execution_count": null,
   "metadata": {
    "id": "-KhI6OKNA3hL",
    "outputId": "6293061d-4e62-4b1a-959f-fa10d52d38d8"
   },
   "outputs": [],
   "source": [
    "xyz"
   ]
  },
  {
   "cell_type": "code",
   "execution_count": null,
   "metadata": {
    "id": "-BKgbLC_A3hM"
   },
   "outputs": [],
   "source": [
    "mode = st.mode(data)"
   ]
  },
  {
   "cell_type": "code",
   "execution_count": null,
   "metadata": {
    "id": "69QodAxzA3hM",
    "outputId": "ff5cf562-ae6c-49bd-afef-a25f41295090"
   },
   "outputs": [],
   "source": [
    "mode"
   ]
  },
  {
   "cell_type": "code",
   "execution_count": null,
   "metadata": {
    "id": "bqd6F9jlA3hM"
   },
   "outputs": [],
   "source": [
    "modes = []\n",
    "for a in data:\n",
    "    if data.count(a)>1:\n",
    "        modes.append(a) "
   ]
  },
  {
   "cell_type": "code",
   "execution_count": null,
   "metadata": {
    "id": "fvHbuuuiA3hM",
    "outputId": "b6b32ab6-ce72-4e84-9f59-effe3165629b"
   },
   "outputs": [],
   "source": [
    "modes"
   ]
  },
  {
   "cell_type": "code",
   "execution_count": null,
   "metadata": {
    "id": "Ll-FqKkeA3hN"
   },
   "outputs": [],
   "source": [
    "import numpy as np\n",
    "import pandas as pd"
   ]
  },
  {
   "cell_type": "code",
   "execution_count": null,
   "metadata": {
    "id": "0SmjKwqCA3hN"
   },
   "outputs": [],
   "source": [
    "p = np.percentile(data, 100)"
   ]
  },
  {
   "cell_type": "code",
   "execution_count": null,
   "metadata": {
    "id": "TuWwncitA3hN",
    "outputId": "fc122f4b-9ee7-4473-d762-886cb008bf7c"
   },
   "outputs": [],
   "source": [
    "p"
   ]
  },
  {
   "cell_type": "code",
   "execution_count": null,
   "metadata": {
    "id": "rceZy1stA3hO",
    "outputId": "b1df9bea-c0c1-49d5-ffc1-b16c0407c97d"
   },
   "outputs": [],
   "source": [
    "np.percentile(data, 90)"
   ]
  },
  {
   "cell_type": "code",
   "execution_count": null,
   "metadata": {
    "id": "8D883ZTAA3hO"
   },
   "outputs": [],
   "source": [
    "df = pd.DataFrame(data)"
   ]
  },
  {
   "cell_type": "code",
   "execution_count": null,
   "metadata": {
    "id": "uQJI9BW2A3hO",
    "outputId": "45cf9b57-73f1-4b1c-f831-248eaa3f2278"
   },
   "outputs": [],
   "source": [
    "np.std(data)"
   ]
  },
  {
   "cell_type": "code",
   "execution_count": null,
   "metadata": {
    "id": "7lYOPebOA3hO",
    "outputId": "52324906-6683-486e-ee3e-1b35dab4f58e"
   },
   "outputs": [],
   "source": [
    "df.describe()"
   ]
  },
  {
   "cell_type": "code",
   "execution_count": null,
   "metadata": {
    "id": "T6GeNCteA3hO"
   },
   "outputs": [],
   "source": [
    "range = max(data)-min(data)\n"
   ]
  },
  {
   "cell_type": "code",
   "execution_count": null,
   "metadata": {
    "id": "Klk64MX1A3hP",
    "outputId": "e738a5f9-9022-4f9a-d4e6-eb5536a8d124"
   },
   "outputs": [],
   "source": [
    "range"
   ]
  },
  {
   "cell_type": "code",
   "execution_count": null,
   "metadata": {
    "id": "L4zopGe7A3hP"
   },
   "outputs": [],
   "source": [
    "variance = st.variance(data)"
   ]
  },
  {
   "cell_type": "code",
   "execution_count": null,
   "metadata": {
    "id": "9ondond8A3hP",
    "outputId": "1bb01704-64d0-43a9-cabe-de7641cfbd7a"
   },
   "outputs": [],
   "source": [
    "variance"
   ]
  },
  {
   "cell_type": "code",
   "execution_count": null,
   "metadata": {
    "id": "26EjUaVVA3hP"
   },
   "outputs": [],
   "source": [
    "stdev = st.stdev(data)"
   ]
  },
  {
   "cell_type": "code",
   "execution_count": null,
   "metadata": {
    "id": "JWmMk4_HA3hQ",
    "outputId": "060d2b21-4d8d-4088-fa1b-78cb1119b8e6"
   },
   "outputs": [],
   "source": [
    "stdev"
   ]
  },
  {
   "cell_type": "code",
   "execution_count": null,
   "metadata": {
    "id": "5k4mQWpbA3hQ"
   },
   "outputs": [],
   "source": [
    "from scipy import stats\n",
    "zscore = stats.zscore(data)"
   ]
  },
  {
   "cell_type": "code",
   "execution_count": null,
   "metadata": {
    "id": "_nGJvp0GA3hQ",
    "outputId": "0f1efabb-4b6b-4cef-b453-6e0d9de375a6"
   },
   "outputs": [],
   "source": [
    "zscore"
   ]
  },
  {
   "cell_type": "code",
   "execution_count": null,
   "metadata": {
    "id": "7QTPOrhZA3hR"
   },
   "outputs": [],
   "source": [
    "scores = pd.DataFrame(zscore)"
   ]
  },
  {
   "cell_type": "code",
   "execution_count": null,
   "metadata": {
    "id": "IatRTAxQA3hR",
    "outputId": "169d7c96-6e99-4938-9168-9e6997718b8f"
   },
   "outputs": [],
   "source": [
    "scores"
   ]
  },
  {
   "cell_type": "code",
   "execution_count": null,
   "metadata": {
    "id": "wxpFMdmZA3hR"
   },
   "outputs": [],
   "source": [
    "range = max(data)-min(data)"
   ]
  },
  {
   "cell_type": "code",
   "execution_count": null,
   "metadata": {
    "id": "Fip6ItUoA3hR",
    "outputId": "d6546fac-a630-4a20-f41f-e6929490c7d5"
   },
   "outputs": [],
   "source": [
    "range"
   ]
  },
  {
   "cell_type": "code",
   "execution_count": null,
   "metadata": {
    "id": "O9GUFVC4A3hS"
   },
   "outputs": [],
   "source": []
  },
  {
   "cell_type": "code",
   "execution_count": null,
   "metadata": {
    "id": "taSf_WBbA3hS"
   },
   "outputs": [],
   "source": []
  }
 ],
 "metadata": {
  "colab": {
   "collapsed_sections": [
    "uVXLp9U7A3gz",
    "PMJwx5ayA3g6",
    "Dxk-YWjqA3hB",
    "HM4fAzcIA3hD",
    "-Y7SUrOOA3hE",
    "OpuhoLyyA3hG",
    "_f0XiF5zA3hI"
   ],
   "name": "Session 1.ipynb",
   "provenance": []
  },
  "kernelspec": {
   "display_name": "Python 3 (ipykernel)",
   "language": "python",
   "name": "python3"
  },
  "language_info": {
   "codemirror_mode": {
    "name": "ipython",
    "version": 3
   },
   "file_extension": ".py",
   "mimetype": "text/x-python",
   "name": "python",
   "nbconvert_exporter": "python",
   "pygments_lexer": "ipython3",
   "version": "3.9.7"
  }
 },
 "nbformat": 4,
 "nbformat_minor": 1
}
