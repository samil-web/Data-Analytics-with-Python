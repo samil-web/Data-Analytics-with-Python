{
 "cells": [
  {
   "cell_type": "markdown",
   "id": "621e5a2b",
   "metadata": {},
   "source": [
    "# Numpy\n",
    "Bu bölümde, beyzbol dünyasına dalacağız. Yol boyunca, veri bilimi yapmak için güçlü bir paket olan numpy'nin temellerini öğreneceksiniz.\n",
    "\n",
    "Python betiğinde, bazı beyzbol oyuncularının santimetre cinsinden yüksekliğini temsil eden bir beyzbol listesi zaten tanımlanmıştır. Bundan bir numpy dizisi oluşturmak için buraya ve oraya biraz kod ekleyebilir misiniz?"
   ]
  },
  {
   "cell_type": "code",
   "execution_count": 1,
   "id": "c225d50c",
   "metadata": {},
   "outputs": [
    {
     "name": "stdout",
     "output_type": "stream",
     "text": [
      "<class 'numpy.ndarray'>\n"
     ]
    }
   ],
   "source": [
    "# Create list baseball\n",
    "baseball = [180, 215, 210, 210, 188, 176, 209, 200]\n",
    "\n",
    "# Import the numpy package as np\n",
    "import numpy as np\n",
    "\n",
    "# Create a numpy array from baseball: np_baseball\n",
    "np_baseball = np.array(baseball)\n",
    "\n",
    "# Print out type of np_baseball\n",
    "print(type(np_baseball))"
   ]
  },
  {
   "cell_type": "markdown",
   "id": "3e78d0ec",
   "metadata": {},
   "source": [
    "Beyzbol oyuncularının boyu\n",
    "\n",
    "Sen büyük bir beyzbol hayranısın. MLB'yi (Major League Baseball) aramaya ve ana oyuncuların boyları hakkında daha fazla istatistik istemeye karar verdiniz. Normal bir Python listesi olarak saklanan binden fazla oyuncu hakkında veri iletirler: height_in. Yükseklik inç cinsinden ifade edilir. Bundan numpy bir dizi yapabilir ve birimleri metreye çevirebilir misiniz?\n",
    "\n",
    "height_in zaten mevcut ve numpy paketi yüklendi, böylece hemen başlayabilirsiniz"
   ]
  },
  {
   "cell_type": "code",
   "execution_count": 3,
   "id": "6520a57a",
   "metadata": {},
   "outputs": [
    {
     "name": "stdout",
     "output_type": "stream",
     "text": [
      "[74 74 72 72 73 69 69 71 76 71 73 73 74 74 69 70 73 75 78 79 76 74]\n",
      "[1.8796 1.8796 1.8288 1.8288 1.8542 1.7526 1.7526 1.8034 1.9304 1.8034\n",
      " 1.8542 1.8542 1.8796 1.8796 1.7526 1.778  1.8542 1.905  1.9812 2.0066\n",
      " 1.9304 1.8796]\n"
     ]
    }
   ],
   "source": [
    "# height_in is available as a regular list\n",
    "\n",
    "# Import numpy\n",
    "import numpy as np\n",
    "\n",
    "height_in = [74, 74, 72, 72, 73, 69, 69, 71, 76, 71, 73, 73, 74, 74, 69, 70, 73, 75, 78, 79, 76, 74]\n",
    "# Create a numpy array from height_in: np_height_in\n",
    "np_height_in = np.array(height_in)\n",
    "\n",
    "# Print out np_height_in\n",
    "print(np_height_in)\n",
    "\n",
    "# Convert np_height_in to m: np_height_m\n",
    "np_height_in_m = np_height_in*0.0254\n",
    "print(np_height_in_m)\n",
    "\n",
    "# Print np_height_m\n"
   ]
  },
  {
   "cell_type": "markdown",
   "id": "8d4554b8",
   "metadata": {},
   "source": [
    "Beyzbol oyuncusunun BMI'si\n",
    "\n",
    "MLB ayrıca ağırlık verilerini analiz etmenize izin verir. Yine, her ikisi de normal Python listeleri olarak mevcuttur: height_in ve Weight_lb. Height_in inç cinsindendir ve Weight_lb pound cinsindendir.\n",
    "\n",
    "Artık her beyzbol oyuncusunun BMI'sini hesaplamak mümkün. Height_in'i doğru birimlerle numpy dizisine dönüştürmek için Python kodu çalışma alanında zaten mevcut. Adım adım talimatları izleyin ve oyunu bitirin!"
   ]
  },
  {
   "cell_type": "code",
   "execution_count": 6,
   "id": "7daddc28",
   "metadata": {},
   "outputs": [
    {
     "name": "stdout",
     "output_type": "stream",
     "text": [
      "[23.11037639 27.60406069 28.48080465 28.48080465 24.80333518 25.99036864\n",
      " 30.86356276 27.89402921 28.11789135 25.10462629 24.80333518 23.7478741\n",
      " 23.75233129 20.54255679 26.58105883 26.54444207 24.93526781 23.12315842\n",
      " 25.30771077 25.91025019 24.95310704 29.52992539]\n"
     ]
    }
   ],
   "source": [
    "# height_in and weight_lb are available as regular lists\n",
    "\n",
    "# Import numpy\n",
    "import numpy as np\n",
    "weight_lb = [180, 215, 210, 210, 188, 176, 209, 200, 231, 180, 188, 180, 185, 160, 180, 185, 189, 185, 219, 230, 205, 230]\n",
    "# Create array from height_in with metric units: np_height_m\n",
    "np_height_m = np.array(height_in) * 0.0254\n",
    "\n",
    "# Create array from weight_lb with metric units: np_weight_kg\n",
    "np_weight_kg = np.array(weight_lb)*0.453592\n",
    "\n",
    "# Calculate the BMI: bmi\n",
    "bmi = np_weight_kg/np_height_m**2\n",
    "print(bmi)\n",
    "\n",
    "# Print out bmi\n"
   ]
  },
  {
   "cell_type": "markdown",
   "id": "ddff5049",
   "metadata": {},
   "source": [
    "Hafif beyzbol oyuncuları\n",
    "\n",
    "Hem normal Python listelerini hem de sayısal dizileri alt kümelemek için köşeli parantezleri kullanabilirsiniz:\n",
    "\n",
    "x = [4 , 9 , 6, 3, 1]\n",
    "\n",
    "x[1]\n",
    "\n",
    "import numpy as np\n",
    "\n",
    "y = np.array(x)\n",
    "\n",
    "y[1]\n",
    "Özellikle numpy için, boolean numpy dizilerini de kullanabilirsiniz:\n",
    "\n",
    "high = y > 5\n",
    "\n",
    "y[high]\n",
    "\n",
    "Tüm beyzbol oyuncularının BMI'sini hesaplayan kod zaten dahil edilmiştir. Talimatları takip edin ve verilerden ilginç şeyler ortaya çıkarın!"
   ]
  },
  {
   "cell_type": "code",
   "execution_count": 7,
   "id": "48deeba0",
   "metadata": {},
   "outputs": [
    {
     "name": "stdout",
     "output_type": "stream",
     "text": [
      "[False False False False False False False False False False False False\n",
      " False  True False False False False False False False False]\n",
      "[20.54255679]\n"
     ]
    }
   ],
   "source": [
    "# height_in and weight_lb are available as a regular lists\n",
    "\n",
    "# Import numpy\n",
    "import numpy as np\n",
    "\n",
    "# Calculate the BMI: bmi\n",
    "np_height_m = np.array(height_in) * 0.0254\n",
    "np_weight_kg = np.array(weight_lb) * 0.453592\n",
    "bmi = np_weight_kg / np_height_m ** 2\n",
    "\n",
    "# Create the light array\n",
    "light = bmi<21\n",
    "# Print out light\n",
    "print(light)\n",
    "\n",
    "# Print out BMIs of all baseball players whose BMI is below 21\n",
    "print(bmi[light])\n"
   ]
  },
  {
   "cell_type": "markdown",
   "id": "e509f0bd",
   "metadata": {},
   "source": [
    "### NumPy Yan Etkileri\n",
    "\n",
    "Her şeyden önce, numpy dizileri farklı türlerde öğeler içeremez. Böyle bir liste oluşturmaya çalışırsanız, bazı öğelerin türleri, homojen bir liste ile sonuçlanacak şekilde değiştirilir. Bu tip zorlama olarak bilinir.\n",
    "\n",
    "İkincisi, +, -, * ve / gibi tipik aritmetik operatörler, normal Python listeleri ve numpy dizileri için farklı bir anlama sahiptir.\n",
    "\n",
    "Bu kod satırına bir göz atın:\n",
    "\n",
    "np.array([True, 1, 2]) + np.array([3, 4, False])\n",
    "\n",
    "Tam olarak aynı Python nesnesini hangi kod parçasının oluşturduğunu söyleyebilir misiniz? Numpy paketi zaten np olarak içe aktarılmıştır, bu nedenle IPython Shell'de hemen denemeye başlayabilirsiniz!"
   ]
  },
  {
   "cell_type": "code",
   "execution_count": 1,
   "id": "f5dc8cba",
   "metadata": {},
   "outputs": [
    {
     "ename": "NameError",
     "evalue": "name 'np' is not defined",
     "output_type": "error",
     "traceback": [
      "\u001b[1;31m---------------------------------------------------------------------------\u001b[0m",
      "\u001b[1;31mNameError\u001b[0m                                 Traceback (most recent call last)",
      "\u001b[1;32m~\\AppData\\Local\\Temp/ipykernel_3196/864459642.py\u001b[0m in \u001b[0;36m<module>\u001b[1;34m\u001b[0m\n\u001b[1;32m----> 1\u001b[1;33m \u001b[0mnp\u001b[0m\u001b[1;33m.\u001b[0m\u001b[0marray\u001b[0m\u001b[1;33m(\u001b[0m\u001b[1;33m[\u001b[0m\u001b[1;32mTrue\u001b[0m\u001b[1;33m,\u001b[0m \u001b[1;36m1\u001b[0m\u001b[1;33m,\u001b[0m \u001b[1;36m2\u001b[0m\u001b[1;33m]\u001b[0m\u001b[1;33m)\u001b[0m \u001b[1;33m+\u001b[0m \u001b[0mnp\u001b[0m\u001b[1;33m.\u001b[0m\u001b[0marray\u001b[0m\u001b[1;33m(\u001b[0m\u001b[1;33m[\u001b[0m\u001b[1;36m3\u001b[0m\u001b[1;33m,\u001b[0m \u001b[1;36m4\u001b[0m\u001b[1;33m,\u001b[0m \u001b[1;32mFalse\u001b[0m\u001b[1;33m]\u001b[0m\u001b[1;33m)\u001b[0m\u001b[1;33m\u001b[0m\u001b[1;33m\u001b[0m\u001b[0m\n\u001b[0m\u001b[0;32m      2\u001b[0m \u001b[1;31m# [4,5,2]\u001b[0m\u001b[1;33m\u001b[0m\u001b[1;33m\u001b[0m\u001b[0m\n",
      "\u001b[1;31mNameError\u001b[0m: name 'np' is not defined"
     ]
    }
   ],
   "source": [
    "np.array([True, 1, 2]) + np.array([3, 4, False])\n",
    "# [4,5,2]"
   ]
  },
  {
   "cell_type": "markdown",
   "id": "9c06bdf5",
   "metadata": {},
   "source": [
    "### NumPy Dizilerini Alt Kümeleme\n",
    "\n",
    "Bunu kendi gözlerinizle gördünüz: Python listeleri ve numpy dizileri bazen farklı davranır. Neyse ki, bu dünyada hala kesinlikler var. Örneğin, alt kümeleme (listelerde veya dizilerde köşeli parantez kullanarak) tamamen aynı şekilde çalışır. Bunu kendiniz görmek için IPython Shell'de aşağıdaki kod satırlarını deneyin:\n",
    "\n",
    "x = [\"a\", \"b\", \"c\"]\n",
    "\n",
    "x[1]\n",
    "\n",
    "np_x = np.array(x)\n",
    "\n",
    "np_x[1]\n",
    "\n",
    "Düzenleyicideki komut dosyası zaten numpy'yi np olarak içe aktaran ve MLB oynatıcılarının hem yüksekliğini hem de ağırlığını numpy dizileri olarak saklayan kodu içerir."
   ]
  },
  {
   "cell_type": "code",
   "execution_count": 10,
   "id": "69d7a1f4",
   "metadata": {},
   "outputs": [
    {
     "name": "stdout",
     "output_type": "stream",
     "text": [
      "205\n",
      "[73 73 74 74]\n"
     ]
    }
   ],
   "source": [
    "# height_in and weight_lb are available as a regular lists\n",
    "\n",
    "# Import numpy\n",
    "import numpy as np\n",
    "\n",
    "# Store weight and height lists as numpy arrays\n",
    "np_weight_lb = np.array(weight_lb)\n",
    "np_height_in = np.array(height_in)\n",
    "\n",
    "# Print out the weight at index 20\n",
    "print(np_weight_lb[20])\n",
    "\n",
    "# Print out sub-array of np_height_in: index 10 up to and including index 14\n",
    "print(np_height_in[10:14])"
   ]
  },
  {
   "cell_type": "markdown",
   "id": "aa8a58b3",
   "metadata": {},
   "source": [
    "### İlk 2D NumPy Diziniz\n",
    "\n",
    "Gerçek MLB verileri üzerinde çalışmadan önce, küçük bir liste listesinden bir 2B numpy dizisi oluşturmaya çalışalım.\n",
    "\n",
    "Bu alıştırmada, beyzbol bir liste listesidir. Ana liste 4 öğe içerir. Bu öğelerin her biri, bu sırayla 4 beyzbol oyuncusunun boy ve ağırlığını içeren bir listedir. beyzbol senaryoda zaten sizin için kodlanmış."
   ]
  },
  {
   "cell_type": "code",
   "execution_count": 11,
   "id": "760adfb4",
   "metadata": {},
   "outputs": [
    {
     "name": "stdout",
     "output_type": "stream",
     "text": [
      "<class 'numpy.ndarray'>\n",
      "(4, 2)\n"
     ]
    }
   ],
   "source": [
    "# Create baseball, a list of lists\n",
    "baseball = [[180, 78.4],\n",
    "            [215, 102.7],\n",
    "            [210, 98.5],\n",
    "            [188, 75.2]]\n",
    "\n",
    "# Import numpy\n",
    "import numpy as np\n",
    "\n",
    "# Create a 2D numpy array from baseball: np_baseball\n",
    "np_baseball = np.array(baseball)\n",
    "\n",
    "# Print out the type of np_baseball\n",
    "print(type(np_baseball))\n",
    "\n",
    "print(np_baseball.shape)\n",
    "\n",
    "# Print out the shape of np_baseball\n"
   ]
  },
  {
   "cell_type": "markdown",
   "id": "cebfd25e",
   "metadata": {},
   "source": [
    "2D formda beyzbol verileri\n",
    "\n",
    "MLB verilerine bir kez daha bakın ve tüm bu bilgileri bir 2B numpy dizisinde yeniden yapılandırmanın daha mantıklı olduğunu anlayın. Bu dizide, hakkında bilgi sahibi olduğunuz 1015 beyzbol oyuncusuna karşılık gelen 1015 satır ve 2 sütun (boy ve kilo için) olmalıdır.\n",
    "\n",
    "MLB yine çok yardımcı oldu ve verileri size farklı bir yapıda, bir Python listeleri listesinde iletti. Bu liste listesinde, her bir alt liste, tek bir beyzbol oyuncusunun boyunu ve ağırlığını temsil eder. Bu gömülü listenin adı beyzbol.\n",
    "\n",
    "Numpy'nin ekstra işlevselliğinin kilidini açmak için verileri 2B dizi olarak saklayabilir misiniz?"
   ]
  },
  {
   "cell_type": "code",
   "execution_count": 12,
   "id": "8247dc15",
   "metadata": {},
   "outputs": [
    {
     "name": "stdout",
     "output_type": "stream",
     "text": [
      "(4, 2)\n"
     ]
    }
   ],
   "source": [
    "# baseball is available as a regular list of lists\n",
    "\n",
    "# Import numpy package\n",
    "import numpy as np\n",
    "\n",
    "# Create a 2D numpy array from baseball: np_baseball\n",
    "np_baseball = np.array(baseball)\n",
    "\n",
    "# Print out the shape of np_baseball\n",
    "print(np_baseball.shape)"
   ]
  },
  {
   "cell_type": "markdown",
   "id": "3890c919",
   "metadata": {},
   "source": [
    "### 2D NumPy Dizilerini Alt Kümeleme\n",
    "\n",
    "2D numpy diziniz düzenli bir yapıya sahipse, yani her satır ve sütun sabit sayıda değere sahipse, karmaşık alt kümeleme yöntemleri çok kolay hale gelir. \"a\" ve \"c\" öğelerinin bir liste listesinden çıkarıldığı aşağıdaki koda bir göz atın.\n",
    "\n",
    "düzenli liste listesi\n",
    "x = [[\"a\", \"b\"], [\"c\", \"d\"]]\n",
    "\n",
    "[x[0][0], x[1][0]]\n",
    "\n",
    "dizi\n",
    "\n",
    "import numpy as np\n",
    "\n",
    "np_x = np.array(x)\n",
    "\n",
    "np_x[:,0]\n",
    "\n",
    "Normal Python listeleri için bu gerçek bir acıdır. Ancak 2D numpy dizileri için oldukça sezgiseldir! Virgülden önceki dizinler satırları, virgülden sonraki dizinler sütunları gösterir. : dilimleme içindir; bu örnekte Python'a tüm satırları dahil etmesini söyler.\n",
    "\n",
    "Önceden yüklenmiş beyzbol listesini 2B numpy dizisine dönüştüren kod zaten komut dosyasındadır. İlk sütun, oyuncuların boyunu inç cinsinden içerir ve ikinci sütun, oyuncu ağırlığını pound cinsinden tutar. Doğru seçimleri yapmak için birkaç satır ekleyin. Python'da ilk öğenin 0 dizininde olduğunu unutmayın!"
   ]
  },
  {
   "cell_type": "code",
   "execution_count": 14,
   "id": "b88208e8",
   "metadata": {},
   "outputs": [
    {
     "name": "stdout",
     "output_type": "stream",
     "text": [
      "[210.   98.5]\n",
      "188.0\n"
     ]
    }
   ],
   "source": [
    "# baseball is available as a regular list of lists\n",
    "\n",
    "# Import numpy package\n",
    "import numpy as np\n",
    "\n",
    "# Create np_baseball (2 cols)\n",
    "np_baseball = np.array(baseball)\n",
    "\n",
    "# Print out the 2th row of np_baseball\n",
    "print(np_baseball[2,:])\n",
    "\n",
    "# Select the entire second column of np_baseball: np_weight_lb\n",
    "np_weight_lb = np_baseball[:,1]\n",
    "\n",
    "# Print out height of 4th player\n",
    "print(np_baseball[3,0])\n"
   ]
  },
  {
   "cell_type": "markdown",
   "id": "84b84f51",
   "metadata": {},
   "source": [
    "2D Aritmetik\n",
    "\n",
    "Tüm beyzbol oyuncuları için Vücut Kitle İndeksini nasıl hesapladığınızı hatırlıyor musunuz? numpy, tüm hesaplamaları eleman bazında (yani eleman eleman) gerçekleştirebildi. 2D numpy dizileri için bu farklı değil! Matrisleri tek sayılarla, vektörlerle ve diğer matrislerle birleştirebilirsiniz.\n",
    "\n",
    "Aşağıdaki kodu IPython kabuğunda yürütün ve anlayıp anlamadığınızı görün:"
   ]
  },
  {
   "cell_type": "code",
   "execution_count": 15,
   "id": "136a8e8a",
   "metadata": {},
   "outputs": [
    {
     "data": {
      "text/plain": [
       "array([[ 2,  4],\n",
       "       [ 6,  8],\n",
       "       [10, 12]])"
      ]
     },
     "execution_count": 15,
     "metadata": {},
     "output_type": "execute_result"
    }
   ],
   "source": [
    "import numpy as np\n",
    "np_mat = np.array([[1, 2],\n",
    "                   [3, 4],\n",
    "                   [5, 6]])\n",
    "np_mat * 2\n",
    "np_mat + np.array([10, 10])\n",
    "np_mat + np_mat"
   ]
  },
  {
   "cell_type": "code",
   "execution_count": 22,
   "id": "8f315632",
   "metadata": {},
   "outputs": [
    {
     "name": "stdout",
     "output_type": "stream",
     "text": [
      "[[ 4.572     35.5616128]\n",
      " [ 5.461     46.5838984]\n",
      " [ 5.334     44.678812 ]\n",
      " [ 4.7752    34.1101184]]\n"
     ]
    }
   ],
   "source": [
    "# baseball is available as a regular list of lists\n",
    "# updated is available as 2D numpy array\n",
    "\n",
    "# Import numpy package\n",
    "import numpy as np\n",
    "\n",
    "# Create np_baseball (3 cols)\n",
    "np_baseball = np.array(baseball)\n",
    "\n",
    "# Print out addition of np_baseball and updated\n",
    "# print(np_baseball+updated)\n",
    "\n",
    "# Create numpy array: conversion\n",
    "conversion = np.array([0.0254,0.453592])\n",
    "\n",
    "# Print out product of np_baseball and conversion\n",
    "print(np_baseball*conversion)"
   ]
  },
  {
   "cell_type": "markdown",
   "id": "116a4e6a",
   "metadata": {},
   "source": [
    "# Ortalamaya karşı medyan\n",
    "\n",
    "Artık verileriniz için daha iyi bir his elde etmek için numpy işlevlerini nasıl kullanacağınızı biliyorsunuz. Temel olarak, numpy'yi içe aktarmaya ve ardından numpy dizilerinde birkaç basit işlevi çağırmaya gelir:\n",
    "\n",
    "import numpy as np\n",
    "\n",
    "x = [1, 4, 8, 10, 12]\n",
    "\n",
    "np.mean(x)\n",
    "\n",
    "np.median(x)\n",
    "\n",
    "Beyzbol verileri, 3 sütunlu (boy, kilo, yaş) ve 1015 satırlı bir 2D numpy dizisi olarak mevcuttur. Bu numpy dizisinin adı np_baseball'dur. Ancak verileri yeniden yapılandırdıktan sonra, bazı yükseklik değerlerinin anormal derecede yüksek olduğunu fark ediyorsunuz. Talimatları izleyin ve sözde aykırı değerlerle uğraşıyorsanız hangi özet istatistiğin en uygun olduğunu keşfedin."
   ]
  },
  {
   "cell_type": "code",
   "execution_count": 23,
   "id": "ca13f7ac",
   "metadata": {},
   "outputs": [
    {
     "name": "stdout",
     "output_type": "stream",
     "text": [
      "198.25\n",
      "199.0\n"
     ]
    }
   ],
   "source": [
    "# np_baseball is available\n",
    "\n",
    "# Import numpy\n",
    "import numpy as np\n",
    "\n",
    "# Create np_height_in from np_baseball\n",
    "np_height_in = np_baseball[:,0]\n",
    "\n",
    "# Print out the mean of np_height_in\n",
    "print(np.mean(np_height_in))\n",
    "\n",
    "# Print out the median of np_height_in\n",
    "print(np.median(np_height_in))"
   ]
  },
  {
   "cell_type": "markdown",
   "id": "2649974f",
   "metadata": {},
   "source": [
    "Beyzbol verilerini keşfedin\n",
    "\n",
    "Ortalama ve medyan birbirinden çok uzak olduğu için MLB'ye şikayet etmeye karar veriyorsunuz. Hatayı bulurlar ve düzeltilmiş verileri size gönderirler. Yine üç sütunlu bir 2D Numpy dizisi np_baseball olarak mevcuttur.\n",
    "\n",
    "Editördeki Python betiği, farklı özet istatistiklerle bilgilendirici mesajları yazdırmak için zaten kod içerir. İşi bitirebilir misin?"
   ]
  },
  {
   "cell_type": "code",
   "execution_count": 24,
   "id": "6ab1f3ea",
   "metadata": {},
   "outputs": [
    {
     "name": "stdout",
     "output_type": "stream",
     "text": [
      "Average: 198.25\n",
      "Median: 199.0\n",
      "Standard Deviation: 14.635146053251399\n",
      "Correlation: [[1.         0.95865738]\n",
      " [0.95865738 1.        ]]\n"
     ]
    }
   ],
   "source": [
    "# np_baseball is available\n",
    "\n",
    "# Import numpy\n",
    "import numpy as np\n",
    "\n",
    "# Print mean height (first column)\n",
    "avg = np.mean(np_baseball[:,0])\n",
    "print(\"Average: \" + str(avg))\n",
    "\n",
    "# Print median height. Replace 'None'\n",
    "med = np.median(np_baseball[:,0])\n",
    "print(\"Median: \" + str(med))\n",
    "\n",
    "# Print out the standard deviation on height. Replace 'None'\n",
    "stddev = np.std(np_baseball[:,0])\n",
    "print(\"Standard Deviation: \" + str(stddev))\n",
    "\n",
    "# Print out correlation between first and second column. Replace 'None'\n",
    "corr = np.corrcoef(np_baseball[:,0],np_baseball[:,1])\n",
    "print(\"Correlation: \" + str(corr))"
   ]
  },
  {
   "cell_type": "code",
   "execution_count": null,
   "id": "9dac6992",
   "metadata": {},
   "outputs": [],
   "source": []
  }
 ],
 "metadata": {
  "kernelspec": {
   "display_name": "Python 3 (ipykernel)",
   "language": "python",
   "name": "python3"
  },
  "language_info": {
   "codemirror_mode": {
    "name": "ipython",
    "version": 3
   },
   "file_extension": ".py",
   "mimetype": "text/x-python",
   "name": "python",
   "nbconvert_exporter": "python",
   "pygments_lexer": "ipython3",
   "version": "3.9.7"
  }
 },
 "nbformat": 4,
 "nbformat_minor": 5
}
