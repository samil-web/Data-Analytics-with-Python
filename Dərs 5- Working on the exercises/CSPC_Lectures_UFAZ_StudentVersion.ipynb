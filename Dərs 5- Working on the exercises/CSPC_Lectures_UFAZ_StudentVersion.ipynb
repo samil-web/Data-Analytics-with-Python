{
  "nbformat": 4,
  "nbformat_minor": 0,
  "metadata": {
    "colab": {
      "name": "CSPC_Lectures_UFAZ_StudentVersion.ipynb",
      "provenance": [],
      "collapsed_sections": [
        "P-H6Lw1vyNNd",
        "ZPko5arah6J4",
        "qQAxMsK6q-h3",
        "tUCR2eK3s_eI",
        "nsnS0_SD2V2f",
        "qf7XyP8Dsurl",
        "rNJo7fSd2yvl",
        "k5dj984D34Uu",
        "oCSYeBYp02FG",
        "h2h2fLs85cB_",
        "2tcqQ1OXAP5l",
        "guBIquM5D0Sl",
        "BWYlpDB2EeEa",
        "8R9JU10DHO1F",
        "06pPMmWbM9mB",
        "Xk1cCGy3jtOV",
        "mBL5cB9kQ-uf",
        "n4nsR3LlpHUU",
        "Cw9DP9funjTA",
        "-qDqF04wj9jd",
        "eHfaqvHwskux",
        "0Tmkq_BZsvXb",
        "wvO9ehcnWxLG",
        "aH-rSurqeaH_",
        "_GKZ2Y9Gvil9",
        "cYxPQgfE7Agp",
        "1C6TPoT99Jdr",
        "X5nsM3Yv_bjS",
        "cKyYucg2BYBw",
        "DC-JXLDjjUa0",
        "fIijYRo83n1L",
        "6xXQMNHkm9L8",
        "el2isLD4qu3m",
        "_NAGUe9Tui2U",
        "jV8jLbxI1elc",
        "3foER-ELIM9m",
        "OUJ8JATmwXHT",
        "1jZVcIPiQTiq"
      ],
      "toc_visible": true
    },
    "kernelspec": {
      "display_name": "Python 3",
      "name": "python3"
    }
  },
  "cells": [
    {
      "cell_type": "markdown",
      "metadata": {
        "id": "3cXd8iZRIFST"
      },
      "source": [
        "# Lecture #2: Basics on Python (1/2)"
      ]
    },
    {
      "cell_type": "markdown",
      "metadata": {
        "id": "2fhs6GZ4qFMx"
      },
      "source": [
        "## Section 2.1. Play with the interpreter\n",
        "\n",
        "Use the following box to write some Python commands (e.g. arithmetic operations on numbers). Try to separate a command on two lines with the character \\."
      ]
    },
    {
      "cell_type": "code",
      "metadata": {
        "id": "-gE-Ez1qtyIA"
      },
      "source": [
        "\n"
      ],
      "execution_count": null,
      "outputs": []
    },
    {
      "cell_type": "code",
      "metadata": {
        "id": "OWDXapJTZaED"
      },
      "source": [
        ""
      ],
      "execution_count": null,
      "outputs": []
    },
    {
      "cell_type": "code",
      "metadata": {
        "id": "t-vVLiOtZaHO"
      },
      "source": [
        ""
      ],
      "execution_count": null,
      "outputs": []
    },
    {
      "cell_type": "code",
      "metadata": {
        "id": "zn6-_AvYZaKK"
      },
      "source": [
        ""
      ],
      "execution_count": null,
      "outputs": []
    },
    {
      "cell_type": "code",
      "metadata": {
        "id": "opXuVqUIZaM2"
      },
      "source": [
        ""
      ],
      "execution_count": null,
      "outputs": []
    },
    {
      "cell_type": "markdown",
      "metadata": {
        "id": "-Rh3-Vt9Nev9"
      },
      "source": [
        "## Section 2.2: Play with variables\n",
        "\n",
        "Create two variables and add them"
      ]
    },
    {
      "cell_type": "code",
      "metadata": {
        "id": "jPTi30mnX44c"
      },
      "source": [
        ""
      ],
      "execution_count": null,
      "outputs": []
    },
    {
      "cell_type": "code",
      "metadata": {
        "id": "VeHOKNIVZSNy"
      },
      "source": [
        ""
      ],
      "execution_count": null,
      "outputs": []
    },
    {
      "cell_type": "code",
      "metadata": {
        "id": "Cwp1d6TxZSW7"
      },
      "source": [
        ""
      ],
      "execution_count": null,
      "outputs": []
    },
    {
      "cell_type": "markdown",
      "metadata": {
        "id": "P-H6Lw1vyNNd"
      },
      "source": [
        "## Section 2.3: Play with variable type\n",
        "\n",
        "Guess the results of the following instructions. Execute the code to check your predictions"
      ]
    },
    {
      "cell_type": "code",
      "metadata": {
        "id": "Zcdp8JupYGGQ"
      },
      "source": [
        "a=0\n",
        "b=1.5\n",
        "c=True\n",
        "d=\"Hello\""
      ],
      "execution_count": null,
      "outputs": []
    },
    {
      "cell_type": "code",
      "metadata": {
        "id": "u22kOaIFYptk"
      },
      "source": [
        "type(a)"
      ],
      "execution_count": null,
      "outputs": []
    },
    {
      "cell_type": "code",
      "metadata": {
        "id": "5E4BbFazYr-C"
      },
      "source": [
        "type(b)"
      ],
      "execution_count": null,
      "outputs": []
    },
    {
      "cell_type": "code",
      "metadata": {
        "id": "3T8YV4IXYt4N"
      },
      "source": [
        "type(c)"
      ],
      "execution_count": null,
      "outputs": []
    },
    {
      "cell_type": "code",
      "metadata": {
        "id": "1j9diRgWYw1E"
      },
      "source": [
        "type(d)"
      ],
      "execution_count": null,
      "outputs": []
    },
    {
      "cell_type": "code",
      "metadata": {
        "id": "cCI0V5utYyjV"
      },
      "source": [
        "type(a+b)"
      ],
      "execution_count": null,
      "outputs": []
    },
    {
      "cell_type": "code",
      "metadata": {
        "id": "QRX6H-YwY0-o"
      },
      "source": [
        "type(c*a)"
      ],
      "execution_count": null,
      "outputs": []
    },
    {
      "cell_type": "code",
      "metadata": {
        "id": "FbTtOS13Y27D"
      },
      "source": [
        "type(a/2)"
      ],
      "execution_count": null,
      "outputs": []
    },
    {
      "cell_type": "code",
      "metadata": {
        "id": "-dO3kTJW3DJ5"
      },
      "source": [
        "type(a//2)"
      ],
      "execution_count": null,
      "outputs": []
    },
    {
      "cell_type": "code",
      "metadata": {
        "id": "Ly9_FO05Y6bK"
      },
      "source": [
        "int(b)"
      ],
      "execution_count": null,
      "outputs": []
    },
    {
      "cell_type": "code",
      "metadata": {
        "id": "0aAyuUYEZHTv"
      },
      "source": [
        "float(a)"
      ],
      "execution_count": null,
      "outputs": []
    },
    {
      "cell_type": "code",
      "metadata": {
        "id": "GCp-AMSOZJJL"
      },
      "source": [
        "float(c)"
      ],
      "execution_count": null,
      "outputs": []
    },
    {
      "cell_type": "code",
      "metadata": {
        "id": "ou1BKqxAZK5k"
      },
      "source": [
        "bool(a)"
      ],
      "execution_count": null,
      "outputs": []
    },
    {
      "cell_type": "code",
      "metadata": {
        "id": "3l-0rMLGZNH8"
      },
      "source": [
        "str(a)"
      ],
      "execution_count": null,
      "outputs": []
    },
    {
      "cell_type": "markdown",
      "metadata": {
        "id": "ZPko5arah6J4"
      },
      "source": [
        "## Section 2.4: Input and output\n",
        "\n",
        "Use the print() and input() functionalities"
      ]
    },
    {
      "cell_type": "code",
      "metadata": {
        "id": "lGpoPvb-iDDr"
      },
      "source": [
        "print(\"Hello world\")"
      ],
      "execution_count": null,
      "outputs": []
    },
    {
      "cell_type": "code",
      "metadata": {
        "id": "J7kVDDgsiJtF"
      },
      "source": [
        "print(\"Hello\", \"world\")"
      ],
      "execution_count": null,
      "outputs": []
    },
    {
      "cell_type": "code",
      "metadata": {
        "id": "Ne43-P2TiOfh"
      },
      "source": [
        "X = 10\n",
        "print(\"The variable X is equal to\", X)"
      ],
      "execution_count": null,
      "outputs": []
    },
    {
      "cell_type": "code",
      "metadata": {
        "id": "RsquwhzHiY-E"
      },
      "source": [
        "X = input()\n",
        "print(\"You just typed\", X, \"on the keyboard\")"
      ],
      "execution_count": null,
      "outputs": []
    },
    {
      "cell_type": "markdown",
      "metadata": {
        "id": "U8B-l1UfqC82"
      },
      "source": [
        "# Lecture #3: Basics on Python (2/2)"
      ]
    },
    {
      "cell_type": "markdown",
      "metadata": {
        "id": "MB8vV2Q1lFUZ"
      },
      "source": [
        "## Section 3.1: Conditional statements\n",
        "Replace [...] in each box by the appropriate conditional statement and run the codes "
      ]
    },
    {
      "cell_type": "code",
      "metadata": {
        "id": "S2GkpTmOlPW8"
      },
      "source": [
        "print(\"Type a positive value\")\n",
        "x=int(input())\n",
        "if [...]]:\n",
        "  print(\"You have typed a negative value\")"
      ],
      "execution_count": null,
      "outputs": []
    },
    {
      "cell_type": "code",
      "metadata": {
        "id": "jfcy_zzilPfU"
      },
      "source": [
        "print(\"Type a positive value\")\n",
        "x=int(input())\n",
        "if [...]:\n",
        "  print(\"You have typed a negative value\")\n",
        "else:\n",
        "  print(\"You have typed\", x)  "
      ],
      "execution_count": null,
      "outputs": []
    },
    {
      "cell_type": "code",
      "metadata": {
        "id": "uYuEbUDnlPlW"
      },
      "source": [
        "print(\"Type a value between 3 and 6 included\")\n",
        "x=int(input())\n",
        "if [...]:\n",
        "  print(\"You have typed a value below 3\")\n",
        "elif [...]:\n",
        "  print(\"You have typed a value above 6\")\n",
        "else:\n",
        "   print(\"You have typed\", x)  "
      ],
      "execution_count": null,
      "outputs": []
    },
    {
      "cell_type": "code",
      "metadata": {
        "id": "d5HUUrPIlPoW"
      },
      "source": [
        "print(\"Type a value between 3 and 6 included\")\n",
        "x=int(input())\n",
        "if [...]:\n",
        "  print(\"You have typed a wrong value\")"
      ],
      "execution_count": null,
      "outputs": []
    },
    {
      "cell_type": "markdown",
      "metadata": {
        "id": "qQAxMsK6q-h3"
      },
      "source": [
        "## Section 3.2: Loop statements\n",
        "Execute the following commands"
      ]
    },
    {
      "cell_type": "code",
      "metadata": {
        "id": "KPSAvlV5n5z0"
      },
      "source": [
        "for i in range(5,9):\n",
        "  print(i)"
      ],
      "execution_count": null,
      "outputs": []
    },
    {
      "cell_type": "code",
      "metadata": {
        "id": "rQJREssorHJc"
      },
      "source": [
        "for i in range(11):\n",
        "  print(i)"
      ],
      "execution_count": null,
      "outputs": []
    },
    {
      "cell_type": "code",
      "metadata": {
        "id": "DA2UJ6nBrHla"
      },
      "source": [
        "for i in range(5,12):\n",
        "  print(i)"
      ],
      "execution_count": null,
      "outputs": []
    },
    {
      "cell_type": "code",
      "metadata": {
        "id": "5o4g4U7vrHpQ"
      },
      "source": [
        "for i in (1,2,3,5,7):\n",
        "  print(i)"
      ],
      "execution_count": null,
      "outputs": []
    },
    {
      "cell_type": "code",
      "metadata": {
        "id": "Fvkks3xtZl_e"
      },
      "source": [
        "for idx, val in enumerate((7, 23, 145, 16, 67)):\n",
        "  print('Element', idx, '=', val)"
      ],
      "execution_count": null,
      "outputs": []
    },
    {
      "cell_type": "code",
      "metadata": {
        "id": "tsd0krzlrY3k"
      },
      "source": [
        "i=0\n",
        "while (i<10):\n",
        "  print(i)\n",
        "  i=i+1"
      ],
      "execution_count": null,
      "outputs": []
    },
    {
      "cell_type": "markdown",
      "metadata": {
        "id": "X1Y-kLF3rpeX"
      },
      "source": [
        "Add an conditional statement (break) in the following code to stop the execution when the result is above 100"
      ]
    },
    {
      "cell_type": "code",
      "metadata": {
        "id": "FTLs4igfr10K"
      },
      "source": [
        "i=1\n",
        "while (i<20):\n",
        "  result=i**2\n",
        "  if (result>100):\n",
        "    break\n",
        "  print(\"The square of\", i, \"is\", result)\n",
        "  i=i+1"
      ],
      "execution_count": null,
      "outputs": []
    },
    {
      "cell_type": "markdown",
      "metadata": {
        "id": "lG4h8NKerV5d"
      },
      "source": [
        "Add an conditional statement (continue) in the following code to display only even results"
      ]
    },
    {
      "cell_type": "code",
      "metadata": {
        "id": "qe6K2Qu8rKos"
      },
      "source": [
        "i=1\n",
        "while (i<20):\n",
        "  result=i**2\n",
        "  if (result%2==1):\n",
        "    i=i+1\n",
        "    continue\n",
        "  print(\"The square of\", i, \"is\", result)\n",
        "  i=i+1"
      ],
      "execution_count": null,
      "outputs": []
    },
    {
      "cell_type": "markdown",
      "metadata": {
        "id": "heCM94tVrO2Z"
      },
      "source": [
        "Put a command in a string and execute it"
      ]
    },
    {
      "cell_type": "code",
      "metadata": {
        "id": "FBSU1TpEt4ym"
      },
      "source": [
        "a=1\n",
        "b=1\n",
        "count=0\n",
        "print(a)\n",
        "print(b)\n",
        "while(count<=18):\n",
        "  result=a+b\n",
        "  print(result)\n",
        "  b=a\n",
        "  a=result\n",
        "  count+=1"
      ],
      "execution_count": null,
      "outputs": []
    },
    {
      "cell_type": "markdown",
      "metadata": {
        "id": "5Zb7n9B2uCEs"
      },
      "source": [
        "Encode a script to display the prime numbers between 1 and 100 according to the lagorithm you've established in the Lecture #1"
      ]
    },
    {
      "cell_type": "code",
      "metadata": {
        "id": "XZuJZrTGuN7A"
      },
      "source": [
        "for i in range(2,101):\n",
        "  isPrime=True\n",
        "  for k in range(2,i):\n",
        "    if(i%k==0):\n",
        "      isPrime=False\n",
        "  if isPrime:\n",
        "    print(i)"
      ],
      "execution_count": null,
      "outputs": []
    },
    {
      "cell_type": "markdown",
      "metadata": {
        "id": "9waqSZbinfR3"
      },
      "source": [
        "# Lecture #4: Functions and modularity (1/2) "
      ]
    },
    {
      "cell_type": "markdown",
      "metadata": {
        "id": "G6ekvRCgnqP0"
      },
      "source": [
        "## Section 4.1: Function definition"
      ]
    },
    {
      "cell_type": "markdown",
      "metadata": {
        "id": "HR-tGgV7ntHX"
      },
      "source": [
        "As his name suggests, the function *multiply* multiplies two values *x* and *y*. By default *x* is equal to 2 and *y* to 10 "
      ]
    },
    {
      "cell_type": "code",
      "metadata": {
        "id": "9Il_8bxEoFnO"
      },
      "source": [
        "def multiply(x=2,y=10):\n",
        "  return x*y"
      ],
      "execution_count": null,
      "outputs": []
    },
    {
      "cell_type": "code",
      "metadata": {
        "id": "CbVoLpn8oLlj"
      },
      "source": [
        "multiply(3,4)"
      ],
      "execution_count": null,
      "outputs": []
    },
    {
      "cell_type": "code",
      "metadata": {
        "id": "KX5Oot24oNoJ"
      },
      "source": [
        "multiply(5)"
      ],
      "execution_count": null,
      "outputs": []
    },
    {
      "cell_type": "code",
      "metadata": {
        "id": "V1djHQnxoRCY"
      },
      "source": [
        "multiply()"
      ],
      "execution_count": null,
      "outputs": []
    },
    {
      "cell_type": "code",
      "metadata": {
        "id": "obkOe6UeoTdT"
      },
      "source": [
        "multiply(y=4)"
      ],
      "execution_count": null,
      "outputs": []
    },
    {
      "cell_type": "markdown",
      "metadata": {
        "id": "tFPbwJA4obLg"
      },
      "source": [
        "Encode a function *isPrime* that take one argument *n* and returns a Boolean depending if *n* is prime or not."
      ]
    },
    {
      "cell_type": "code",
      "metadata": {
        "id": "INc9h2QrooGt"
      },
      "source": [
        ""
      ],
      "execution_count": null,
      "outputs": []
    },
    {
      "cell_type": "markdown",
      "metadata": {
        "id": "Gz6l6xcUzvak"
      },
      "source": [
        "Use the *isPrime* function to display the prime numbers between 1 and 100"
      ]
    },
    {
      "cell_type": "code",
      "metadata": {
        "id": "Jzw8B29Gzuxl"
      },
      "source": [
        ""
      ],
      "execution_count": null,
      "outputs": []
    },
    {
      "cell_type": "markdown",
      "metadata": {
        "id": "tUCR2eK3s_eI"
      },
      "source": [
        "## Section 4.2: Scope of variables\n",
        "Predict the result of the following command lines. Execute the code to check your predictions"
      ]
    },
    {
      "cell_type": "code",
      "metadata": {
        "id": "n_iyQ6eXtBzq"
      },
      "source": [
        "def polynomial(x):\n",
        "  a=1\n",
        "  b=2\n",
        "  c=3\n",
        "  return a*x*x+b*x+c"
      ],
      "execution_count": null,
      "outputs": []
    },
    {
      "cell_type": "code",
      "metadata": {
        "id": "uRwUeHYC0q4r"
      },
      "source": [
        "print(polynomial(2))"
      ],
      "execution_count": null,
      "outputs": []
    },
    {
      "cell_type": "code",
      "metadata": {
        "id": "Q3XN6NIfuPEP"
      },
      "source": [
        "a=5\n",
        "print(polynomial(2))"
      ],
      "execution_count": null,
      "outputs": []
    },
    {
      "cell_type": "code",
      "metadata": {
        "id": "3vl4Ml22ubuq"
      },
      "source": [
        "a=5\n",
        "polynomial(2)\n",
        "print(a)"
      ],
      "execution_count": null,
      "outputs": []
    },
    {
      "cell_type": "code",
      "metadata": {
        "id": "w5NJ4EzEufvK"
      },
      "source": [
        "def polynomial(x):\n",
        "  global a\n",
        "  a=1\n",
        "  b=2\n",
        "  c=3\n",
        "  return a*x*x+b*x+c"
      ],
      "execution_count": null,
      "outputs": []
    },
    {
      "cell_type": "code",
      "metadata": {
        "id": "xhUnUH_G0uWT"
      },
      "source": [
        "a=5\n",
        "polynomial(5)\n",
        "print(a)"
      ],
      "execution_count": null,
      "outputs": []
    },
    {
      "cell_type": "code",
      "metadata": {
        "id": "GdDqLQcHwk_b"
      },
      "source": [
        "def printa():\n",
        "  a=20\n",
        "  print(a)\n",
        "\n",
        "def func():\n",
        "  global a\n",
        "  a=10\n",
        "  printa()"
      ],
      "execution_count": null,
      "outputs": []
    },
    {
      "cell_type": "code",
      "metadata": {
        "id": "35civTah0xVT"
      },
      "source": [
        "a=5\n",
        "func()"
      ],
      "execution_count": null,
      "outputs": []
    },
    {
      "cell_type": "markdown",
      "metadata": {
        "id": "P8rMRh_SuUkB"
      },
      "source": [
        "# Lecture #6: Object-oriented programming (1/2)"
      ]
    },
    {
      "cell_type": "markdown",
      "metadata": {
        "id": "0z-fIvNWz5u8"
      },
      "source": [
        "## Section 6: Define your first class"
      ]
    },
    {
      "cell_type": "markdown",
      "metadata": {
        "id": "5iXsDlqyudiU"
      },
      "source": [
        "Create a new class *person* which contains three attributes: \n",
        "- *firstName*: the first name of the person (default value: Anakin) \n",
        "- *lastName*: the last name of the person (default value: Skywalker)\n",
        "- *age*: the age of the personage (default value: 42)\n",
        "\n",
        "and three methods: \n",
        "- the constructor\n",
        "- *displayFullName* to display the full name\n",
        "- *swapFirstLastName* to swap the first and last names"
      ]
    },
    {
      "cell_type": "code",
      "metadata": {
        "id": "TJhEUvHEu5ES"
      },
      "source": [
        "class Person:\n",
        "  \n",
        " \n",
        "  def __init__(self,firstName=\"Anakin\",lastName=\"Skywalker\",age=42):\n",
        "    [...]\n",
        "    \n",
        "  def displaySentence(self):\n",
        "    [...]\n",
        "  \n",
        "  def swapFirstLastName(self):\n",
        "    [...]\n",
        "    "
      ],
      "execution_count": null,
      "outputs": []
    },
    {
      "cell_type": "markdown",
      "metadata": {
        "id": "BBIkXX8c7Rzb"
      },
      "source": [
        "Play with your *Person* class. Predict the result of the following lines and execute them to check your predictions"
      ]
    },
    {
      "cell_type": "code",
      "metadata": {
        "id": "b_NL4v-HwHlr"
      },
      "source": [
        "darthVader = Person('Morgan', 'Madec', 38)"
      ],
      "execution_count": null,
      "outputs": []
    },
    {
      "cell_type": "code",
      "metadata": {
        "id": "Z3M17hmCwPeV"
      },
      "source": [
        "darthVader.firstname"
      ],
      "execution_count": null,
      "outputs": []
    },
    {
      "cell_type": "code",
      "metadata": {
        "id": "ZKIiR3NrwXpO"
      },
      "source": [
        "darthVader.lastname"
      ],
      "execution_count": null,
      "outputs": []
    },
    {
      "cell_type": "code",
      "metadata": {
        "id": "C1jQumEnww1Y"
      },
      "source": [
        "darthVader.displaySentence()"
      ],
      "execution_count": null,
      "outputs": []
    },
    {
      "cell_type": "code",
      "metadata": {
        "id": "QiNzHnrRxGKd"
      },
      "source": [
        "darthVader.swapFirstLastName()\n",
        "darthVader.displaySentence()"
      ],
      "execution_count": null,
      "outputs": []
    },
    {
      "cell_type": "code",
      "metadata": {
        "id": "rUbgF6inxOsv"
      },
      "source": [
        "dir(darthVader)"
      ],
      "execution_count": null,
      "outputs": []
    },
    {
      "cell_type": "code",
      "metadata": {
        "id": "b2cVLIqqxhNt"
      },
      "source": [
        "darthVader.__dict__"
      ],
      "execution_count": null,
      "outputs": []
    },
    {
      "cell_type": "code",
      "metadata": {
        "id": "Mt5kJPmExztf"
      },
      "source": [
        "darthVader.__getattribute__('firstname')"
      ],
      "execution_count": null,
      "outputs": []
    },
    {
      "cell_type": "code",
      "metadata": {
        "id": "9rLTKpGoySd_"
      },
      "source": [
        "darthVader.__setattr__('origin','Tatooine')\n",
        "darthVader.__dict__"
      ],
      "execution_count": null,
      "outputs": []
    },
    {
      "cell_type": "code",
      "metadata": {
        "id": "tUrQje8JzlbM"
      },
      "source": [
        "darthVader.__delattr__('origin')\n",
        "darthVader.__dict__"
      ],
      "execution_count": null,
      "outputs": []
    },
    {
      "cell_type": "code",
      "metadata": {
        "id": "6HDqgd3lZreQ"
      },
      "source": [
        "darthVader.__setattr__('age', 41)\n",
        "darthVader.__dict__"
      ],
      "execution_count": null,
      "outputs": []
    },
    {
      "cell_type": "code",
      "metadata": {
        "id": "At5IkW9NZ0v3"
      },
      "source": [
        "darthVader.origin = 'Tatooine'\n",
        "darthVader.__dict__"
      ],
      "execution_count": null,
      "outputs": []
    },
    {
      "cell_type": "markdown",
      "metadata": {
        "id": "S3dOSdCT9B-L"
      },
      "source": [
        "# Lecture #7: Object-oriented programming (2/2)"
      ]
    },
    {
      "cell_type": "markdown",
      "metadata": {
        "id": "VxyIiwda9JYT"
      },
      "source": [
        "## Section 7: Strings are objects\n",
        "Create a string and use the *dir* function on it to discover the attributes and the methods associated with this object"
      ]
    },
    {
      "cell_type": "code",
      "metadata": {
        "id": "7kpvCECT9Ipb"
      },
      "source": [
        "myString=[...]"
      ],
      "execution_count": null,
      "outputs": []
    },
    {
      "cell_type": "code",
      "metadata": {
        "id": "zZnJXLME9lOh"
      },
      "source": [
        "dir(myString)"
      ],
      "execution_count": null,
      "outputs": []
    },
    {
      "cell_type": "markdown",
      "metadata": {
        "id": "G-toiffuLte0"
      },
      "source": [
        "#Lecture #8: String Manipulation"
      ]
    },
    {
      "cell_type": "markdown",
      "metadata": {
        "id": "nsnS0_SD2V2f"
      },
      "source": [
        "## Section 8.1: Methods associated with Strings\n",
        "Define a string, then predict the results of the following code lines. Execute the code lines to check your prediction "
      ]
    },
    {
      "cell_type": "code",
      "metadata": {
        "id": "oWC4TqO22Y7N"
      },
      "source": [
        "myString=\"May the force be with you !\""
      ],
      "execution_count": null,
      "outputs": []
    },
    {
      "cell_type": "code",
      "metadata": {
        "id": "D8Di4Wnj-OiH"
      },
      "source": [
        "dir(myString)"
      ],
      "execution_count": null,
      "outputs": []
    },
    {
      "cell_type": "code",
      "metadata": {
        "id": "KBFgZynFEVge"
      },
      "source": [
        "myString.count('e')"
      ],
      "execution_count": null,
      "outputs": []
    },
    {
      "cell_type": "code",
      "metadata": {
        "id": "YkWp8EwMEVqo"
      },
      "source": [
        "myString.startswith('May')"
      ],
      "execution_count": null,
      "outputs": []
    },
    {
      "cell_type": "code",
      "metadata": {
        "id": "wAV4BtWhEVwz"
      },
      "source": [
        "myString.endswith('you')"
      ],
      "execution_count": null,
      "outputs": []
    },
    {
      "cell_type": "code",
      "metadata": {
        "id": "LE_dUgklEV0P"
      },
      "source": [
        "myString.find('force')"
      ],
      "execution_count": null,
      "outputs": []
    },
    {
      "cell_type": "code",
      "metadata": {
        "id": "p_6dGFrEEV3L"
      },
      "source": [
        "myString.replace('you','me')"
      ],
      "execution_count": null,
      "outputs": []
    },
    {
      "cell_type": "code",
      "metadata": {
        "id": "VpkSUf_oEV6Y"
      },
      "source": [
        "myString.split(' ')"
      ],
      "execution_count": null,
      "outputs": []
    },
    {
      "cell_type": "code",
      "metadata": {
        "id": "Om2PxDj5Eznh"
      },
      "source": [
        "myString.strip(' !')"
      ],
      "execution_count": null,
      "outputs": []
    },
    {
      "cell_type": "code",
      "metadata": {
        "id": "6UJnAiFHFhLN"
      },
      "source": [
        "myString.strip('May ').replace('be','is')"
      ],
      "execution_count": null,
      "outputs": []
    },
    {
      "cell_type": "code",
      "metadata": {
        "id": "SkLcYp5ht2Sy"
      },
      "source": [
        "myNewString=myString+' Yes, '+myString.strip('May ').replace('be','is').replace('you','me')\n",
        "print(myNewString)"
      ],
      "execution_count": null,
      "outputs": []
    },
    {
      "cell_type": "markdown",
      "metadata": {
        "id": "qf7XyP8Dsurl"
      },
      "source": [
        "## Section 8.2: Dynamic evaluation of commands\n",
        "Four variables are defined: x0, x1, x2 and x3. We would like to display the results of the addition of each couple of variables.\n"
      ]
    },
    {
      "cell_type": "code",
      "metadata": {
        "id": "F61-gODLucE1"
      },
      "source": [
        "x0=41\n",
        "x1=25\n",
        "x2=10\n",
        "x3=66\n",
        "\n",
        "for j in range(4):\n",
        "  for k in range(j+1,4):\n",
        "    commandToExecute = \"x\" + str(j) + '+x' + str(k)\n",
        "    y=eval(commandToExecute)\n",
        "    print(commandToExecute, '=', y)"
      ],
      "execution_count": null,
      "outputs": []
    },
    {
      "cell_type": "markdown",
      "metadata": {
        "id": "ASx4d05JtAuv"
      },
      "source": [
        "# Lecture #9: Error Management and Exceptions"
      ]
    },
    {
      "cell_type": "markdown",
      "metadata": {
        "id": "qt2wH6VntE1S"
      },
      "source": [
        "## Section 9.1: Try/except statements\n",
        "Add a try/except statement in order to avoid the crash of the following program when k=0"
      ]
    },
    {
      "cell_type": "code",
      "metadata": {
        "id": "evYxHqt9tIe-"
      },
      "source": [
        "for k in range(-5,6):\n",
        "  print('The inverse of '+str(k)+' is '+str(1/k)))"
      ],
      "execution_count": null,
      "outputs": []
    },
    {
      "cell_type": "code",
      "metadata": {
        "id": "iSU6ncGs8bXf"
      },
      "source": [
        "for k in range(-5,6):\n",
        "  print('The inverse of '+str(k)+' is '+str(1/k))"
      ],
      "execution_count": null,
      "outputs": []
    },
    {
      "cell_type": "markdown",
      "metadata": {
        "id": "nuSwEWzvyvEL"
      },
      "source": [
        "## Section 9.2: Error Type\n",
        "Predict the result of the following command lines. Execute the code to check your predictions"
      ]
    },
    {
      "cell_type": "code",
      "metadata": {
        "id": "r4VbIOFHyxyi"
      },
      "source": [
        "def divide(a,b):\n",
        "  try:\n",
        "    return a/b\n",
        "  except ZeroDivisionError:\n",
        "    print('Try with a non-zero value for b')\n",
        "  except TypeError:\n",
        "    print('Try integer values for a and b')"
      ],
      "execution_count": null,
      "outputs": []
    },
    {
      "cell_type": "code",
      "metadata": {
        "id": "osBd-If-zHtH"
      },
      "source": [
        "a=2\n",
        "b=5\n",
        "divide(a,b)"
      ],
      "execution_count": null,
      "outputs": []
    },
    {
      "cell_type": "code",
      "metadata": {
        "id": "konmbKqRzQWQ"
      },
      "source": [
        "a=2\n",
        "b=0\n",
        "divide(a,b)"
      ],
      "execution_count": null,
      "outputs": []
    },
    {
      "cell_type": "code",
      "metadata": {
        "id": "A4LHgYMEzYD2"
      },
      "source": [
        "a=2\n",
        "b='a'\n",
        "divide(a,b)"
      ],
      "execution_count": null,
      "outputs": []
    },
    {
      "cell_type": "markdown",
      "metadata": {
        "id": "rNJo7fSd2yvl"
      },
      "source": [
        "## Section 9.3: Else and finally\n",
        "Predict the result of the following command lines. Execute the code to check your predictions"
      ]
    },
    {
      "cell_type": "code",
      "metadata": {
        "id": "HBvxvu-z25eC"
      },
      "source": [
        "def divide(a,b):\n",
        "  try:\n",
        "    a/b\n",
        "  except ZeroDivisionError:\n",
        "    print('Try with a non-zero value for b')\n",
        "  except TypeError:\n",
        "    print('Try integer values for a and b')\n",
        "  else:\n",
        "    return(a/b)"
      ],
      "execution_count": null,
      "outputs": []
    },
    {
      "cell_type": "code",
      "metadata": {
        "id": "JS3PxRcv3LHM"
      },
      "source": [
        "a=2\n",
        "b='a'\n",
        "divide(a,b)"
      ],
      "execution_count": null,
      "outputs": []
    },
    {
      "cell_type": "code",
      "metadata": {
        "id": "teJCzeic3Md5"
      },
      "source": [
        "a=2\n",
        "b=0\n",
        "divide(a,b)"
      ],
      "execution_count": null,
      "outputs": []
    },
    {
      "cell_type": "code",
      "metadata": {
        "id": "JU0ys9t13Nf4"
      },
      "source": [
        "a=2\n",
        "b=5\n",
        "divide(a,b)"
      ],
      "execution_count": null,
      "outputs": []
    },
    {
      "cell_type": "code",
      "metadata": {
        "id": "-TDoPFyw3UcB"
      },
      "source": [
        "def divide(a,b):\n",
        "  try:\n",
        "    return(a/b)\n",
        "  except ZeroDivisionError:\n",
        "    print('Try with a non-zero value for b')\n",
        "  except TypeError:\n",
        "    print('Try integer values for a and b')\n",
        "  finally:\n",
        "    print('Computation complete')"
      ],
      "execution_count": null,
      "outputs": []
    },
    {
      "cell_type": "code",
      "metadata": {
        "id": "s4EqQcu63Weh"
      },
      "source": [
        "a=2\n",
        "b='a'\n",
        "divide(a,b)"
      ],
      "execution_count": null,
      "outputs": []
    },
    {
      "cell_type": "code",
      "metadata": {
        "id": "LLY4vzMV3XlK"
      },
      "source": [
        "a=2\n",
        "b=0\n",
        "divide(a,b)"
      ],
      "execution_count": null,
      "outputs": []
    },
    {
      "cell_type": "code",
      "metadata": {
        "id": "s58bwNJd3Ygp"
      },
      "source": [
        "a=2\n",
        "b=5\n",
        "divide(a,b)"
      ],
      "execution_count": null,
      "outputs": []
    },
    {
      "cell_type": "code",
      "metadata": {
        "id": "SBAqthXS-aHs"
      },
      "source": [
        "def divide(a,b):\n",
        "  try:\n",
        "    a/b\n",
        "  except ZeroDivisionError:\n",
        "    print('Try with a non-zero value for b')\n",
        "  except TypeError:\n",
        "    print('Try integer values for a and b')\n",
        "  else:\n",
        "    return(a/b)\n",
        "  finally:\n",
        "    print('Computation complete')"
      ],
      "execution_count": null,
      "outputs": []
    },
    {
      "cell_type": "markdown",
      "metadata": {
        "id": "k5dj984D34Uu"
      },
      "source": [
        "## Section 9.4:  Assertions\n",
        "Predict the result of the following command lines. Execute the code to check your predictions"
      ]
    },
    {
      "cell_type": "code",
      "metadata": {
        "id": "xi7SNV5435tM"
      },
      "source": [
        "def squareRoot(a):\n",
        "  try:\n",
        "    assert a>=0\n",
        "  except TypeError:\n",
        "    print('Try with a positive float for a')\n",
        "  except AssertionError:\n",
        "    print('a is negative, function shall return a complex value')\n",
        "    return(a**0.5)\n",
        "  else:\n",
        "    return(a**0.5)    "
      ],
      "execution_count": null,
      "outputs": []
    },
    {
      "cell_type": "markdown",
      "metadata": {
        "id": "JBvJ1fblFy1v"
      },
      "source": [
        ""
      ]
    },
    {
      "cell_type": "code",
      "metadata": {
        "id": "0YM9gSTF48iy"
      },
      "source": [
        "squareRoot(9)"
      ],
      "execution_count": null,
      "outputs": []
    },
    {
      "cell_type": "code",
      "metadata": {
        "id": "VY_0Fy4l5E2d"
      },
      "source": [
        "squareRoot(-9)"
      ],
      "execution_count": null,
      "outputs": []
    },
    {
      "cell_type": "code",
      "metadata": {
        "id": "KRQvg9tO5HoT"
      },
      "source": [
        "squareRoot('a')"
      ],
      "execution_count": null,
      "outputs": []
    },
    {
      "cell_type": "markdown",
      "metadata": {
        "id": "srb_gjaP0yjO"
      },
      "source": [
        "# Lecture #10: Data structures (1/2)"
      ]
    },
    {
      "cell_type": "markdown",
      "metadata": {
        "id": "oCSYeBYp02FG"
      },
      "source": [
        "## Section 10.1: List definition and indexation\n",
        "Predict the result of the following command lines. Execute the code to check your predictions"
      ]
    },
    {
      "cell_type": "code",
      "metadata": {
        "id": "orXEOVat1Aos"
      },
      "source": [
        "myList = [1, 2, 3, 'Four', '5']"
      ],
      "execution_count": null,
      "outputs": []
    },
    {
      "cell_type": "code",
      "metadata": {
        "id": "JLponjXG1etb"
      },
      "source": [
        "print(myList[0])"
      ],
      "execution_count": null,
      "outputs": []
    },
    {
      "cell_type": "code",
      "metadata": {
        "id": "IYLHLP9w1UiT"
      },
      "source": [
        "myList[2]='Three'\n",
        "print(myList)"
      ],
      "execution_count": null,
      "outputs": []
    },
    {
      "cell_type": "code",
      "metadata": {
        "id": "yzVmXKb_9V3C"
      },
      "source": [
        "dir(myList)"
      ],
      "execution_count": null,
      "outputs": []
    },
    {
      "cell_type": "markdown",
      "metadata": {
        "id": "h2h2fLs85cB_"
      },
      "source": [
        "## Section 10.2: List methods\n",
        "Predict the result of the following command lines. Execute the code to check your predictions"
      ]
    },
    {
      "cell_type": "code",
      "metadata": {
        "id": "luF7MjjH4Rez"
      },
      "source": [
        "myList1=[1,21,1,2,8,13,5,3]\n",
        "myList2=[1, 2, 3, 'Four', '5']"
      ],
      "execution_count": null,
      "outputs": []
    },
    {
      "cell_type": "code",
      "metadata": {
        "id": "iROCuOyL55UQ"
      },
      "source": [
        "myList1.append(34)\n",
        "print(myList1)"
      ],
      "execution_count": null,
      "outputs": []
    },
    {
      "cell_type": "code",
      "metadata": {
        "id": "0f6QSH3P55fm"
      },
      "source": [
        "myList2.append(['Six', 7])\n",
        "print(myList2)"
      ],
      "execution_count": null,
      "outputs": []
    },
    {
      "cell_type": "code",
      "metadata": {
        "id": "pan6CTG755i8"
      },
      "source": [
        "myList2=[1, 2, 3, 'Four', '5']\n",
        "myList2.extend(['Six', 7])\n",
        "print(myList2)"
      ],
      "execution_count": null,
      "outputs": []
    },
    {
      "cell_type": "code",
      "metadata": {
        "id": "uGnAeOjv55l_"
      },
      "source": [
        "myList1.index(13)"
      ],
      "execution_count": null,
      "outputs": []
    },
    {
      "cell_type": "code",
      "metadata": {
        "id": "CwYAwEPT55oj"
      },
      "source": [
        "myList1.index(1)"
      ],
      "execution_count": null,
      "outputs": []
    },
    {
      "cell_type": "code",
      "metadata": {
        "id": "Sf_zQL-P_sYT"
      },
      "source": [
        "myList1.index(10)"
      ],
      "execution_count": null,
      "outputs": []
    },
    {
      "cell_type": "code",
      "metadata": {
        "id": "y-6jRUW055zX"
      },
      "source": [
        "x=14\n",
        "try:\n",
        "  n=myList1.index(x)\n",
        "except ValueError:\n",
        "  print(str(x), 'is not in the list')\n",
        "else:\n",
        "  print(str(x), 'is on the position', str(n))"
      ],
      "execution_count": null,
      "outputs": []
    },
    {
      "cell_type": "code",
      "metadata": {
        "id": "GTv2VBEp7Tdz"
      },
      "source": [
        "myList2.insert(2,'Three')\n",
        "print(myList2)\n",
        "myList2.remove(3)\n",
        "print(myList2)\n",
        "myList2.pop()\n",
        "print(myList2)"
      ],
      "execution_count": null,
      "outputs": []
    },
    {
      "cell_type": "code",
      "metadata": {
        "id": "5VMBEi1M70FD"
      },
      "source": [
        "myList1.count(1)"
      ],
      "execution_count": null,
      "outputs": []
    },
    {
      "cell_type": "code",
      "metadata": {
        "id": "sYLjXsOS73Nj"
      },
      "source": [
        "myList1.sort()\n",
        "print(myList1)\n",
        "myList1.sort(reverse=True)\n",
        "print(myList1)"
      ],
      "execution_count": null,
      "outputs": []
    },
    {
      "cell_type": "code",
      "metadata": {
        "id": "towW5Ryh79OR"
      },
      "source": [
        "myList2.sort()"
      ],
      "execution_count": null,
      "outputs": []
    },
    {
      "cell_type": "code",
      "metadata": {
        "id": "Z20xeN-0KSTW"
      },
      "source": [
        ""
      ],
      "execution_count": null,
      "outputs": []
    },
    {
      "cell_type": "markdown",
      "metadata": {
        "id": "2tcqQ1OXAP5l"
      },
      "source": [
        "## Section 10.3: Other tricks about lists\n",
        "Predict the result of the following command lines. Execute the code to check your predictions"
      ]
    },
    {
      "cell_type": "code",
      "metadata": {
        "id": "oz5IXJk5BZ98"
      },
      "source": [
        "for k in range(len(myList1)):\n",
        "  print(myList1[k])"
      ],
      "execution_count": null,
      "outputs": []
    },
    {
      "cell_type": "code",
      "metadata": {
        "id": "S6ebfBw1VvwE"
      },
      "source": [
        "for k in myList1:\n",
        "  print(k)"
      ],
      "execution_count": null,
      "outputs": []
    },
    {
      "cell_type": "code",
      "metadata": {
        "id": "M7gXdnoD-gTL"
      },
      "source": [
        "myList1=[k**2 for k in range(10)]\n",
        "print(myList1)"
      ],
      "execution_count": null,
      "outputs": []
    },
    {
      "cell_type": "code",
      "metadata": {
        "id": "1qDrhyoHAoZK"
      },
      "source": [
        "myList2=[k**2 for k in range(10) if k%2==0]\n",
        "print(myList2)"
      ],
      "execution_count": null,
      "outputs": []
    },
    {
      "cell_type": "code",
      "metadata": {
        "id": "02itXICdBFTK"
      },
      "source": [
        "print(myList1[2:6])\n",
        "print(myList1[2:])\n",
        "print(myList1[:6])\n",
        "print(myList1[2:-1])"
      ],
      "execution_count": null,
      "outputs": []
    },
    {
      "cell_type": "code",
      "metadata": {
        "id": "bPH145wWBPbK"
      },
      "source": [
        "print(myList1+myList2)"
      ],
      "execution_count": null,
      "outputs": []
    },
    {
      "cell_type": "code",
      "metadata": {
        "id": "_VJKv0t0BVqP"
      },
      "source": [
        "print(myList2*3)"
      ],
      "execution_count": null,
      "outputs": []
    },
    {
      "cell_type": "markdown",
      "metadata": {
        "id": "guBIquM5D0Sl"
      },
      "source": [
        "## Section 10.4: List of lists\n",
        "Predict the result of the following command lines. Execute the code to check your predictions"
      ]
    },
    {
      "cell_type": "code",
      "metadata": {
        "id": "M3ELpZ8HD0cN"
      },
      "source": [
        "listOfList=[[2,9,4],[7,3,5],[6,1,8]]"
      ],
      "execution_count": null,
      "outputs": []
    },
    {
      "cell_type": "code",
      "metadata": {
        "id": "cq3ZAQt4EGNN"
      },
      "source": [
        "listOfList[1]"
      ],
      "execution_count": null,
      "outputs": []
    },
    {
      "cell_type": "code",
      "metadata": {
        "id": "QO6XmzldETXm"
      },
      "source": [
        "listOfList[1][1]"
      ],
      "execution_count": null,
      "outputs": []
    },
    {
      "cell_type": "code",
      "metadata": {
        "id": "1jiQRnsYGYhb"
      },
      "source": [
        "myList2[1][1]"
      ],
      "execution_count": null,
      "outputs": []
    },
    {
      "cell_type": "markdown",
      "metadata": {
        "id": "BWYlpDB2EeEa"
      },
      "source": [
        "## Section 10.5: Copying lists\n",
        "Predict the result of the following command lines. Execute the code to check your predictions\n"
      ]
    },
    {
      "cell_type": "markdown",
      "metadata": {
        "id": "tw48f075Emf9"
      },
      "source": [
        "The wrong method"
      ]
    },
    {
      "cell_type": "code",
      "metadata": {
        "id": "Z1EiP3kQEoTx"
      },
      "source": [
        "myList=[1,2,3,4,5]\n",
        "myList2=myList\n",
        "myList[2]=6\n",
        "print(myList2)\n",
        "print(myList)"
      ],
      "execution_count": null,
      "outputs": []
    },
    {
      "cell_type": "markdown",
      "metadata": {
        "id": "b-elPiZTEwBn"
      },
      "source": [
        "Term-by-term creation"
      ]
    },
    {
      "cell_type": "code",
      "metadata": {
        "id": "sVDcqpSLE0kQ"
      },
      "source": [
        "myList=[1,2,3,4,5]\n",
        "myList2=[k for k in myList]\n",
        "myList2[2]=6\n",
        "print(myList2)\n",
        "print(myList)"
      ],
      "execution_count": null,
      "outputs": []
    },
    {
      "cell_type": "markdown",
      "metadata": {
        "id": "m3TYTYD7E-4o"
      },
      "source": [
        "The *copy* function"
      ]
    },
    {
      "cell_type": "code",
      "metadata": {
        "id": "-tX-xUUrFAJd"
      },
      "source": [
        "import copy\n",
        "myList=[1,2,3,4,5]\n",
        "myList2=copy.copy(myList)\n",
        "myList2[2]=6\n",
        "print(myList2)\n",
        "print(myList)"
      ],
      "execution_count": null,
      "outputs": []
    },
    {
      "cell_type": "markdown",
      "metadata": {
        "id": "GN_Y8vgJE8aD"
      },
      "source": [
        "Difference between copy and deepcopy"
      ]
    },
    {
      "cell_type": "code",
      "metadata": {
        "id": "w3YA2wnvFPFV"
      },
      "source": [
        "import copy\n",
        "myList1=[[2,9,4],[7,3,5],[6,1,8]]\n",
        "myList2=copy.copy(myList1)\n",
        "myList3=copy.deepcopy(myList1)\n",
        "myList2[0][0]=0\n",
        "myList3[2][2]=0\n",
        "print(myList2)\n",
        "print(myList3)\n",
        "print(myList1)"
      ],
      "execution_count": null,
      "outputs": []
    },
    {
      "cell_type": "code",
      "metadata": {
        "id": "_Q0cJC8iKdPG"
      },
      "source": [
        "myList2[0]='Hello'\n",
        "print(myList2)"
      ],
      "execution_count": null,
      "outputs": []
    },
    {
      "cell_type": "code",
      "metadata": {
        "id": "nbSTukiWKunC"
      },
      "source": [
        "myList2[1][1]=[1,2,3]\n",
        "print(myList2)"
      ],
      "execution_count": null,
      "outputs": []
    },
    {
      "cell_type": "code",
      "metadata": {
        "id": "FF8CWMFIYHwy"
      },
      "source": [
        "print(myList1)"
      ],
      "execution_count": null,
      "outputs": []
    },
    {
      "cell_type": "markdown",
      "metadata": {
        "id": "krB11y8-i9-9"
      },
      "source": [
        "# Lecture #11: Data Structures (2/2)"
      ]
    },
    {
      "cell_type": "markdown",
      "metadata": {
        "id": "8R9JU10DHO1F"
      },
      "source": [
        "## Section 11.1: Tuples\n",
        "Predict the result of the following command lines. Execute the code to check your predictions"
      ]
    },
    {
      "cell_type": "code",
      "metadata": {
        "id": "-dnED1O-HPJe"
      },
      "source": [
        "myTuple=(1,2,3)+(4,5,6)*2\n",
        "print(myTuple)"
      ],
      "execution_count": null,
      "outputs": []
    },
    {
      "cell_type": "code",
      "metadata": {
        "id": "d_wJ_X4SHWSq"
      },
      "source": [
        "myTuple.count(4)"
      ],
      "execution_count": null,
      "outputs": []
    },
    {
      "cell_type": "code",
      "metadata": {
        "id": "NLGxbsTqHbXs"
      },
      "source": [
        "myTuple.index(5)"
      ],
      "execution_count": null,
      "outputs": []
    },
    {
      "cell_type": "markdown",
      "metadata": {
        "id": "06pPMmWbM9mB"
      },
      "source": [
        "## Section 11.2: Dictionnaires\n",
        "Predict the result of the following command lines. Execute the code to check your predictions"
      ]
    },
    {
      "cell_type": "code",
      "metadata": {
        "id": "RvYavD3hNB12"
      },
      "source": [
        "me={'firstName':'Luke','lastName':'Skywatker','job':'Jedi','age':27}"
      ],
      "execution_count": null,
      "outputs": []
    },
    {
      "cell_type": "code",
      "metadata": {
        "id": "GIskAnOwPG3K"
      },
      "source": [
        "dir(me)"
      ],
      "execution_count": null,
      "outputs": []
    },
    {
      "cell_type": "code",
      "metadata": {
        "id": "54VIO0dGNRrb"
      },
      "source": [
        "me['lastName']"
      ],
      "execution_count": null,
      "outputs": []
    },
    {
      "cell_type": "code",
      "metadata": {
        "id": "Sxre3RX1OFXJ"
      },
      "source": [
        "me.get('lastName')"
      ],
      "execution_count": null,
      "outputs": []
    },
    {
      "cell_type": "code",
      "metadata": {
        "id": "ngcDx3fbNWTF"
      },
      "source": [
        "me['lastName']='Skywalker'\n",
        "print(me)"
      ],
      "execution_count": null,
      "outputs": []
    },
    {
      "cell_type": "code",
      "metadata": {
        "id": "cg-uACDSNZit"
      },
      "source": [
        "'job' in me"
      ],
      "execution_count": null,
      "outputs": []
    },
    {
      "cell_type": "code",
      "metadata": {
        "id": "-n4kTFtKOZxY"
      },
      "source": [
        "'planet' in me"
      ],
      "execution_count": null,
      "outputs": []
    },
    {
      "cell_type": "code",
      "metadata": {
        "id": "tNSgKMptOig3"
      },
      "source": [
        "me.pop('age')\n",
        "print(me)"
      ],
      "execution_count": null,
      "outputs": []
    },
    {
      "cell_type": "code",
      "metadata": {
        "id": "MkjFJqEVOuI6"
      },
      "source": [
        "me2={'planet':'Tatooine','job':'Jedi Master'}\n",
        "me.update(me2)\n",
        "print(me)"
      ],
      "execution_count": null,
      "outputs": []
    },
    {
      "cell_type": "code",
      "metadata": {
        "id": "HP1pzuxzPAqC"
      },
      "source": [
        "for k in me.keys():\n",
        "  print(k,':',me[k])"
      ],
      "execution_count": null,
      "outputs": []
    },
    {
      "cell_type": "markdown",
      "metadata": {
        "id": "Xk1cCGy3jtOV"
      },
      "source": [
        "## Section 11.3: Copy of dictionaries\n",
        "Predict the result of the following command lines. Execute the code to check your predictions"
      ]
    },
    {
      "cell_type": "code",
      "metadata": {
        "id": "BDDCyrDWj3SF"
      },
      "source": [
        "me={'firstName':'Luke','lastName':'Skywalker'}\n",
        "for k in me.keys():\n",
        "  print(k,':',me[k])"
      ],
      "execution_count": null,
      "outputs": []
    },
    {
      "cell_type": "markdown",
      "metadata": {
        "id": "rCihwRVokkS7"
      },
      "source": [
        "The wrong method"
      ]
    },
    {
      "cell_type": "code",
      "metadata": {
        "id": "jw4T26IEkGZI"
      },
      "source": [
        "you=me\n",
        "you['firstName']='Anakin'\n",
        "for k in you.keys():\n",
        "  print(k,':',you[k])"
      ],
      "execution_count": null,
      "outputs": []
    },
    {
      "cell_type": "code",
      "metadata": {
        "id": "Zk9hWBu3j3C4"
      },
      "source": [
        "for k in me.keys():\n",
        "  print(k,':',me[k])"
      ],
      "execution_count": null,
      "outputs": []
    },
    {
      "cell_type": "markdown",
      "metadata": {
        "id": "rRnateLNkmTT"
      },
      "source": [
        "The good method"
      ]
    },
    {
      "cell_type": "code",
      "metadata": {
        "id": "IT8xDeVMj2se"
      },
      "source": [
        "import copy\n",
        "me={'firstName':'Luke','lastName':'Skywalker'}\n",
        "you=copy.copy(me)\n",
        "you['firstName']='Anakin'\n",
        "for k in you.keys():\n",
        "  print(k,':',you[k])"
      ],
      "execution_count": null,
      "outputs": []
    },
    {
      "cell_type": "code",
      "metadata": {
        "id": "VEO5LBEhj2d-"
      },
      "source": [
        "for k in me.keys():\n",
        "  print(k,':',me[k])"
      ],
      "execution_count": null,
      "outputs": []
    },
    {
      "cell_type": "markdown",
      "metadata": {
        "id": "mBL5cB9kQ-uf"
      },
      "source": [
        "## Section 11.4: Sets\n",
        "Predict the result of the following command lines. Execute the code to check your predictions"
      ]
    },
    {
      "cell_type": "code",
      "metadata": {
        "id": "a9OSHBiwQ-5k"
      },
      "source": [
        "a = set([1, 2, 3, 4])\n",
        "b = set([3, 4, 5, 6])\n",
        "c = set([1, 3])\n",
        "d = set([1, 2, 3 ,4 ,5, 6])"
      ],
      "execution_count": null,
      "outputs": []
    },
    {
      "cell_type": "code",
      "metadata": {
        "id": "4keBKGiDRHY5"
      },
      "source": [
        "dir(a)"
      ],
      "execution_count": null,
      "outputs": []
    },
    {
      "cell_type": "code",
      "metadata": {
        "id": "3memKq5JQ-9W"
      },
      "source": [
        "print(a.intersection(b))\n",
        "print(a&b)"
      ],
      "execution_count": null,
      "outputs": []
    },
    {
      "cell_type": "code",
      "metadata": {
        "id": "ycpK4iYBRSdz"
      },
      "source": [
        "print(a.union(b))\n",
        "print(a|b)"
      ],
      "execution_count": null,
      "outputs": []
    },
    {
      "cell_type": "code",
      "metadata": {
        "id": "MD5iASJeRU7J"
      },
      "source": [
        "print(a.issubset(c))\n",
        "print(a <= c)\n",
        "print(a.issubset(d))\n",
        "print(a <= d)"
      ],
      "execution_count": null,
      "outputs": []
    },
    {
      "cell_type": "code",
      "metadata": {
        "id": "wbu1yob7RVJY"
      },
      "source": [
        "print(a.issuperset(c))\n",
        "print(a >= c)\n",
        "print(a.issuperset(d))\n",
        "print(a >= d)"
      ],
      "execution_count": null,
      "outputs": []
    },
    {
      "cell_type": "code",
      "metadata": {
        "id": "UKv9skZ1RjFb"
      },
      "source": [
        "print(a.difference(b))\n",
        "print(a-b)"
      ],
      "execution_count": null,
      "outputs": []
    },
    {
      "cell_type": "code",
      "metadata": {
        "id": "gOaMlOMwRjJR"
      },
      "source": [
        "print(a.symmetric_difference(b))\n",
        "print(a^b)\n",
        "print((a-b)|(b-a))"
      ],
      "execution_count": null,
      "outputs": []
    },
    {
      "cell_type": "markdown",
      "metadata": {
        "id": "HaRbvtKEYZmY"
      },
      "source": [
        "# Lecture #12 : Files manipulation"
      ]
    },
    {
      "cell_type": "markdown",
      "metadata": {
        "id": "n4nsR3LlpHUU"
      },
      "source": [
        "## Section 12.1: Load and save text files\n",
        "Predict the result of the following command lines. Execute the code to check your predictions"
      ]
    },
    {
      "cell_type": "code",
      "metadata": {
        "id": "y5JVPuVFWezE"
      },
      "source": [
        "from google.colab import files\n",
        "dir(files)\n",
        "uploaded = files.upload()"
      ],
      "execution_count": null,
      "outputs": []
    },
    {
      "cell_type": "markdown",
      "metadata": {
        "id": "EQNhzlZ2Yhc8"
      },
      "source": [
        "Read a text file"
      ]
    },
    {
      "cell_type": "code",
      "metadata": {
        "id": "2xRFfKGPW1p1"
      },
      "source": [
        "FID=open(\"textFileFotSection121.txt\",'tr')"
      ],
      "execution_count": null,
      "outputs": []
    },
    {
      "cell_type": "code",
      "metadata": {
        "id": "RzvQxIqmdZN2"
      },
      "source": [
        "type(FID)"
      ],
      "execution_count": null,
      "outputs": []
    },
    {
      "cell_type": "code",
      "metadata": {
        "id": "3IapY9-ddcUR"
      },
      "source": [
        "dir(FID)"
      ],
      "execution_count": null,
      "outputs": []
    },
    {
      "cell_type": "code",
      "metadata": {
        "id": "yxVjfGnBXhFO"
      },
      "source": [
        "FID.readlines()"
      ],
      "execution_count": null,
      "outputs": []
    },
    {
      "cell_type": "code",
      "metadata": {
        "id": "_ARqItX-hiUZ"
      },
      "source": [
        "FID.seek(0)\n",
        "FID.read()"
      ],
      "execution_count": null,
      "outputs": []
    },
    {
      "cell_type": "code",
      "metadata": {
        "id": "1dLS8n3ThpLB"
      },
      "source": [
        "FID.seek(0)"
      ],
      "execution_count": null,
      "outputs": []
    },
    {
      "cell_type": "code",
      "metadata": {
        "id": "Bk0WZ6FvhzfW"
      },
      "source": [
        "FID.readline()"
      ],
      "execution_count": null,
      "outputs": []
    },
    {
      "cell_type": "code",
      "metadata": {
        "id": "9deasYUQd5FL"
      },
      "source": [
        "FID.readline()"
      ],
      "execution_count": null,
      "outputs": []
    },
    {
      "cell_type": "code",
      "metadata": {
        "id": "kT2V49E1h1Zt"
      },
      "source": [
        "FID.close()"
      ],
      "execution_count": null,
      "outputs": []
    },
    {
      "cell_type": "markdown",
      "metadata": {
        "id": "5ZIZOUlFh4c9"
      },
      "source": [
        "Write text file: append the azeri translation of \"Hello world\""
      ]
    },
    {
      "cell_type": "code",
      "metadata": {
        "id": "Llk8I2OJiU3Q"
      },
      "source": [
        "stringToAppend=\"\\nSalam dünya !\""
      ],
      "execution_count": null,
      "outputs": []
    },
    {
      "cell_type": "code",
      "metadata": {
        "id": "n0eRMiqyibIo"
      },
      "source": [
        "FID=open(\"textFileFotSection121.txt\",'at')\n",
        "FID.write(stringToAppend)\n",
        "FID.close()"
      ],
      "execution_count": null,
      "outputs": []
    },
    {
      "cell_type": "code",
      "metadata": {
        "id": "ck0bTwyoigDy",
        "colab": {
          "base_uri": "https://localhost:8080/",
          "height": 17
        },
        "outputId": "79417d81-b58e-4b41-cce9-94344307b5d4"
      },
      "source": [
        "files.download(\"textFileFotSection121.txt\")"
      ],
      "execution_count": null,
      "outputs": [
        {
          "output_type": "display_data",
          "data": {
            "application/javascript": [
              "\n",
              "    async function download(id, filename, size) {\n",
              "      if (!google.colab.kernel.accessAllowed) {\n",
              "        return;\n",
              "      }\n",
              "      const div = document.createElement('div');\n",
              "      const label = document.createElement('label');\n",
              "      label.textContent = `Downloading \"${filename}\": `;\n",
              "      div.appendChild(label);\n",
              "      const progress = document.createElement('progress');\n",
              "      progress.max = size;\n",
              "      div.appendChild(progress);\n",
              "      document.body.appendChild(div);\n",
              "\n",
              "      const buffers = [];\n",
              "      let downloaded = 0;\n",
              "\n",
              "      const channel = await google.colab.kernel.comms.open(id);\n",
              "      // Send a message to notify the kernel that we're ready.\n",
              "      channel.send({})\n",
              "\n",
              "      for await (const message of channel.messages) {\n",
              "        // Send a message to notify the kernel that we're ready.\n",
              "        channel.send({})\n",
              "        if (message.buffers) {\n",
              "          for (const buffer of message.buffers) {\n",
              "            buffers.push(buffer);\n",
              "            downloaded += buffer.byteLength;\n",
              "            progress.value = downloaded;\n",
              "          }\n",
              "        }\n",
              "      }\n",
              "      const blob = new Blob(buffers, {type: 'application/binary'});\n",
              "      const a = document.createElement('a');\n",
              "      a.href = window.URL.createObjectURL(blob);\n",
              "      a.download = filename;\n",
              "      div.appendChild(a);\n",
              "      a.click();\n",
              "      div.remove();\n",
              "    }\n",
              "  "
            ],
            "text/plain": [
              "<IPython.core.display.Javascript object>"
            ]
          },
          "metadata": {}
        },
        {
          "output_type": "display_data",
          "data": {
            "application/javascript": [
              "download(\"download_67bf0f27-4ff3-4192-9d61-3ae9f38955c3\", \"textFileFotSection121.txt\", 48)"
            ],
            "text/plain": [
              "<IPython.core.display.Javascript object>"
            ]
          },
          "metadata": {}
        }
      ]
    },
    {
      "cell_type": "markdown",
      "metadata": {
        "id": "Cw9DP9funjTA"
      },
      "source": [
        "## Section 12.2: Binary files\n",
        "We would like to save a large list composed of 100000 elements. Compare the size of the text file and the binary files generated by struct and by pickle."
      ]
    },
    {
      "cell_type": "code",
      "metadata": {
        "id": "2CQyl2AZtout"
      },
      "source": [
        "myList = [1/(k+1) for k in range(100000)]"
      ],
      "execution_count": null,
      "outputs": []
    },
    {
      "cell_type": "markdown",
      "metadata": {
        "id": "dSdLR8tWtv7t"
      },
      "source": [
        "Save as a text file"
      ]
    },
    {
      "cell_type": "code",
      "metadata": {
        "id": "0EuTNoextyqf"
      },
      "source": [
        "FID=open('textFile.txt','wt')\n",
        "myStrList=[str(k)+';' for k in myList]\n",
        "FID.writelines(myStrList)\n",
        "FID.close()"
      ],
      "execution_count": null,
      "outputs": []
    },
    {
      "cell_type": "code",
      "metadata": {
        "colab": {
          "base_uri": "https://localhost:8080/",
          "height": 17
        },
        "id": "FnLDx1GMt8nZ",
        "outputId": "51b58e4d-cbdf-4d4c-c04b-ee75df1a0b01"
      },
      "source": [
        "from google.colab import files\n",
        "files.download(\"textFile.txt\")"
      ],
      "execution_count": null,
      "outputs": [
        {
          "output_type": "display_data",
          "data": {
            "application/javascript": [
              "\n",
              "    async function download(id, filename, size) {\n",
              "      if (!google.colab.kernel.accessAllowed) {\n",
              "        return;\n",
              "      }\n",
              "      const div = document.createElement('div');\n",
              "      const label = document.createElement('label');\n",
              "      label.textContent = `Downloading \"${filename}\": `;\n",
              "      div.appendChild(label);\n",
              "      const progress = document.createElement('progress');\n",
              "      progress.max = size;\n",
              "      div.appendChild(progress);\n",
              "      document.body.appendChild(div);\n",
              "\n",
              "      const buffers = [];\n",
              "      let downloaded = 0;\n",
              "\n",
              "      const channel = await google.colab.kernel.comms.open(id);\n",
              "      // Send a message to notify the kernel that we're ready.\n",
              "      channel.send({})\n",
              "\n",
              "      for await (const message of channel.messages) {\n",
              "        // Send a message to notify the kernel that we're ready.\n",
              "        channel.send({})\n",
              "        if (message.buffers) {\n",
              "          for (const buffer of message.buffers) {\n",
              "            buffers.push(buffer);\n",
              "            downloaded += buffer.byteLength;\n",
              "            progress.value = downloaded;\n",
              "          }\n",
              "        }\n",
              "      }\n",
              "      const blob = new Blob(buffers, {type: 'application/binary'});\n",
              "      const a = document.createElement('a');\n",
              "      a.href = window.URL.createObjectURL(blob);\n",
              "      a.download = filename;\n",
              "      div.appendChild(a);\n",
              "      a.click();\n",
              "      div.remove();\n",
              "    }\n",
              "  "
            ],
            "text/plain": [
              "<IPython.core.display.Javascript object>"
            ]
          },
          "metadata": {}
        },
        {
          "output_type": "display_data",
          "data": {
            "application/javascript": [
              "download(\"download_29742423-bfec-4797-892a-47c9458a9dac\", \"textFile.txt\", 2254995)"
            ],
            "text/plain": [
              "<IPython.core.display.Javascript object>"
            ]
          },
          "metadata": {}
        }
      ]
    },
    {
      "cell_type": "markdown",
      "metadata": {
        "id": "1zRksf5yuqio"
      },
      "source": [
        "Save as a binary file with struct"
      ]
    },
    {
      "cell_type": "code",
      "metadata": {
        "id": "Lq_bGW7duvy3"
      },
      "source": [
        "import struct"
      ],
      "execution_count": null,
      "outputs": []
    },
    {
      "cell_type": "code",
      "metadata": {
        "id": "Unyk5Kl8uxtw"
      },
      "source": [
        "buf = struct.pack('%sf' % len(myList), *myList)\n",
        "FID = open('binaryFile.dat','wb')\n",
        "FID.write(buf)\n",
        "FID.close()"
      ],
      "execution_count": null,
      "outputs": []
    },
    {
      "cell_type": "code",
      "metadata": {
        "colab": {
          "base_uri": "https://localhost:8080/",
          "height": 17
        },
        "id": "zWTSywWwwJrP",
        "outputId": "46859c73-0c4c-48c4-e22c-1f41dac29cbb"
      },
      "source": [
        "from google.colab import files\n",
        "files.download(\"binaryFile.dat\")"
      ],
      "execution_count": null,
      "outputs": [
        {
          "output_type": "display_data",
          "data": {
            "application/javascript": [
              "\n",
              "    async function download(id, filename, size) {\n",
              "      if (!google.colab.kernel.accessAllowed) {\n",
              "        return;\n",
              "      }\n",
              "      const div = document.createElement('div');\n",
              "      const label = document.createElement('label');\n",
              "      label.textContent = `Downloading \"${filename}\": `;\n",
              "      div.appendChild(label);\n",
              "      const progress = document.createElement('progress');\n",
              "      progress.max = size;\n",
              "      div.appendChild(progress);\n",
              "      document.body.appendChild(div);\n",
              "\n",
              "      const buffers = [];\n",
              "      let downloaded = 0;\n",
              "\n",
              "      const channel = await google.colab.kernel.comms.open(id);\n",
              "      // Send a message to notify the kernel that we're ready.\n",
              "      channel.send({})\n",
              "\n",
              "      for await (const message of channel.messages) {\n",
              "        // Send a message to notify the kernel that we're ready.\n",
              "        channel.send({})\n",
              "        if (message.buffers) {\n",
              "          for (const buffer of message.buffers) {\n",
              "            buffers.push(buffer);\n",
              "            downloaded += buffer.byteLength;\n",
              "            progress.value = downloaded;\n",
              "          }\n",
              "        }\n",
              "      }\n",
              "      const blob = new Blob(buffers, {type: 'application/binary'});\n",
              "      const a = document.createElement('a');\n",
              "      a.href = window.URL.createObjectURL(blob);\n",
              "      a.download = filename;\n",
              "      div.appendChild(a);\n",
              "      a.click();\n",
              "      div.remove();\n",
              "    }\n",
              "  "
            ],
            "text/plain": [
              "<IPython.core.display.Javascript object>"
            ]
          },
          "metadata": {}
        },
        {
          "output_type": "display_data",
          "data": {
            "application/javascript": [
              "download(\"download_c9bc9e30-a529-41ce-a950-fde758ba843a\", \"binaryFile.dat\", 400000)"
            ],
            "text/plain": [
              "<IPython.core.display.Javascript object>"
            ]
          },
          "metadata": {}
        }
      ]
    },
    {
      "cell_type": "markdown",
      "metadata": {
        "id": "6OBaCMFmwURv"
      },
      "source": [
        "Save as a binary file with pickle"
      ]
    },
    {
      "cell_type": "code",
      "metadata": {
        "id": "s7kOZc7Lnuwd"
      },
      "source": [
        "import pickle"
      ],
      "execution_count": null,
      "outputs": []
    },
    {
      "cell_type": "code",
      "metadata": {
        "id": "mmTUOQsdwZWV"
      },
      "source": [
        "FID=open('pickleFile.dat','wb')\n",
        "pickle.dump(myList,FID)\n",
        "FID.close()"
      ],
      "execution_count": null,
      "outputs": []
    },
    {
      "cell_type": "code",
      "metadata": {
        "colab": {
          "base_uri": "https://localhost:8080/",
          "height": 17
        },
        "id": "H6caorzqxOko",
        "outputId": "1183b121-82c1-4bc0-dc50-fe1071919de5"
      },
      "source": [
        "from google.colab import files\n",
        "files.download(\"pickleFile.dat\")"
      ],
      "execution_count": null,
      "outputs": [
        {
          "output_type": "display_data",
          "data": {
            "application/javascript": [
              "\n",
              "    async function download(id, filename, size) {\n",
              "      if (!google.colab.kernel.accessAllowed) {\n",
              "        return;\n",
              "      }\n",
              "      const div = document.createElement('div');\n",
              "      const label = document.createElement('label');\n",
              "      label.textContent = `Downloading \"${filename}\": `;\n",
              "      div.appendChild(label);\n",
              "      const progress = document.createElement('progress');\n",
              "      progress.max = size;\n",
              "      div.appendChild(progress);\n",
              "      document.body.appendChild(div);\n",
              "\n",
              "      const buffers = [];\n",
              "      let downloaded = 0;\n",
              "\n",
              "      const channel = await google.colab.kernel.comms.open(id);\n",
              "      // Send a message to notify the kernel that we're ready.\n",
              "      channel.send({})\n",
              "\n",
              "      for await (const message of channel.messages) {\n",
              "        // Send a message to notify the kernel that we're ready.\n",
              "        channel.send({})\n",
              "        if (message.buffers) {\n",
              "          for (const buffer of message.buffers) {\n",
              "            buffers.push(buffer);\n",
              "            downloaded += buffer.byteLength;\n",
              "            progress.value = downloaded;\n",
              "          }\n",
              "        }\n",
              "      }\n",
              "      const blob = new Blob(buffers, {type: 'application/binary'});\n",
              "      const a = document.createElement('a');\n",
              "      a.href = window.URL.createObjectURL(blob);\n",
              "      a.download = filename;\n",
              "      div.appendChild(a);\n",
              "      a.click();\n",
              "      div.remove();\n",
              "    }\n",
              "  "
            ],
            "text/plain": [
              "<IPython.core.display.Javascript object>"
            ]
          },
          "metadata": {}
        },
        {
          "output_type": "display_data",
          "data": {
            "application/javascript": [
              "download(\"download_a4261329-8def-4b91-bee0-08e725f520ab\", \"pickleFile.dat\", 900206)"
            ],
            "text/plain": [
              "<IPython.core.display.Javascript object>"
            ]
          },
          "metadata": {}
        }
      ]
    },
    {
      "cell_type": "markdown",
      "metadata": {
        "id": "vSfdIgQWxepO"
      },
      "source": [
        "Check the results"
      ]
    },
    {
      "cell_type": "code",
      "metadata": {
        "id": "qYunfLsGx6WH"
      },
      "source": [
        "print(myList[0:10])"
      ],
      "execution_count": null,
      "outputs": []
    },
    {
      "cell_type": "code",
      "metadata": {
        "id": "lPNKdQQSxhJg"
      },
      "source": [
        "FID = open('textFile.txt','rt')\n",
        "buf = FID.read().split(';')\n",
        "print(buf[0:10])\n",
        "FID.close()"
      ],
      "execution_count": null,
      "outputs": []
    },
    {
      "cell_type": "code",
      "metadata": {
        "id": "e4zuru0yyTV2"
      },
      "source": [
        "import struct\n",
        "FID = open('binaryFile.dat','rb')\n",
        "buf = FID.read()\n",
        "FID.close()\n",
        "binList = struct.unpack('%sf' % len(myList), buf)\n",
        "print(binList[0:10])"
      ],
      "execution_count": null,
      "outputs": []
    },
    {
      "cell_type": "code",
      "metadata": {
        "id": "gm3xNZ3SzFcP"
      },
      "source": [
        "import pickle \n",
        "FID=open('pickleFile.dat','rb')\n",
        "picList = pickle.load(FID)\n",
        "FID.close()\n",
        "print(picList[0:10])"
      ],
      "execution_count": null,
      "outputs": []
    },
    {
      "cell_type": "markdown",
      "metadata": {
        "id": "NpDrZCr1eOuc"
      },
      "source": [
        "# Lecture #14: Regular Expressions (2/3)"
      ]
    },
    {
      "cell_type": "markdown",
      "metadata": {
        "id": "kxVGoGPyeWbL"
      },
      "source": [
        "## Section 14: Using functions of the re module"
      ]
    },
    {
      "cell_type": "code",
      "metadata": {
        "id": "la6VbObvgUrF"
      },
      "source": [
        "import re"
      ],
      "execution_count": null,
      "outputs": []
    },
    {
      "cell_type": "code",
      "metadata": {
        "id": "IL_RfLyXgTql"
      },
      "source": [
        "string = 'the capital of Azebaijan is Baku.'"
      ],
      "execution_count": null,
      "outputs": []
    },
    {
      "cell_type": "code",
      "metadata": {
        "id": "4ZAPnoASgT4E"
      },
      "source": [
        "pattern = r'[A-Z]\\w+'"
      ],
      "execution_count": null,
      "outputs": []
    },
    {
      "cell_type": "code",
      "metadata": {
        "id": "QBYAAwzEgT8c"
      },
      "source": [
        "print(re.match(pattern,string))\n",
        "print(re.match(r'the',string))\n",
        "print(re.fullmatch(r'^the.*\\.$',string))"
      ],
      "execution_count": null,
      "outputs": []
    },
    {
      "cell_type": "code",
      "metadata": {
        "id": "6HpJS2rqgUKK"
      },
      "source": [
        "re.split('\\s',string)"
      ],
      "execution_count": null,
      "outputs": []
    },
    {
      "cell_type": "code",
      "metadata": {
        "id": "IGvivki7jK1d"
      },
      "source": [
        "print(pattern)\n",
        "re.findall(pattern,string)"
      ],
      "execution_count": null,
      "outputs": []
    },
    {
      "cell_type": "code",
      "metadata": {
        "id": "YkYRvegajQMv"
      },
      "source": [
        "re.sub(pattern,'Mexico',string)"
      ],
      "execution_count": null,
      "outputs": []
    },
    {
      "cell_type": "code",
      "metadata": {
        "id": "-WEBV7HPjjgq"
      },
      "source": [
        "X = re.search(pattern,string)\n",
        "print(type(X))\n",
        "print(X)"
      ],
      "execution_count": null,
      "outputs": []
    },
    {
      "cell_type": "code",
      "metadata": {
        "id": "5PXVjnhNfkew"
      },
      "source": [
        "dir(X)"
      ],
      "execution_count": null,
      "outputs": []
    },
    {
      "cell_type": "code",
      "metadata": {
        "id": "odJH0Yqofrjx"
      },
      "source": [
        "X.groups()"
      ],
      "execution_count": null,
      "outputs": []
    },
    {
      "cell_type": "markdown",
      "metadata": {
        "id": "5XspkytbrX5J"
      },
      "source": [
        "# Lecture #15: Regular Espressions (3/3)"
      ]
    },
    {
      "cell_type": "markdown",
      "metadata": {
        "id": "6Shsr9wXgYg6"
      },
      "source": [
        "## Section 15.1: Groups\n",
        "Create a regular expression that match with a sentence including two words starting with capitalized letter. Then, create two groups, one for each of these words."
      ]
    },
    {
      "cell_type": "code",
      "metadata": {
        "id": "UTadCO8ngjJc"
      },
      "source": [
        "string = 'the capital of Azebaijan is Baku.'"
      ],
      "execution_count": null,
      "outputs": []
    },
    {
      "cell_type": "code",
      "metadata": {
        "id": "Apjub3gzgkyy"
      },
      "source": [
        "pattern = [...]]"
      ],
      "execution_count": null,
      "outputs": []
    },
    {
      "cell_type": "code",
      "metadata": {
        "id": "2wE5UPbygfMa"
      },
      "source": [
        "X = re.search(pattern,string)\n",
        "print(type(X))\n",
        "print(X)"
      ],
      "execution_count": null,
      "outputs": []
    },
    {
      "cell_type": "code",
      "metadata": {
        "id": "n9BfstMDi1x9"
      },
      "source": [
        "X.group()"
      ],
      "execution_count": null,
      "outputs": []
    },
    {
      "cell_type": "code",
      "metadata": {
        "id": "uUaP5UL5i3DC"
      },
      "source": [
        "print(X.group(1))\n",
        "print(X.group(2))"
      ],
      "execution_count": null,
      "outputs": []
    },
    {
      "cell_type": "code",
      "metadata": {
        "id": "jM6ouTU4i7Gq"
      },
      "source": [
        "X.groups()"
      ],
      "execution_count": null,
      "outputs": []
    },
    {
      "cell_type": "code",
      "metadata": {
        "id": "iUVtNLnwgoFS"
      },
      "source": [
        "print(X.start(1))\n",
        "print(X.start(2))\n",
        "print(X.end(1))\n",
        "print(X.end(2))"
      ],
      "execution_count": null,
      "outputs": []
    },
    {
      "cell_type": "code",
      "metadata": {
        "id": "SIMfi2qui8lr"
      },
      "source": [
        "pattern = r'.*(?P<country>[A-Z]\\w+).*(?P<capital>[A-Z]\\w+).*'\n",
        "X = re.search(pattern,string)\n",
        "print(X)"
      ],
      "execution_count": null,
      "outputs": []
    },
    {
      "cell_type": "code",
      "metadata": {
        "id": "4reVRVOWjNF7"
      },
      "source": [
        "X.groups()"
      ],
      "execution_count": null,
      "outputs": []
    },
    {
      "cell_type": "code",
      "metadata": {
        "id": "6Hqi8xNPjNpE"
      },
      "source": [
        "X.groupdict()"
      ],
      "execution_count": null,
      "outputs": []
    },
    {
      "cell_type": "markdown",
      "metadata": {
        "id": "-qDqF04wj9jd"
      },
      "source": [
        "## Section 15.2: Using regexp class "
      ]
    },
    {
      "cell_type": "code",
      "metadata": {
        "id": "Ju9K3S38mTZX"
      },
      "source": [
        "pattern = r'[A-Z]\\w+'"
      ],
      "execution_count": null,
      "outputs": []
    },
    {
      "cell_type": "code",
      "metadata": {
        "id": "J3uh7UammWFI"
      },
      "source": [
        "string = 'the capital of Azebaijan is Baku.'"
      ],
      "execution_count": null,
      "outputs": []
    },
    {
      "cell_type": "code",
      "metadata": {
        "id": "fz-O2_8_kGeN"
      },
      "source": [
        "rex = re.compile(pattern)\n",
        "type(rex)"
      ],
      "execution_count": null,
      "outputs": []
    },
    {
      "cell_type": "code",
      "metadata": {
        "id": "0lLs3fuymZpl"
      },
      "source": [
        "dir(rex)"
      ],
      "execution_count": null,
      "outputs": []
    },
    {
      "cell_type": "code",
      "metadata": {
        "id": "skb9CY9FkGou"
      },
      "source": [
        "rex.findall(string)"
      ],
      "execution_count": null,
      "outputs": []
    },
    {
      "cell_type": "code",
      "metadata": {
        "id": "zUuFPI6BkG3S"
      },
      "source": [
        "rex.sub('Mexico',string)"
      ],
      "execution_count": null,
      "outputs": []
    },
    {
      "cell_type": "code",
      "metadata": {
        "id": "3N8Eh7gnkHyT"
      },
      "source": [
        "X=rex.search(string)\n",
        "print(X)"
      ],
      "execution_count": null,
      "outputs": []
    },
    {
      "cell_type": "markdown",
      "metadata": {
        "id": "eHfaqvHwskux"
      },
      "source": [
        "# Lecture #16: The NumPy Module"
      ]
    },
    {
      "cell_type": "code",
      "metadata": {
        "id": "JbRB3GelRzCY"
      },
      "source": [
        "import numpy as np"
      ],
      "execution_count": null,
      "outputs": []
    },
    {
      "cell_type": "markdown",
      "metadata": {
        "id": "0Tmkq_BZsvXb"
      },
      "source": [
        "## Section 16.1: Mathematical Operations"
      ]
    },
    {
      "cell_type": "markdown",
      "metadata": {
        "id": "Kiop1ldmRs9f"
      },
      "source": [
        "Common mathematical operations"
      ]
    },
    {
      "cell_type": "code",
      "metadata": {
        "id": "lM5pewitR1Gn"
      },
      "source": [
        "np.sqrt(9)"
      ],
      "execution_count": null,
      "outputs": []
    },
    {
      "cell_type": "code",
      "metadata": {
        "id": "1YYiWcoty8q6"
      },
      "source": [
        "np.sqrt(-4)"
      ],
      "execution_count": null,
      "outputs": []
    },
    {
      "cell_type": "code",
      "metadata": {
        "id": "PUqD1oexR38f"
      },
      "source": [
        "np.exp(1)"
      ],
      "execution_count": null,
      "outputs": []
    },
    {
      "cell_type": "markdown",
      "metadata": {
        "id": "c8uALl6lR624"
      },
      "source": [
        "Trigonometry"
      ]
    },
    {
      "cell_type": "code",
      "metadata": {
        "id": "kn3FA4elR-jB"
      },
      "source": [
        "print(np.sin(np.pi/4))\n",
        "print(np.sqrt(2)/2)"
      ],
      "execution_count": null,
      "outputs": []
    },
    {
      "cell_type": "code",
      "metadata": {
        "id": "WPQ5i-o9SCuQ"
      },
      "source": [
        "np.arctan(np.tan(0.2))"
      ],
      "execution_count": null,
      "outputs": []
    },
    {
      "cell_type": "markdown",
      "metadata": {
        "id": "MPaIhOiZSJIp"
      },
      "source": [
        "Angle conversion"
      ]
    },
    {
      "cell_type": "code",
      "metadata": {
        "id": "P9aHnyHDSKhP"
      },
      "source": [
        "np.degrees(np.pi/4)"
      ],
      "execution_count": null,
      "outputs": []
    },
    {
      "cell_type": "code",
      "metadata": {
        "id": "iSYcnsMhSPof"
      },
      "source": [
        "np.radians(60)"
      ],
      "execution_count": null,
      "outputs": []
    },
    {
      "cell_type": "code",
      "metadata": {
        "id": "O6H8ySMeSN9H"
      },
      "source": [
        "np.sin(np.radians(30))"
      ],
      "execution_count": null,
      "outputs": []
    },
    {
      "cell_type": "markdown",
      "metadata": {
        "id": "HCg_KKAmVywp"
      },
      "source": [
        "Rounding"
      ]
    },
    {
      "cell_type": "code",
      "metadata": {
        "id": "iZxN4Tq0V2HH"
      },
      "source": [
        "np.ceil(np.e)"
      ],
      "execution_count": null,
      "outputs": []
    },
    {
      "cell_type": "code",
      "metadata": {
        "id": "dfmHO9RTV7G-"
      },
      "source": [
        "np.floor(np.e)"
      ],
      "execution_count": null,
      "outputs": []
    },
    {
      "cell_type": "code",
      "metadata": {
        "id": "gM9x38CCV9eu"
      },
      "source": [
        "np.round(np.e)"
      ],
      "execution_count": null,
      "outputs": []
    },
    {
      "cell_type": "code",
      "metadata": {
        "id": "LQgGxvqeWAgH"
      },
      "source": [
        "np.round(np.e-0.3)"
      ],
      "execution_count": null,
      "outputs": []
    },
    {
      "cell_type": "markdown",
      "metadata": {
        "id": "ZfiKkosPWD82"
      },
      "source": [
        "Rational routines"
      ]
    },
    {
      "cell_type": "code",
      "metadata": {
        "id": "L_O6R71nWGR9"
      },
      "source": [
        "np.lcm(15,6)"
      ],
      "execution_count": null,
      "outputs": []
    },
    {
      "cell_type": "code",
      "metadata": {
        "id": "Hv8FAvGKWON1"
      },
      "source": [
        "np.gcd(45,30)"
      ],
      "execution_count": null,
      "outputs": []
    },
    {
      "cell_type": "markdown",
      "metadata": {
        "id": "WZkwTjzsWTIr"
      },
      "source": [
        "Complex numbers"
      ]
    },
    {
      "cell_type": "code",
      "metadata": {
        "id": "jgFgHXm0WU8t"
      },
      "source": [
        "np.real(1-1j)"
      ],
      "execution_count": null,
      "outputs": []
    },
    {
      "cell_type": "code",
      "metadata": {
        "id": "fwg8_kcxWlXJ"
      },
      "source": [
        "np.imag(1-1j)"
      ],
      "execution_count": null,
      "outputs": []
    },
    {
      "cell_type": "code",
      "metadata": {
        "id": "mokMaBMKWoeY"
      },
      "source": [
        "np.abs(1-1j)"
      ],
      "execution_count": null,
      "outputs": []
    },
    {
      "cell_type": "code",
      "metadata": {
        "id": "6Xx39g24Wr_F"
      },
      "source": [
        "np.degrees(np.angle(1-1j))"
      ],
      "execution_count": null,
      "outputs": []
    },
    {
      "cell_type": "markdown",
      "metadata": {
        "id": "wvO9ehcnWxLG"
      },
      "source": [
        "## Section 16.2: Arrays Manipulation"
      ]
    },
    {
      "cell_type": "markdown",
      "metadata": {
        "id": "pxerMX9EXStq"
      },
      "source": [
        "Creation"
      ]
    },
    {
      "cell_type": "code",
      "metadata": {
        "id": "WrC_gkuLXUh1"
      },
      "source": [
        "X = np.array([1, 2, 3, 4, 5, 6])\n",
        "Y = np.array([[2, 7, 6],[9, 5, 1],[4, 3, 8]])"
      ],
      "execution_count": null,
      "outputs": []
    },
    {
      "cell_type": "code",
      "metadata": {
        "id": "rDaK8V3u13FO"
      },
      "source": [
        "X.ndim"
      ],
      "execution_count": null,
      "outputs": []
    },
    {
      "cell_type": "code",
      "metadata": {
        "id": "Lu0U49J015AO"
      },
      "source": [
        "Y.ndim"
      ],
      "execution_count": null,
      "outputs": []
    },
    {
      "cell_type": "code",
      "metadata": {
        "id": "lCxvJ9Ez17P-"
      },
      "source": [
        "print(Y)"
      ],
      "execution_count": null,
      "outputs": []
    },
    {
      "cell_type": "markdown",
      "metadata": {
        "id": "TL7eEyFTXvHu"
      },
      "source": [
        "Indexing"
      ]
    },
    {
      "cell_type": "code",
      "metadata": {
        "id": "UoUjdYk5XbZk"
      },
      "source": [
        "print(X[2])\n",
        "print(Y[1,1])"
      ],
      "execution_count": null,
      "outputs": []
    },
    {
      "cell_type": "code",
      "metadata": {
        "id": "_OYIYj782Gud"
      },
      "source": [
        "print(X[2,1])"
      ],
      "execution_count": null,
      "outputs": []
    },
    {
      "cell_type": "code",
      "metadata": {
        "id": "88y2znTr2JjK"
      },
      "source": [
        "print(Y[1])"
      ],
      "execution_count": null,
      "outputs": []
    },
    {
      "cell_type": "markdown",
      "metadata": {
        "id": "pIb83NPmXxTl"
      },
      "source": [
        "Slicing"
      ]
    },
    {
      "cell_type": "code",
      "metadata": {
        "id": "42Sn5WxpXyeO"
      },
      "source": [
        "print(X[1:3])\n",
        "print(Y[:,2])\n",
        "print(Y[0:2,1:3])"
      ],
      "execution_count": null,
      "outputs": []
    },
    {
      "cell_type": "markdown",
      "metadata": {
        "id": "_YPaPByKYCFo"
      },
      "source": [
        "Reshaping"
      ]
    },
    {
      "cell_type": "code",
      "metadata": {
        "id": "aVtf9od3YBf2"
      },
      "source": [
        "print(X.shape)\n",
        "print(Y.shape)"
      ],
      "execution_count": null,
      "outputs": []
    },
    {
      "cell_type": "code",
      "metadata": {
        "id": "1HkUX-SKYJdn"
      },
      "source": [
        "print(X.reshape((2,3)))\n",
        "print(np.reshape(X,(3,2)))"
      ],
      "execution_count": null,
      "outputs": []
    },
    {
      "cell_type": "markdown",
      "metadata": {
        "id": "N12JozA6Yeqh"
      },
      "source": [
        "Iterating"
      ]
    },
    {
      "cell_type": "code",
      "metadata": {
        "id": "vwxI-S0PYfet"
      },
      "source": [
        "for k in X:\n",
        "  print(pow(k,2))"
      ],
      "execution_count": null,
      "outputs": []
    },
    {
      "cell_type": "code",
      "metadata": {
        "id": "VMajceFHY61W"
      },
      "source": [
        "for line, k in enumerate(Y):\n",
        "  print('Line #' + str(line) + ': ' + str(k))"
      ],
      "execution_count": null,
      "outputs": []
    },
    {
      "cell_type": "markdown",
      "metadata": {
        "id": "jRrfR1gFaG23"
      },
      "source": [
        "Joining"
      ]
    },
    {
      "cell_type": "code",
      "metadata": {
        "id": "51SCYfxtavH1"
      },
      "source": [
        "print(np.concatenate((X,np.array([7, 8, 9]))))"
      ],
      "execution_count": null,
      "outputs": []
    },
    {
      "cell_type": "code",
      "metadata": {
        "id": "nwBs-EV1bTRF"
      },
      "source": [
        "print(np.concatenate((Y,X.reshape((2,3)))))"
      ],
      "execution_count": null,
      "outputs": []
    },
    {
      "cell_type": "code",
      "metadata": {
        "id": "7aAsyC_dbhdO"
      },
      "source": [
        "print(np.concatenate((Y,X.reshape((3,2)))))"
      ],
      "execution_count": null,
      "outputs": []
    },
    {
      "cell_type": "code",
      "metadata": {
        "id": "PyQEgQZQbjBB",
        "colab": {
          "base_uri": "https://localhost:8080/"
        },
        "outputId": "b87349c3-48ed-43ee-e9c6-3f9bf9ea5426"
      },
      "source": [
        "print(np.concatenate((Y,X.reshape((3,2))),axis=1))"
      ],
      "execution_count": null,
      "outputs": [
        {
          "output_type": "stream",
          "name": "stdout",
          "text": [
            "[[2 7 6 1 2]\n",
            " [9 5 1 3 4]\n",
            " [4 3 8 5 6]]\n"
          ]
        }
      ]
    },
    {
      "cell_type": "markdown",
      "metadata": {
        "id": "EIzem3wZbuOW"
      },
      "source": [
        "Spliting"
      ]
    },
    {
      "cell_type": "code",
      "metadata": {
        "id": "IqBDSM-6bwll"
      },
      "source": [
        "print(np.split(X,3))"
      ],
      "execution_count": null,
      "outputs": []
    },
    {
      "cell_type": "code",
      "metadata": {
        "id": "hyvss8RWb5p6"
      },
      "source": [
        "print(np.split(Y,3))"
      ],
      "execution_count": null,
      "outputs": []
    },
    {
      "cell_type": "code",
      "metadata": {
        "id": "YxS_RYIEb744"
      },
      "source": [
        "print(np.split(Y,3,axis=1))"
      ],
      "execution_count": null,
      "outputs": []
    },
    {
      "cell_type": "code",
      "metadata": {
        "id": "KBcsZ6_Bb-jN"
      },
      "source": [
        "print(np.split(X,4))"
      ],
      "execution_count": null,
      "outputs": []
    },
    {
      "cell_type": "markdown",
      "metadata": {
        "id": "Uy0ZPvwlcIDd"
      },
      "source": [
        "Sorting"
      ]
    },
    {
      "cell_type": "code",
      "metadata": {
        "id": "AROZ_LQpcJou"
      },
      "source": [
        "Z = np.array([4, 7, 9, 2, 6, 1])"
      ],
      "execution_count": null,
      "outputs": []
    },
    {
      "cell_type": "code",
      "metadata": {
        "id": "QwwubyfwcPX9"
      },
      "source": [
        "print(np.sort(Z))"
      ],
      "execution_count": null,
      "outputs": []
    },
    {
      "cell_type": "code",
      "metadata": {
        "id": "fdFgN2TXcTzl"
      },
      "source": [
        "print(np.sort(Y))"
      ],
      "execution_count": null,
      "outputs": []
    },
    {
      "cell_type": "code",
      "metadata": {
        "id": "02PbzWVScxWK"
      },
      "source": [
        "print(np.sort(Y,axis=0))"
      ],
      "execution_count": null,
      "outputs": []
    },
    {
      "cell_type": "markdown",
      "metadata": {
        "id": "-ot5r6kdc5rU"
      },
      "source": [
        "Linspace and logspace"
      ]
    },
    {
      "cell_type": "code",
      "metadata": {
        "id": "-6PFt6xKc74n"
      },
      "source": [
        "print(np.linspace(0,50,11))"
      ],
      "execution_count": null,
      "outputs": []
    },
    {
      "cell_type": "code",
      "metadata": {
        "id": "KjpTo14zdAw_"
      },
      "source": [
        "print(np.logspace(0,1,7))"
      ],
      "execution_count": null,
      "outputs": []
    },
    {
      "cell_type": "code",
      "metadata": {
        "id": "UMfgrDo8dLC9"
      },
      "source": [
        "print([pow(10,k/6) for k in range(0,7)])"
      ],
      "execution_count": null,
      "outputs": []
    },
    {
      "cell_type": "markdown",
      "metadata": {
        "id": "DACcRZARdURE"
      },
      "source": [
        "Zeros and Ones"
      ]
    },
    {
      "cell_type": "code",
      "metadata": {
        "id": "Up0DxIt2dWE1"
      },
      "source": [
        "print(np.zeros((1,6)))"
      ],
      "execution_count": null,
      "outputs": []
    },
    {
      "cell_type": "code",
      "metadata": {
        "id": "NNsMkOCbdb29"
      },
      "source": [
        "print(np.ones((4,4)))"
      ],
      "execution_count": null,
      "outputs": []
    },
    {
      "cell_type": "markdown",
      "metadata": {
        "id": "8SlICMHgdePw"
      },
      "source": [
        "Operations within an array"
      ]
    },
    {
      "cell_type": "code",
      "metadata": {
        "id": "bXBfhQxQdiTe"
      },
      "source": [
        "print(X.sum())\n",
        "print(np.sum(X))"
      ],
      "execution_count": null,
      "outputs": []
    },
    {
      "cell_type": "code",
      "metadata": {
        "id": "tcmHpshXdm01"
      },
      "source": [
        "print(np.average(Y))"
      ],
      "execution_count": null,
      "outputs": []
    },
    {
      "cell_type": "markdown",
      "metadata": {
        "id": "R3fpesPhdvX1"
      },
      "source": [
        "Operation between arrays"
      ]
    },
    {
      "cell_type": "code",
      "metadata": {
        "id": "F8ogSO4Rdxku"
      },
      "source": [
        "print(np.add(X,X))"
      ],
      "execution_count": null,
      "outputs": []
    },
    {
      "cell_type": "code",
      "metadata": {
        "id": "vXJiZsZWd2oW"
      },
      "source": [
        "print(np.multiply(Y,Y))"
      ],
      "execution_count": null,
      "outputs": []
    },
    {
      "cell_type": "code",
      "metadata": {
        "id": "NuKe5Bbrd94N"
      },
      "source": [
        "print(np.matmul(Y,Y))"
      ],
      "execution_count": null,
      "outputs": []
    },
    {
      "cell_type": "markdown",
      "metadata": {
        "id": "DH7FhkhDePx9"
      },
      "source": [
        "Term by term operations"
      ]
    },
    {
      "cell_type": "code",
      "metadata": {
        "id": "JSnTMb_meRoe"
      },
      "source": [
        "print(np.exp(X))"
      ],
      "execution_count": null,
      "outputs": []
    },
    {
      "cell_type": "markdown",
      "metadata": {
        "id": "aH-rSurqeaH_"
      },
      "source": [
        "## Section 16.3: The Random Submodule"
      ]
    },
    {
      "cell_type": "code",
      "metadata": {
        "id": "FZIBnBtLekxt"
      },
      "source": [
        "import numpy.random as rnd"
      ],
      "execution_count": null,
      "outputs": []
    },
    {
      "cell_type": "markdown",
      "metadata": {
        "id": "tldJFPMkefX1"
      },
      "source": [
        "Randint"
      ]
    },
    {
      "cell_type": "code",
      "metadata": {
        "id": "c6WqpJ9nehJF"
      },
      "source": [
        "print(rnd.randint(10))"
      ],
      "execution_count": null,
      "outputs": []
    },
    {
      "cell_type": "markdown",
      "metadata": {
        "id": "GrzqhT6vetO_"
      },
      "source": [
        "Uniform Distrubution"
      ]
    },
    {
      "cell_type": "code",
      "metadata": {
        "id": "59Yf_xGJez3N"
      },
      "source": [
        "X = rnd.rand(1,50)\n",
        "print(X)"
      ],
      "execution_count": null,
      "outputs": []
    },
    {
      "cell_type": "code",
      "metadata": {
        "id": "60qjRI6ie7kl"
      },
      "source": [
        "print('Mean', np.average(X))\n",
        "print('Std', np.std(X))\n",
        "print(1/np.sqrt(12))"
      ],
      "execution_count": null,
      "outputs": []
    },
    {
      "cell_type": "markdown",
      "metadata": {
        "id": "VJOYimArewVe"
      },
      "source": [
        "Normal distribution"
      ]
    },
    {
      "cell_type": "code",
      "metadata": {
        "id": "L6jTY9AQedBu"
      },
      "source": [
        "X = rnd.randn(1,50)\n",
        "print(X)\n",
        "print('Mean', np.average(X))\n",
        "print('Std', np.std(X))"
      ],
      "execution_count": null,
      "outputs": []
    },
    {
      "cell_type": "code",
      "metadata": {
        "id": "NZ8_AaAbfZ2O"
      },
      "source": [
        "X = 2*rnd.randn(1,50)-1\n",
        "print(X)\n",
        "print('Mean', np.average(X))\n",
        "print('Std', np.std(X))"
      ],
      "execution_count": null,
      "outputs": []
    },
    {
      "cell_type": "markdown",
      "metadata": {
        "id": "mnGIU6DXfrBv"
      },
      "source": [
        "Binomial distribution"
      ]
    },
    {
      "cell_type": "code",
      "metadata": {
        "id": "K5TKLVjwfktl"
      },
      "source": [
        "X = rnd.binomial(n=10,p=0.5,size=100)\n",
        "print(X)\n",
        "print('Mean', np.average(X))\n",
        "print('Std', np.std(X))"
      ],
      "execution_count": null,
      "outputs": []
    },
    {
      "cell_type": "markdown",
      "metadata": {
        "id": "0fAkC8mNgJlU"
      },
      "source": [
        "Exponential distribution"
      ]
    },
    {
      "cell_type": "code",
      "metadata": {
        "id": "nYNJRZgMgIYG"
      },
      "source": [
        "X = rnd.exponential(scale=5,size=100)\n",
        "print(X)\n",
        "print('Mean', np.average(X))\n",
        "print('Std', np.std(X))"
      ],
      "execution_count": null,
      "outputs": []
    },
    {
      "cell_type": "markdown",
      "metadata": {
        "id": "MJdjCXeFgiE9"
      },
      "source": [
        "Poisson distribution"
      ]
    },
    {
      "cell_type": "code",
      "metadata": {
        "id": "I4c3-__bgjV_"
      },
      "source": [
        "X = rnd.poisson(lam=2,size=(10,10))\n",
        "print(X)\n",
        "print('Mean', np.average(X))\n",
        "print('Std', np.std(X))"
      ],
      "execution_count": null,
      "outputs": []
    },
    {
      "cell_type": "markdown",
      "metadata": {
        "id": "VCZSrp_pgxmW"
      },
      "source": [
        "Choice"
      ]
    },
    {
      "cell_type": "code",
      "metadata": {
        "id": "IG24GB_9gz0K"
      },
      "source": [
        "pool=['Blue', 'White', 'Red']\n",
        "X = rnd.choice(pool, size=300)\n",
        "print(X)"
      ],
      "execution_count": null,
      "outputs": []
    },
    {
      "cell_type": "code",
      "metadata": {
        "id": "k_Hhxdsx69BH"
      },
      "source": [
        "X == 'Blue'"
      ],
      "execution_count": null,
      "outputs": []
    },
    {
      "cell_type": "code",
      "metadata": {
        "id": "ClHu5wHX6vFR"
      },
      "source": [
        "print(np.count_nonzero(X == 'Blue'))\n",
        "print(np.count_nonzero(X == 'White'))\n",
        "print(np.count_nonzero(X == 'Red'))"
      ],
      "execution_count": null,
      "outputs": []
    },
    {
      "cell_type": "code",
      "metadata": {
        "id": "B1RKaqeKhaK-"
      },
      "source": [
        "pool=['Blue', 'White', 'Red']\n",
        "X = rnd.choice(pool, size=300, p=[0.5, 0.3, 0.2])\n",
        "print(np.count_nonzero(X == 'Blue'))\n",
        "print(np.count_nonzero(X == 'White'))\n",
        "print(np.count_nonzero(X == 'Red'))"
      ],
      "execution_count": null,
      "outputs": []
    },
    {
      "cell_type": "markdown",
      "metadata": {
        "id": "_GKZ2Y9Gvil9"
      },
      "source": [
        "# Lecture #17 : The Matplotlib Module"
      ]
    },
    {
      "cell_type": "code",
      "metadata": {
        "id": "i6qjB_BHvnK3"
      },
      "source": [
        "import matplotlib.pyplot as plt\n",
        "import numpy as np\n",
        "import numpy.random as rnd"
      ],
      "execution_count": null,
      "outputs": []
    },
    {
      "cell_type": "markdown",
      "metadata": {
        "id": "cYxPQgfE7Agp"
      },
      "source": [
        "## Section 17.1: A simple plot"
      ]
    },
    {
      "cell_type": "code",
      "metadata": {
        "id": "oP76htT77DS4"
      },
      "source": [
        "X = np.linspace(-10,10,101)\n",
        "Y = 0.01*pow(X,2)\n",
        "Z = Y + 0.1 * rnd.randn(101)"
      ],
      "execution_count": null,
      "outputs": []
    },
    {
      "cell_type": "code",
      "metadata": {
        "id": "2d8-bqE7vnXa"
      },
      "source": [
        "plt.plot(X, Y, '-k', label='model' , linewidth=3)\n",
        "plt.plot(X, Z, 'ob', label='data')\n",
        "plt.axis([-12, 12, -0.2, 1.2])\n",
        "plt.xlabel('X axis label', fontsize=14)\n",
        "plt.ylabel('Y axis label', fontsize=14)\n",
        "plt.title('My Curve', fontsize=18)\n",
        "plt.legend(fontsize=14)\n",
        "plt.show()"
      ],
      "execution_count": null,
      "outputs": []
    },
    {
      "cell_type": "markdown",
      "metadata": {
        "id": "1C6TPoT99Jdr"
      },
      "source": [
        "## Section 17.2: Figure and axis objects"
      ]
    },
    {
      "cell_type": "code",
      "metadata": {
        "id": "dnFK4yqn9Pv-"
      },
      "source": [
        "X = np.linspace(-10,10,101)\n",
        "Y = 0.01*pow(X,2)\n",
        "Z = Y + 0.1 * rnd.randn(101)"
      ],
      "execution_count": null,
      "outputs": []
    },
    {
      "cell_type": "code",
      "metadata": {
        "id": "qma6x_lr9Qz8"
      },
      "source": [
        "fig = plt.figure()\n",
        "ax = fig.add_axes([0, 0, 1, 1])\n",
        "ax.plot(X, Y, '-k', label='model', linewidth=3)\n",
        "ax.plot(X, Z, 'ob', label='data')\n",
        "ax.axis([-12, 12, -0.2, 1.2])\n",
        "ax.set_xlabel('X axis label', fontsize=14)\n",
        "ax.set_ylabel('Y axis label', fontsize=14)\n",
        "ax.set_title('My Curve', fontsize=18)\n",
        "ax.tick_params(axis='both', labelsize=14)\n",
        "ax.legend(fontsize=14)\n",
        "fig.show()"
      ],
      "execution_count": null,
      "outputs": []
    },
    {
      "cell_type": "code",
      "metadata": {
        "id": "Vx3YOHb__Y8x"
      },
      "source": [
        "dir(ax)"
      ],
      "execution_count": null,
      "outputs": []
    },
    {
      "cell_type": "markdown",
      "metadata": {
        "id": "X5nsM3Yv_bjS"
      },
      "source": [
        "## Section 17.3: Subplots"
      ]
    },
    {
      "cell_type": "code",
      "metadata": {
        "id": "UO1ZVS5WvneA"
      },
      "source": [
        "X = np.linspace(-10,10,101)\n",
        "Y = 0.01*pow(X,2)\n",
        "Z = Y + 0.1 * rnd.randn(101)"
      ],
      "execution_count": null,
      "outputs": []
    },
    {
      "cell_type": "code",
      "metadata": {
        "id": "GE5wpFhL_prw"
      },
      "source": [
        "fig = plt.figure()\n",
        "\n",
        "ax1 = plt.subplot(211)\n",
        "ax1.plot(X, Y, '--k', label='model')\n",
        "ax1.plot(X, Z, 'ob', label='data')\n",
        "ax1.axis([-12, 12, -0.2, 1.2])\n",
        "ax1.set_xlabel('X axis label', fontsize=14)\n",
        "ax1.set_ylabel('Y axis label', fontsize=14)\n",
        "ax1.set_title('My Curve', fontsize=18)\n",
        "ax1.tick_params(axis='both', labelsize=14)\n",
        "ax1.legend(fontsize=14)\n",
        "\n",
        "ax2 = plt.subplot(212)\n",
        "ax2.plot(X, Z-Y, '*r')\n",
        "ax2.axis([-12, 12, -0.2, 0.2])\n",
        "ax2.set_xlabel('X axis label', fontsize=14)\n",
        "ax2.set_ylabel('Difference', fontsize=14)\n",
        "ax2.set_title('Difference', fontsize=18)\n",
        "ax2.tick_params(axis='both', labelsize=14)\n",
        "\n",
        "fig.show()"
      ],
      "execution_count": null,
      "outputs": []
    },
    {
      "cell_type": "code",
      "metadata": {
        "id": "dXGrFpIPAtJI"
      },
      "source": [
        "fig = plt.figure()\n",
        "\n",
        "ax1 = fig.add_axes([0, 0.5, 1, 0.5])\n",
        "ax1.plot(X, Y, '--k', label='model')\n",
        "ax1.plot(X, Z, 'ob', label='data')\n",
        "ax1.axis([-12, 12, -0.2, 1.2])\n",
        "ax1.set_xlabel('X axis label', fontsize=14)\n",
        "ax1.set_ylabel('Y axis label', fontsize=14)\n",
        "ax1.set_title('My Curve', fontsize=18)\n",
        "ax1.tick_params(axis='both', labelsize=14)\n",
        "ax1.legend(fontsize=14)\n",
        "\n",
        "ax2 = fig.add_axes([0, 0, 1, 0.2])\n",
        "ax2.plot(X, Z-Y, '*r')\n",
        "ax2.axis([-12, 12, -0.2, 0.2])\n",
        "ax2.set_xlabel('X axis label', fontsize=14)\n",
        "ax2.set_ylabel('Difference', fontsize=14)\n",
        "ax2.set_title('Difference', fontsize=18)\n",
        "ax2.tick_params(axis='both', labelsize=14)\n",
        "\n",
        "fig.show()"
      ],
      "execution_count": null,
      "outputs": []
    },
    {
      "cell_type": "markdown",
      "metadata": {
        "id": "cKyYucg2BYBw"
      },
      "source": [
        "## Section 17.4: Patches"
      ]
    },
    {
      "cell_type": "code",
      "metadata": {
        "id": "z9FI2wkuBdhY"
      },
      "source": [
        "fig = plt.figure()\n",
        "ax = fig.add_axes([0, 0, 1, 1])\n",
        "\n",
        "rect1 = plt.Rectangle((0,0.667),1,0.333,facecolor='#0092BC')\n",
        "ax.add_patch(rect1)\n",
        "\n",
        "rect2 = plt.Rectangle((0,0.333),1,0.334,facecolor='#E4002B')\n",
        "ax.add_patch(rect2)\n",
        "\n",
        "rect3 = plt.Rectangle((0,0),1,0.333,facecolor='#00AF66')\n",
        "ax.add_patch(rect3)\n",
        "\n",
        "circ1 = plt.Circle((0.45, 0.5), radius=0.1, facecolor='#FFFFFF')\n",
        "ax.add_patch(circ1)\n",
        "\n",
        "circ2 = plt.Circle((0.48, 0.5), radius=0.08, facecolor='#E4002B')\n",
        "ax.add_patch(circ2)\n",
        "\n",
        "points = [ [0.55, 0.54], [0.56, 0.52], [0.58, 0.53], [0.57, 0.51], [0.59, 0.5], [0.57, 0.49], [0.58, 0.46], [0.56, 0.48], [0.55, 0.46], [0.54, 0.48], [0.52, 0.46], [0.53, 0.49], [0.51, 0.5], [0.53, 0.51], [0.52, 0.53], [0.54, 0.52]]\n",
        "line = plt.Polygon(points, closed=True, fill=True, edgecolor='#FFFFFF', facecolor='#FFFFFF')\n",
        "ax.add_patch(line)\n",
        "\n",
        "plt.show()"
      ],
      "execution_count": null,
      "outputs": []
    },
    {
      "cell_type": "markdown",
      "metadata": {
        "id": "DC-JXLDjjUa0"
      },
      "source": [
        "##Section 17.5: Pie chart\n",
        "Copy and paste the example of a pie chart grabbed from the matplotlib gallery.\n",
        "<br>[Link to the gallery](https://matplotlib.org/stable/gallery/index.html)"
      ]
    },
    {
      "cell_type": "code",
      "metadata": {
        "id": "9YqHigGsjqGt"
      },
      "source": [
        "import matplotlib.pyplot as plt\n",
        "\n",
        "# Pie chart, where the slices will be ordered and plotted counter-clockwise:\n",
        "labels = 'Frogs', 'Hogs', 'Dogs', 'Logs'\n",
        "sizes = [15, 30, 45, 10]\n",
        "explode = (0, 0.1, 0, 0)  # only \"explode\" the 2nd slice (i.e. 'Hogs')\n",
        "\n",
        "fig1, ax1 = plt.subplots()\n",
        "ax1.pie(sizes, explode=explode, labels=labels, autopct='%1.1f%%',\n",
        "        shadow=True, startangle=90)\n",
        "ax1.axis('equal')  # Equal aspect ratio ensures that pie is drawn as a circle.\n",
        "\n",
        "plt.show()"
      ],
      "execution_count": null,
      "outputs": []
    },
    {
      "cell_type": "markdown",
      "metadata": {
        "id": "fIijYRo83n1L"
      },
      "source": [
        "# Lecture #18: The Scipy Module"
      ]
    },
    {
      "cell_type": "markdown",
      "metadata": {
        "id": "6xXQMNHkm9L8"
      },
      "source": [
        "## Section 18.1: The Integrate Submodule\n",
        "Use quad and odeint methods from scipy.integrate to numerically calculate integrals and solve ordinary differential equations"
      ]
    },
    {
      "cell_type": "code",
      "metadata": {
        "id": "MJLIfaXBm8wj"
      },
      "source": [
        "import scipy.integrate as si\n",
        "import numpy as np\n",
        "import matplotlib.pyplot as plt"
      ],
      "execution_count": null,
      "outputs": []
    },
    {
      "cell_type": "markdown",
      "metadata": {
        "id": "1u1tNbJB4CyA"
      },
      "source": [
        "Compute integrals of 1/x for x in the [1:10] range"
      ]
    },
    {
      "cell_type": "code",
      "metadata": {
        "id": "lQaTsUCl3uef"
      },
      "source": [
        "print(si.quad(lambda x: 1/x, 1, 10))\n",
        "print(np.log(10)-np.log(1))\n"
      ],
      "execution_count": null,
      "outputs": []
    },
    {
      "cell_type": "code",
      "metadata": {
        "id": "-MTKlSfUxPs1"
      },
      "source": [
        "def inverse(x):\n",
        "  return 1/x"
      ],
      "execution_count": null,
      "outputs": []
    },
    {
      "cell_type": "code",
      "metadata": {
        "id": "7rmkq3XwxWsQ"
      },
      "source": [
        "print(si.quad(inverse, 1, 10))"
      ],
      "execution_count": null,
      "outputs": []
    },
    {
      "cell_type": "markdown",
      "metadata": {
        "id": "E4F41ZOwaISR"
      },
      "source": [
        "Solve single differential equations\n",
        "\\begin{equation}\n",
        "\\frac{df}{dt} = 1 - 0.1 \\cdot f(t)\n",
        "\\end{equation}\n",
        "with $f(0)=0$"
      ]
    },
    {
      "cell_type": "code",
      "metadata": {
        "id": "l5hVOMwDaHUW"
      },
      "source": [
        "def eqn(y,t):\n",
        "  dydt = 1.0 - 0.1*y\n",
        "  return dydt\n",
        "  \n",
        "t = np.linspace(0,50)\n",
        "y0=0\n",
        "sol = si.odeint(eqn,y0,t)\n",
        "plt.plot(t,sol)\n",
        "plt.show()"
      ],
      "execution_count": null,
      "outputs": []
    },
    {
      "cell_type": "markdown",
      "metadata": {
        "id": "HMBZCcEBoG4P"
      },
      "source": [
        "Solve sets of differential equations\n",
        "\\begin{equation}\n",
        "\\begin{cases}\n",
        "M \\cdot \\frac{dA}{dt} = - k_1 \\cdot A + k_2 \\cdot B \\\\\n",
        "M \\cdot \\frac{dB}{dt} = k_1 \\cdot A - k_2 \\cdot B\n",
        "\\end{cases}\n",
        "\\end{equation}\n",
        "with $A=100$ and $B=10$ "
      ]
    },
    {
      "cell_type": "code",
      "metadata": {
        "id": "oWNyD7dipuf8"
      },
      "source": [
        "def eqn(y, t, k1, k2):\n",
        "  a, b = y\n",
        "  dadt = k2*b - k1*a\n",
        "  dbdt = k1*a - k2*b\n",
        "  return [dadt, dbdt]\n",
        "  \n",
        "t = np.linspace(0,1)\n",
        "a0=100\n",
        "b0=10\n",
        "sol = si.odeint(eqn,[a0, b0],t, args=(2, 1))\n",
        "plt.plot(t,sol[:,0],'b',label='A')\n",
        "plt.plot(t,sol[:,1],'r',label='B')\n",
        "plt.legend()\n",
        "plt.show()"
      ],
      "execution_count": null,
      "outputs": []
    },
    {
      "cell_type": "markdown",
      "metadata": {
        "id": "el2isLD4qu3m"
      },
      "source": [
        "## Section 18.2 : The Optimize Submodule\n",
        "Use curve_fit and minimize methods from scipy.optimize in order to fit data points by an model"
      ]
    },
    {
      "cell_type": "code",
      "metadata": {
        "id": "AVKcYko93rIY"
      },
      "source": [
        "import scipy.optimize as so\n",
        "import numpy as np\n",
        "import matplotlib.pyplot as plt"
      ],
      "execution_count": null,
      "outputs": []
    },
    {
      "cell_type": "markdown",
      "metadata": {
        "id": "GV8AbIRG5HDO"
      },
      "source": [
        "Fits data with a polynom using curve_fit"
      ]
    },
    {
      "cell_type": "code",
      "metadata": {
        "id": "olO6N_r95jaq"
      },
      "source": [
        "X = np.linspace(-5,5)\n",
        "Y = 2*X*X - 3*X + 4 + 3*np.random.randn(len(X))\n",
        "plt.plot(X,Y,'o')\n",
        "plt.show()"
      ],
      "execution_count": null,
      "outputs": []
    },
    {
      "cell_type": "code",
      "metadata": {
        "id": "rP7Va7vG7GCS"
      },
      "source": [
        "def func(x, a, b, c):\n",
        "  return a*x*x + b*x + c"
      ],
      "execution_count": null,
      "outputs": []
    },
    {
      "cell_type": "code",
      "metadata": {
        "id": "148Z3Gx-7M-x"
      },
      "source": [
        "popt, pcov = so.curve_fit(func, X, Y)\n",
        "print(popt)"
      ],
      "execution_count": null,
      "outputs": []
    },
    {
      "cell_type": "code",
      "metadata": {
        "id": "YI54zGqrrr5N"
      },
      "source": [
        "a=popt[0]\n",
        "b=popt[1]\n",
        "c=popt[2]\n",
        "plt.plot(X,Y,'o',label='data')\n",
        "plt.plot(X,func(X, a, b, c),'r', label='model')\n",
        "plt.show()\n",
        "print(a,b, c)"
      ],
      "execution_count": null,
      "outputs": []
    },
    {
      "cell_type": "markdown",
      "metadata": {
        "id": "sS1P4bz0sFpW"
      },
      "source": [
        "Fits data with a polynom using minimize"
      ]
    },
    {
      "cell_type": "code",
      "metadata": {
        "id": "qm-DYYpwsUJ2"
      },
      "source": [
        "def cost(param):\n",
        "  errorVect = [abs(Y[k] - func(X[k], param[0], param[1], param[2])) for k in range(len(X))]\n",
        "  return np.mean(errorVect)"
      ],
      "execution_count": null,
      "outputs": []
    },
    {
      "cell_type": "code",
      "metadata": {
        "id": "S1JweNU8stgM"
      },
      "source": [
        "firstGuess = [1, 1, 1]\n",
        "result = so.minimize(cost, firstGuess)\n",
        "print(result)"
      ],
      "execution_count": null,
      "outputs": []
    },
    {
      "cell_type": "code",
      "metadata": {
        "id": "NJx755rktnN8"
      },
      "source": [
        "a=result.x[0]\n",
        "b=result.x[1]\n",
        "c=result.x[2]\n",
        "plt.plot(X,Y,'o',label='data')\n",
        "plt.plot(X,func(X, a, b, c),'r', label='model')\n",
        "plt.show()"
      ],
      "execution_count": null,
      "outputs": []
    },
    {
      "cell_type": "markdown",
      "metadata": {
        "id": "_NAGUe9Tui2U"
      },
      "source": [
        "## Section 18.3: The Linalg Submodule"
      ]
    },
    {
      "cell_type": "markdown",
      "metadata": {
        "id": "oTS5WPLi7xCe"
      },
      "source": [
        "Matrix computation (inversion, determinant, eigen values)"
      ]
    },
    {
      "cell_type": "code",
      "metadata": {
        "id": "P90BKFpyu_IG"
      },
      "source": [
        "import scipy.linalg as sl\n",
        "import numpy as np"
      ],
      "execution_count": null,
      "outputs": []
    },
    {
      "cell_type": "code",
      "metadata": {
        "id": "vioqGYsi701s"
      },
      "source": [
        "X = np.array([2,7,6,9,5,1,4,3,8])\n",
        "X.resize(3,3)\n",
        "print(X)"
      ],
      "execution_count": null,
      "outputs": []
    },
    {
      "cell_type": "code",
      "metadata": {
        "id": "7BQfpEcd3pjz"
      },
      "source": [
        "print(sl.inv(X))"
      ],
      "execution_count": null,
      "outputs": []
    },
    {
      "cell_type": "code",
      "metadata": {
        "id": "19MV5Bjr3t2O"
      },
      "source": [
        "print(sl.det(X))"
      ],
      "execution_count": null,
      "outputs": []
    },
    {
      "cell_type": "code",
      "metadata": {
        "id": "9JCsPqLj3vzG"
      },
      "source": [
        "print(sl.eigvals(X))"
      ],
      "execution_count": null,
      "outputs": []
    },
    {
      "cell_type": "markdown",
      "metadata": {
        "id": "McydbEoWvEJL"
      },
      "source": [
        "Use linalg to solve a set of 3 equations with 3 unknowns\n",
        "\\begin{equation}\n",
        "\\begin{cases}\n",
        "2 \\cdot x + y − 2 \\cdot z = −13 \\\\\n",
        "x − 3 \\cdot y − z = 5 \\\\\n",
        "x − 2 \\cdot y + 3 \\cdot z = 6\n",
        "\\end{cases}\n",
        "\\end{equation}"
      ]
    },
    {
      "cell_type": "code",
      "metadata": {
        "id": "rDxeYVWhv0Pu"
      },
      "source": [
        "A = np.array([[2, 1, -2], [1, -3, -1], [1, -2, 3]])\n",
        "b = np.array([-13, 5, 6])\n",
        "X = sl.solve(A, b)\n",
        "print(X)"
      ],
      "execution_count": null,
      "outputs": []
    },
    {
      "cell_type": "code",
      "metadata": {
        "id": "XHRpkbpcwN70"
      },
      "source": [
        "print(np.matmul(A,X))"
      ],
      "execution_count": null,
      "outputs": []
    },
    {
      "cell_type": "code",
      "metadata": {
        "id": "dVENYcZxwnr-"
      },
      "source": [
        "print(np.matmul(sl.inv(A),b))"
      ],
      "execution_count": null,
      "outputs": []
    },
    {
      "cell_type": "markdown",
      "metadata": {
        "id": "CP1su80AxEj_"
      },
      "source": [
        "# Lecture #19: The Pandas Module"
      ]
    },
    {
      "cell_type": "code",
      "metadata": {
        "id": "cFYJh7qP_j7N"
      },
      "source": [
        "import pandas\n",
        "import numpy as np\n",
        "from google.colab import files"
      ],
      "execution_count": null,
      "outputs": []
    },
    {
      "cell_type": "markdown",
      "metadata": {
        "id": "S3woGmqA9_Xk"
      },
      "source": [
        "Dataframe creation"
      ]
    },
    {
      "cell_type": "code",
      "metadata": {
        "id": "zx0rb5QR_ttr"
      },
      "source": [
        "dates = pandas.date_range('20210901', periods=30)\n",
        "df = pandas.DataFrame(np.random.randn(30, 8), index=dates, columns=list('ABCDEFGH'))"
      ],
      "execution_count": null,
      "outputs": []
    },
    {
      "cell_type": "code",
      "metadata": {
        "id": "CAXwyM4WK6vW"
      },
      "source": [
        "print(df.index)"
      ],
      "execution_count": null,
      "outputs": []
    },
    {
      "cell_type": "code",
      "metadata": {
        "id": "de74Dz_rZNVp"
      },
      "source": [
        "weather = pandas.Series(np.random.choice(('Sunny', 'Cloudy', 'Rainy'), size=30, p=(0.5, 0.25, 0.25)), name='Weather', index=df.index)\n",
        "print(weather)"
      ],
      "execution_count": null,
      "outputs": []
    },
    {
      "cell_type": "code",
      "metadata": {
        "id": "a88y2qFEAqD6"
      },
      "source": [
        "df.head()"
      ],
      "execution_count": null,
      "outputs": []
    },
    {
      "cell_type": "code",
      "metadata": {
        "id": "-dpejv7PZ0kH"
      },
      "source": [
        "df['Weather'] = weather"
      ],
      "execution_count": null,
      "outputs": []
    },
    {
      "cell_type": "code",
      "metadata": {
        "id": "HhV4AwFDX7L9"
      },
      "source": [
        "df.tail(3)"
      ],
      "execution_count": null,
      "outputs": []
    },
    {
      "cell_type": "markdown",
      "metadata": {
        "id": "bmlrD0hcYz5k"
      },
      "source": [
        "Conversion to numpy, transposing and sorting"
      ]
    },
    {
      "cell_type": "code",
      "metadata": {
        "id": "j2jgaj91Y2L-"
      },
      "source": [
        "X=df.to_numpy()\n",
        "print(X)\n",
        "type(X)"
      ],
      "execution_count": null,
      "outputs": []
    },
    {
      "cell_type": "code",
      "metadata": {
        "id": "BDD-SaMWA6jg"
      },
      "source": [
        "df.sort_values(by='B')"
      ],
      "execution_count": null,
      "outputs": []
    },
    {
      "cell_type": "code",
      "metadata": {
        "id": "5Fy4315ncY_6"
      },
      "source": [
        "df.sort_index()"
      ],
      "execution_count": null,
      "outputs": []
    },
    {
      "cell_type": "code",
      "metadata": {
        "id": "ijOvA3GQcems"
      },
      "source": [
        "df.T"
      ],
      "execution_count": null,
      "outputs": []
    },
    {
      "cell_type": "markdown",
      "metadata": {
        "id": "h02IuC4Zcl_8"
      },
      "source": [
        "Selection"
      ]
    },
    {
      "cell_type": "code",
      "metadata": {
        "id": "q104mtz9ci9X"
      },
      "source": [
        "df['Weather']"
      ],
      "execution_count": null,
      "outputs": []
    },
    {
      "cell_type": "code",
      "metadata": {
        "id": "bWtw1KmUcqeF"
      },
      "source": [
        "df[0:7]"
      ],
      "execution_count": null,
      "outputs": []
    },
    {
      "cell_type": "code",
      "metadata": {
        "id": "26amnrLUcvrx"
      },
      "source": [
        "df['20210915':'20210920']"
      ],
      "execution_count": null,
      "outputs": []
    },
    {
      "cell_type": "code",
      "metadata": {
        "id": "Ma0HBwUfBI3c"
      },
      "source": [
        "df.loc['20210910', ['A', 'Weather']]"
      ],
      "execution_count": null,
      "outputs": []
    },
    {
      "cell_type": "code",
      "metadata": {
        "id": "dCPqPF12dDF2"
      },
      "source": [
        "df.loc['20210908':'20210910', ['A', 'Weather']]"
      ],
      "execution_count": null,
      "outputs": []
    },
    {
      "cell_type": "code",
      "metadata": {
        "id": "AnVUo0QvNyPe"
      },
      "source": [
        "df.loc[['20210910', '20210915', '20210920'], ['A', 'Weather']]"
      ],
      "execution_count": null,
      "outputs": []
    },
    {
      "cell_type": "code",
      "metadata": {
        "id": "SRqEo87sBQo3"
      },
      "source": [
        "df[df['A'] > 0]"
      ],
      "execution_count": null,
      "outputs": []
    },
    {
      "cell_type": "code",
      "metadata": {
        "id": "2ePIs7aKdyQs"
      },
      "source": [
        "df[df['Weather'] == 'Rainy']"
      ],
      "execution_count": null,
      "outputs": []
    },
    {
      "cell_type": "code",
      "metadata": {
        "id": "XURFsi9zfIie"
      },
      "source": [
        "df[(df['Weather']=='Sunny') & (df['B']<0)]"
      ],
      "execution_count": null,
      "outputs": []
    },
    {
      "cell_type": "code",
      "metadata": {
        "id": "VDE7CFwJfuMz"
      },
      "source": [
        "df[(df['Weather']=='Cloudy') | (df['F']>0.5)]"
      ],
      "execution_count": null,
      "outputs": []
    },
    {
      "cell_type": "markdown",
      "metadata": {
        "id": "8_vMI8tUeDBW"
      },
      "source": [
        "Statistics"
      ]
    },
    {
      "cell_type": "code",
      "metadata": {
        "id": "qayj2TXQeGSr"
      },
      "source": [
        "df.mean()"
      ],
      "execution_count": null,
      "outputs": []
    },
    {
      "cell_type": "code",
      "metadata": {
        "id": "RhiEsereBZ8t"
      },
      "source": [
        "df.describe()"
      ],
      "execution_count": null,
      "outputs": []
    },
    {
      "cell_type": "code",
      "metadata": {
        "id": "gqaR2CHrilt1"
      },
      "source": [
        "df['Weather'].value_counts()"
      ],
      "execution_count": null,
      "outputs": []
    },
    {
      "cell_type": "markdown",
      "metadata": {
        "id": "FZgTVNWif9mg"
      },
      "source": [
        "Save and load data frame"
      ]
    },
    {
      "cell_type": "code",
      "metadata": {
        "id": "5t8SWg22gHO0"
      },
      "source": [
        "df.to_excel('september.xls')\n",
        "files.download('september.xls')"
      ],
      "execution_count": null,
      "outputs": []
    },
    {
      "cell_type": "code",
      "metadata": {
        "id": "buMt4tj_gOUx"
      },
      "source": [
        "df.to_csv('september.csv')\n",
        "files.download('september.csv')"
      ],
      "execution_count": null,
      "outputs": []
    },
    {
      "cell_type": "code",
      "metadata": {
        "id": "HRojx-sTBmYE"
      },
      "source": [
        "files.upload()"
      ],
      "execution_count": null,
      "outputs": []
    },
    {
      "cell_type": "code",
      "metadata": {
        "id": "8SiR7Nw0CEGp"
      },
      "source": [
        "df2 = pandas.read_excel('october.xls', index_col=0)"
      ],
      "execution_count": null,
      "outputs": []
    },
    {
      "cell_type": "code",
      "metadata": {
        "id": "xPxY4ESvP4lF"
      },
      "source": [
        "print(df2)"
      ],
      "execution_count": null,
      "outputs": []
    },
    {
      "cell_type": "markdown",
      "metadata": {
        "id": "RXmlcu3OfELd"
      },
      "source": [
        "Concatenate data frame"
      ]
    },
    {
      "cell_type": "code",
      "metadata": {
        "id": "-F5HCkYlhnKs"
      },
      "source": [
        "res = df.append(df2)"
      ],
      "execution_count": null,
      "outputs": []
    },
    {
      "cell_type": "code",
      "metadata": {
        "id": "RyyjZXBni7Qs"
      },
      "source": [
        "res.head()"
      ],
      "execution_count": null,
      "outputs": []
    },
    {
      "cell_type": "code",
      "metadata": {
        "id": "IQit3I4wQFYN"
      },
      "source": [
        "res.tail()"
      ],
      "execution_count": null,
      "outputs": []
    },
    {
      "cell_type": "code",
      "metadata": {
        "id": "KjDlo7FRiqSl"
      },
      "source": [
        "res['Weather'].value_counts()"
      ],
      "execution_count": null,
      "outputs": []
    },
    {
      "cell_type": "code",
      "metadata": {
        "id": "m1piTfJlQaiN"
      },
      "source": [
        "res=res.replace('Rain','Rainy')"
      ],
      "execution_count": null,
      "outputs": []
    },
    {
      "cell_type": "code",
      "metadata": {
        "id": "lNetqRwWQtVl"
      },
      "source": [
        "res['20210915':'20211015']['Weather'].value_counts()"
      ],
      "execution_count": null,
      "outputs": []
    },
    {
      "cell_type": "markdown",
      "metadata": {
        "id": "AVuu36rfmC5a"
      },
      "source": [
        "# Lecture #20: Miscellaneous Modules"
      ]
    },
    {
      "cell_type": "markdown",
      "metadata": {
        "id": "jV8jLbxI1elc"
      },
      "source": [
        "## Section 20.1: The Time Module"
      ]
    },
    {
      "cell_type": "code",
      "metadata": {
        "id": "bBEHk2eXDkNP"
      },
      "source": [
        "import time"
      ],
      "execution_count": null,
      "outputs": []
    },
    {
      "cell_type": "code",
      "metadata": {
        "id": "kL4AZ9zvDvsg"
      },
      "source": [
        "currentTime = time.time()\n",
        "print(currentTime)\n",
        "structCurrentTime = time.gmtime(currentTime)\n",
        "print(structCurrentTime)"
      ],
      "execution_count": null,
      "outputs": []
    },
    {
      "cell_type": "code",
      "metadata": {
        "id": "tt8Gmy64FP4j"
      },
      "source": [
        " format = '%A, %d %B %Y at %H:%M:%S'\n",
        " time.strftime(format, structCurrentTime)"
      ],
      "execution_count": null,
      "outputs": []
    },
    {
      "cell_type": "code",
      "metadata": {
        "id": "3yheLWijD2AK"
      },
      "source": [
        "myBirthDate = time.strptime(\"Saturday 8 November 1980 22 10 42\", \"%A %d %B %Y %H %M %S\")\n",
        "print(myBirthDate)\n",
        "diff = currentTime - time.mktime(myBirthDate)\n",
        "print(diff, 'seconds since my birth date.')\n"
      ],
      "execution_count": null,
      "outputs": []
    },
    {
      "cell_type": "markdown",
      "metadata": {
        "id": "3foER-ELIM9m"
      },
      "source": [
        "## Section 20.2: The Xlrd and Xlwt Modules"
      ]
    },
    {
      "cell_type": "code",
      "metadata": {
        "id": "QPOcBhlhKP86"
      },
      "source": [
        "from google.colab import files\n",
        "files.upload()"
      ],
      "execution_count": null,
      "outputs": []
    },
    {
      "cell_type": "code",
      "metadata": {
        "id": "4WErxqXGIobZ"
      },
      "source": [
        "import xlrd\n",
        "wb = xlrd.open_workbook(\"inputFile.xlsx\")\n",
        "sheetName = []\n",
        "dataDict={}\n",
        "for name in wb.sheet_names():\n",
        "  print(name)\n",
        "  ws = wb.sheet_by_name(name)\n",
        "  sheetName.append(name)\n",
        "  a = ws.cell_value(0, 0)\n",
        "  b = ws.cell_value(0, 1)\n",
        "  c = ws.cell_value(0, 2)\n",
        "  dataDict[name] = [a, b, c]"
      ],
      "execution_count": null,
      "outputs": []
    },
    {
      "cell_type": "code",
      "metadata": {
        "id": "21d93ecUVAwi"
      },
      "source": [
        "print(sheetName)\n",
        "print(dataDict)"
      ],
      "execution_count": null,
      "outputs": []
    },
    {
      "cell_type": "code",
      "metadata": {
        "id": "mrKg0h9JJl9B"
      },
      "source": [
        "import xlwt\n",
        "wb = xlwt.Workbook()\n",
        "ws = wb.add_sheet('Summary')\n",
        "for i, label in enumerate(sheetName):\n",
        "  ws.write(i, 0, label)\n",
        "  ws.write(i, 1, dataDict[label][0])\n",
        "  ws.write(i, 2, dataDict[label][1])\n",
        "  ws.write(i, 3, dataDict[label][2])\n",
        "wb.save(\"outputfile.xls\")"
      ],
      "execution_count": null,
      "outputs": []
    },
    {
      "cell_type": "code",
      "metadata": {
        "id": "SShViEAqLmKX"
      },
      "source": [
        "files.download('outputfile.xls')"
      ],
      "execution_count": null,
      "outputs": []
    },
    {
      "cell_type": "code",
      "metadata": {
        "id": "sxFAGNt3WEDN"
      },
      "source": [
        "myStyle = xlwt.easyxf('font: bold 1') "
      ],
      "execution_count": null,
      "outputs": []
    },
    {
      "cell_type": "code",
      "metadata": {
        "id": "1sfRySB3L1qj"
      },
      "source": [
        "import xlwt\n",
        "wb = xlwt.Workbook()\n",
        "ws = wb.add_sheet('Summary')\n",
        "for i, label in enumerate(sheetName):\n",
        "  ws.write(i, 0, label)\n",
        "  ws.write(i, 1, dataDict[label][0])\n",
        "  ws.write(i, 2, dataDict[label][1])\n",
        "  ws.write(i, 3, dataDict[label][2])\n",
        "ws.write(3,0,'Average', style=myStyle)\n",
        "ws.write(3,1,xlwt.Formula(\"AVERAGE(B1:B3)\"))\n",
        "ws.write(3,2,xlwt.Formula(\"AVERAGE(C1:C3)\"))\n",
        "ws.write(3,3,xlwt.Formula(\"AVERAGE(D1:D3)\"))\n",
        "wb.save('formatedoutputfile.xls')"
      ],
      "execution_count": null,
      "outputs": []
    },
    {
      "cell_type": "code",
      "metadata": {
        "id": "Mrt29NNVM5Y5"
      },
      "source": [
        "files.download('formatedoutputfile.xls')"
      ],
      "execution_count": null,
      "outputs": []
    },
    {
      "cell_type": "markdown",
      "metadata": {
        "id": "OUJ8JATmwXHT"
      },
      "source": [
        "## Section 20.3: The Sympy Module"
      ]
    },
    {
      "cell_type": "code",
      "metadata": {
        "id": "dO79dmXKwZZh"
      },
      "source": [
        "import sympy"
      ],
      "execution_count": null,
      "outputs": []
    },
    {
      "cell_type": "code",
      "metadata": {
        "id": "Lpf3qX7jwbwq"
      },
      "source": [
        "a, b, c, x = sympy.symbols(\"a b c x\")\n",
        "expr = a*x**2 + b*x + c\n",
        "print(expr.subs([(a,2),(b,-4),(c,2)]))"
      ],
      "execution_count": null,
      "outputs": []
    },
    {
      "cell_type": "code",
      "metadata": {
        "id": "jZ5sMxZIZcE1"
      },
      "source": [
        "print(expr.subs([(a,x),(b,x),(c,x)]))"
      ],
      "execution_count": null,
      "outputs": []
    },
    {
      "cell_type": "code",
      "metadata": {
        "id": "uqMn_xTNxc-2"
      },
      "source": [
        "exprstr = '(x**3 + x**2 - x - 1)/(x**2 + 2*x + 1)'\n",
        "expr = sympy.sympify(exprstr)\n",
        "print(expr)\n",
        "sympy.simplify(expr)"
      ],
      "execution_count": null,
      "outputs": []
    },
    {
      "cell_type": "code",
      "metadata": {
        "id": "Ggg1KBBCyF3r"
      },
      "source": [
        "polystr = 'a*x**2 + b*x + c'\n",
        "expr = sympy.sympify(polystr)\n",
        "print(expr.integrate(x))\n",
        "print(expr.diff(x))"
      ],
      "execution_count": null,
      "outputs": []
    },
    {
      "cell_type": "code",
      "metadata": {
        "id": "ft7rGexYyxOn"
      },
      "source": [
        "polystr = 'sin(x)/x'\n",
        "expr = sympy.sympify(polystr)\n",
        "print(expr.limit(x,0))\n",
        "print(expr.series(x,0,10))"
      ],
      "execution_count": null,
      "outputs": []
    },
    {
      "cell_type": "code",
      "metadata": {
        "id": "97r9SgtQzRLT"
      },
      "source": [
        "x, y, z = sympy.symbols(\"x y z\")\n",
        "eqn1 = sympy.sympify('3*x+4*y-5*z+6')\n",
        "eqn2 = sympy.sympify('2*x+3*y-4*z+5')\n",
        "eqn3 = sympy.sympify('-2*x+3*y-4*z-3')\n",
        "sympy.linsolve([eqn1,eqn2,eqn3], (x, y, z))"
      ],
      "execution_count": null,
      "outputs": []
    },
    {
      "cell_type": "markdown",
      "metadata": {
        "id": "WxJ92lq3-B2o"
      },
      "source": [
        "## Section 20.4: The Scikit-learn Module"
      ]
    },
    {
      "cell_type": "code",
      "metadata": {
        "id": "huCS8m_T-bZ1"
      },
      "source": [
        "from sklearn.ensemble import RandomForestClassifier\n",
        "from google.colab import files\n",
        "import pandas\n",
        "import matplotlib.pyplot as plt"
      ],
      "execution_count": null,
      "outputs": []
    },
    {
      "cell_type": "code",
      "metadata": {
        "id": "0G20Z-axmdI3"
      },
      "source": [
        "files.upload()\n",
        "files.upload()"
      ],
      "execution_count": null,
      "outputs": []
    },
    {
      "cell_type": "markdown",
      "metadata": {
        "id": "QECpIJziXnhg"
      },
      "source": [
        "Importing the learning datset"
      ]
    },
    {
      "cell_type": "code",
      "metadata": {
        "id": "RevMfW7wjSWN"
      },
      "source": [
        "learningData = pandas.read_excel('learningData.xlsx', header=0)"
      ],
      "execution_count": null,
      "outputs": []
    },
    {
      "cell_type": "code",
      "metadata": {
        "id": "bsEh_II9mukd"
      },
      "source": [
        "for k, line in learningData.iterrows():\n",
        "  if line['Actual Label']:\n",
        "    plt.plot(line['X'], line['Y'], 'ob')\n",
        "  else:\n",
        "    plt.plot(line['X'], line['Y'], 'or')\n",
        "plt.show()"
      ],
      "execution_count": null,
      "outputs": []
    },
    {
      "cell_type": "markdown",
      "metadata": {
        "id": "vVod7PHMozSG"
      },
      "source": [
        "Train the classifier"
      ]
    },
    {
      "cell_type": "code",
      "metadata": {
        "id": "U81IXsVIo08L"
      },
      "source": [
        "clf = RandomForestClassifier(n_estimators=100, max_depth=2)\n",
        "data = learningData[['X', 'Y']].to_numpy()\n",
        "label = learningData[['Actual Label']].to_numpy()\n",
        "clf.fit(data, label)"
      ],
      "execution_count": null,
      "outputs": []
    },
    {
      "cell_type": "markdown",
      "metadata": {
        "id": "7EvplHvOqU1s"
      },
      "source": [
        "Verify the classifier"
      ]
    },
    {
      "cell_type": "code",
      "metadata": {
        "id": "2BwttNRyqibI"
      },
      "source": [
        "verifData = pandas.read_excel('verificationData.xlsx', header=0)"
      ],
      "execution_count": null,
      "outputs": []
    },
    {
      "cell_type": "code",
      "metadata": {
        "id": "fPF0EYqZqWZL"
      },
      "source": [
        "data = verifData[['X', 'Y']].to_numpy()\n",
        "verifData['Predicted Label'] = clf.predict(data)"
      ],
      "execution_count": null,
      "outputs": []
    },
    {
      "cell_type": "code",
      "metadata": {
        "id": "RM4eXZDYrAZ9"
      },
      "source": [
        "verifData.head(20)"
      ],
      "execution_count": null,
      "outputs": []
    },
    {
      "cell_type": "markdown",
      "metadata": {
        "id": "Ku4U7AyVrA6p"
      },
      "source": [
        "Confusion matrix"
      ]
    },
    {
      "cell_type": "code",
      "metadata": {
        "id": "xaEWaierrCZW"
      },
      "source": [
        "from sklearn.metrics import confusion_matrix"
      ],
      "execution_count": null,
      "outputs": []
    },
    {
      "cell_type": "code",
      "metadata": {
        "id": "ng0w7tm1qlgS"
      },
      "source": [
        "confmat = confusion_matrix(verifData['Actual Label'].to_numpy(), verifData['Predicted Label'].to_numpy())\n",
        "print(confmat)"
      ],
      "execution_count": null,
      "outputs": []
    },
    {
      "cell_type": "code",
      "metadata": {
        "id": "tFutXsRBr1oP"
      },
      "source": [
        "for k, line in verifData.iterrows():\n",
        "  if line['Actual Label'] and line['Predicted Label']:\n",
        "    plt.plot(line['X'], line['Y'], 'ob')\n",
        "  elif line['Actual Label'] and (not line['Predicted Label']):\n",
        "    plt.plot(line['X'], line['Y'], 'xb')\n",
        "  elif (not line['Actual Label']) and line['Predicted Label']:\n",
        "    plt.plot(line['X'], line['Y'], 'xr')\n",
        "  else:\n",
        "    plt.plot(line['X'], line['Y'], 'or')\n",
        "plt.show()"
      ],
      "execution_count": null,
      "outputs": []
    },
    {
      "cell_type": "markdown",
      "metadata": {
        "id": "1jZVcIPiQTiq"
      },
      "source": [
        "## Section 20.5: The Urllib Module\n",
        "Grab the Python wikipedia page and calculate the number of instances of \"Python\" in that page"
      ]
    },
    {
      "cell_type": "code",
      "metadata": {
        "id": "ggfhZCzv_Sj_"
      },
      "source": [
        "import urllib\n",
        "import re"
      ],
      "execution_count": null,
      "outputs": []
    },
    {
      "cell_type": "code",
      "metadata": {
        "id": "zutvldEh_Uqh"
      },
      "source": [
        "with urllib.request.urlopen('https://en.wikipedia.org/wiki/Python_(programming_language)') as response:\n",
        "   html = response.read()\n",
        "print(html)"
      ],
      "execution_count": null,
      "outputs": []
    },
    {
      "cell_type": "code",
      "metadata": {
        "id": "PhstreUeAPN2"
      },
      "source": [
        "pattern = 'Python '\n",
        "print('Number of occurences of Python in the page:', len(re.findall(pattern, str(html))))"
      ],
      "execution_count": null,
      "outputs": []
    }
  ]
}