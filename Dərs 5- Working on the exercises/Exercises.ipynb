{
 "cells": [
  {
   "cell_type": "markdown",
   "id": "4a21d67f",
   "metadata": {},
   "source": [
    "# String"
   ]
  },
  {
   "cell_type": "markdown",
   "id": "8cbd02fb",
   "metadata": {},
   "source": [
    "Verilen iki karakterin aynı durumda olup olmadığını kontrol edecek bir fonksiyon yazın.\n",
    "\n",
    "'a' ve 'g' 1 döndürür\n",
    "\n",
    "'A' ve 'C' 1 döndürür\n",
    "\n",
    "'b' ve 'G' 0 döndürür\n",
    "\n",
    "'B' ve 'g' 0 döndürür\n",
    "\n",
    "'0' ve '?' -1 döndürür\n",
    "\n",
    "Karakterlerden herhangi biri harf değilse, -1 döndürün.\n",
    "\n",
    "Her iki karakter de aynı durumdaysa, 1 döndürün.\n",
    "\n",
    "Her iki karakter de harfse ve aynı durumda değilse, 0 döndürün."
   ]
  },
  {
   "cell_type": "markdown",
   "id": "102015cb",
   "metadata": {},
   "source": [
    "\n"
   ]
  },
  {
   "cell_type": "code",
   "execution_count": 70,
   "id": "156856ad",
   "metadata": {},
   "outputs": [
    {
     "name": "stdout",
     "output_type": "stream",
     "text": [
      "1\n"
     ]
    }
   ],
   "source": [
    "a = 'A'\n",
    "b = 'C'\n",
    "# isupper()\n",
    "# == - beraber olub-olmadigini yoxlayir, bearaber olsa True\n",
    "# False == False == True\n",
    "# a = 'a',b= 'b'\n",
    "if a.isupper() == b.isupper() == True:\n",
    "    #True    ==  True  == True \n",
    "    print(1)\n",
    "elif a.islower() == b.islower() == True:\n",
    "    print(1)\n",
    "else:\n",
    "    print(0)\n",
    "    "
   ]
  },
  {
   "cell_type": "markdown",
   "id": "4834fc9e",
   "metadata": {},
   "source": [
    "a = ''\n",
    "b = ''\n",
    "if a.___ == b.___ == ___:\n",
    "    print(True)\n",
    "elif a.___ == b.___ == ___:\n",
    "    print(True)\n",
    "else:\n",
    "    print(___)"
   ]
  },
  {
   "cell_type": "markdown",
   "id": "206b0c60",
   "metadata": {},
   "source": [
    "\n",
    "# List,Tuple,Dictionary"
   ]
  },
  {
   "cell_type": "code",
   "execution_count": null,
   "id": "8068ae7c",
   "metadata": {},
   "outputs": [],
   "source": [
    "# f(x) \n",
    "def duck_duck_goose(lst) "
   ]
  },
  {
   "cell_type": "code",
   "execution_count": null,
   "id": "d8d6a160",
   "metadata": {},
   "outputs": [],
   "source": [
    "# 1. Duck-Duck-Goose\n",
    "# duck_duck_goose([a, b, c, d], 1) should return a.name\n",
    "# duck_duck_goose([a, b, c, d], 5) should return a.name\n",
    "# duck_duck_goose([a, b, c, d], 4) should return d.name\n",
    "# Indexing lst[-1] lst[3]\n",
    "# if...elif...else"
   ]
  },
  {
   "cell_type": "code",
   "execution_count": 74,
   "id": "473c6f5b",
   "metadata": {},
   "outputs": [],
   "source": [
    "def duck_duck_goose(lst,index_num):\n",
    "    # 5>4\n",
    "    if index_num+1>len(lst):\n",
    "        # Indexing lst[5-4] --> lst[1]\n",
    "        return lst[index_num-len(lst)]+'.name'\n",
    "    else: #lst[4] -->  d  \n",
    "        return lst[index_num] + '.name'\n",
    "# del lst[1]"
   ]
  },
  {
   "cell_type": "code",
   "execution_count": 75,
   "id": "8aa50378",
   "metadata": {},
   "outputs": [
    {
     "data": {
      "text/plain": [
       "'d.name'"
      ]
     },
     "execution_count": 75,
     "metadata": {},
     "output_type": "execute_result"
    }
   ],
   "source": [
    "duck_duck_goose(['a','b','c','d'],3)"
   ]
  },
  {
   "cell_type": "markdown",
   "id": "96d21a17",
   "metadata": {},
   "source": [
    "## Removing Elements"
   ]
  },
  {
   "cell_type": "markdown",
   "id": "1f73d2fd",
   "metadata": {},
   "source": [
    "Bir dizi alın ve diziden her ikinci öğeyi kaldırın. Her zaman ilk öğeyi saklayın ve bir sonraki öğeyle kaldırmaya başlayın."
   ]
  },
  {
   "cell_type": "markdown",
   "id": "7ae112b1",
   "metadata": {},
   "source": [
    "[\"Keep\", \"Remove\", \"Keep\", \"Remove\", \"Keep\", ...] --> [\"Keep\", \"Keep\", \"Keep\", ...]\n"
   ]
  },
  {
   "cell_type": "code",
   "execution_count": 90,
   "id": "0db852dc",
   "metadata": {},
   "outputs": [
    {
     "data": {
      "text/plain": [
       "[0, 1, 2, 3, 4, 5, 6, 7, 8, 9]"
      ]
     },
     "execution_count": 90,
     "metadata": {},
     "output_type": "execute_result"
    }
   ],
   "source": [
    "# Fonksiyonu tanimlamaq\n",
    "a = list([1,2,4])\n",
    "# def list tuple - yesil rengli yazilar keywordlerdir \n",
    "# list1 = []\n",
    "# my_tuple = ()\n",
    "def remove_evens(lst):\n",
    "    new_lst = [element for element in lst if lst.index(element) %2 ==0]\n",
    "              #                #Remove         #False\n",
    "    return new_lst\n",
    "# List comprehension\n",
    "# [element for dongusu if kosulu]\n",
    "rakam_10 = [rakam for rakam in range(10)]\n",
    "# .index() - 0\n",
    "my_lst = [\"Keep\", \"Remove\", \"Keep\", \"Remove\", \"Keep\"]\n",
    "my_lst.index('Remove')\n",
    "# % - qaliq \n",
    "# 5%3 = 2 - 1(q.2)\n",
    "# 4%2 ==0\n",
    "# 1%2 = 0 (q.1)\n",
    "rakam_10"
   ]
  },
  {
   "cell_type": "code",
   "execution_count": 55,
   "id": "32154a55",
   "metadata": {},
   "outputs": [
    {
     "data": {
      "text/plain": [
       "['Keep', 'Keep', 'Keep']"
      ]
     },
     "execution_count": 55,
     "metadata": {},
     "output_type": "execute_result"
    }
   ],
   "source": [
    "remove_evens([\"Keep\", \"Remove\", \"Keep\", \"Remove\", \"Keep\"])"
   ]
  },
  {
   "cell_type": "code",
   "execution_count": 88,
   "id": "be55a721",
   "metadata": {},
   "outputs": [
    {
     "name": "stdout",
     "output_type": "stream",
     "text": [
      "0\n",
      "1\n",
      "2\n",
      "3\n",
      "4\n",
      "5\n",
      "6\n",
      "7\n",
      "8\n",
      "9\n"
     ]
    }
   ],
   "source": [
    "for i in range(10):\n",
    "    print(i)"
   ]
  },
  {
   "cell_type": "markdown",
   "id": "8d929424",
   "metadata": {},
   "source": [
    "# If...else,For loop"
   ]
  },
  {
   "cell_type": "markdown",
   "id": "d52cc05a",
   "metadata": {},
   "source": [
    "## Sorun\n",
    "Görünüşe göre serseri bir tesisatçı ve kardeşi ortalıkta dolaşıyor ve sahnelerinize yine zarar veriyor.\n",
    "\n",
    "Seviyenizin aşamalarını birbirine bağlayan boruların, daha fazla şikayet almadan önce düzeltilmesi gerekiyor. Her boru bağlantılı olmalıdır, seviyeler yükseldiğinden, ilk indeksten sonraki dizideki her sayının bir öncekinden daha büyük olacağını ve kopya olmayacağını varsayabilirsiniz.\n",
    "\n",
    "Görev\n",
    "Verilen bir sayı listesi, listeyi döndürün, böylece değerler maksimum değere kadar her dizin için 1 artar.\n",
    "\n",
    "Örnek\n",
    "Giriş: 1,3,5,6,7,8\n",
    "\n",
    "Çıktı: 1,2,3,4,5,6,7,8"
   ]
  },
  {
   "cell_type": "code",
   "execution_count": 59,
   "id": "570ebfd7",
   "metadata": {},
   "outputs": [
    {
     "name": "stdout",
     "output_type": "stream",
     "text": [
      "1\n"
     ]
    },
    {
     "ename": "ValueError",
     "evalue": "2 is not in list",
     "output_type": "error",
     "traceback": [
      "\u001b[1;31m---------------------------------------------------------------------------\u001b[0m",
      "\u001b[1;31mValueError\u001b[0m                                Traceback (most recent call last)",
      "\u001b[1;32m~\\AppData\\Local\\Temp/ipykernel_9480/2682306404.py\u001b[0m in \u001b[0;36m<module>\u001b[1;34m\u001b[0m\n\u001b[0;32m      3\u001b[0m     \u001b[0mprint\u001b[0m\u001b[1;33m(\u001b[0m\u001b[0mi\u001b[0m\u001b[1;33m)\u001b[0m\u001b[1;33m\u001b[0m\u001b[1;33m\u001b[0m\u001b[0m\n\u001b[0;32m      4\u001b[0m     \u001b[1;32mif\u001b[0m \u001b[0mmy_list\u001b[0m\u001b[1;33m[\u001b[0m\u001b[0mi\u001b[0m\u001b[1;33m]\u001b[0m\u001b[1;33m-\u001b[0m\u001b[0mmy_list\u001b[0m\u001b[1;33m[\u001b[0m\u001b[0mi\u001b[0m\u001b[1;33m-\u001b[0m\u001b[1;36m1\u001b[0m\u001b[1;33m]\u001b[0m \u001b[1;33m>\u001b[0m\u001b[1;36m1\u001b[0m\u001b[1;33m:\u001b[0m\u001b[1;33m\u001b[0m\u001b[1;33m\u001b[0m\u001b[0m\n\u001b[1;32m----> 5\u001b[1;33m         \u001b[0mprint\u001b[0m\u001b[1;33m(\u001b[0m\u001b[0mmy_list\u001b[0m\u001b[1;33m.\u001b[0m\u001b[0mindex\u001b[0m\u001b[1;33m(\u001b[0m\u001b[0mi\u001b[0m\u001b[1;33m+\u001b[0m\u001b[1;36m1\u001b[0m\u001b[1;33m)\u001b[0m\u001b[1;33m-\u001b[0m\u001b[0mmy_list\u001b[0m\u001b[1;33m.\u001b[0m\u001b[0mindex\u001b[0m\u001b[1;33m(\u001b[0m\u001b[0mi\u001b[0m\u001b[1;33m)\u001b[0m\u001b[1;33m)\u001b[0m\u001b[1;33m\u001b[0m\u001b[1;33m\u001b[0m\u001b[0m\n\u001b[0m",
      "\u001b[1;31mValueError\u001b[0m: 2 is not in list"
     ]
    }
   ],
   "source": [
    "my_list = [1,4,5,6,7,8]\n",
    "for i in my_list:\n",
    "    print(i)\n",
    "    if my_list[i+1]-my_list[i] >1:\n",
    "        print(my_list.index(i+1)-my_list.index(i))"
   ]
  },
  {
   "cell_type": "markdown",
   "id": "8c618567",
   "metadata": {},
   "source": [
    "## Uyuyamıyorsanız koyunları sayın!!\n",
    "\n",
    "Görev:\n",
    "Negatif olmayan bir tamsayı verildiğinde, örneğin 3, üfürümlü bir dize döndürür: \"1 koyun...2 koyun...3 koyun...\". Giriş her zaman geçerli olacaktır, yani negatif tamsayı yok."
   ]
  },
  {
   "cell_type": "code",
   "execution_count": 91,
   "id": "11103482",
   "metadata": {},
   "outputs": [
    {
     "name": "stdout",
     "output_type": "stream",
     "text": [
      "Sayi girin:10\n",
      "1koyun...2koyun...3koyun...4koyun...5koyun...6koyun...7koyun...8koyun...9koyun...10koyun...\n"
     ]
    }
   ],
   "source": [
    "# input() --> userden bir sey girmesi istenilir\n",
    "user_input = int(input('Sayi girin:'))\n",
    "numb_of_sheeps = ''\n",
    "for i in range(user_input):\n",
    "    # for i in range(10):\n",
    "        #print(i)\n",
    "    numb_of_sheeps += '{}'.format(i+1)+ 'koyun...'\n",
    "print(numb_of_sheeps)\n",
    "# '{}'.format()"
   ]
  },
  {
   "cell_type": "code",
   "execution_count": null,
   "id": "fd59e223",
   "metadata": {},
   "outputs": [],
   "source": []
  },
  {
   "cell_type": "markdown",
   "id": "3ea64777",
   "metadata": {},
   "source": [
    "## Koyun kılığındaki bir kurt\n",
    "Kurtlar İngiltere'ye yeniden tanıtıldı. Siz bir koyun çiftçisisiniz ve şimdi koyun gibi davranan kurtlar tarafından rahatsız ediliyorsunuz. Neyse ki, onları tespit etmekte iyisin.\n",
    "\n",
    "Koyunları, yenilmek üzere olduğu konusunda kurdun önünde uyarın. \n",
    "Kurt size en uzak hayvansa, \"Lütfen gidin ve koyunlarımı yemeyi bırakın\" deyin. Aksi takdirde, \"Oi! N numaralı koyun! Bir kurt tarafından yenilmek üzeresiniz!\" N, koyunun kuyruktaki konumudur.\n",
    "\n",
    "Not: Dizide her zaman tam olarak bir kurt olacaktır.\n",
    "\n",
    "Örnekler\n",
    "Girdi: [\"koyun\", \"koyun\", \"koyun\", \"kurt\", \"koyun\"]\n",
    "Çıktı: \"Ay! 3 numaralı koyun! Bir kurt tarafından yenilmek üzeresiniz!\"\n",
    "\n",
    "Girdi: [\"koyun\", \"koyun\", \"kurt\"]\n",
    "Çıktı: \"Lütfen gidin ve koyunlarımı yemeyi bırakın\""
   ]
  },
  {
   "cell_type": "code",
   "execution_count": 68,
   "id": "8149b3aa",
   "metadata": {},
   "outputs": [
    {
     "name": "stdout",
     "output_type": "stream",
     "text": [
      "Ay! 3 numaralı koyun! Bir kurt tarafından yenilmek üzeresiniz!\n"
     ]
    }
   ],
   "source": [
    "wolf_list =  [\"koyun\", \"koyun\", \"koyun\", \"kurt\", \"koyun\"] \n",
    "if wolf_list[-1] == 'kurt':\n",
    "    print(\"Lütfen gidin ve koyunlarımı yemeyi bırakın\")\n",
    "else:\n",
    "    print(\"Ay! {} numaralı koyun! Bir kurt tarafından yenilmek üzeresiniz!\".format(wolf_list.index('kurt')))"
   ]
  },
  {
   "cell_type": "markdown",
   "id": "ea2d8e07",
   "metadata": {},
   "source": [
    "# Functions"
   ]
  },
  {
   "cell_type": "markdown",
   "id": "2d2a5c47",
   "metadata": {},
   "source": [
    "## Altı Tost Yapmak.\n",
    "İçine koyduğunuz tost sayısını saymayı unuttunuz, tost makinesine tam olarak altı parça tost koyup koymadığınızı bilmiyorsunuz.\n",
    "\n",
    "Tost makinelerinde kaç tane daha fazla (veya daha az) tost parçasına ihtiyacınız olduğunu sayan bir fonksiyon tanımlayın. Daha fazla veya daha azına ihtiyacınız olsa bile, sayı yine de pozitif olacaktır, negatif değil.\n",
    "\n",
    "Örnekler:\n",
    "Koymanız (veya çıkarmanız) gereken tost sayısını geri vermelisiniz. 5 olması durumunda yine de 1 tost koyabilirsiniz:"
   ]
  },
  {
   "cell_type": "code",
   "execution_count": null,
   "id": "6135ddad",
   "metadata": {},
   "outputs": [],
   "source": []
  },
  {
   "cell_type": "markdown",
   "id": "1cad0e62",
   "metadata": {},
   "source": [
    "## \"Banjo oynuyor musunuz?\"\n",
    "\"Banjo oynuyor musunuz?\"sorusuna cevap veren bir fonksiyon oluşturun.\n",
    "İsminiz \"R\" harfi veya küçük harf \"r\" ile başlıyorsa banjo oynuyorsunuz!\n",
    "\n",
    "İşlev, tek argümanı olarak bir isim alır ve aşağıdaki dizelerden birini döndürür:"
   ]
  },
  {
   "cell_type": "markdown",
   "id": "bc92117b",
   "metadata": {},
   "source": [
    "name + \" plays banjo\" \n",
    "\n",
    "name + \" does not play banjo\""
   ]
  },
  {
   "cell_type": "code",
   "execution_count": null,
   "id": "8d9a643d",
   "metadata": {},
   "outputs": [],
   "source": []
  }
 ],
 "metadata": {
  "kernelspec": {
   "display_name": "Python 3 (ipykernel)",
   "language": "python",
   "name": "python3"
  },
  "language_info": {
   "codemirror_mode": {
    "name": "ipython",
    "version": 3
   },
   "file_extension": ".py",
   "mimetype": "text/x-python",
   "name": "python",
   "nbconvert_exporter": "python",
   "pygments_lexer": "ipython3",
   "version": "3.9.7"
  }
 },
 "nbformat": 4,
 "nbformat_minor": 5
}
