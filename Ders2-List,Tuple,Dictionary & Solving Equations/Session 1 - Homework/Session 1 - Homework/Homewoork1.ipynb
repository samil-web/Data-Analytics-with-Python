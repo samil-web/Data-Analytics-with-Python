{
 "cells": [
  {
   "cell_type": "code",
   "execution_count": 1,
   "id": "54e320d0",
   "metadata": {},
   "outputs": [],
   "source": [
    "# You are asked to provide answers for the following questions:\n",
    "# 1. Create variable age equal to 32 and check its type.\n",
    "# 2. Create variable height equal to 1.85 and check its type.\n",
    "# 3. Create variables name and surname. Define them as 'your_name' and\n",
    "# 'your_surname'.\n",
    "# 4. Sum up name and surname variables. Define as ID.\n",
    "# 5. Use indexing. Find last letter of 'your_name'.\n",
    "# 6. Use slicing. Find 2nd and 3rd letters of 'your_surname'.\n",
    "# 7. Create list as new_list. Include 3 4 5 6 7 integers.\n",
    "# 8. Remove 5 from new_list.\n",
    "# 9. Delete 2nd value of new_list.\n",
    "# 10. Create tuple as new_tuple. Include 3 4 5 6 7 integers.\n",
    "# 11. Change 4 in new_tuple to 8.\n",
    "# 12. Calculate cube the list of new_tuple with 'for' function."
   ]
  },
  {
   "cell_type": "code",
   "execution_count": null,
   "id": "90bab5a5",
   "metadata": {},
   "outputs": [],
   "source": [
    "# 1. Create variable age equal to 32 and check its type.\n",
    "# 2. Create variable height equal to 1.85 and check its type.\n",
    "# 3. Create variables name and surname. Define them as 'your_name' and\n",
    "# 'your_surname'.\n",
    "# 4. Sum up name and surname variables. Define as ID.\n",
    "# 5. Use indexing. Find last letter of 'your_name'.\n",
    "# 6. Use slicing. Find 2nd and 3rd letters of 'your_surname'.\n",
    "# 7. Create list as new_list. Include 3 4 5 6 7 integers.\n",
    "# 8. Remove 5 from new_list.\n",
    "# 9. Delete 2nd value of new_list.\n",
    "# 10. Create tuple as new_tuple. Include 3 4 5 6 7 integers.\n",
    "# 11. Change 4 in new_tuple to 8.\n",
    "# 12. Calculate cube the list of new_tuple with 'for' function'\n",
    "ctrl+c ctrl+v ctrl+a ctrl+/"
   ]
  },
  {
   "cell_type": "code",
   "execution_count": 2,
   "id": "fa9b84a4",
   "metadata": {},
   "outputs": [
    {
     "data": {
      "text/plain": [
       "int"
      ]
     },
     "execution_count": 2,
     "metadata": {},
     "output_type": "execute_result"
    }
   ],
   "source": [
    "age = 32\n",
    "type(age)"
   ]
  },
  {
   "cell_type": "code",
   "execution_count": 3,
   "id": "1b89f3de",
   "metadata": {},
   "outputs": [
    {
     "data": {
      "text/plain": [
       "float"
      ]
     },
     "execution_count": 3,
     "metadata": {},
     "output_type": "execute_result"
    }
   ],
   "source": [
    "height = 1.85\n",
    "type(height)"
   ]
  },
  {
   "cell_type": "code",
   "execution_count": 7,
   "id": "d8648203",
   "metadata": {},
   "outputs": [],
   "source": [
    "your_name = 'Omer'\n",
    "your_surname = ' Abdurrahmanov'"
   ]
  },
  {
   "cell_type": "code",
   "execution_count": 8,
   "id": "2d9c8f10",
   "metadata": {},
   "outputs": [
    {
     "name": "stdout",
     "output_type": "stream",
     "text": [
      "Omer Abdurrahmanov\n"
     ]
    }
   ],
   "source": [
    "ID = your_name+your_surname\n",
    "print(ID)"
   ]
  },
  {
   "cell_type": "code",
   "execution_count": 9,
   "id": "63218118",
   "metadata": {},
   "outputs": [
    {
     "data": {
      "text/plain": [
       "'r'"
      ]
     },
     "execution_count": 9,
     "metadata": {},
     "output_type": "execute_result"
    }
   ],
   "source": [
    "your_name[-1]\n",
    "# [-1]"
   ]
  },
  {
   "cell_type": "code",
   "execution_count": 10,
   "id": "e038aa95",
   "metadata": {},
   "outputs": [
    {
     "data": {
      "text/plain": [
       "'me'"
      ]
     },
     "execution_count": 10,
     "metadata": {},
     "output_type": "execute_result"
    }
   ],
   "source": [
    "your_name[1:3]\n",
    "\n",
    "# 'asdhjsdjjaosjkdkj'\n",
    "# [1:-1]"
   ]
  },
  {
   "cell_type": "code",
   "execution_count": 44,
   "id": "8aec56ff",
   "metadata": {},
   "outputs": [],
   "source": [
    "new_list = [3,4,5,6,7]\n",
    "# list = [1,2,3]\n",
    "# list -- Python Keyword istafedesi qadagandir\n",
    "# tuple = (12,3,5)\n"
   ]
  },
  {
   "cell_type": "code",
   "execution_count": 45,
   "id": "f369e6d5",
   "metadata": {},
   "outputs": [],
   "source": [
    "new_list.remove(5)\n",
    "# remove,append,... - new_list.append()\n",
    "# .append()\n",
    "# .remove()\n",
    "# new_list.remove(5)"
   ]
  },
  {
   "cell_type": "code",
   "execution_count": 46,
   "id": "00e93241",
   "metadata": {},
   "outputs": [
    {
     "data": {
      "text/plain": [
       "[3, 4, 6, 7]"
      ]
     },
     "execution_count": 46,
     "metadata": {},
     "output_type": "execute_result"
    }
   ],
   "source": [
    "new_list"
   ]
  },
  {
   "cell_type": "code",
   "execution_count": 47,
   "id": "3b1a97e0",
   "metadata": {},
   "outputs": [],
   "source": [
    "del new_list[1]\n",
    "# remove - konkret hemin reqemi silir\n",
    "# del - hemin indexde yerlesen ededi silir \n",
    "# [] - list \n",
    "# () - tuple \n",
    "# [] - indexing,slicing de istifade olunur\n",
    "# () -functionlar ile istifade olunur"
   ]
  },
  {
   "cell_type": "code",
   "execution_count": 48,
   "id": "0cca3d20",
   "metadata": {},
   "outputs": [
    {
     "data": {
      "text/plain": [
       "[3, 6, 7]"
      ]
     },
     "execution_count": 48,
     "metadata": {},
     "output_type": "execute_result"
    }
   ],
   "source": [
    "new_list"
   ]
  },
  {
   "cell_type": "code",
   "execution_count": 49,
   "id": "09078d52",
   "metadata": {},
   "outputs": [],
   "source": [
    "new_tuple = (3,4,5,6,7)\n"
   ]
  },
  {
   "cell_type": "code",
   "execution_count": 50,
   "id": "7ccac011",
   "metadata": {},
   "outputs": [],
   "source": [
    "tpl = tuple(new_list)"
   ]
  },
  {
   "cell_type": "code",
   "execution_count": 51,
   "id": "447e49fe",
   "metadata": {},
   "outputs": [
    {
     "data": {
      "text/plain": [
       "(3, 6, 7)"
      ]
     },
     "execution_count": 51,
     "metadata": {},
     "output_type": "execute_result"
    }
   ],
   "source": [
    "tpl"
   ]
  },
  {
   "cell_type": "code",
   "execution_count": 52,
   "id": "18e43e27",
   "metadata": {},
   "outputs": [],
   "source": [
    "lst = list(new_tuple)"
   ]
  },
  {
   "cell_type": "code",
   "execution_count": 53,
   "id": "7987807b",
   "metadata": {},
   "outputs": [
    {
     "data": {
      "text/plain": [
       "[3, 4, 5, 6, 7]"
      ]
     },
     "execution_count": 53,
     "metadata": {},
     "output_type": "execute_result"
    }
   ],
   "source": [
    "lst"
   ]
  },
  {
   "cell_type": "code",
   "execution_count": 54,
   "id": "4ac170da",
   "metadata": {},
   "outputs": [],
   "source": [
    "lst[1] = 8\n",
    "# 2-ci element 8 -e deyisir\n"
   ]
  },
  {
   "cell_type": "code",
   "execution_count": 20,
   "id": "93c9cbf4",
   "metadata": {},
   "outputs": [
    {
     "data": {
      "text/plain": [
       "[3, 8, 5, 6, 7]"
      ]
     },
     "execution_count": 20,
     "metadata": {},
     "output_type": "execute_result"
    }
   ],
   "source": [
    "lst"
   ]
  },
  {
   "cell_type": "code",
   "execution_count": 55,
   "id": "8ad27177",
   "metadata": {},
   "outputs": [],
   "source": [
    "changed_tuple = tuple(lst)"
   ]
  },
  {
   "cell_type": "code",
   "execution_count": 56,
   "id": "c2e6bf52",
   "metadata": {},
   "outputs": [
    {
     "data": {
      "text/plain": [
       "(3, 8, 5, 6, 7)"
      ]
     },
     "execution_count": 56,
     "metadata": {},
     "output_type": "execute_result"
    }
   ],
   "source": [
    "changed_tuple\n"
   ]
  },
  {
   "cell_type": "code",
   "execution_count": 57,
   "id": "03059cd3",
   "metadata": {},
   "outputs": [
    {
     "data": {
      "text/plain": [
       "(3, 4, 5, 6, 7)"
      ]
     },
     "execution_count": 57,
     "metadata": {},
     "output_type": "execute_result"
    }
   ],
   "source": [
    "new_tuple"
   ]
  },
  {
   "cell_type": "code",
   "execution_count": 33,
   "id": "942e3d36",
   "metadata": {},
   "outputs": [],
   "source": [
    "cube_list = [] # listin yaranmasi\n",
    "# degisen, variable, i,a,j,c, asdsadasd, _ \n",
    "for degisen in new_tuple: # iterable -- [3,4,5,6,7] -- lists and tuples\n",
    "#     1-ci hisse degisenin adi, 2-ci hisse tuple,list ve ya iterate ede bileceyimiz her hansi bir data tipidir  \n",
    "    cube_list.append(degisen**3) # eded**3\n",
    "# append - elave etmek"
   ]
  },
  {
   "cell_type": "code",
   "execution_count": 34,
   "id": "82f613b3",
   "metadata": {},
   "outputs": [
    {
     "data": {
      "text/plain": [
       "[27, 64, 125, 216, 343]"
      ]
     },
     "execution_count": 34,
     "metadata": {},
     "output_type": "execute_result"
    }
   ],
   "source": [
    "cube_list"
   ]
  },
  {
   "cell_type": "code",
   "execution_count": null,
   "id": "168ab126",
   "metadata": {},
   "outputs": [],
   "source": [
    "3**3 -> 27 -> [27,]\n",
    "4**3 -> 64 -> [27,64]\n",
    "5**3 -> 125 -> [27,64,125]\n",
    "7**3 -> 343 -> [27,64,125,216,343]"
   ]
  },
  {
   "cell_type": "code",
   "execution_count": 35,
   "id": "680cd38e",
   "metadata": {},
   "outputs": [],
   "source": [
    "square_list = []\n",
    "for degisen in new_list:\n",
    "    square_list.append(degisen**2)"
   ]
  },
  {
   "cell_type": "code",
   "execution_count": 36,
   "id": "c1ca2c31",
   "metadata": {},
   "outputs": [
    {
     "data": {
      "text/plain": [
       "[9, 25, 36, 49]"
      ]
     },
     "execution_count": 36,
     "metadata": {},
     "output_type": "execute_result"
    }
   ],
   "source": [
    "square_list"
   ]
  },
  {
   "cell_type": "code",
   "execution_count": null,
   "id": "de304cc8",
   "metadata": {},
   "outputs": [],
   "source": []
  }
 ],
 "metadata": {
  "kernelspec": {
   "display_name": "Python 3 (ipykernel)",
   "language": "python",
   "name": "python3"
  },
  "language_info": {
   "codemirror_mode": {
    "name": "ipython",
    "version": 3
   },
   "file_extension": ".py",
   "mimetype": "text/x-python",
   "name": "python",
   "nbconvert_exporter": "python",
   "pygments_lexer": "ipython3",
   "version": "3.9.7"
  }
 },
 "nbformat": 4,
 "nbformat_minor": 5
}
