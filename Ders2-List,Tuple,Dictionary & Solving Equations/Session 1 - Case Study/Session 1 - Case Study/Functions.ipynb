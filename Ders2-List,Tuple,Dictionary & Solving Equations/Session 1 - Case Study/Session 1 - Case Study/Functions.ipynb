{
 "cells": [
  {
   "cell_type": "markdown",
   "id": "ad09fdb7",
   "metadata": {},
   "source": [
    "# Tanıdık işlevler\n",
    "\n",
    "Kutudan çıktığı gibi Python, bir veri bilimcisi olarak hayatınızı kolaylaştırmak için bir dizi yerleşik işlev sunar. Bu tür iki işlevi zaten biliyorsunuz: print() ve type(). Veri türleri arasında geçiş yapmak için str(), int(), bool() ve float() işlevlerini de kullandınız. Bunlar aynı zamanda yerleşik işlevlerdir.\n",
    "\n",
    "Bir işlevi çağırmak kolaydır. 3.0 türünü almak ve çıktıyı yeni bir değişken olarak saklamak için, aşağıdakileri kullanabilirsiniz:\n",
    "\n",
    "sonuç = type(3.0)\n",
    "\n",
    "Fonksiyonları çağırmak ve sonucu bir değişkene kaydetmek için genel tarif şu şekildedir:"
   ]
  },
  {
   "cell_type": "markdown",
   "id": "32d6b7f2",
   "metadata": {},
   "source": [
    "Use print() in combination with type() to print out the type of var1.\n",
    "\n",
    "Use len() to get the length of the list var1. Wrap it in a print() call to directly print it out.\n",
    "\n",
    "Use int() to convert var2 to an integer. Store the output as out2."
   ]
  },
  {
   "cell_type": "code",
   "execution_count": null,
   "id": "9d3f0918",
   "metadata": {},
   "outputs": [],
   "source": [
    "# Create variables var1 and var2\n",
    "var1 = [1, 2, 3, 4]\n",
    "var2 = True\n",
    "\n",
    "# Print out type of var1\n",
    "\n",
    "\n",
    "# Print out length of var1\n",
    "\n",
    "\n",
    "# Convert var2 to an integer: out2\n"
   ]
  },
  {
   "cell_type": "markdown",
   "id": "5043e178",
   "metadata": {},
   "source": [
    "Yardım!\n",
    "\n",
    "Belki bir Python işlevinin adını zaten biliyorsunuzdur, ancak yine de onu nasıl kullanacağınızı bulmanız gerekiyor. İronik olarak, başka bir işleve sahip bir işlev hakkında bilgi istemeniz gerekir: help(). Özellikle IPython'da, ayrıca ? işlev adından önce.\n",
    "\n",
    "Örneğin max() işlevi hakkında yardım almak için şu çağrılardan birini kullanabilirsiniz:\n",
    "\n",
    "yardım(maks)\n",
    "?maks\n",
    "Complex() ile ilgili belgeleri açmak için Shell'i kullanın. Aşağıdaki ifadelerden hangisi doğrudur?"
   ]
  },
  {
   "cell_type": "code",
   "execution_count": 4,
   "id": "0ae006dc",
   "metadata": {},
   "outputs": [
    {
     "name": "stdout",
     "output_type": "stream",
     "text": [
      "Help on built-in function max in module builtins:\n",
      "\n",
      "max(...)\n",
      "    max(iterable, *[, default=obj, key=func]) -> value\n",
      "    max(arg1, arg2, *args, *[, key=func]) -> value\n",
      "    \n",
      "    With a single iterable argument, return its biggest item. The\n",
      "    default keyword-only argument specifies an object to return if\n",
      "    the provided iterable is empty.\n",
      "    With two or more arguments, return the largest argument.\n",
      "\n"
     ]
    }
   ],
   "source": [
    "help(max)"
   ]
  },
  {
   "cell_type": "code",
   "execution_count": 5,
   "id": "6136f23b",
   "metadata": {},
   "outputs": [],
   "source": [
    "?max"
   ]
  },
  {
   "cell_type": "code",
   "execution_count": 6,
   "id": "7e17bfa2",
   "metadata": {},
   "outputs": [],
   "source": [
    "?complex"
   ]
  },
  {
   "cell_type": "markdown",
   "id": "3f80f082",
   "metadata": {},
   "source": [
    "# Birden çok argüman\n",
    "\n",
    "Önceki alıştırmada, belgelerde imag'in etrafındaki köşeli parantezler bize imag argümanının isteğe bağlı olduğunu gösterdi. Ancak Python, kullanıcılara argümanların isteğe bağlı olduğunu anlatmak için farklı bir yol da kullanır.\n",
    "\n",
    "IPython Shell'e help(sorted) yazarak sorted() belgelerine bir göz atın.\n",
    "\n",
    "sorted() öğesinin üç bağımsız değişken aldığını göreceksiniz: yinelenebilir, anahtar ve ters.\n",
    "\n",
    "key=Yok, anahtar bağımsız değişkeni belirtmezseniz Yok olacağı anlamına gelir. ters=Yanlış, ters bağımsız değişkeni belirtmezseniz, bunun Yanlış olacağı anlamına gelir.\n",
    "\n",
    "Bu alıştırmada, anahtarı değil, yalnızca yinelenebilir ve geri çevrilebilir belirtmeniz gerekecek. sorted() öğesine ilettiğiniz ilk girdi, yinelenebilir argümanla eşleştirilecektir, peki ya ikinci girdi? Python'a anahtar hakkında hiçbir şeyi değiştirmeden tersini belirtmek istediğinizi söylemek için = kullanabilirsiniz:\n",
    "\n",
    "sorted(___, reverse = ___)\n",
    "Editörde sizin için iki liste oluşturuldu. Bunları birbirine yapıştırıp azalan düzende sıralayabilir misiniz?\n",
    "\n",
    "Not: Şimdilik, yinelenebilir bir nesneyi herhangi bir nesne koleksiyonu olarak anlayabiliriz, ör. bir liste."
   ]
  },
  {
   "cell_type": "code",
   "execution_count": 7,
   "id": "485024fa",
   "metadata": {},
   "outputs": [],
   "source": [
    "# Create lists first and second\n",
    "first = [11.25, 18.0, 20.0]\n",
    "second = [10.75, 9.50]\n",
    "\n",
    "# Paste together first and second: full\n",
    "\n",
    "\n",
    "# Sort full in descending order: full_sorted\n",
    "\n",
    "\n",
    "# Print out full_sorted\n"
   ]
  },
  {
   "cell_type": "markdown",
   "id": "bd2ffc6f",
   "metadata": {},
   "source": [
    "# String Methods\n",
    "\n",
    "Dizeler bir grup yöntemle gelir. Bazılarını keşfetmek için talimatları yakından takip edin. Bunları daha ayrıntılı olarak keşfetmek istiyorsanız, IPython Shell'e her zaman help(str) yazabilirsiniz.\n",
    "\n",
    "Denemeniz için bir dizi yeri zaten oluşturuldu.\n",
    "\n",
    "(Dize -- String)"
   ]
  },
  {
   "cell_type": "markdown",
   "id": "a637ea6f",
   "metadata": {},
   "source": [
    "Upper() yöntemini yerinde kullanın ve sonucu place_up içinde saklayın. Çağrı yöntemleri için önceki videoda öğrendiğiniz söz dizimini kullanın.\n",
    "\n",
    "Yer ve place_up yazdırın. İkisi de değişti mi?\n",
    "\n",
    "Yerinde count() öğesini çağırarak ve yönteme girdi olarak 'o' harfini ileterek, yer değişkenindeki o'ların sayısını yazdırın. \"Yer\" kelimesinden değil, değişken yer hakkında konuşuyoruz! \n",
    "More about this source text"
   ]
  },
  {
   "cell_type": "code",
   "execution_count": null,
   "id": "78c0f545",
   "metadata": {},
   "outputs": [],
   "source": [
    "# string to experiment with: place\n",
    "place = \"poolhouse\"\n",
    "\n",
    "# Use upper() on place: place_up\n",
    "\n",
    "\n",
    "# Print out place and place_up\n",
    "\n",
    "\n",
    "# Print out the number of o's in place\n"
   ]
  },
  {
   "cell_type": "markdown",
   "id": "9086bf0a",
   "metadata": {},
   "source": [
    "# Liste Yöntemleri\n",
    "\n",
    "Dizeler, kendileriyle ilişkili yöntemleri olan tek Python türleri değildir. Listeler, kayan noktalar, tamsayılar ve booleler de bir dizi faydalı yöntemle paketlenmiş olarak gelen türlerdir. Bu alıştırmada şunları deneyeceksiniz:\n",
    "\n",
    "index(), girdisiyle eşleşen bir listenin ilk öğesinin dizinini almak ve\n",
    "\n",
    "count(), bir öğenin bir listede kaç kez göründüğünü almak için.\n",
    "\n",
    "Bir evin farklı bölümlerinin alanları ile liste üzerinde çalışacaksınız: alanlar."
   ]
  },
  {
   "cell_type": "markdown",
   "id": "54c3eaf4",
   "metadata": {},
   "source": [
    "20.0'a eşit alanlarda öğenin dizinini almak için index() yöntemini kullanın. Bu dizini yazdırın.\n",
    "\n",
    "Listede kaç kez 9.50 göründüğünü öğrenmek için alanlarda count() öğesini arayın. Yine, sadece bu numarayı yazdırın."
   ]
  },
  {
   "cell_type": "code",
   "execution_count": 9,
   "id": "2eff2ce1",
   "metadata": {},
   "outputs": [],
   "source": [
    "# Create list areas\n",
    "areas = [11.25, 18.0, 20.0, 10.75, 9.50]\n",
    "\n",
    "# Print out the index of the element 20.0\n",
    "\n",
    "\n",
    "# Print out how often 9.50 appears in areas\n",
    "\n"
   ]
  },
  {
   "cell_type": "markdown",
   "id": "8efeef43",
   "metadata": {},
   "source": [
    "# Liste Yöntemleri (2)\n",
    "\n",
    "Çoğu liste yöntemi, çağrıldıkları listeyi değiştirir. Örnekler:\n",
    "\n",
    "çağrıldığı listeye bir öğe ekleyen append(),\n",
    "\n",
    "listenin girdiyle eşleşen ilk öğesini kaldıran remove() ve\n",
    "\n",
    "reverse(), çağrıldığı listedeki öğelerin sırasını tersine çevirir.\n",
    "\n",
    "Evin farklı bölümlerinin alanları ile liste üzerinde çalışacaksınız: alanlar."
   ]
  },
  {
   "cell_type": "markdown",
   "id": "3de4ec39",
   "metadata": {},
   "source": [
    "Use append() twice to add the size of the poolhouse and the garage again: 24.5 and 15.45, respectively. Make sure to add them in this order.\n",
    "\n",
    "Print out areas\n",
    "\n",
    "Use the reverse() method to reverse the order of the elements in areas.\n",
    "\n",
    "Print out areas once more."
   ]
  },
  {
   "cell_type": "code",
   "execution_count": 10,
   "id": "92dcbea2",
   "metadata": {},
   "outputs": [],
   "source": [
    "# Create list areas\n",
    "areas = [11.25, 18.0, 20.0, 10.75, 9.50]\n",
    "\n",
    "# Use append twice to add poolhouse and garage size\n",
    "\n",
    "\n",
    "\n",
    "# Print out areas\n",
    "\n",
    "\n",
    "# Reverse the orders of the elements in areas\n",
    "\n",
    "\n",
    "# Print out areas"
   ]
  },
  {
   "cell_type": "markdown",
   "id": "7634de10",
   "metadata": {},
   "source": [
    "# Paketi import et!\n",
    "\n",
    "Bir veri bilimcisi olarak, bazı geometri kavramları asla zarar vermez. Bazı temel bilgileri yenileyelim.\n",
    "\n",
    "Süslü bir kümeleme algoritması için, bir dairenin çevresini ve alanını bulmak istersiniz. Dairenin yarıçapı r olduğunda, aşağıdaki gibi hesaplayabilirsiniz:\n",
    "\n",
    "\n",
    "Sabit pi'yi kullanmak için matematik paketine ihtiyacınız olacak. Komut dosyasında bir r değişkeni zaten kodlanmıştır. C ve A'yı hesaplamak için kodu doldurun ve print() işlevlerinin nasıl güzel çıktılar oluşturduğunu görün."
   ]
  },
  {
   "cell_type": "markdown",
   "id": "9a354304",
   "metadata": {},
   "source": [
    "Import the math package. Now you can access the constant pi with math.pi.\n",
    "\n",
    "Calculate the circumference of the circle and store it in C.\n",
    "\n",
    "Calculate the area of the circle and store it in A."
   ]
  },
  {
   "cell_type": "code",
   "execution_count": 11,
   "id": "13c03dd2",
   "metadata": {},
   "outputs": [
    {
     "name": "stdout",
     "output_type": "stream",
     "text": [
      "Circumference: 0\n",
      "Area: 0\n"
     ]
    }
   ],
   "source": [
    "# Definition of radius\n",
    "r = 0.43\n",
    "\n",
    "# Import the math package\n",
    "\n",
    "\n",
    "# Calculate C\n",
    "C = 0\n",
    "\n",
    "# Calculate A\n",
    "A = 0\n",
    "\n",
    "# Build printout\n",
    "print(\"Circumference: \" + str(C))\n",
    "print(\"Area: \" + str(A))"
   ]
  },
  {
   "cell_type": "markdown",
   "id": "5b024a7d",
   "metadata": {},
   "source": [
    "# Seçici import etme\n",
    "\n",
    "İçe aktarma matematiği gibi genel içe aktarmalar, matematik paketindeki tüm işlevleri kullanımınıza sunar. Ancak, bir paketin yalnızca belirli bir bölümünü kullanmaya karar verirseniz, içe aktarma işleminizi her zaman daha seçici hale getirebilirsiniz:\n",
    "\n",
    "from math import pi\n",
    "\n",
    "Diyelim ki Ay'ın Dünya gezegeni etrafındaki yörüngesi, senaryoda tanımlanan r yarıçaplı (km cinsinden) mükemmel bir daire."
   ]
  },
  {
   "cell_type": "markdown",
   "id": "79a1ad30",
   "metadata": {},
   "source": [
    "Yalnızca radyan işlevini içe aktardığınız matematik paketinden seçmeli bir içe aktarma gerçekleştirin.\n",
    "\n",
    "Ay'ın yörüngesinin 12 derece üzerinde kat ettiği mesafeyi hesaplayın. Sonucu dist'e atayın. Bunu r * phi olarak hesaplayabilirsiniz, burada r yarıçap ve phi radyan cinsinden açıdır. Derece cinsinden bir açıyı radyan cinsinden bir açıya dönüştürmek için, az önce içe aktardığınız radyan() işlevini kullanın.\n",
    "\n",
    "Dist'i yazdırın.\n",
    "\n",
    "(Import --- içe aktarma)"
   ]
  },
  {
   "cell_type": "code",
   "execution_count": 12,
   "id": "003f956a",
   "metadata": {},
   "outputs": [],
   "source": [
    "# Definition of radius\n",
    "r = 192500\n",
    "\n",
    "# Import radians function of math package\n",
    "\n",
    "\n",
    "# Travel distance of Moon over 12 degrees. Store in dist.\n",
    "\n",
    "\n",
    "# Print out dist"
   ]
  },
  {
   "cell_type": "code",
   "execution_count": null,
   "id": "9ee7443d",
   "metadata": {},
   "outputs": [],
   "source": []
  }
 ],
 "metadata": {
  "kernelspec": {
   "display_name": "Python 3 (ipykernel)",
   "language": "python",
   "name": "python3"
  },
  "language_info": {
   "codemirror_mode": {
    "name": "ipython",
    "version": 3
   },
   "file_extension": ".py",
   "mimetype": "text/x-python",
   "name": "python",
   "nbconvert_exporter": "python",
   "pygments_lexer": "ipython3",
   "version": "3.9.7"
  }
 },
 "nbformat": 4,
 "nbformat_minor": 5
}
