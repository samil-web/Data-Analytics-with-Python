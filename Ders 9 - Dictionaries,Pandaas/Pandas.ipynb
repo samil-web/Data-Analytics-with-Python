{
 "cells": [
  {
   "cell_type": "markdown",
   "id": "f8416bbf",
   "metadata": {},
   "source": [
    "# Dictionaries"
   ]
  },
  {
   "cell_type": "code",
   "execution_count": 1,
   "id": "357ea510",
   "metadata": {},
   "outputs": [
    {
     "name": "stdout",
     "output_type": "stream",
     "text": [
      "berlin\n"
     ]
    }
   ],
   "source": [
    "# Definition of countries and capital\n",
    "countries = ['spain', 'france', 'germany', 'norway']\n",
    "capitals = ['madrid', 'paris', 'berlin', 'oslo']\n",
    "\n",
    "# Get index of 'germany': ind_ger\n",
    "ind_ger = countries.index('germany')\n",
    "\n",
    "# Use ind_ger to print out capital of Germany\n",
    "print(capitals[ind_ger])"
   ]
  },
  {
   "cell_type": "code",
   "execution_count": 1,
   "id": "01db77ab",
   "metadata": {},
   "outputs": [
    {
     "name": "stdout",
     "output_type": "stream",
     "text": [
      "turkey\n"
     ]
    }
   ],
   "source": [
    "countries = ['spain', 'france','turkey', 'germany', 'norway']\n",
    "\n",
    "index_turkey = countries.index('turkey') # turkiyenin countries listindeki indexi\n",
    "\n",
    "print(countries[index_turkey])"
   ]
  },
  {
   "cell_type": "code",
   "execution_count": 2,
   "id": "608b4d6f",
   "metadata": {},
   "outputs": [
    {
     "name": "stdout",
     "output_type": "stream",
     "text": [
      "{'spain': 'madrid', 'france': 'paris', 'germany': 'berlin', 'norway': 'oslo'}\n"
     ]
    }
   ],
   "source": [
    "# Definition of countries and capital\n",
    "countries = ['spain', 'france', 'germany', 'norway']\n",
    "capitals = ['madrid', 'paris', 'berlin', 'oslo']\n",
    "\n",
    "# From string in countries and capitals, create dictionary europe\n",
    "europe = { 'spain':'madrid', 'france':'paris','germany':'berlin', 'norway':'oslo' }\n",
    "\n",
    "# Print europe\n",
    "print(europe)"
   ]
  },
  {
   "cell_type": "code",
   "execution_count": 3,
   "id": "3e305655",
   "metadata": {},
   "outputs": [],
   "source": [
    "# Dictionary - key, value \n",
    "# Key immutable - deyismeyen sabit olmalidir \n",
    "# Value deyisgen ola biler \n",
    "post = {5:['4',4,True]}\n",
    "# Key- string, float,int\n",
    "# list,tuple, float,str - Value"
   ]
  },
  {
   "cell_type": "code",
   "execution_count": 3,
   "id": "ba262794",
   "metadata": {},
   "outputs": [
    {
     "name": "stdout",
     "output_type": "stream",
     "text": [
      "dict_keys(['spain', 'france', 'germany', 'norway'])\n",
      "oslo\n"
     ]
    }
   ],
   "source": [
    "# Definition of dictionary\n",
    "europe = {'spain':'madrid', 'france':'paris', 'germany':'berlin', 'norway':'oslo' }\n",
    "\n",
    "# Print out the keys in europe\n",
    "print(europe.keys())\n",
    "\n",
    "# Print out value that belongs to key 'norway'\n",
    "print(europe['norway'])\n"
   ]
  },
  {
   "cell_type": "code",
   "execution_count": 9,
   "id": "326b4b12",
   "metadata": {},
   "outputs": [
    {
     "name": "stdout",
     "output_type": "stream",
     "text": [
      "dict_values(['Yaris', 'Savas', 'Macera'])\n",
      "Savas\n"
     ]
    }
   ],
   "source": [
    "oyunlar = {'Forza Horizon4':'Yaris','Valorant':'Savas','Far Cry':'Macera'}\n",
    "\n",
    "print(oyunlar.values())\n",
    "\n",
    "print(oyunlar['Valorant'])\n",
    "# Dictionary ancaq Key e gore calisir "
   ]
  },
  {
   "cell_type": "code",
   "execution_count": 10,
   "id": "7f20608d",
   "metadata": {},
   "outputs": [
    {
     "name": "stdout",
     "output_type": "stream",
     "text": [
      "True\n",
      "{'spain': 'madrid', 'france': 'paris', 'germany': 'berlin', 'norway': 'oslo', 'italy': 'rome', 'poland': 'warsaw', 'turkey': 'ankara'}\n"
     ]
    }
   ],
   "source": [
    "# Definition of dictionary\n",
    "europe = {'spain':'madrid', 'france':'paris', 'germany':'berlin', 'norway':'oslo' }\n",
    "\n",
    "# Add italy to europe\n",
    "europe['italy'] = 'rome'\n",
    "\n",
    "# Print out italy in europe\n",
    "print('italy' in europe)\n",
    "\n",
    "# Add poland to europe\n",
    "europe['poland'] = 'warsaw'\n",
    " \n",
    "# Print europe\n",
    "europe['turkey'] = 'ankara'\n",
    "# dictin ismi, ['key'] , 'value'\n",
    "print(europe)"
   ]
  },
  {
   "cell_type": "code",
   "execution_count": null,
   "id": "7158bf95",
   "metadata": {},
   "outputs": [],
   "source": []
  },
  {
   "cell_type": "code",
   "execution_count": 11,
   "id": "2eba98bf",
   "metadata": {},
   "outputs": [
    {
     "name": "stdout",
     "output_type": "stream",
     "text": [
      "{'spain': 'barcelona', 'france': 'paris', 'germany': 'berlin', 'norway': 'oslo', 'italy': 'rome', 'poland': 'warsaw'}\n"
     ]
    }
   ],
   "source": [
    "# Definition of dictionary\n",
    "europe = {'spain':'madrid', 'france':'paris', 'germany':'bonn',\n",
    "          'norway':'oslo', 'italy':'rome', 'poland':'warsaw',\n",
    "          'australia':'vienna' }\n",
    "\n",
    "# Update capital of germany\n",
    "europe['germany'] = 'berlin'\n",
    "\n",
    "# Remove australia\n",
    "del europe['australia']\n",
    "\n",
    "europe['spain'] = 'barcelona'\n",
    "# Print europe\n",
    "print(europe)"
   ]
  },
  {
   "cell_type": "code",
   "execution_count": null,
   "id": "4e0fd9cf",
   "metadata": {},
   "outputs": [],
   "source": []
  },
  {
   "cell_type": "code",
   "execution_count": 13,
   "id": "d6e4121b",
   "metadata": {},
   "outputs": [
    {
     "name": "stdout",
     "output_type": "stream",
     "text": [
      "paris\n",
      "{'spain': {'capital': 'madrid', 'population': 46.77}, 'france': {'capital': 'paris', 'population': 66.03}, 'germany': {'capital': 'berlin', 'population': 80.62}, 'norway': {'capital': 'oslo', 'population': 5.084}, 'italy': {'capital': 'rome', 'population': 59.83}}\n"
     ]
    }
   ],
   "source": [
    "# Dictionary of dictionaries\n",
    "europe = { 'spain': { 'capital':'madrid', 'population':46.77 },\n",
    "           'france': { 'capital':'paris', 'population':66.03 },\n",
    "           'germany': { 'capital':'berlin', 'population':80.62 },\n",
    "           'norway': { 'capital':'oslo', 'population':5.084 } }\n",
    "\n",
    "\n",
    "# Print out the capital of France\n",
    "print(europe['france']['capital'])\n",
    "\n",
    "# Create sub-dictionary data\n",
    "data = {'capital':'rome',\n",
    "        'population':59.83} \n",
    "\n",
    "# Add data to europe under key 'italy'\n",
    "europe['italy'] = data\n",
    "\n",
    "# Italy - key , data - value\n",
    "# Print europe\n",
    "print(europe)"
   ]
  },
  {
   "cell_type": "code",
   "execution_count": null,
   "id": "e498b5ae",
   "metadata": {},
   "outputs": [],
   "source": []
  },
  {
   "cell_type": "markdown",
   "id": "785268a3",
   "metadata": {},
   "source": [
    "# Pandas"
   ]
  },
  {
   "cell_type": "code",
   "execution_count": 1,
   "id": "921d8261",
   "metadata": {},
   "outputs": [
    {
     "name": "stdout",
     "output_type": "stream",
     "text": [
      "{'country': ['United States', 'Australia', 'Japan', 'India', 'Russia', 'Morocco', 'Egypt'], 'drives_right': [True, False, False, False, True, True, True], 'cars_per_cap': [809, 731, 588, 18, 200, 70, 45]}\n",
      "         country  drives_right  cars_per_cap\n",
      "0  United States          True           809\n",
      "1      Australia         False           731\n",
      "2          Japan         False           588\n",
      "3          India         False            18\n",
      "4         Russia          True           200\n",
      "5        Morocco          True            70\n",
      "6          Egypt          True            45\n"
     ]
    }
   ],
   "source": [
    "# Pre-defined lists\n",
    "names = ['United States', 'Australia', 'Japan', 'India', 'Russia', 'Morocco', 'Egypt']\n",
    "dr =  [True, False, False, False, True, True, True]\n",
    "cpc = [809, 731, 588, 18, 200, 70, 45]\n",
    "\n",
    "# Import pandas as pd\n",
    "import pandas as pd \n",
    "# import numpy as np\n",
    "\n",
    "# Create dictionary my_dict with three key:value pairs: my_dict\n",
    "# list(),tuple(),dict() -- {}\n",
    "my_dict = {'country':names,\n",
    "            'drives_right':dr, #-drives right  \n",
    "            'cars_per_cap':cpc} # -car per cap- deyer \n",
    "\n",
    "\n",
    "# Build a DataFrame cars from my_dict: cars\n",
    "cars = pd.DataFrame(my_dict)\n",
    "print(my_dict)\n",
    "# Print cars\n",
    "print(cars)"
   ]
  },
  {
   "cell_type": "code",
   "execution_count": 3,
   "id": "a603b717",
   "metadata": {},
   "outputs": [
    {
     "name": "stdout",
     "output_type": "stream",
     "text": [
      "{'Ogrenciler': ['Ayse', 'Abdul', 'Omer', 'Ali'], 'Notlar': [80, 45, 88, 67]}\n",
      "  Ogrenciler  Notlar\n",
      "0       Ayse      80\n",
      "1      Abdul      45\n",
      "2       Omer      88\n",
      "3        Ali      67\n"
     ]
    }
   ],
   "source": [
    "sinif_notlari = [80,45,88,67]\n",
    "ogrenciler = ['Ayse','Abdul','Omer','Ali']\n",
    "\n",
    "dict_sinif = {'Ogrenciler':ogrenciler,\n",
    "             'Notlar':sinif_notlari}\n",
    "\n",
    "print(dict_sinif)\n",
    "\n",
    "sinif = pd.DataFrame(dict_sinif)\n",
    "print(sinif)"
   ]
  },
  {
   "cell_type": "code",
   "execution_count": 4,
   "id": "22352f1c",
   "metadata": {},
   "outputs": [
    {
     "data": {
      "text/plain": [
       "[80, 45, 88, 67]"
      ]
     },
     "execution_count": 4,
     "metadata": {},
     "output_type": "execute_result"
    }
   ],
   "source": [
    "dict_sinif['Notlar']"
   ]
  },
  {
   "cell_type": "code",
   "execution_count": 21,
   "id": "0bb624c7",
   "metadata": {},
   "outputs": [
    {
     "name": "stdout",
     "output_type": "stream",
     "text": [
      "         country  drives_right  cars_per_cap\n",
      "0  United States          True           809\n",
      "1      Australia         False           731\n",
      "2          Japan         False           588\n",
      "3          India         False            18\n",
      "4         Russia          True           200\n",
      "5        Morocco          True            70\n",
      "6          Egypt          True            45\n",
      "RangeIndex(start=0, stop=7, step=1)\n",
      "           country  drives_right  cars_per_cap\n",
      "US   United States          True           809\n",
      "AUS      Australia         False           731\n",
      "JPN          Japan         False           588\n",
      "IN           India         False            18\n",
      "RU          Russia          True           200\n",
      "MOR        Morocco          True            70\n",
      "EG           Egypt          True            45\n"
     ]
    }
   ],
   "source": [
    "import pandas as pd\n",
    "\n",
    "# Build cars DataFrame\n",
    "names = ['United States', 'Australia', 'Japan', 'India', 'Russia', 'Morocco', 'Egypt']\n",
    "dr =  [True, False, False, False, True, True, True]\n",
    "cpc = [809, 731, 588, 18, 200, 70, 45]\n",
    "cars_dict = { 'country':names, 'drives_right':dr, 'cars_per_cap':cpc }\n",
    "cars = pd.DataFrame(cars_dict)\n",
    "print(cars)\n",
    "\n",
    "# Definition of row_labels\n",
    "row_labels = ['US', 'AUS', 'JPN', 'IN', 'RU', 'MOR', 'EG']\n",
    "\n",
    "# Specify row labels of cars\n",
    "# Hemin keyin indexini verecek \n",
    "print(cars.index)\n",
    "cars.index = row_labels\n",
    "\n",
    "# Print cars again\n",
    "print(cars)\n",
    "pd.DataFrame.to_csv(cars,'cars.csv')"
   ]
  },
  {
   "cell_type": "code",
   "execution_count": 29,
   "id": "ca0ac49f",
   "metadata": {},
   "outputs": [
    {
     "name": "stdout",
     "output_type": "stream",
     "text": [
      "   Ogrenciler  Notlar\n",
      "Ay       Ayse      80\n",
      "Ab      Abdul      45\n",
      "Om       Omer      88\n",
      "Al        Ali      67\n",
      "   Ogrenciler  Notlar\n",
      "Ay       Ayse      80\n",
      "Ab      Abdul      45\n",
      "Om       Omer      88\n",
      "Al        Ali      67\n"
     ]
    }
   ],
   "source": [
    "print(sinif)\n",
    "\n",
    "harfler = ['Ay','Ab','Om','Al']\n",
    "\n",
    "sinif.index = harfler\n",
    "\n",
    "sinif.index\n",
    "print(sinif)"
   ]
  },
  {
   "cell_type": "code",
   "execution_count": null,
   "id": "f08b977c",
   "metadata": {},
   "outputs": [],
   "source": [
    "# 0,1,2,3, -- ['Ay','Ab','Om','Al']\n",
    "# sinif.index --- [0,1,2,3] \n",
    "# sinif.index = harfler\n",
    "# [0,1,2,3] --- ['Ay','Ab','Om','Al']"
   ]
  },
  {
   "cell_type": "code",
   "execution_count": 30,
   "id": "1eb31e89",
   "metadata": {},
   "outputs": [
    {
     "name": "stdout",
     "output_type": "stream",
     "text": [
      "  Unnamed: 0        country  drives_right  cars_per_cap\n",
      "0         US  United States          True           809\n",
      "1        AUS      Australia         False           731\n",
      "2        JPN          Japan         False           588\n",
      "3         IN          India         False            18\n",
      "4         RU         Russia          True           200\n",
      "5        MOR        Morocco          True            70\n",
      "6         EG          Egypt          True            45\n"
     ]
    }
   ],
   "source": [
    "# Import pandas as pd\n",
    "import pandas as pd\n",
    "\n",
    "# Import the cars.csv data: cars\n",
    "cars = pd.read_csv('cars.csv')\n",
    "# Print out cars\n",
    "# Csv- comma separated value\n",
    "print(cars)"
   ]
  },
  {
   "cell_type": "code",
   "execution_count": 33,
   "id": "5253b7ab",
   "metadata": {
    "scrolled": true
   },
   "outputs": [
    {
     "name": "stdout",
     "output_type": "stream",
     "text": [
      "           country  drives_right  cars_per_cap\n",
      "US   United States          True           809\n",
      "AUS      Australia         False           731\n",
      "JPN          Japan         False           588\n",
      "IN           India         False            18\n",
      "RU          Russia          True           200\n",
      "MOR        Morocco          True            70\n",
      "EG           Egypt          True            45\n"
     ]
    }
   ],
   "source": [
    "print(cars)\n",
    "# Key - value\n",
    "[1,-1]\n",
    "# 2 ci satr, sonuncu sutun"
   ]
  },
  {
   "cell_type": "code",
   "execution_count": 34,
   "id": "4195dbb1",
   "metadata": {},
   "outputs": [
    {
     "data": {
      "text/plain": [
       "US     809\n",
       "AUS    731\n",
       "JPN    588\n",
       "IN      18\n",
       "RU     200\n",
       "MOR     70\n",
       "EG      45\n",
       "Name: cars_per_cap, dtype: int64"
      ]
     },
     "execution_count": 34,
     "metadata": {},
     "output_type": "execute_result"
    }
   ],
   "source": [
    "cars['cars_per_cap']"
   ]
  },
  {
   "cell_type": "code",
   "execution_count": 31,
   "id": "795aa5fc",
   "metadata": {},
   "outputs": [
    {
     "name": "stdout",
     "output_type": "stream",
     "text": [
      "US     United States\n",
      "AUS        Australia\n",
      "JPN            Japan\n",
      "IN             India\n",
      "RU            Russia\n",
      "MOR          Morocco\n",
      "EG             Egypt\n",
      "Name: country, dtype: object\n",
      "           country  drives_right\n",
      "US   United States          True\n",
      "AUS      Australia         False\n",
      "JPN          Japan         False\n",
      "IN           India         False\n",
      "RU          Russia          True\n",
      "MOR        Morocco          True\n",
      "EG           Egypt          True\n"
     ]
    }
   ],
   "source": [
    "# Import cars data\n",
    "import pandas as pd\n",
    "cars = pd.read_csv('cars.csv', index_col = 0)\n",
    "\n",
    "# Print out country column as Pandas Series\n",
    "print(cars['country'])\n",
    "\n",
    "# Print out country column as Pandas DataFrame\n",
    "# print(cars[['country']])\n",
    "\n",
    "# Print out DataFrame with country and drives_right columns\n",
    "print(cars[['country','drives_right']])"
   ]
  },
  {
   "cell_type": "code",
   "execution_count": 39,
   "id": "5810df44",
   "metadata": {},
   "outputs": [
    {
     "name": "stdout",
     "output_type": "stream",
     "text": [
      "US     United States\n",
      "AUS        Australia\n",
      "JPN            Japan\n",
      "IN             India\n",
      "RU            Russia\n",
      "MOR          Morocco\n",
      "EG             Egypt\n",
      "Name: country, dtype: object\n"
     ]
    }
   ],
   "source": [
    "print(cars[['country']])"
   ]
  },
  {
   "cell_type": "code",
   "execution_count": 40,
   "id": "25c81bf4",
   "metadata": {},
   "outputs": [
    {
     "name": "stdout",
     "output_type": "stream",
     "text": [
      "           country  drives_right  cars_per_cap\n",
      "US   United States          True           809\n",
      "AUS      Australia         False           731\n",
      "JPN          Japan         False           588\n",
      "     country  drives_right  cars_per_cap\n",
      "IN     India         False            18\n",
      "RU    Russia          True           200\n",
      "MOR  Morocco          True            70\n"
     ]
    }
   ],
   "source": [
    "# Import cars data\n",
    "import pandas as pd\n",
    "cars = pd.read_csv('cars.csv', index_col = 0)\n",
    "\n",
    "# Print out first 3 observations\n",
    "print(cars[0:3])\n",
    "\n",
    "# Print out fourth, fifth and sixth observation\n",
    "print(cars[3:6])\n",
    "# [start:stop-1]\n",
    "# 0 dan baslayiriq saymaga"
   ]
  },
  {
   "cell_type": "code",
   "execution_count": null,
   "id": "92e83429",
   "metadata": {},
   "outputs": [],
   "source": []
  },
  {
   "cell_type": "code",
   "execution_count": 48,
   "id": "b7fad4e6",
   "metadata": {},
   "outputs": [
    {
     "name": "stdout",
     "output_type": "stream",
     "text": [
      "country         Japan\n",
      "drives_right    False\n",
      "cars_per_cap      588\n",
      "Name: JPN, dtype: object\n",
      "       country  drives_right  cars_per_cap\n",
      "AUS  Australia         False           731\n",
      "EG       Egypt          True            45\n",
      "JPN      Japan         False           588\n"
     ]
    }
   ],
   "source": [
    "# Import cars data\n",
    "# loc - label - basliqlara gore calisir\n",
    "import pandas as pd\n",
    "cars = pd.read_csv('cars.csv', index_col = 0)\n",
    "\n",
    "# Print out observation for Japan\n",
    "print(cars.loc['JPN'])\n",
    "\n",
    "# Print out observations for Australia and Egypt\n",
    "# iloc - reqemlere - indexe gore calisir\n",
    "print(cars.iloc[[1,-1,2]])"
   ]
  },
  {
   "cell_type": "code",
   "execution_count": 45,
   "id": "c9fee266",
   "metadata": {},
   "outputs": [
    {
     "name": "stdout",
     "output_type": "stream",
     "text": [
      "           country  drives_right  cars_per_cap\n",
      "US   United States          True           809\n",
      "JPN          Japan         False           588\n"
     ]
    }
   ],
   "source": [
    "print(cars.iloc[[0,2]])"
   ]
  },
  {
   "cell_type": "code",
   "execution_count": 13,
   "id": "45e43228",
   "metadata": {},
   "outputs": [
    {
     "name": "stdout",
     "output_type": "stream",
     "text": [
      "True\n",
      "     country  drives_right\n",
      "RU    Russia          True\n",
      "MOR  Morocco          True\n"
     ]
    }
   ],
   "source": [
    "# Import cars data\n",
    "import pandas as pd\n",
    "cars = pd.read_csv('cars.csv', index_col = 0)\n",
    "\n",
    "# Print out drives_right value of Morocco\n",
    "print(cars.loc['MOR','drives_right'])\n",
    "\n",
    "# Print sub-DataFrame\n",
    "print(cars.loc[['RU','MOR'],['country','drives_right']])"
   ]
  },
  {
   "cell_type": "code",
   "execution_count": null,
   "id": "fa4ef291",
   "metadata": {},
   "outputs": [],
   "source": [
    "# loc - basliqlara gore \n",
    "# intloc - reqem - indexlere gore"
   ]
  },
  {
   "cell_type": "code",
   "execution_count": 14,
   "id": "60761bde",
   "metadata": {},
   "outputs": [
    {
     "name": "stdout",
     "output_type": "stream",
     "text": [
      "US     809\n",
      "AUS    731\n",
      "JPN    588\n",
      "IN      18\n",
      "RU     200\n",
      "MOR     70\n",
      "EG      45\n",
      "Name: cars_per_cap, dtype: int64\n",
      "     cars_per_cap\n",
      "US            809\n",
      "AUS           731\n",
      "JPN           588\n",
      "IN             18\n",
      "RU            200\n",
      "MOR            70\n",
      "EG             45\n",
      "     cars_per_cap  drives_right\n",
      "US            809          True\n",
      "AUS           731         False\n",
      "JPN           588         False\n",
      "IN             18         False\n",
      "RU            200          True\n",
      "MOR            70          True\n",
      "EG             45          True\n"
     ]
    }
   ],
   "source": [
    "# Import cars data\n",
    "import pandas as pd\n",
    "cars = pd.read_csv('cars.csv', index_col = 0)\n",
    "\n",
    "# Print out drives_right column as Series\n",
    "print(cars.iloc[:,2])\n",
    "\n",
    "# Print out drives_right column as DataFrame\n",
    "print(cars.iloc[:, [2]])\n",
    "\n",
    "# Print out cars_per_cap and drives_right as DataFrame\n",
    "print(cars.loc[:,['cars_per_cap','drives_right']])\n"
   ]
  },
  {
   "cell_type": "code",
   "execution_count": null,
   "id": "6fd947ba",
   "metadata": {},
   "outputs": [],
   "source": []
  },
  {
   "cell_type": "code",
   "execution_count": null,
   "id": "ee8ea74c",
   "metadata": {},
   "outputs": [],
   "source": []
  }
 ],
 "metadata": {
  "kernelspec": {
   "display_name": "Python 3 (ipykernel)",
   "language": "python",
   "name": "python3"
  },
  "language_info": {
   "codemirror_mode": {
    "name": "ipython",
    "version": 3
   },
   "file_extension": ".py",
   "mimetype": "text/x-python",
   "name": "python",
   "nbconvert_exporter": "python",
   "pygments_lexer": "ipython3",
   "version": "3.9.7"
  }
 },
 "nbformat": 4,
 "nbformat_minor": 5
}
